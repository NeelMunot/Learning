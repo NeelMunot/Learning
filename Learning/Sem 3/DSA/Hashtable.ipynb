{
 "cells": [
  {
   "cell_type": "code",
   "execution_count": 49,
   "id": "04fca8fe",
   "metadata": {},
   "outputs": [],
   "source": [
    "hash_lst = [-1 for l in range(10)]"
   ]
  },
  {
   "cell_type": "code",
   "execution_count": 42,
   "id": "bf14a337",
   "metadata": {},
   "outputs": [
    {
     "name": "stdout",
     "output_type": "stream",
     "text": [
      "Enter data values : 3 4 5 6 8 78 68 58 48\n"
     ]
    }
   ],
   "source": [
    "ip_lst = [int(x) for x in input(\"Enter data values : \").split()]"
   ]
  },
  {
   "cell_type": "code",
   "execution_count": 9,
   "id": "9fa1c115",
   "metadata": {},
   "outputs": [],
   "source": [
    "# for key in ip_lst:\n",
    "#     loc = key % 10\n",
    "#     hash_lst[loc] = key"
   ]
  },
  {
   "cell_type": "code",
   "execution_count": 50,
   "id": "7f32cd47",
   "metadata": {},
   "outputs": [
    {
     "data": {
      "text/plain": [
       "[-1, -1, -1, -1, -1, -1, -1, -1, -1, -1]"
      ]
     },
     "execution_count": 50,
     "metadata": {},
     "output_type": "execute_result"
    }
   ],
   "source": [
    "hash_lst"
   ]
  },
  {
   "cell_type": "code",
   "execution_count": 51,
   "id": "959fe7d4",
   "metadata": {},
   "outputs": [],
   "source": [
    "for key in ip_lst:\n",
    "    loc = key % 10\n",
    "    collison_occ(loc,key)"
   ]
  },
  {
   "cell_type": "code",
   "execution_count": 48,
   "id": "86445e2a",
   "metadata": {},
   "outputs": [],
   "source": [
    "def collison_occ(pos,key):\n",
    "    if pos < len(hash_lst):\n",
    "        if hash_lst[pos] != -1:\n",
    "            pos+=1\n",
    "            collison_occ(pos,key)\n",
    "        elif hash_lst[pos] == -1:\n",
    "            hash_lst[pos] = key\n",
    "    elif pos >= len(hash_lst):\n",
    "        collison_occ(0,key)"
   ]
  },
  {
   "cell_type": "code",
   "execution_count": 52,
   "id": "e19abc45",
   "metadata": {},
   "outputs": [
    {
     "data": {
      "text/plain": [
       "[68, 58, 48, 3, 4, 5, 6, -1, 8, 78]"
      ]
     },
     "execution_count": 52,
     "metadata": {},
     "output_type": "execute_result"
    }
   ],
   "source": [
    "hash_lst"
   ]
  },
  {
   "cell_type": "code",
   "execution_count": 78,
   "id": "1b37bd69",
   "metadata": {},
   "outputs": [],
   "source": [
    "def disp(lst):\n",
    "    fin_lst = [[-1 for col in range(3)] for row in range(len(lst)+1)]\n",
    "    fin_lst[0][0] = \"index\"\n",
    "    fin_lst[0][1] = \"value\"\n",
    "    fin_lst[0][2] = \"chain\"\n",
    "    for i in range(len(lst)):\n",
    "        print(fin_lst[i])"
   ]
  },
  {
   "cell_type": "code",
   "execution_count": 79,
   "id": "7e71256c",
   "metadata": {
    "collapsed": true
   },
   "outputs": [
    {
     "name": "stdout",
     "output_type": "stream",
     "text": [
      "['index', 'value', 'chain']\n",
      "[-1, -1, -1]\n",
      "[-1, -1, -1]\n",
      "[-1, -1, -1]\n",
      "[-1, -1, -1]\n",
      "[-1, -1, -1]\n",
      "[-1, -1, -1]\n",
      "[-1, -1, -1]\n",
      "[-1, -1, -1]\n",
      "[-1, -1, -1]\n"
     ]
    }
   ],
   "source": [
    "disp(hash_lst)"
   ]
  },
  {
   "cell_type": "code",
   "execution_count": 80,
   "id": "4ee58d01",
   "metadata": {},
   "outputs": [],
   "source": [
    "def chain_coll():\n",
    "    chain_lst = [-1 for l in range(10)]\n",
    "    "
   ]
  },
  {
   "cell_type": "code",
   "execution_count": null,
   "id": "f53836de",
   "metadata": {},
   "outputs": [],
   "source": []
  }
 ],
 "metadata": {
  "kernelspec": {
   "display_name": "Python 3",
   "language": "python",
   "name": "python3"
  },
  "language_info": {
   "codemirror_mode": {
    "name": "ipython",
    "version": 3
   },
   "file_extension": ".py",
   "mimetype": "text/x-python",
   "name": "python",
   "nbconvert_exporter": "python",
   "pygments_lexer": "ipython3",
   "version": "3.10.6"
  },
  "vscode": {
   "interpreter": {
    "hash": "916dbcbb3f70747c44a77c7bcd40155683ae19c65e1c03b4aa3499c5328201f1"
   }
  }
 },
 "nbformat": 4,
 "nbformat_minor": 5
}
