{
 "cells": [
  {
   "cell_type": "code",
   "execution_count": 1,
   "id": "0614a5cd",
   "metadata": {},
   "outputs": [],
   "source": [
    "def input_x(error):\n",
    "    list1 = [\"1\",\"2\",\"3\",\"4\",\"5\",\"6\",\"7\",\"8\",\"9\"]\n",
    "    if error==\"Error\":\n",
    "        print(\"Error : Overwrite attempt detected\")\n",
    "        print(\"No Cheating!!\")\n",
    "        pos_x=(input(\"Enter correct position for x : \"))\n",
    "        while pos_x not in list1:\n",
    "            print(\"Position Error!!\")\n",
    "            pos_x=(input(\"Enter position for x again : \"))\n",
    "#             return (\"x\",pos_x)\n",
    "        return (\"x\",int(pos_x))\n",
    "    else:\n",
    "        pos_x = (input(\"Enter position of x : \"))\n",
    "        while pos_x not in list1:\n",
    "            print(\"Position Error!!\")\n",
    "            pos_x=(input(\"Enter position for x again : \"))\n",
    "            #return(\"x\",pos_x)\n",
    "        return(\"x\",int(pos_x))"
   ]
  },
  {
   "cell_type": "code",
   "execution_count": 2,
   "id": "4e9fe7ed",
   "metadata": {},
   "outputs": [],
   "source": [
    "def input_o(error):\n",
    "    list1 = [\"1\",\"2\",\"3\",\"4\",\"5\",\"6\",\"7\",\"8\",\"9\"]\n",
    "    if error==\"Error\":\n",
    "        print(\"Error : Overwrite attempt detected\")\n",
    "        print(\"No Cheating!!\")\n",
    "        pos_o=(input(\"Enter correct position for o : \"))\n",
    "        while pos_o not in list1:\n",
    "            print(\"Position Error!!\")\n",
    "            pos_o=(input(\"Enter position for o again : \"))\n",
    "            #return(\"o\",pos_o)\n",
    "        return(\"o\",int(pos_o))\n",
    "    else:\n",
    "        pos_o = (input(\"Enter position of o : \"))\n",
    "        while pos_o not in list1:\n",
    "            print(\"Position Error!!\")\n",
    "            pos_o=(input(\"Enter position for o again : \"))\n",
    "            #return(\"o\",pos_o)\n",
    "        return(\"o\",int(pos_o))"
   ]
  },
  {
   "cell_type": "code",
   "execution_count": 36,
   "id": "ec837b09",
   "metadata": {},
   "outputs": [],
   "source": [
    "# # New and correct overwrite_check function\n",
    "# def overwrite_check(player,pos):\n",
    "#     list_pos.append(pos)\n",
    "#     list_pos_2=list_pos\n",
    "#     set_pos=set(list_pos)\n",
    "#     list_set_pos=list(set_pos)\n",
    "#     list_pos_2.sort()\n",
    "#     list_set_pos.sort()\n",
    "#     print(list_set_pos)\n",
    "#     print(list_pos)\n",
    "#     if list_set_pos==list_pos_2:\n",
    "#         return(\"No Error\",player)\n",
    "#     else:\n",
    "#         list_pos.pop()\n",
    "#         list_pos_2=list(set(list_pos_2))\n",
    "#         return(\"Error\",player)"
   ]
  },
  {
   "cell_type": "code",
   "execution_count": 3,
   "id": "a08488b7",
   "metadata": {},
   "outputs": [],
   "source": [
    "def output_display(player,position):\n",
    "        list_x_o[position-1]=(player)\n",
    "        print(\"  {}  |  {}  |  {}  \" .format(list_x_o[0],list_x_o[1],list_x_o[2]))\n",
    "        print(\"_____|_____|_____\")\n",
    "        print(\"  {}  |  {}  |  {}  \" .format(list_x_o[3],list_x_o[4],list_x_o[5]))\n",
    "        print(\"_____|_____|_____\")\n",
    "        print(\"  {}  |  {}  |  {}  \" .format(list_x_o[6],list_x_o[7],list_x_o[8]))\n",
    "        print(\"     |     |     \")\n",
    "#         if player==\"x\":\n",
    "#             return(\"Next Turn : o\")\n",
    "#         else:\n",
    "#             return(\"Next Turn : x\")"
   ]
  },
  {
   "cell_type": "code",
   "execution_count": 4,
   "id": "6b4b32c2",
   "metadata": {},
   "outputs": [],
   "source": [
    "def check_result_func(lst):\n",
    "    if (lst[0]==lst[1]==lst[2]==\"x\") or (lst[0]==lst[1]==lst[2]==\"o\") :\n",
    "        print(\"Winner is {}\".format(lst[1]))\n",
    "        return(\"Have a Winner\")\n",
    "    elif (lst[3]==lst[4]==lst[5]==\"x\") or (lst[3]==lst[4]==lst[5]==\"o\"):\n",
    "        print(\"Winner is {}\".format(lst[4]))\n",
    "        return(\"Have a Winner\")\n",
    "    elif (lst[6]==lst[7]==lst[8]==\"x\") or (lst[6]==lst[7]==lst[8]==\"o\"):\n",
    "        print(\"Winner is {}\".format(lst[7]))\n",
    "        return(\"Have a Winner\")\n",
    "    elif (lst[0]==lst[3]==lst[6]==\"x\") or (lst[0]==lst[3]==lst[6]==\"o\"):\n",
    "        print(\"Winner is {}\".format(lst[3]))\n",
    "        return(\"Have a Winner\")\n",
    "    elif (lst[1]==lst[4]==lst[7]==\"x\") or (lst[1]==lst[4]==lst[7]==\"o\"):\n",
    "        print(\"Winner is {}\".format(lst[4]))\n",
    "        return(\"Have a Winner\")\n",
    "    elif (lst[2]==lst[5]==lst[8]==\"x\") or (lst[2]==lst[5]==lst[8]==\"o\"):\n",
    "        print(\"Winner is {}\".format(lst[5]))\n",
    "        return(\"Have a Winner\")\n",
    "    elif (lst[0]==lst[4]==lst[8]==\"x\") or (lst[0]==lst[4]==lst[8]==\"o\"):\n",
    "        print(\"Winner is {}\".format(lst[4]))\n",
    "        return(\"Have a Winner\")\n",
    "    elif (lst[2]==lst[4]==lst[6]==\"x\") or (lst[2]==lst[4]==lst[6]==\"o\"):\n",
    "        print(\"Winner is {}\".format(lst[4]))\n",
    "        return(\"Have a Winner\")\n",
    "    else:\n",
    "        pass"
   ]
  },
  {
   "cell_type": "code",
   "execution_count": 5,
   "id": "0331185f",
   "metadata": {},
   "outputs": [],
   "source": [
    "# Day 2 base_func()\n",
    "# WOW! IT WORKS!! IS'S SHORTER AS WELL\n",
    "def base_func():\n",
    "    global list_pos\n",
    "    list_pos = []\n",
    "    global list_x_o\n",
    "    list_x_o = [\" \",\" \",\" \",\" \",\" \",\" \",\" \",\" \",\" \",\" \"]\n",
    "    #rules_func()\n",
    "    while True:\n",
    "        (a,b)=input_x(\"No Error\")\n",
    "        (c,d)=overwrite_check(a,b)\n",
    "        while c==\"Error\":\n",
    "            (a,b)=input_x(c)\n",
    "            (c,d)=(overwrite_check(a,b))\n",
    "#             print(c,d)\n",
    "        output_display(d,b)\n",
    "        m=check_result_func(list_x_o)\n",
    "        if m == \"Have a Winner\":\n",
    "            break\n",
    "        else:\n",
    "            pass\n",
    "        (e,f)=input_o(\"No Error\")\n",
    "        (g,h)=overwrite_check(e,f)\n",
    "        while g==\"Error\":\n",
    "            (e,f)=input_o(g)\n",
    "            (g,h)=overwrite_check(e,f)\n",
    "#             print(g,h)\n",
    "        output_display(h,f)\n",
    "        n = check_result_func(list_x_o)\n",
    "        if m == \"Have a Winner\":\n",
    "            break\n",
    "        else:\n",
    "            pass\n",
    "        list_check = [1,2,3,4,5,6,7,8,9]\n",
    "        if list_pos==list_check:\n",
    "            print(\"It was a 'DRAW' \")\n",
    "            break\n",
    "        else:\n",
    "            pass"
   ]
  },
  {
   "cell_type": "code",
   "execution_count": 28,
   "id": "7e0b1f20",
   "metadata": {},
   "outputs": [],
   "source": [
    "# list_pos = []\n",
    "# list_x_o = [\" \",\" \",\" \",\" \",\" \",\" \",\" \",\" \",\" \",\" \"]"
   ]
  },
  {
   "cell_type": "code",
   "execution_count": 33,
   "id": "8f14170c",
   "metadata": {},
   "outputs": [
    {
     "name": "stdout",
     "output_type": "stream",
     "text": [
      "Enter position of x : 1\n",
      "[1]\n",
      "[1]\n",
      "  x  |     |     \n",
      "_____|_____|_____\n",
      "     |     |     \n",
      "_____|_____|_____\n",
      "     |     |     \n",
      "     |     |     \n",
      "Enter position of o : 2\n",
      "[1, 2]\n",
      "[1, 2]\n",
      "  x  |  o  |     \n",
      "_____|_____|_____\n",
      "     |     |     \n",
      "_____|_____|_____\n",
      "     |     |     \n",
      "     |     |     \n",
      "Enter position of x : 4\n",
      "[1, 2, 4]\n",
      "[1, 2, 4]\n",
      "  x  |  o  |     \n",
      "_____|_____|_____\n",
      "  x  |     |     \n",
      "_____|_____|_____\n",
      "     |     |     \n",
      "     |     |     \n",
      "Enter position of o : 5\n",
      "[1, 2, 4, 5]\n",
      "[1, 2, 4, 5]\n",
      "  x  |  o  |     \n",
      "_____|_____|_____\n",
      "  x  |  o  |     \n",
      "_____|_____|_____\n",
      "     |     |     \n",
      "     |     |     \n",
      "Enter position of x : 6\n",
      "[1, 2, 4, 5, 6]\n",
      "[1, 2, 4, 5, 6]\n",
      "  x  |  o  |     \n",
      "_____|_____|_____\n",
      "  x  |  o  |  x  \n",
      "_____|_____|_____\n",
      "     |     |     \n",
      "     |     |     \n",
      "Enter position of o : 3\n",
      "[1, 2, 3, 4, 5, 6]\n",
      "[1, 2, 3, 4, 5, 6]\n",
      "  x  |  o  |  o  \n",
      "_____|_____|_____\n",
      "  x  |  o  |  x  \n",
      "_____|_____|_____\n",
      "     |     |     \n",
      "     |     |     \n",
      "Enter position of x : 7\n",
      "[1, 2, 3, 4, 5, 6, 7]\n",
      "[1, 2, 3, 4, 5, 6, 7]\n",
      "  x  |  o  |  o  \n",
      "_____|_____|_____\n",
      "  x  |  o  |  x  \n",
      "_____|_____|_____\n",
      "  x  |     |     \n",
      "     |     |     \n",
      "Winner is x\n"
     ]
    }
   ],
   "source": [
    "base_func()"
   ]
  },
  {
   "cell_type": "code",
   "execution_count": 39,
   "id": "5321ba9e",
   "metadata": {},
   "outputs": [],
   "source": [
    "# def compare_list(list2,lst3):\n",
    "#     set_list3 = set(lst3)\n",
    "#     list3 = list(set_list3)\n",
    "#     list2.sort()\n",
    "#     if list2 == list3:\n",
    "#         return True\n",
    "#     else:\n",
    "#         return False"
   ]
  },
  {
   "cell_type": "code",
   "execution_count": 6,
   "id": "adfd01ec",
   "metadata": {},
   "outputs": [],
   "source": [
    "def overwrite_check(player,pos):\n",
    "    list_pos.append(pos)\n",
    "    k = compare_list(list_pos)\n",
    "    print(list_pos)\n",
    "    if k==True:\n",
    "        print(list_pos)\n",
    "        return(\"No Error\",player)\n",
    "    else:\n",
    "        list_pos.pop()\n",
    "        print(list_pos)\n",
    "        return(\"Error\",player)"
   ]
  },
  {
   "cell_type": "code",
   "execution_count": 107,
   "id": "821cf7ed",
   "metadata": {},
   "outputs": [
    {
     "name": "stdout",
     "output_type": "stream",
     "text": [
      "Enter position of x : 0\n",
      "Position out of range!!\n",
      "Enter position for x again : 1\n",
      "[1]\n",
      "[1]\n",
      "  x  |     |     \n",
      "_____|_____|_____\n",
      "     |     |     \n",
      "_____|_____|_____\n",
      "     |     |     \n",
      "     |     |     \n",
      "Enter position of o : 7\n",
      "[1, 7]\n",
      "[1, 7]\n",
      "  x  |     |     \n",
      "_____|_____|_____\n",
      "     |     |     \n",
      "_____|_____|_____\n",
      "  o  |     |     \n",
      "     |     |     \n",
      "Enter position of x : 1\n",
      "[1, 7, 1]\n",
      "[1, 7]\n",
      "Error : Overwrite attempt detected\n",
      "No Cheating!!\n",
      "Enter correct position for x : 2\n",
      "[1, 7, 2]\n",
      "[1, 7, 2]\n",
      "  x  |  x  |     \n",
      "_____|_____|_____\n",
      "     |     |     \n",
      "_____|_____|_____\n",
      "  o  |     |     \n",
      "     |     |     \n",
      "Enter position of o : gf\n"
     ]
    },
    {
     "ename": "ValueError",
     "evalue": "invalid literal for int() with base 10: 'gf'",
     "output_type": "error",
     "traceback": [
      "\u001b[1;31m---------------------------------------------------------------------------\u001b[0m",
      "\u001b[1;31mValueError\u001b[0m                                Traceback (most recent call last)",
      "\u001b[1;32m<ipython-input-107-72d2709f4e40>\u001b[0m in \u001b[0;36m<module>\u001b[1;34m\u001b[0m\n\u001b[1;32m----> 1\u001b[1;33m \u001b[0mbase_func\u001b[0m\u001b[1;33m(\u001b[0m\u001b[1;33m)\u001b[0m\u001b[1;33m\u001b[0m\u001b[1;33m\u001b[0m\u001b[0m\n\u001b[0m",
      "\u001b[1;32m<ipython-input-30-dbee7211195a>\u001b[0m in \u001b[0;36mbase_func\u001b[1;34m()\u001b[0m\n\u001b[0;32m     20\u001b[0m         \u001b[1;32melse\u001b[0m\u001b[1;33m:\u001b[0m\u001b[1;33m\u001b[0m\u001b[1;33m\u001b[0m\u001b[0m\n\u001b[0;32m     21\u001b[0m             \u001b[1;32mpass\u001b[0m\u001b[1;33m\u001b[0m\u001b[1;33m\u001b[0m\u001b[0m\n\u001b[1;32m---> 22\u001b[1;33m         \u001b[1;33m(\u001b[0m\u001b[0me\u001b[0m\u001b[1;33m,\u001b[0m\u001b[0mf\u001b[0m\u001b[1;33m)\u001b[0m\u001b[1;33m=\u001b[0m\u001b[0minput_o\u001b[0m\u001b[1;33m(\u001b[0m\u001b[1;34m\"No Error\"\u001b[0m\u001b[1;33m)\u001b[0m\u001b[1;33m\u001b[0m\u001b[1;33m\u001b[0m\u001b[0m\n\u001b[0m\u001b[0;32m     23\u001b[0m         \u001b[1;33m(\u001b[0m\u001b[0mg\u001b[0m\u001b[1;33m,\u001b[0m\u001b[0mh\u001b[0m\u001b[1;33m)\u001b[0m\u001b[1;33m=\u001b[0m\u001b[0moverwrite_check\u001b[0m\u001b[1;33m(\u001b[0m\u001b[0me\u001b[0m\u001b[1;33m,\u001b[0m\u001b[0mf\u001b[0m\u001b[1;33m)\u001b[0m\u001b[1;33m\u001b[0m\u001b[1;33m\u001b[0m\u001b[0m\n\u001b[0;32m     24\u001b[0m         \u001b[1;32mwhile\u001b[0m \u001b[0mg\u001b[0m\u001b[1;33m==\u001b[0m\u001b[1;34m\"Error\"\u001b[0m\u001b[1;33m:\u001b[0m\u001b[1;33m\u001b[0m\u001b[1;33m\u001b[0m\u001b[0m\n",
      "\u001b[1;32m<ipython-input-2-488b1792c7b1>\u001b[0m in \u001b[0;36minput_o\u001b[1;34m(error)\u001b[0m\n\u001b[0;32m     11\u001b[0m         \u001b[1;32mreturn\u001b[0m\u001b[1;33m(\u001b[0m\u001b[1;34m\"o\"\u001b[0m\u001b[1;33m,\u001b[0m\u001b[0mpos_o\u001b[0m\u001b[1;33m)\u001b[0m\u001b[1;33m\u001b[0m\u001b[1;33m\u001b[0m\u001b[0m\n\u001b[0;32m     12\u001b[0m     \u001b[1;32melse\u001b[0m\u001b[1;33m:\u001b[0m\u001b[1;33m\u001b[0m\u001b[1;33m\u001b[0m\u001b[0m\n\u001b[1;32m---> 13\u001b[1;33m         \u001b[0mpos_o\u001b[0m \u001b[1;33m=\u001b[0m \u001b[0mint\u001b[0m\u001b[1;33m(\u001b[0m\u001b[0minput\u001b[0m\u001b[1;33m(\u001b[0m\u001b[1;34m\"Enter position of o : \"\u001b[0m\u001b[1;33m)\u001b[0m\u001b[1;33m)\u001b[0m\u001b[1;33m\u001b[0m\u001b[1;33m\u001b[0m\u001b[0m\n\u001b[0m\u001b[0;32m     14\u001b[0m         \u001b[1;32mwhile\u001b[0m \u001b[0mpos_o\u001b[0m \u001b[1;32mnot\u001b[0m \u001b[1;32min\u001b[0m \u001b[0mlist1\u001b[0m\u001b[1;33m:\u001b[0m\u001b[1;33m\u001b[0m\u001b[1;33m\u001b[0m\u001b[0m\n\u001b[0;32m     15\u001b[0m             \u001b[0mprint\u001b[0m\u001b[1;33m(\u001b[0m\u001b[1;34m\"Position out of range!!\"\u001b[0m\u001b[1;33m)\u001b[0m\u001b[1;33m\u001b[0m\u001b[1;33m\u001b[0m\u001b[0m\n",
      "\u001b[1;31mValueError\u001b[0m: invalid literal for int() with base 10: 'gf'"
     ]
    }
   ],
   "source": [
    "base_func()"
   ]
  },
  {
   "cell_type": "code",
   "execution_count": 93,
   "id": "d484010a",
   "metadata": {},
   "outputs": [],
   "source": [
    "global a \n",
    "a =[]"
   ]
  },
  {
   "cell_type": "code",
   "execution_count": 94,
   "id": "972fecc2",
   "metadata": {},
   "outputs": [],
   "source": [
    "a.append(1)"
   ]
  },
  {
   "cell_type": "code",
   "execution_count": 95,
   "id": "0a2aee24",
   "metadata": {},
   "outputs": [],
   "source": [
    "a.append(2)"
   ]
  },
  {
   "cell_type": "code",
   "execution_count": 96,
   "id": "50548d5c",
   "metadata": {},
   "outputs": [],
   "source": [
    "a.append(5)"
   ]
  },
  {
   "cell_type": "code",
   "execution_count": 97,
   "id": "9297094d",
   "metadata": {},
   "outputs": [
    {
     "data": {
      "text/plain": [
       "[1, 2, 5]"
      ]
     },
     "execution_count": 97,
     "metadata": {},
     "output_type": "execute_result"
    }
   ],
   "source": [
    "a"
   ]
  },
  {
   "cell_type": "code",
   "execution_count": 98,
   "id": "0c1caed9",
   "metadata": {},
   "outputs": [],
   "source": [
    "a.append(3)"
   ]
  },
  {
   "cell_type": "code",
   "execution_count": 99,
   "id": "67868c3d",
   "metadata": {},
   "outputs": [
    {
     "data": {
      "text/plain": [
       "[1, 2, 5, 3]"
      ]
     },
     "execution_count": 99,
     "metadata": {},
     "output_type": "execute_result"
    }
   ],
   "source": [
    "a"
   ]
  },
  {
   "cell_type": "code",
   "execution_count": 100,
   "id": "92488490",
   "metadata": {},
   "outputs": [],
   "source": [
    "def foo(b):\n",
    "    c=[]\n",
    "    ba = b.copy()\n",
    "    ba.sort()\n",
    "    for item in b:\n",
    "        c.append(item)\n",
    "    c.sort()"
   ]
  },
  {
   "cell_type": "code",
   "execution_count": 101,
   "id": "e26ee4e2",
   "metadata": {},
   "outputs": [],
   "source": [
    "foo(a)"
   ]
  },
  {
   "cell_type": "code",
   "execution_count": 102,
   "id": "589d5915",
   "metadata": {},
   "outputs": [
    {
     "data": {
      "text/plain": [
       "[1, 2, 5, 3]"
      ]
     },
     "execution_count": 102,
     "metadata": {},
     "output_type": "execute_result"
    }
   ],
   "source": [
    "a"
   ]
  },
  {
   "cell_type": "code",
   "execution_count": 7,
   "id": "d73a57e0",
   "metadata": {},
   "outputs": [],
   "source": [
    "def compare_list(lst5):\n",
    "    lst2=lst5.copy()\n",
    "    lst3=lst5.copy()\n",
    "    lst2.sort()\n",
    "    list3_1=list(set(lst3))\n",
    "    if list3_1==lst2:\n",
    "        return True\n",
    "    else:\n",
    "        return False"
   ]
  },
  {
   "cell_type": "code",
   "execution_count": null,
   "id": "e922f2e7",
   "metadata": {},
   "outputs": [],
   "source": [
    "    "
   ]
  },
  {
   "cell_type": "code",
   "execution_count": null,
   "id": "d9bdf613",
   "metadata": {},
   "outputs": [],
   "source": []
  },
  {
   "cell_type": "code",
   "execution_count": 8,
   "id": "308a985b",
   "metadata": {},
   "outputs": [
    {
     "name": "stdout",
     "output_type": "stream",
     "text": [
      "Enter position of x : 0\n",
      "Position Error!!\n",
      "Enter position for x again : str\n",
      "Position Error!!\n",
      "Enter position for x again : 1\n",
      "[1]\n",
      "[1]\n",
      "  x  |     |     \n",
      "_____|_____|_____\n",
      "     |     |     \n",
      "_____|_____|_____\n",
      "     |     |     \n",
      "     |     |     \n",
      "Enter position of o : 2\n",
      "[1, 2]\n",
      "[1, 2]\n",
      "  x  |  o  |     \n",
      "_____|_____|_____\n",
      "     |     |     \n",
      "_____|_____|_____\n",
      "     |     |     \n",
      "     |     |     \n",
      "Enter position of x : 9\n",
      "[1, 2, 9]\n",
      "[1, 2, 9]\n",
      "  x  |  o  |     \n",
      "_____|_____|_____\n",
      "     |     |     \n",
      "_____|_____|_____\n",
      "     |     |  x  \n",
      "     |     |     \n",
      "Enter position of o : 6\n",
      "[1, 2, 9, 6]\n",
      "[1, 2, 9]\n",
      "Error : Overwrite attempt detected\n",
      "No Cheating!!\n",
      "Enter correct position for o : 7\n",
      "[1, 2, 9, 7]\n",
      "[1, 2, 9]\n",
      "Error : Overwrite attempt detected\n",
      "No Cheating!!\n"
     ]
    },
    {
     "ename": "KeyboardInterrupt",
     "evalue": "Interrupted by user",
     "output_type": "error",
     "traceback": [
      "\u001b[1;31m---------------------------------------------------------------------------\u001b[0m",
      "\u001b[1;31mKeyboardInterrupt\u001b[0m                         Traceback (most recent call last)",
      "\u001b[1;32m<ipython-input-8-72d2709f4e40>\u001b[0m in \u001b[0;36m<module>\u001b[1;34m\u001b[0m\n\u001b[1;32m----> 1\u001b[1;33m \u001b[0mbase_func\u001b[0m\u001b[1;33m(\u001b[0m\u001b[1;33m)\u001b[0m\u001b[1;33m\u001b[0m\u001b[1;33m\u001b[0m\u001b[0m\n\u001b[0m",
      "\u001b[1;32m<ipython-input-5-dbee7211195a>\u001b[0m in \u001b[0;36mbase_func\u001b[1;34m()\u001b[0m\n\u001b[0;32m     23\u001b[0m         \u001b[1;33m(\u001b[0m\u001b[0mg\u001b[0m\u001b[1;33m,\u001b[0m\u001b[0mh\u001b[0m\u001b[1;33m)\u001b[0m\u001b[1;33m=\u001b[0m\u001b[0moverwrite_check\u001b[0m\u001b[1;33m(\u001b[0m\u001b[0me\u001b[0m\u001b[1;33m,\u001b[0m\u001b[0mf\u001b[0m\u001b[1;33m)\u001b[0m\u001b[1;33m\u001b[0m\u001b[1;33m\u001b[0m\u001b[0m\n\u001b[0;32m     24\u001b[0m         \u001b[1;32mwhile\u001b[0m \u001b[0mg\u001b[0m\u001b[1;33m==\u001b[0m\u001b[1;34m\"Error\"\u001b[0m\u001b[1;33m:\u001b[0m\u001b[1;33m\u001b[0m\u001b[1;33m\u001b[0m\u001b[0m\n\u001b[1;32m---> 25\u001b[1;33m             \u001b[1;33m(\u001b[0m\u001b[0me\u001b[0m\u001b[1;33m,\u001b[0m\u001b[0mf\u001b[0m\u001b[1;33m)\u001b[0m\u001b[1;33m=\u001b[0m\u001b[0minput_o\u001b[0m\u001b[1;33m(\u001b[0m\u001b[0mg\u001b[0m\u001b[1;33m)\u001b[0m\u001b[1;33m\u001b[0m\u001b[1;33m\u001b[0m\u001b[0m\n\u001b[0m\u001b[0;32m     26\u001b[0m             \u001b[1;33m(\u001b[0m\u001b[0mg\u001b[0m\u001b[1;33m,\u001b[0m\u001b[0mh\u001b[0m\u001b[1;33m)\u001b[0m\u001b[1;33m=\u001b[0m\u001b[0moverwrite_check\u001b[0m\u001b[1;33m(\u001b[0m\u001b[0me\u001b[0m\u001b[1;33m,\u001b[0m\u001b[0mf\u001b[0m\u001b[1;33m)\u001b[0m\u001b[1;33m\u001b[0m\u001b[1;33m\u001b[0m\u001b[0m\n\u001b[0;32m     27\u001b[0m \u001b[1;31m#             print(g,h)\u001b[0m\u001b[1;33m\u001b[0m\u001b[1;33m\u001b[0m\u001b[1;33m\u001b[0m\u001b[0m\n",
      "\u001b[1;32m<ipython-input-2-6592fac16b75>\u001b[0m in \u001b[0;36minput_o\u001b[1;34m(error)\u001b[0m\n\u001b[0;32m      4\u001b[0m         \u001b[0mprint\u001b[0m\u001b[1;33m(\u001b[0m\u001b[1;34m\"Error : Overwrite attempt detected\"\u001b[0m\u001b[1;33m)\u001b[0m\u001b[1;33m\u001b[0m\u001b[1;33m\u001b[0m\u001b[0m\n\u001b[0;32m      5\u001b[0m         \u001b[0mprint\u001b[0m\u001b[1;33m(\u001b[0m\u001b[1;34m\"No Cheating!!\"\u001b[0m\u001b[1;33m)\u001b[0m\u001b[1;33m\u001b[0m\u001b[1;33m\u001b[0m\u001b[0m\n\u001b[1;32m----> 6\u001b[1;33m         \u001b[0mpos_o\u001b[0m\u001b[1;33m=\u001b[0m\u001b[1;33m(\u001b[0m\u001b[0minput\u001b[0m\u001b[1;33m(\u001b[0m\u001b[1;34m\"Enter correct position for o : \"\u001b[0m\u001b[1;33m)\u001b[0m\u001b[1;33m)\u001b[0m\u001b[1;33m\u001b[0m\u001b[1;33m\u001b[0m\u001b[0m\n\u001b[0m\u001b[0;32m      7\u001b[0m         \u001b[1;32mwhile\u001b[0m \u001b[0mpos_o\u001b[0m \u001b[1;32mnot\u001b[0m \u001b[1;32min\u001b[0m \u001b[0mlist1\u001b[0m\u001b[1;33m:\u001b[0m\u001b[1;33m\u001b[0m\u001b[1;33m\u001b[0m\u001b[0m\n\u001b[0;32m      8\u001b[0m             \u001b[0mprint\u001b[0m\u001b[1;33m(\u001b[0m\u001b[1;34m\"Position Error!!\"\u001b[0m\u001b[1;33m)\u001b[0m\u001b[1;33m\u001b[0m\u001b[1;33m\u001b[0m\u001b[0m\n",
      "\u001b[1;32m~\\anaconda3\\lib\\site-packages\\ipykernel\\kernelbase.py\u001b[0m in \u001b[0;36mraw_input\u001b[1;34m(self, prompt)\u001b[0m\n\u001b[0;32m    858\u001b[0m                 \u001b[1;34m\"raw_input was called, but this frontend does not support input requests.\"\u001b[0m\u001b[1;33m\u001b[0m\u001b[1;33m\u001b[0m\u001b[0m\n\u001b[0;32m    859\u001b[0m             )\n\u001b[1;32m--> 860\u001b[1;33m         return self._input_request(str(prompt),\n\u001b[0m\u001b[0;32m    861\u001b[0m             \u001b[0mself\u001b[0m\u001b[1;33m.\u001b[0m\u001b[0m_parent_ident\u001b[0m\u001b[1;33m,\u001b[0m\u001b[1;33m\u001b[0m\u001b[1;33m\u001b[0m\u001b[0m\n\u001b[0;32m    862\u001b[0m             \u001b[0mself\u001b[0m\u001b[1;33m.\u001b[0m\u001b[0m_parent_header\u001b[0m\u001b[1;33m,\u001b[0m\u001b[1;33m\u001b[0m\u001b[1;33m\u001b[0m\u001b[0m\n",
      "\u001b[1;32m~\\anaconda3\\lib\\site-packages\\ipykernel\\kernelbase.py\u001b[0m in \u001b[0;36m_input_request\u001b[1;34m(self, prompt, ident, parent, password)\u001b[0m\n\u001b[0;32m    902\u001b[0m             \u001b[1;32mexcept\u001b[0m \u001b[0mKeyboardInterrupt\u001b[0m\u001b[1;33m:\u001b[0m\u001b[1;33m\u001b[0m\u001b[1;33m\u001b[0m\u001b[0m\n\u001b[0;32m    903\u001b[0m                 \u001b[1;31m# re-raise KeyboardInterrupt, to truncate traceback\u001b[0m\u001b[1;33m\u001b[0m\u001b[1;33m\u001b[0m\u001b[1;33m\u001b[0m\u001b[0m\n\u001b[1;32m--> 904\u001b[1;33m                 \u001b[1;32mraise\u001b[0m \u001b[0mKeyboardInterrupt\u001b[0m\u001b[1;33m(\u001b[0m\u001b[1;34m\"Interrupted by user\"\u001b[0m\u001b[1;33m)\u001b[0m \u001b[1;32mfrom\u001b[0m \u001b[1;32mNone\u001b[0m\u001b[1;33m\u001b[0m\u001b[1;33m\u001b[0m\u001b[0m\n\u001b[0m\u001b[0;32m    905\u001b[0m             \u001b[1;32mexcept\u001b[0m \u001b[0mException\u001b[0m \u001b[1;32mas\u001b[0m \u001b[0me\u001b[0m\u001b[1;33m:\u001b[0m\u001b[1;33m\u001b[0m\u001b[1;33m\u001b[0m\u001b[0m\n\u001b[0;32m    906\u001b[0m                 \u001b[0mself\u001b[0m\u001b[1;33m.\u001b[0m\u001b[0mlog\u001b[0m\u001b[1;33m.\u001b[0m\u001b[0mwarning\u001b[0m\u001b[1;33m(\u001b[0m\u001b[1;34m\"Invalid Message:\"\u001b[0m\u001b[1;33m,\u001b[0m \u001b[0mexc_info\u001b[0m\u001b[1;33m=\u001b[0m\u001b[1;32mTrue\u001b[0m\u001b[1;33m)\u001b[0m\u001b[1;33m\u001b[0m\u001b[1;33m\u001b[0m\u001b[0m\n",
      "\u001b[1;31mKeyboardInterrupt\u001b[0m: Interrupted by user"
     ]
    }
   ],
   "source": [
    "base_func()"
   ]
  },
  {
   "cell_type": "code",
   "execution_count": null,
   "id": "a45b1c0a",
   "metadata": {},
   "outputs": [],
   "source": []
  }
 ],
 "metadata": {
  "kernelspec": {
   "display_name": "Python 3",
   "language": "python",
   "name": "python3"
  },
  "language_info": {
   "codemirror_mode": {
    "name": "ipython",
    "version": 3
   },
   "file_extension": ".py",
   "mimetype": "text/x-python",
   "name": "python",
   "nbconvert_exporter": "python",
   "pygments_lexer": "ipython3",
   "version": "3.8.8"
  }
 },
 "nbformat": 4,
 "nbformat_minor": 5
}
