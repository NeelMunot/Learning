{
 "cells": [
  {
   "cell_type": "markdown",
   "id": "4099c2d1",
   "metadata": {},
   "source": [
    "## Ueful Operators\n",
    "\n",
    "There are some useful built-in function in python that don't fit into any category"
   ]
  },
  {
   "cell_type": "markdown",
   "id": "f26f8cf3",
   "metadata": {},
   "source": [
    "## range\n",
    "\n",
    "The range function allows you to quickly <b>generate</b> a list of integers. This comes in handy a lot of the time. There are 3 parameters you can pass a <I>start</I>, a <I>stop</I>, a <I>step size</I> "
   ]
  },
  {
   "cell_type": "code",
   "execution_count": 1,
   "id": "a7395330",
   "metadata": {},
   "outputs": [
    {
     "data": {
      "text/plain": [
       "range(0, 10)"
      ]
     },
     "execution_count": 1,
     "metadata": {},
     "output_type": "execute_result"
    }
   ],
   "source": [
    "range(0,10)"
   ]
  },
  {
   "cell_type": "markdown",
   "id": "0df65df9",
   "metadata": {},
   "source": [
    "Note that this is a <b>generator</b> function, so to actually get a lsit out of it use <b>list()</b>.\n",
    "\n",
    "What is a generator? It is a special type of function that will generate information and no need to save it to memory."
   ]
  },
  {
   "cell_type": "code",
   "execution_count": 2,
   "id": "a9bd70d0",
   "metadata": {},
   "outputs": [
    {
     "ename": "SyntaxError",
     "evalue": "unexpected EOF while parsing (<ipython-input-2-1487be6d4e40>, line 1)",
     "output_type": "error",
     "traceback": [
      "\u001b[1;36m  File \u001b[1;32m\"<ipython-input-2-1487be6d4e40>\"\u001b[1;36m, line \u001b[1;32m1\u001b[0m\n\u001b[1;33m    list(range(0,10)\u001b[0m\n\u001b[1;37m                    ^\u001b[0m\n\u001b[1;31mSyntaxError\u001b[0m\u001b[1;31m:\u001b[0m unexpected EOF while parsing\n"
     ]
    }
   ],
   "source": [
    "list(range(0,10)"
   ]
  },
  {
   "cell_type": "code",
   "execution_count": 3,
   "id": "84c99e0d",
   "metadata": {},
   "outputs": [
    {
     "data": {
      "text/plain": [
       "[0, 1, 2, 3, 4, 5, 6, 7, 8, 9]"
      ]
     },
     "execution_count": 3,
     "metadata": {},
     "output_type": "execute_result"
    }
   ],
   "source": [
    "list(range(0,10))"
   ]
  },
  {
   "cell_type": "markdown",
   "id": "3a047233",
   "metadata": {},
   "source": [
    "Note how 11 was not included in the output."
   ]
  },
  {
   "cell_type": "markdown",
   "id": "11d9ed4a",
   "metadata": {},
   "source": [
    "<b>Syntax</b>\n",
    "\n",
    "range(start point, end point, step size)\n",
    "\n",
    "end point does not get included\n",
    "step size starts from start point"
   ]
  },
  {
   "cell_type": "code",
   "execution_count": 4,
   "id": "da721f14",
   "metadata": {},
   "outputs": [
    {
     "data": {
      "text/plain": [
       "[0, 1, 2, 3, 4, 5, 6, 7, 8, 9, 10]"
      ]
     },
     "execution_count": 4,
     "metadata": {},
     "output_type": "execute_result"
    }
   ],
   "source": [
    "list(range(0,11))"
   ]
  },
  {
   "cell_type": "code",
   "execution_count": 5,
   "id": "c81baa6d",
   "metadata": {},
   "outputs": [
    {
     "data": {
      "text/plain": [
       "[0, 2, 4, 6, 8, 10]"
      ]
     },
     "execution_count": 5,
     "metadata": {},
     "output_type": "execute_result"
    }
   ],
   "source": [
    "list(range(0,11,2))"
   ]
  },
  {
   "cell_type": "code",
   "execution_count": 6,
   "id": "d1c8a57b",
   "metadata": {},
   "outputs": [
    {
     "ename": "SyntaxError",
     "evalue": "invalid syntax (<ipython-input-6-fe1841192b23>, line 1)",
     "output_type": "error",
     "traceback": [
      "\u001b[1;36m  File \u001b[1;32m\"<ipython-input-6-fe1841192b23>\"\u001b[1;36m, line \u001b[1;32m1\u001b[0m\n\u001b[1;33m    list(range(0,,3))\u001b[0m\n\u001b[1;37m                 ^\u001b[0m\n\u001b[1;31mSyntaxError\u001b[0m\u001b[1;31m:\u001b[0m invalid syntax\n"
     ]
    }
   ],
   "source": [
    "list(range(0,,3))"
   ]
  },
  {
   "cell_type": "code",
   "execution_count": 7,
   "id": "cae11e68",
   "metadata": {},
   "outputs": [],
   "source": [
    "#In line 6 i was trying to write a table of three i such a way that it the number steps to take and the step size.\n",
    "#It would automaticlly stop after 10 times of printing steps the size of 3"
   ]
  },
  {
   "cell_type": "markdown",
   "id": "83e44e70",
   "metadata": {},
   "source": [
    "range is a generator function. It caanot do something like how I mentioned above. You have to use loop or some other way to print multiples. "
   ]
  },
  {
   "cell_type": "code",
   "execution_count": 8,
   "id": "32ed73dd",
   "metadata": {},
   "outputs": [],
   "source": [
    "#def multiples(m, count):\n",
    "#    for i in range(count):\n",
    "#        print(i*m)\n",
    "\n",
    "# This is using loop to find multiples of a number"
   ]
  },
  {
   "cell_type": "markdown",
   "id": "ec6f6df7",
   "metadata": {},
   "source": [
    "## enumerate\n",
    "\n",
    "It is very important for loops. It helps to keep track of count or the number of loops performed."
   ]
  },
  {
   "cell_type": "code",
   "execution_count": 9,
   "id": "c8cf6659",
   "metadata": {},
   "outputs": [
    {
     "name": "stdout",
     "output_type": "stream",
     "text": [
      "At index 0 the letter is a.\n",
      "At index 1 the letter is b.\n",
      "At index 2 the letter is c.\n",
      "At index 3 the letter is d.\n",
      "At index 4 the letter is e.\n",
      "At index 5 the letter is f.\n",
      "At index 6 the letter is g.\n",
      "At index 7 the letter is h.\n",
      "At index 8 the letter is i.\n",
      "At index 9 the letter is j.\n",
      "At index 10 the letter is k.\n",
      "At index 11 the letter is l.\n",
      "At index 12 the letter is m.\n",
      "At index 13 the letter is n.\n",
      "At index 14 the letter is o.\n",
      "At index 15 the letter is p.\n",
      "At index 16 the letter is q.\n",
      "At index 17 the letter is r.\n",
      "At index 18 the letter is s.\n",
      "At index 19 the letter is t.\n",
      "At index 20 the letter is u.\n",
      "At index 21 the letter is v.\n",
      "At index 22 the letter is w.\n",
      "At index 23 the letter is x.\n",
      "At index 24 the letter is y.\n",
      "At index 25 the letter is z.\n"
     ]
    }
   ],
   "source": [
    "loop_count=0\n",
    "\n",
    "for letter in \"abcdefghijklmnopqrstuvwxyz\":\n",
    "    print(\"At index {} the letter is {}.\" .format(loop_count,letter))\n",
    "    loop_count+=1"
   ]
  },
  {
   "cell_type": "markdown",
   "id": "4f989f5e",
   "metadata": {},
   "source": [
    "Keeping track of how many loops you've gone through is so common, that enumerate was created so you don't need to worry about creating and updating this index_count or loop_count variable"
   ]
  },
  {
   "cell_type": "code",
   "execution_count": 10,
   "id": "b13db679",
   "metadata": {},
   "outputs": [
    {
     "name": "stdout",
     "output_type": "stream",
     "text": [
      "At index 0 the letter is a.\n",
      "At index 1 the letter is b.\n",
      "At index 2 the letter is c.\n",
      "At index 3 the letter is d.\n",
      "At index 4 the letter is e.\n",
      "At index 5 the letter is f.\n",
      "At index 6 the letter is g.\n",
      "At index 7 the letter is h.\n",
      "At index 8 the letter is i.\n",
      "At index 9 the letter is j.\n",
      "At index 10 the letter is k.\n",
      "At index 11 the letter is l.\n",
      "At index 12 the letter is m.\n",
      "At index 13 the letter is n.\n",
      "At index 14 the letter is o.\n",
      "At index 15 the letter is p.\n",
      "At index 16 the letter is q.\n",
      "At index 17 the letter is r.\n",
      "At index 18 the letter is s.\n",
      "At index 19 the letter is t.\n",
      "At index 20 the letter is u.\n",
      "At index 21 the letter is v.\n",
      "At index 22 the letter is w.\n",
      "At index 23 the letter is x.\n",
      "At index 24 the letter is y.\n",
      "At index 25 the letter is z.\n"
     ]
    }
   ],
   "source": [
    "#Notice how unpacking of tuple occurs\n",
    "for i,letter in enumerate(\"abcdefghijklmnopqrstuvwxyz\"):\n",
    "    print(\"At index {} the letter is {}.\" .format(i,letter))"
   ]
  },
  {
   "cell_type": "markdown",
   "id": "5acd4da0",
   "metadata": {},
   "source": [
    "## zip\n",
    "\n",
    "Notice the format enumerate reuturns. lets check it in the form of list()."
   ]
  },
  {
   "cell_type": "code",
   "execution_count": 1,
   "id": "38f9884b",
   "metadata": {},
   "outputs": [
    {
     "data": {
      "text/plain": [
       "[(0, 'a'), (1, 'b'), (2, 'c'), (3, 'd'), (4, 'e')]"
      ]
     },
     "execution_count": 1,
     "metadata": {},
     "output_type": "execute_result"
    }
   ],
   "source": [
    "list(enumerate(\"abcde\"))"
   ]
  },
  {
   "cell_type": "markdown",
   "id": "83a7c45e",
   "metadata": {},
   "source": [
    "enumerate returns a list of tuples. This means we can use unpacking using 'for' loop. This data structure is very common in Python espically when working with outside librries. You can use the <b>zip()</b> function to quickly create a list of tuples by 'zipping' together two list"
   ]
  },
  {
   "cell_type": "markdown",
   "id": "30b9259a",
   "metadata": {},
   "source": [
    "<b>Note</b>:\n",
    "\n",
    "This is not the zipping we do to our folders to reduce the size. Here it just means combining two folders, and nothing else.\n",
    "\n",
    "In traditional zipping using some algorithm we reduce the file size. But we just need to combine a list here."
   ]
  },
  {
   "cell_type": "code",
   "execution_count": 2,
   "id": "58d161e3",
   "metadata": {},
   "outputs": [],
   "source": [
    "mylist1 = [1,2,3,4,5]\n",
    "mylist2 = ['a','b','c','d','e']"
   ]
  },
  {
   "cell_type": "code",
   "execution_count": 3,
   "id": "a2d24132",
   "metadata": {},
   "outputs": [
    {
     "ename": "NameError",
     "evalue": "name 'list1' is not defined",
     "output_type": "error",
     "traceback": [
      "\u001b[1;31m---------------------------------------------------------------------------\u001b[0m",
      "\u001b[1;31mNameError\u001b[0m                                 Traceback (most recent call last)",
      "\u001b[1;32m<ipython-input-3-9e827cd0c32a>\u001b[0m in \u001b[0;36m<module>\u001b[1;34m\u001b[0m\n\u001b[1;32m----> 1\u001b[1;33m \u001b[0mzip\u001b[0m\u001b[1;33m(\u001b[0m\u001b[0mlist1\u001b[0m\u001b[1;33m,\u001b[0m\u001b[0mlist2\u001b[0m\u001b[1;33m)\u001b[0m\u001b[1;33m\u001b[0m\u001b[1;33m\u001b[0m\u001b[0m\n\u001b[0m",
      "\u001b[1;31mNameError\u001b[0m: name 'list1' is not defined"
     ]
    }
   ],
   "source": [
    "zip(list1,list2)"
   ]
  },
  {
   "cell_type": "code",
   "execution_count": 4,
   "id": "e534e6b9",
   "metadata": {},
   "outputs": [
    {
     "data": {
      "text/plain": [
       "<zip at 0x2c6e56f6cc0>"
      ]
     },
     "execution_count": 4,
     "metadata": {},
     "output_type": "execute_result"
    }
   ],
   "source": [
    "zip(mylist1,mylist2)\n",
    "#This one is also a generator"
   ]
  },
  {
   "cell_type": "code",
   "execution_count": 5,
   "id": "01df8fbe",
   "metadata": {},
   "outputs": [
    {
     "data": {
      "text/plain": [
       "[(1, 'a'), (2, 'b'), (3, 'c'), (4, 'd'), (5, 'e')]"
      ]
     },
     "execution_count": 5,
     "metadata": {},
     "output_type": "execute_result"
    }
   ],
   "source": [
    "list(zip(mylist1,mylist2))"
   ]
  },
  {
   "cell_type": "markdown",
   "id": "10b536ef",
   "metadata": {},
   "source": [
    "To use the generator we could just use a loop.."
   ]
  },
  {
   "cell_type": "code",
   "execution_count": 6,
   "id": "fa34cb1a",
   "metadata": {},
   "outputs": [
    {
     "name": "stdout",
     "output_type": "stream",
     "text": [
      "The item from list1 is 1 and from list2 is a\n",
      "The item from list1 is 2 and from list2 is b\n",
      "The item from list1 is 3 and from list2 is c\n",
      "The item from list1 is 4 and from list2 is d\n",
      "The item from list1 is 5 and from list2 is e\n"
     ]
    }
   ],
   "source": [
    "for item1,item2 in list(zip(mylist1,mylist2)):\n",
    "    print(\"The item from list1 is {} and from list2 is {}\".format(item1,item2))"
   ]
  },
  {
   "cell_type": "markdown",
   "id": "242cf556",
   "metadata": {},
   "source": [
    "## in operator\n",
    "\n",
    "We have aleady used it in loops, but we can use it to quickly check if there is ann in the list."
   ]
  },
  {
   "cell_type": "code",
   "execution_count": 7,
   "id": "61958e3b",
   "metadata": {},
   "outputs": [
    {
     "ename": "NameError",
     "evalue": "name 'x' is not defined",
     "output_type": "error",
     "traceback": [
      "\u001b[1;31m---------------------------------------------------------------------------\u001b[0m",
      "\u001b[1;31mNameError\u001b[0m                                 Traceback (most recent call last)",
      "\u001b[1;32m<ipython-input-7-84f709f9847b>\u001b[0m in \u001b[0;36m<module>\u001b[1;34m\u001b[0m\n\u001b[1;32m----> 1\u001b[1;33m \u001b[0mx\u001b[0m \u001b[1;32min\u001b[0m \u001b[1;33m[\u001b[0m\u001b[1;34m'x'\u001b[0m\u001b[1;33m,\u001b[0m\u001b[1;34m'y'\u001b[0m\u001b[1;33m,\u001b[0m\u001b[1;34m'z'\u001b[0m\u001b[1;33m]\u001b[0m\u001b[1;33m\u001b[0m\u001b[1;33m\u001b[0m\u001b[0m\n\u001b[0m",
      "\u001b[1;31mNameError\u001b[0m: name 'x' is not defined"
     ]
    }
   ],
   "source": [
    "x in ['x','y','z']"
   ]
  },
  {
   "cell_type": "code",
   "execution_count": 8,
   "id": "4e4293ac",
   "metadata": {},
   "outputs": [
    {
     "data": {
      "text/plain": [
       "True"
      ]
     },
     "execution_count": 8,
     "metadata": {},
     "output_type": "execute_result"
    }
   ],
   "source": [
    "'x' in ['x','y','z']"
   ]
  },
  {
   "cell_type": "code",
   "execution_count": 9,
   "id": "b2a0b1bd",
   "metadata": {},
   "outputs": [
    {
     "data": {
      "text/plain": [
       "True"
      ]
     },
     "execution_count": 9,
     "metadata": {},
     "output_type": "execute_result"
    }
   ],
   "source": [
    "122 in [123,121,122,124,1215]"
   ]
  },
  {
   "cell_type": "code",
   "execution_count": 10,
   "id": "433fc7d7",
   "metadata": {},
   "outputs": [
    {
     "data": {
      "text/plain": [
       "False"
      ]
     },
     "execution_count": 10,
     "metadata": {},
     "output_type": "execute_result"
    }
   ],
   "source": [
    "'x' in [123,121,122,124,1215]"
   ]
  },
  {
   "cell_type": "markdown",
   "id": "40b9d4bb",
   "metadata": {},
   "source": [
    "## not in \n",
    "\n",
    "mostly just opposite of in"
   ]
  },
  {
   "cell_type": "code",
   "execution_count": 11,
   "id": "8f7c1c1f",
   "metadata": {},
   "outputs": [
    {
     "ename": "SyntaxError",
     "evalue": "invalid syntax (<ipython-input-11-044701dfb62f>, line 1)",
     "output_type": "error",
     "traceback": [
      "\u001b[1;36m  File \u001b[1;32m\"<ipython-input-11-044701dfb62f>\"\u001b[1;36m, line \u001b[1;32m1\u001b[0m\n\u001b[1;33m    x' not in ['x','y','z']\u001b[0m\n\u001b[1;37m     ^\u001b[0m\n\u001b[1;31mSyntaxError\u001b[0m\u001b[1;31m:\u001b[0m invalid syntax\n"
     ]
    }
   ],
   "source": [
    "x' not in ['x','y','z']"
   ]
  },
  {
   "cell_type": "code",
   "execution_count": 12,
   "id": "d0de404e",
   "metadata": {},
   "outputs": [
    {
     "data": {
      "text/plain": [
       "False"
      ]
     },
     "execution_count": 12,
     "metadata": {},
     "output_type": "execute_result"
    }
   ],
   "source": [
    "'x' not in ['x','y','z']"
   ]
  },
  {
   "cell_type": "code",
   "execution_count": 13,
   "id": "749edc98",
   "metadata": {},
   "outputs": [
    {
     "data": {
      "text/plain": [
       "False"
      ]
     },
     "execution_count": 13,
     "metadata": {},
     "output_type": "execute_result"
    }
   ],
   "source": [
    "'x' in [123,121,122,124,1215]"
   ]
  },
  {
   "cell_type": "code",
   "execution_count": 14,
   "id": "7cd71f83",
   "metadata": {},
   "outputs": [
    {
     "data": {
      "text/plain": [
       "True"
      ]
     },
     "execution_count": 14,
     "metadata": {},
     "output_type": "execute_result"
    }
   ],
   "source": [
    "'x' not in [123,121,122,124,1215]"
   ]
  },
  {
   "cell_type": "markdown",
   "id": "de55585c",
   "metadata": {},
   "source": [
    "## min max\n",
    "\n",
    "to find the minimum and maximum of a list"
   ]
  },
  {
   "cell_type": "code",
   "execution_count": 15,
   "id": "0b8df40b",
   "metadata": {},
   "outputs": [],
   "source": [
    "list1=[1,2,34,55,5,6,7,8,54,67,88,609,22,1,2,3,34,]"
   ]
  },
  {
   "cell_type": "code",
   "execution_count": 16,
   "id": "1fef551e",
   "metadata": {},
   "outputs": [
    {
     "data": {
      "text/plain": [
       "1"
      ]
     },
     "execution_count": 16,
     "metadata": {},
     "output_type": "execute_result"
    }
   ],
   "source": [
    "min(list1)"
   ]
  },
  {
   "cell_type": "code",
   "execution_count": 17,
   "id": "ff781a3e",
   "metadata": {},
   "outputs": [
    {
     "data": {
      "text/plain": [
       "609"
      ]
     },
     "execution_count": 17,
     "metadata": {},
     "output_type": "execute_result"
    }
   ],
   "source": [
    "max(list1)"
   ]
  },
  {
   "cell_type": "markdown",
   "id": "bada5b7b",
   "metadata": {},
   "source": [
    "## random \n",
    "\n",
    "python comes with a built in random library. There are many usful function in this library but we will see only two now."
   ]
  },
  {
   "cell_type": "code",
   "execution_count": 18,
   "id": "29aa3f0d",
   "metadata": {},
   "outputs": [],
   "source": [
    "from random import shuffle"
   ]
  },
  {
   "cell_type": "code",
   "execution_count": 19,
   "id": "0324c507",
   "metadata": {},
   "outputs": [],
   "source": [
    "# this shuffles a list passed \"in place\" meaning it won't return anything\n",
    "#All the operations take place inside the list\n",
    "shuffle(list1)"
   ]
  },
  {
   "cell_type": "code",
   "execution_count": 20,
   "id": "8c828510",
   "metadata": {},
   "outputs": [
    {
     "data": {
      "text/plain": [
       "[3, 2, 55, 8, 2, 609, 22, 88, 1, 1, 54, 7, 6, 5, 34, 67, 34]"
      ]
     },
     "execution_count": 20,
     "metadata": {},
     "output_type": "execute_result"
    }
   ],
   "source": [
    "list1"
   ]
  },
  {
   "cell_type": "code",
   "execution_count": 22,
   "id": "d5eda238",
   "metadata": {},
   "outputs": [
    {
     "name": "stdout",
     "output_type": "stream",
     "text": [
      "None\n"
     ]
    }
   ],
   "source": [
    "print(shuffle(list1))\n",
    "#All the work is done inside of the list"
   ]
  },
  {
   "cell_type": "code",
   "execution_count": 23,
   "id": "c66b11c7",
   "metadata": {},
   "outputs": [],
   "source": [
    "from random import randint"
   ]
  },
  {
   "cell_type": "code",
   "execution_count": 24,
   "id": "a653520d",
   "metadata": {},
   "outputs": [
    {
     "data": {
      "text/plain": [
       "65"
      ]
     },
     "execution_count": 24,
     "metadata": {},
     "output_type": "execute_result"
    }
   ],
   "source": [
    "#It gives a random interger between two endpoints including both\n",
    "randint(0,100)"
   ]
  },
  {
   "cell_type": "code",
   "execution_count": 25,
   "id": "2d207ceb",
   "metadata": {},
   "outputs": [
    {
     "data": {
      "text/plain": [
       "58"
      ]
     },
     "execution_count": 25,
     "metadata": {},
     "output_type": "execute_result"
    }
   ],
   "source": [
    "randint(0,100)"
   ]
  },
  {
   "cell_type": "code",
   "execution_count": 26,
   "id": "118d1c0f",
   "metadata": {},
   "outputs": [
    {
     "data": {
      "text/plain": [
       "8"
      ]
     },
     "execution_count": 26,
     "metadata": {},
     "output_type": "execute_result"
    }
   ],
   "source": [
    "randint(1,12)"
   ]
  },
  {
   "cell_type": "markdown",
   "id": "deaa173f",
   "metadata": {},
   "source": [
    "## input"
   ]
  },
  {
   "cell_type": "code",
   "execution_count": 27,
   "id": "f6b45c78",
   "metadata": {},
   "outputs": [
    {
     "name": "stdout",
     "output_type": "stream",
     "text": [
      "Enter something here : yo yo ho yo \n"
     ]
    },
    {
     "data": {
      "text/plain": [
       "'yo yo ho yo '"
      ]
     },
     "execution_count": 27,
     "metadata": {},
     "output_type": "execute_result"
    }
   ],
   "source": [
    "input(\"Enter something here : \")"
   ]
  },
  {
   "cell_type": "code",
   "execution_count": null,
   "id": "404c47b5",
   "metadata": {},
   "outputs": [],
   "source": []
  }
 ],
 "metadata": {
  "kernelspec": {
   "display_name": "Python 3",
   "language": "python",
   "name": "python3"
  },
  "language_info": {
   "codemirror_mode": {
    "name": "ipython",
    "version": 3
   },
   "file_extension": ".py",
   "mimetype": "text/x-python",
   "name": "python",
   "nbconvert_exporter": "python",
   "pygments_lexer": "ipython3",
   "version": "3.8.8"
  }
 },
 "nbformat": 4,
 "nbformat_minor": 5
}
