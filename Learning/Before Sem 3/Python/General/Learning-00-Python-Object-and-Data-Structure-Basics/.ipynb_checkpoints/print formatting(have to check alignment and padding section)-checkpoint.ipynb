{
 "cells": [
  {
   "cell_type": "code",
   "execution_count": 1,
   "metadata": {},
   "outputs": [
    {
     "name": "stdout",
     "output_type": "stream",
     "text": [
      "Help on function ReplaceSequence in module __main__:\n",
      "\n",
      "ReplaceSequence(input_string, starts_with, ends_with, replace_string)\n",
      "    Replaces Sequence with replace string.\n",
      "\n",
      "None\n",
      "The food was good, I enjoyed it\n",
      "The food was bad, I didn't liked it\n"
     ]
    }
   ],
   "source": [
    "#copied ths program from python3 folder from the git clone of jeetendrabhattad\n",
    "#No idea what it is\n",
    "\n",
    "\n",
    "#!/usr/bin/python\n",
    "\n",
    "\"The food was not that bad, I enjoyed it\", \"not\", \"bad\", \"good\"\n",
    "def ReplaceSequence(input_string, starts_with, ends_with, replace_string):\n",
    "    \"\"\"Replaces Sequence with replace string.\"\"\"\n",
    "    result = \"\"\n",
    "    start_i = input_string.count(starts_with)\n",
    "    end_i = input_string[input_string.index(starts_with):].count(ends_with)\n",
    "    if start_i and end_i:\n",
    "        start_i = input_string.index(starts_with)\n",
    "        end_i = input_string[start_i:].index(ends_with)+start_i\n",
    "        result = result + input_string[:start_i]\n",
    "        result = result + replace_string\n",
    "        result = result + input_string[end_i+len(ends_with):]\n",
    "        return result\n",
    "    return input_string\n",
    "\n",
    "print(help(ReplaceSequence))\n",
    "\n",
    "if __name__ == \"__main__\":\n",
    "    print(ReplaceSequence(\"The food was not that bad, I enjoyed it\", \"not\", \"bad\", \"good\"))\n",
    "    print(ReplaceSequence(\"The food was not that good, I didn't liked it\", \"not\", \"good\", \"bad\"))"
   ]
  },
  {
   "cell_type": "markdown",
   "metadata": {},
   "source": [
    "# String Formatting"
   ]
  },
  {
   "cell_type": "code",
   "execution_count": 2,
   "metadata": {},
   "outputs": [
    {
     "name": "stdout",
     "output_type": "stream",
     "text": [
      "+name+'s score is +str(score)+\n"
     ]
    }
   ],
   "source": [
    "#Wrong\n",
    "name='Kate'\n",
    "score=33\n",
    "print(\"+name+'s score is +str(score)+\")"
   ]
  },
  {
   "cell_type": "code",
   "execution_count": 3,
   "metadata": {},
   "outputs": [
    {
     "name": "stdout",
     "output_type": "stream",
     "text": [
      "'+name+''s score is '+str(score)+'\n"
     ]
    }
   ],
   "source": [
    "name='Kate'\n",
    "score=33\n",
    "print(\"'+name+''s score is '+str(score)+'\")"
   ]
  },
  {
   "cell_type": "code",
   "execution_count": 4,
   "metadata": {},
   "outputs": [
    {
     "data": {
      "text/plain": [
       "'Last night, Thomas scored 33 points.'"
      ]
     },
     "execution_count": 4,
     "metadata": {},
     "output_type": "execute_result"
    }
   ],
   "source": [
    "player = 'Thomas'\n",
    "points = 33\n",
    "\n",
    "'Last night, '+player+' scored '+str(points)+' points.'  # concatenation\n",
    "\n",
    "f'Last night, {player} scored {points} points.'          # string formatting"
   ]
  },
  {
   "cell_type": "code",
   "execution_count": 5,
   "metadata": {},
   "outputs": [
    {
     "ename": "SyntaxError",
     "evalue": "EOL while scanning string literal (<ipython-input-5-9ea826ff3ac8>, line 3)",
     "output_type": "error",
     "traceback": [
      "\u001b[0;36m  File \u001b[0;32m\"<ipython-input-5-9ea826ff3ac8>\"\u001b[0;36m, line \u001b[0;32m3\u001b[0m\n\u001b[0;31m    print(\"\"+name+\"'s score is \"+str(score)+\")\u001b[0m\n\u001b[0m                                              ^\u001b[0m\n\u001b[0;31mSyntaxError\u001b[0m\u001b[0;31m:\u001b[0m EOL while scanning string literal\n"
     ]
    }
   ],
   "source": [
    "name='Kate'\n",
    "score=33\n",
    "print(\"\"+name+\"'s score is \"+str(score)+\")"
   ]
  },
  {
   "cell_type": "code",
   "execution_count": 6,
   "metadata": {},
   "outputs": [
    {
     "name": "stdout",
     "output_type": "stream",
     "text": [
      "Kate's score is 33\n"
     ]
    }
   ],
   "source": [
    "name='Kate'\n",
    "score=33\n",
    "print(\"\"+name+\"'s score is \"+str(score)+\"\")"
   ]
  },
  {
   "cell_type": "markdown",
   "metadata": {},
   "source": [
    "# Formatting with placeholder"
   ]
  },
  {
   "cell_type": "code",
   "execution_count": 7,
   "metadata": {},
   "outputs": [
    {
     "name": "stdout",
     "output_type": "stream",
     "text": [
      "Today is four day of coding\n"
     ]
    }
   ],
   "source": [
    "#using %s we can inject single or multiple strings in a print statment\n",
    "print(\"Today is %s day of coding\"%'four')"
   ]
  },
  {
   "cell_type": "code",
   "execution_count": 8,
   "metadata": {},
   "outputs": [
    {
     "ename": "SyntaxError",
     "evalue": "unexpected EOF while parsing (<ipython-input-8-a944478cabfb>, line 2)",
     "output_type": "error",
     "traceback": [
      "\u001b[0;36m  File \u001b[0;32m\"<ipython-input-8-a944478cabfb>\"\u001b[0;36m, line \u001b[0;32m2\u001b[0m\n\u001b[0;31m    print(\"Today is %s day of coding\"%(a)\u001b[0m\n\u001b[0m                                         ^\u001b[0m\n\u001b[0;31mSyntaxError\u001b[0m\u001b[0;31m:\u001b[0m unexpected EOF while parsing\n"
     ]
    }
   ],
   "source": [
    "a=str(input(\"Enter day \").strip())\n",
    "print(\"Today is %s day of coding\"%(a)"
   ]
  },
  {
   "cell_type": "code",
   "execution_count": 9,
   "metadata": {},
   "outputs": [
    {
     "name": "stdout",
     "output_type": "stream",
     "text": [
      "Enter day three\n",
      "Today is three day of coding\n"
     ]
    }
   ],
   "source": [
    "a=str(input(\"Enter day \").strip())\n",
    "print(\"Today is %s day of coding\"%(a))"
   ]
  },
  {
   "cell_type": "code",
   "execution_count": 10,
   "metadata": {},
   "outputs": [
    {
     "name": "stdout",
     "output_type": "stream",
     "text": [
      "Enter day 3\n",
      "Today is 3rd day of coding\n"
     ]
    }
   ],
   "source": [
    "#intergers and floats need to be converted to string before printed\n",
    "#cannot directly print integrs\n",
    "a=int(input(\"Enter day \").strip())\n",
    "print(\"Today is %srd day of coding\"%(a))"
   ]
  },
  {
   "cell_type": "code",
   "execution_count": 12,
   "metadata": {},
   "outputs": [
    {
     "name": "stdout",
     "output_type": "stream",
     "text": [
      "Enter day 4\n",
      "Enter name neel\n",
      "Today is 4th day of neel's coding\n"
     ]
    }
   ],
   "source": [
    "#Can be done multiple times using variable as well\n",
    "a=int(input(\"Enter day \").strip())\n",
    "b=str(input(\"Enter name \").strip())\n",
    "print(\"Today is %sth day of %s's coding\"%(a,b))"
   ]
  },
  {
   "cell_type": "markdown",
   "metadata": {},
   "source": [
    "# Format Conversion"
   ]
  },
  {
   "cell_type": "code",
   "execution_count": 14,
   "metadata": {},
   "outputs": [
    {
     "name": "stdout",
     "output_type": "stream",
     "text": [
      "He said his name was Kartik\n"
     ]
    }
   ],
   "source": [
    "print(\"He said his name was %s\"%'Kartik')\n",
    "#here %s gives the object "
   ]
  },
  {
   "cell_type": "code",
   "execution_count": 15,
   "metadata": {},
   "outputs": [
    {
     "name": "stdout",
     "output_type": "stream",
     "text": [
      "He said his name was 123\n"
     ]
    }
   ],
   "source": [
    "print(\"He said his name was %s\"%'123')"
   ]
  },
  {
   "cell_type": "code",
   "execution_count": 16,
   "metadata": {},
   "outputs": [
    {
     "name": "stdout",
     "output_type": "stream",
     "text": [
      "He said his name was 123\n"
     ]
    }
   ],
   "source": [
    "print(\"He said his name was %s\"%123) #Doubt cleared"
   ]
  },
  {
   "cell_type": "code",
   "execution_count": 17,
   "metadata": {},
   "outputs": [
    {
     "name": "stdout",
     "output_type": "stream",
     "text": [
      "He said his name was 'Kartik'\n"
     ]
    }
   ],
   "source": [
    "print(\"He said his name was %r\"%'Kartik')"
   ]
  },
  {
   "cell_type": "markdown",
   "metadata": {},
   "source": [
    "# Format conversion methods\n",
    "\n",
    "Note :%r and repr() deliver the string representation of the object, including quotation marks and any escape characters."
   ]
  },
  {
   "cell_type": "code",
   "execution_count": 18,
   "metadata": {},
   "outputs": [
    {
     "ename": "TypeError",
     "evalue": "can only concatenate str (not \"int\") to str",
     "output_type": "error",
     "traceback": [
      "\u001b[0;31m---------------------------------------------------------------------------\u001b[0m",
      "\u001b[0;31mTypeError\u001b[0m                                 Traceback (most recent call last)",
      "\u001b[0;32m<ipython-input-18-5a7a0bf757ee>\u001b[0m in \u001b[0;36m<module>\u001b[0;34m()\u001b[0m\n\u001b[0;32m----> 1\u001b[0;31m \u001b[0mprint\u001b[0m\u001b[0;34m(\u001b[0m\u001b[0;34m\"He said his name was \"\u001b[0m\u001b[0;34m+\u001b[0m\u001b[0;36m123\u001b[0m\u001b[0;34m)\u001b[0m\u001b[0;34m\u001b[0m\u001b[0;34m\u001b[0m\u001b[0m\n\u001b[0m",
      "\u001b[0;31mTypeError\u001b[0m: can only concatenate str (not \"int\") to str"
     ]
    }
   ],
   "source": [
    "print(\"He said his name was \"+123) "
   ]
  },
  {
   "cell_type": "code",
   "execution_count": 19,
   "metadata": {},
   "outputs": [
    {
     "name": "stdout",
     "output_type": "stream",
     "text": [
      "He said his name was 123\n"
     ]
    }
   ],
   "source": [
    "print(\"He said his name was \"+str(123)) "
   ]
  },
  {
   "cell_type": "code",
   "execution_count": 22,
   "metadata": {},
   "outputs": [
    {
     "name": "stdout",
     "output_type": "stream",
     "text": [
      "He said his name was 123\n"
     ]
    }
   ],
   "source": [
    "print(\"He said his name was \"+repr(123)) "
   ]
  },
  {
   "cell_type": "code",
   "execution_count": 23,
   "metadata": {},
   "outputs": [
    {
     "name": "stdout",
     "output_type": "stream",
     "text": [
      "He said his name was 123\n"
     ]
    }
   ],
   "source": [
    "print(\"He said his name was \"+str('123')) "
   ]
  },
  {
   "cell_type": "markdown",
   "metadata": {},
   "source": [
    "%s and str() works the same way. They both convert the given into string and then print"
   ]
  },
  {
   "cell_type": "code",
   "execution_count": 24,
   "metadata": {},
   "outputs": [
    {
     "name": "stdout",
     "output_type": "stream",
     "text": [
      "He said his name was '123'\n"
     ]
    }
   ],
   "source": [
    "print(\"He said his name was \"+repr('123')) "
   ]
  },
  {
   "cell_type": "code",
   "execution_count": 25,
   "metadata": {},
   "outputs": [
    {
     "name": "stdout",
     "output_type": "stream",
     "text": [
      "He said his name was 'Fred'\n"
     ]
    }
   ],
   "source": [
    "print(\"He said his name was %r\"%'Fred') "
   ]
  },
  {
   "cell_type": "code",
   "execution_count": 27,
   "metadata": {},
   "outputs": [
    {
     "name": "stdout",
     "output_type": "stream",
     "text": [
      "He said his name was 'Fred'\n"
     ]
    }
   ],
   "source": [
    "print(\"He said his name was %r\"%'Fred') "
   ]
  },
  {
   "cell_type": "code",
   "execution_count": 28,
   "metadata": {},
   "outputs": [
    {
     "name": "stdout",
     "output_type": "stream",
     "text": [
      "He said his name was \tFred\n",
      "He said his name was '\\tFred'\n"
     ]
    }
   ],
   "source": [
    "print(\"He said his name was %s\"%'\\tFred') #another example to defict the differnce between %s and %r\n",
    "print(\"He said his name was %r\"%'\\tFred') "
   ]
  },
  {
   "cell_type": "markdown",
   "metadata": {},
   "source": [
    "%s converts everything to string directly. whereas %d converts numbers to integers first without rounding off then converts it to string"
   ]
  },
  {
   "cell_type": "code",
   "execution_count": 29,
   "metadata": {},
   "outputs": [
    {
     "name": "stdout",
     "output_type": "stream",
     "text": [
      "the value of pi is 3.14\n"
     ]
    },
    {
     "ename": "TypeError",
     "evalue": "%d format: a number is required, not str",
     "output_type": "error",
     "traceback": [
      "\u001b[0;31m---------------------------------------------------------------------------\u001b[0m",
      "\u001b[0;31mTypeError\u001b[0m                                 Traceback (most recent call last)",
      "\u001b[0;32m<ipython-input-29-6804c826e284>\u001b[0m in \u001b[0;36m<module>\u001b[0;34m()\u001b[0m\n\u001b[1;32m      1\u001b[0m \u001b[0mprint\u001b[0m\u001b[0;34m(\u001b[0m\u001b[0;34m\"the value of pi is %s\"\u001b[0m\u001b[0;34m%\u001b[0m\u001b[0;34m'3.14'\u001b[0m\u001b[0;34m)\u001b[0m\u001b[0;34m\u001b[0m\u001b[0;34m\u001b[0m\u001b[0m\n\u001b[0;32m----> 2\u001b[0;31m \u001b[0mprint\u001b[0m\u001b[0;34m(\u001b[0m\u001b[0;34m\"the value of pi is %d\"\u001b[0m\u001b[0;34m%\u001b[0m\u001b[0;34m'3.14'\u001b[0m\u001b[0;34m)\u001b[0m\u001b[0;34m\u001b[0m\u001b[0;34m\u001b[0m\u001b[0m\n\u001b[0m",
      "\u001b[0;31mTypeError\u001b[0m: %d format: a number is required, not str"
     ]
    }
   ],
   "source": [
    "print(\"the value of pi is %s\"%'3.14') \n",
    "print(\"the value of pi is %d\"%'3.14') "
   ]
  },
  {
   "cell_type": "code",
   "execution_count": 30,
   "metadata": {},
   "outputs": [
    {
     "name": "stdout",
     "output_type": "stream",
     "text": [
      "the value of pi is 3.14\n",
      "the value of pi is 3\n"
     ]
    }
   ],
   "source": [
    "print(\"the value of pi is %s\"%'3.14') \n",
    "print(\"the value of pi is %d\"%3.14) "
   ]
  },
  {
   "cell_type": "code",
   "execution_count": 31,
   "metadata": {},
   "outputs": [
    {
     "name": "stdout",
     "output_type": "stream",
     "text": [
      "the value of pi is 3.14\n",
      "the value of pi is 3\n"
     ]
    }
   ],
   "source": [
    "print(\"the value of pi is %s\"%'3.14') \n",
    "print(\"the value of pi is %d\"% 3.14) "
   ]
  },
  {
   "cell_type": "markdown",
   "metadata": {},
   "source": [
    "### Padding and Precision of Floating Point Numbers\n",
    "Floating point numbers use the format <code>%5.2f</code>. Here, <code>5</code> would be the minimum number of characters the string should contain; these may be padded with whitespace if the entire number does not have this many digits. Next to this, <code>.2f</code> stands for how many numbers to show past the decimal point. Let's see some examples: "
   ]
  },
  {
   "cell_type": "markdown",
   "metadata": {},
   "source": [
    "It will print five characters compuslsorily for %5.2f"
   ]
  },
  {
   "cell_type": "code",
   "execution_count": 32,
   "metadata": {},
   "outputs": [
    {
     "name": "stdout",
     "output_type": "stream",
     "text": [
      "Floating point numbers: 13.14\n"
     ]
    }
   ],
   "source": [
    "print('Floating point numbers: %5.2f' %(13.144))"
   ]
  },
  {
   "cell_type": "code",
   "execution_count": 33,
   "metadata": {},
   "outputs": [
    {
     "name": "stdout",
     "output_type": "stream",
     "text": [
      "Floating point numbers: 13.10\n"
     ]
    }
   ],
   "source": [
    "print('Floating point numbers: %5.2f' %(13.1))"
   ]
  },
  {
   "cell_type": "code",
   "execution_count": 40,
   "metadata": {},
   "outputs": [
    {
     "name": "stdout",
     "output_type": "stream",
     "text": [
      "Floating point numbers: 13.00\n"
     ]
    }
   ],
   "source": [
    "print('Floating point numbers: %5.2f' %(13))"
   ]
  },
  {
   "cell_type": "code",
   "execution_count": 35,
   "metadata": {},
   "outputs": [
    {
     "name": "stdout",
     "output_type": "stream",
     "text": [
      "Floating point numbers: 13.14\n"
     ]
    }
   ],
   "source": [
    "print('Floating point numbers: %1.2f' %(13.144))"
   ]
  },
  {
   "cell_type": "code",
   "execution_count": 36,
   "metadata": {},
   "outputs": [
    {
     "name": "stdout",
     "output_type": "stream",
     "text": [
      "Floating point numbers: 13144.00\n"
     ]
    }
   ],
   "source": [
    "print('Floating point numbers: %1.2f' %(13144))"
   ]
  },
  {
   "cell_type": "code",
   "execution_count": 37,
   "metadata": {},
   "outputs": [
    {
     "name": "stdout",
     "output_type": "stream",
     "text": [
      "Floating point numbers: 13144\n"
     ]
    }
   ],
   "source": [
    "print('Floating point numbers: %1.0f' %(13144))"
   ]
  },
  {
   "cell_type": "code",
   "execution_count": 38,
   "metadata": {},
   "outputs": [
    {
     "name": "stdout",
     "output_type": "stream",
     "text": [
      "Floating point numbers: 4\n"
     ]
    }
   ],
   "source": [
    "print('Floating point numbers: %1.0f' %(4))"
   ]
  },
  {
   "cell_type": "code",
   "execution_count": 41,
   "metadata": {},
   "outputs": [
    {
     "name": "stdout",
     "output_type": "stream",
     "text": [
      "Floating point numbers:   13.00\n"
     ]
    }
   ],
   "source": [
    "print('Floating point numbers: %7.2f' %(13))"
   ]
  },
  {
   "cell_type": "code",
   "execution_count": 42,
   "metadata": {},
   "outputs": [
    {
     "name": "stdout",
     "output_type": "stream",
     "text": [
      "First: hi!, Second:  3.14, Third: 'bye!'\n"
     ]
    }
   ],
   "source": [
    "#Multiple formatting\n",
    "print('First: %s, Second: %5.2f, Third: %r' %('hi!',3.1415,'bye!'))"
   ]
  },
  {
   "cell_type": "markdown",
   "metadata": {},
   "source": [
    "# Formatting with .format() method\n",
    "this is a better method and has many advantages over %s method"
   ]
  },
  {
   "cell_type": "code",
   "execution_count": 43,
   "metadata": {},
   "outputs": [
    {
     "ename": "NameError",
     "evalue": "name 'Neel' is not defined",
     "output_type": "error",
     "traceback": [
      "\u001b[0;31m---------------------------------------------------------------------------\u001b[0m",
      "\u001b[0;31mNameError\u001b[0m                                 Traceback (most recent call last)",
      "\u001b[0;32m<ipython-input-43-e17311faae1e>\u001b[0m in \u001b[0;36m<module>\u001b[0;34m()\u001b[0m\n\u001b[0;32m----> 1\u001b[0;31m \u001b[0mprint\u001b[0m\u001b[0;34m(\u001b[0m\u001b[0;34m\"My name is {}\"\u001b[0m\u001b[0;34m.\u001b[0m\u001b[0mformat\u001b[0m\u001b[0;34m(\u001b[0m\u001b[0mNeel\u001b[0m\u001b[0;34m)\u001b[0m\u001b[0;34m)\u001b[0m\u001b[0;34m\u001b[0m\u001b[0;34m\u001b[0m\u001b[0m\n\u001b[0m",
      "\u001b[0;31mNameError\u001b[0m: name 'Neel' is not defined"
     ]
    }
   ],
   "source": [
    "print(\"My name is {}\".format(Neel))"
   ]
  },
  {
   "cell_type": "code",
   "execution_count": 44,
   "metadata": {},
   "outputs": [
    {
     "name": "stdout",
     "output_type": "stream",
     "text": [
      "My name is Neel\n"
     ]
    }
   ],
   "source": [
    "print(\"My name is {}\".format('Neel'))"
   ]
  },
  {
   "cell_type": "markdown",
   "metadata": {},
   "source": [
    "1. Inserted objectes can be called by index position"
   ]
  },
  {
   "cell_type": "code",
   "execution_count": 1,
   "metadata": {},
   "outputs": [
    {
     "name": "stdout",
     "output_type": "stream",
     "text": [
      "My name is Neel. I finishd my 12th this year. I am very excited for engineering next month.\n"
     ]
    }
   ],
   "source": [
    "print(\"My name is {1}. I finishd my {0} this year. I am very excited for {2} next month.\".format('12th','Neel','engineering'))"
   ]
  },
  {
   "cell_type": "markdown",
   "metadata": {},
   "source": [
    "2. Similar to inserting bjects using index position we can assign keywords to insert object"
   ]
  },
  {
   "cell_type": "code",
   "execution_count": 2,
   "metadata": {},
   "outputs": [
    {
     "ename": "SyntaxError",
     "evalue": "invalid syntax (<ipython-input-2-52d1214a727c>, line 1)",
     "output_type": "error",
     "traceback": [
      "\u001b[1;36m  File \u001b[1;32m\"<ipython-input-2-52d1214a727c>\"\u001b[1;36m, line \u001b[1;32m1\u001b[0m\n\u001b[1;33m    print(\"My name is {b}. I finishd my {a} this year. I am very excited for {c} next month.\".format(a=12th,b='Neel',c='engineering'))\u001b[0m\n\u001b[1;37m                                                                                                         ^\u001b[0m\n\u001b[1;31mSyntaxError\u001b[0m\u001b[1;31m:\u001b[0m invalid syntax\n"
     ]
    }
   ],
   "source": [
    "print(\"My name is {b}. I finishd my {a} this year. I am very excited for {c} next month.\".format(a=12th,b='Neel',c='engineering'))"
   ]
  },
  {
   "cell_type": "code",
   "execution_count": 3,
   "metadata": {},
   "outputs": [
    {
     "name": "stdout",
     "output_type": "stream",
     "text": [
      "My name is Neel. I finishd my 12th this year. I am very excited for engineering next month.\n"
     ]
    }
   ],
   "source": [
    "print(\"My name is {b}. I finishd my {a} this year. I am very excited for {c} next month.\".format(a='12th',b='Neel',c='engineering'))"
   ]
  },
  {
   "cell_type": "markdown",
   "metadata": {},
   "source": [
    "3. Inserted objects can be reused to avoid duplication"
   ]
  },
  {
   "cell_type": "code",
   "execution_count": 2,
   "metadata": {},
   "outputs": [
    {
     "ename": "SyntaxError",
     "evalue": "invalid syntax (<ipython-input-2-261c496388fa>, line 3)",
     "output_type": "error",
     "traceback": [
      "\u001b[1;36m  File \u001b[1;32m\"<ipython-input-2-261c496388fa>\"\u001b[1;36m, line \u001b[1;32m3\u001b[0m\n\u001b[1;33m    print(\"A {p} saved is a {p} earned.\"format.(p='penny'))\u001b[0m\n\u001b[1;37m                                        ^\u001b[0m\n\u001b[1;31mSyntaxError\u001b[0m\u001b[1;31m:\u001b[0m invalid syntax\n"
     ]
    }
   ],
   "source": [
    "print(\"A %s saved is a %s earned.\"%('penny','penny'))\n",
    "#vs\n",
    "print(\"A {p} saved is a {p} earned.\"format.(p='penny'))"
   ]
  },
  {
   "cell_type": "code",
   "execution_count": 3,
   "metadata": {},
   "outputs": [
    {
     "name": "stdout",
     "output_type": "stream",
     "text": [
      "A penny saved is a penny earned.\n",
      "A penny saved is a penny earned.\n"
     ]
    }
   ],
   "source": [
    "print(\"A %s saved is a %s earned.\"%('penny','penny'))\n",
    "#vs\n",
    "print(\"A {p} saved is a {p} earned.\".format(p='penny'))"
   ]
  },
  {
   "cell_type": "code",
   "execution_count": null,
   "metadata": {},
   "outputs": [],
   "source": []
  }
 ],
 "metadata": {
  "kernelspec": {
   "display_name": "Python 3 (ipykernel)",
   "language": "python",
   "name": "python3"
  },
  "language_info": {
   "codemirror_mode": {
    "name": "ipython",
    "version": 3
   },
   "file_extension": ".py",
   "mimetype": "text/x-python",
   "name": "python",
   "nbconvert_exporter": "python",
   "pygments_lexer": "ipython3",
   "version": "3.10.6"
  }
 },
 "nbformat": 4,
 "nbformat_minor": 2
}
