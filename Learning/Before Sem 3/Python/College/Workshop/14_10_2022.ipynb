{
 "cells": [
  {
   "cell_type": "code",
   "execution_count": 2,
   "id": "9ffc4f98",
   "metadata": {},
   "outputs": [
    {
     "name": "stdout",
     "output_type": "stream",
     "text": [
      "<class 'str'>\n"
     ]
    }
   ],
   "source": [
    "print(type(\"str\"))"
   ]
  },
  {
   "cell_type": "code",
   "execution_count": 3,
   "id": "92d13380",
   "metadata": {
    "scrolled": true
   },
   "outputs": [
    {
     "data": {
      "text/plain": [
       "['__add__',\n",
       " '__class__',\n",
       " '__contains__',\n",
       " '__delattr__',\n",
       " '__dir__',\n",
       " '__doc__',\n",
       " '__eq__',\n",
       " '__format__',\n",
       " '__ge__',\n",
       " '__getattribute__',\n",
       " '__getitem__',\n",
       " '__getnewargs__',\n",
       " '__gt__',\n",
       " '__hash__',\n",
       " '__init__',\n",
       " '__init_subclass__',\n",
       " '__iter__',\n",
       " '__le__',\n",
       " '__len__',\n",
       " '__lt__',\n",
       " '__mod__',\n",
       " '__mul__',\n",
       " '__ne__',\n",
       " '__new__',\n",
       " '__reduce__',\n",
       " '__reduce_ex__',\n",
       " '__repr__',\n",
       " '__rmod__',\n",
       " '__rmul__',\n",
       " '__setattr__',\n",
       " '__sizeof__',\n",
       " '__str__',\n",
       " '__subclasshook__',\n",
       " 'capitalize',\n",
       " 'casefold',\n",
       " 'center',\n",
       " 'count',\n",
       " 'encode',\n",
       " 'endswith',\n",
       " 'expandtabs',\n",
       " 'find',\n",
       " 'format',\n",
       " 'format_map',\n",
       " 'index',\n",
       " 'isalnum',\n",
       " 'isalpha',\n",
       " 'isascii',\n",
       " 'isdecimal',\n",
       " 'isdigit',\n",
       " 'isidentifier',\n",
       " 'islower',\n",
       " 'isnumeric',\n",
       " 'isprintable',\n",
       " 'isspace',\n",
       " 'istitle',\n",
       " 'isupper',\n",
       " 'join',\n",
       " 'ljust',\n",
       " 'lower',\n",
       " 'lstrip',\n",
       " 'maketrans',\n",
       " 'partition',\n",
       " 'replace',\n",
       " 'rfind',\n",
       " 'rindex',\n",
       " 'rjust',\n",
       " 'rpartition',\n",
       " 'rsplit',\n",
       " 'rstrip',\n",
       " 'split',\n",
       " 'splitlines',\n",
       " 'startswith',\n",
       " 'strip',\n",
       " 'swapcase',\n",
       " 'title',\n",
       " 'translate',\n",
       " 'upper',\n",
       " 'zfill']"
      ]
     },
     "execution_count": 3,
     "metadata": {},
     "output_type": "execute_result"
    }
   ],
   "source": [
    "dir(str)"
   ]
  },
  {
   "cell_type": "code",
   "execution_count": 11,
   "id": "3887e76f",
   "metadata": {},
   "outputs": [],
   "source": [
    "class Person:\n",
    "    def __init__(self,name,age):\n",
    "        self.name = name\n",
    "        self.age = age\n",
    "    def get_name(self):\n",
    "        return self.name"
   ]
  },
  {
   "cell_type": "code",
   "execution_count": 12,
   "id": "00557477",
   "metadata": {},
   "outputs": [
    {
     "data": {
      "text/plain": [
       "<__main__.Person at 0x7f26cede6be0>"
      ]
     },
     "execution_count": 12,
     "metadata": {},
     "output_type": "execute_result"
    }
   ],
   "source": [
    "p = Person (\"Neel\",18)\n",
    "p"
   ]
  },
  {
   "cell_type": "code",
   "execution_count": 13,
   "id": "b491495e",
   "metadata": {},
   "outputs": [
    {
     "data": {
      "text/plain": [
       "'Neel'"
      ]
     },
     "execution_count": 13,
     "metadata": {},
     "output_type": "execute_result"
    }
   ],
   "source": [
    "p.get_name()"
   ]
  },
  {
   "cell_type": "code",
   "execution_count": 9,
   "id": "9095be25",
   "metadata": {},
   "outputs": [
    {
     "data": {
      "text/plain": [
       "18"
      ]
     },
     "execution_count": 9,
     "metadata": {},
     "output_type": "execute_result"
    }
   ],
   "source": [
    "p.age"
   ]
  },
  {
   "cell_type": "code",
   "execution_count": 15,
   "id": "88061ec7",
   "metadata": {},
   "outputs": [],
   "source": [
    "p2 = Person(\"pqr\",32)"
   ]
  },
  {
   "cell_type": "code",
   "execution_count": 16,
   "id": "57e33571",
   "metadata": {},
   "outputs": [
    {
     "data": {
      "text/plain": [
       "<__main__.Person at 0x7f26cebc7df0>"
      ]
     },
     "execution_count": 16,
     "metadata": {},
     "output_type": "execute_result"
    }
   ],
   "source": [
    "p2"
   ]
  },
  {
   "cell_type": "code",
   "execution_count": 18,
   "id": "ef877df0",
   "metadata": {},
   "outputs": [
    {
     "data": {
      "text/plain": [
       "'pqr'"
      ]
     },
     "execution_count": 18,
     "metadata": {},
     "output_type": "execute_result"
    }
   ],
   "source": [
    "p2.get_name()"
   ]
  },
  {
   "cell_type": "code",
   "execution_count": 19,
   "id": "d593f17f",
   "metadata": {},
   "outputs": [
    {
     "name": "stdout",
     "output_type": "stream",
     "text": [
      "pqr\n"
     ]
    }
   ],
   "source": [
    "print(p2.get_name())"
   ]
  },
  {
   "cell_type": "code",
   "execution_count": 26,
   "id": "ec6bfa29",
   "metadata": {},
   "outputs": [],
   "source": [
    "class Addition:\n",
    "    def __init__ (self):\n",
    "        pass\n",
    "    def get_data():\n",
    "        n1 = int(input(\"Num1 :\"))\n",
    "        n2 = int(input(\"Num2 :\"))\n",
    "    def add():\n",
    "        print(n1+n2 ,\" = add\")"
   ]
  },
  {
   "cell_type": "code",
   "execution_count": 22,
   "id": "7b1cd9e4",
   "metadata": {},
   "outputs": [],
   "source": [
    "obj = Addition()"
   ]
  },
  {
   "cell_type": "code",
   "execution_count": 24,
   "id": "0c9ea1fe",
   "metadata": {},
   "outputs": [
    {
     "ename": "TypeError",
     "evalue": "get_data() takes 0 positional arguments but 1 was given",
     "output_type": "error",
     "traceback": [
      "\u001b[0;31m---------------------------------------------------------------------------\u001b[0m",
      "\u001b[0;31mTypeError\u001b[0m                                 Traceback (most recent call last)",
      "Input \u001b[0;32mIn [24]\u001b[0m, in \u001b[0;36m<module>\u001b[0;34m\u001b[0m\n\u001b[0;32m----> 1\u001b[0m \u001b[43mobj\u001b[49m\u001b[38;5;241;43m.\u001b[39;49m\u001b[43mget_data\u001b[49m\u001b[43m(\u001b[49m\u001b[43m)\u001b[49m\n",
      "\u001b[0;31mTypeError\u001b[0m: get_data() takes 0 positional arguments but 1 was given"
     ]
    }
   ],
   "source": [
    "obj.get_data()"
   ]
  },
  {
   "cell_type": "code",
   "execution_count": 27,
   "id": "fd2414d2",
   "metadata": {},
   "outputs": [],
   "source": [
    "class Addition:\n",
    "    def __init__ (self):\n",
    "        pass\n",
    "    def get_data(self):\n",
    "        n1 = int(input(\"Num1 :\"))\n",
    "        n2 = int(input(\"Num2 :\"))\n",
    "    def add():\n",
    "        print(n1+n2 ,\" = add\")"
   ]
  },
  {
   "cell_type": "code",
   "execution_count": 37,
   "id": "2e8f88fb",
   "metadata": {},
   "outputs": [],
   "source": [
    "obj = Addition()"
   ]
  },
  {
   "cell_type": "code",
   "execution_count": 38,
   "id": "e68bab41",
   "metadata": {},
   "outputs": [
    {
     "name": "stdout",
     "output_type": "stream",
     "text": [
      "Num1 :5\n",
      "Num2 :6\n"
     ]
    }
   ],
   "source": [
    "obj.get_data()"
   ]
  },
  {
   "cell_type": "code",
   "execution_count": 30,
   "id": "34f79b46",
   "metadata": {},
   "outputs": [
    {
     "ename": "TypeError",
     "evalue": "add() takes 0 positional arguments but 1 was given",
     "output_type": "error",
     "traceback": [
      "\u001b[0;31m---------------------------------------------------------------------------\u001b[0m",
      "\u001b[0;31mTypeError\u001b[0m                                 Traceback (most recent call last)",
      "Input \u001b[0;32mIn [30]\u001b[0m, in \u001b[0;36m<module>\u001b[0;34m\u001b[0m\n\u001b[0;32m----> 1\u001b[0m \u001b[43mobj\u001b[49m\u001b[38;5;241;43m.\u001b[39;49m\u001b[43madd\u001b[49m\u001b[43m(\u001b[49m\u001b[43m)\u001b[49m\n",
      "\u001b[0;31mTypeError\u001b[0m: add() takes 0 positional arguments but 1 was given"
     ]
    }
   ],
   "source": [
    "obj.add()"
   ]
  },
  {
   "cell_type": "code",
   "execution_count": 35,
   "id": "ff301c5f",
   "metadata": {},
   "outputs": [],
   "source": [
    "class Addition:\n",
    "    def __init__ (self):\n",
    "        pass\n",
    "    def get_data(self):\n",
    "        n1 = int(input(\"Num1 :\"))\n",
    "        n2 = int(input(\"Num2 :\"))\n",
    "    def add(self):\n",
    "        print(n1+n2 ,\" = add\")"
   ]
  },
  {
   "cell_type": "code",
   "execution_count": 39,
   "id": "29d01006",
   "metadata": {},
   "outputs": [
    {
     "ename": "NameError",
     "evalue": "name 'n1' is not defined",
     "output_type": "error",
     "traceback": [
      "\u001b[0;31m---------------------------------------------------------------------------\u001b[0m",
      "\u001b[0;31mNameError\u001b[0m                                 Traceback (most recent call last)",
      "Input \u001b[0;32mIn [39]\u001b[0m, in \u001b[0;36m<module>\u001b[0;34m\u001b[0m\n\u001b[0;32m----> 1\u001b[0m \u001b[43mobj\u001b[49m\u001b[38;5;241;43m.\u001b[39;49m\u001b[43madd\u001b[49m\u001b[43m(\u001b[49m\u001b[43m)\u001b[49m\n",
      "Input \u001b[0;32mIn [35]\u001b[0m, in \u001b[0;36mAddition.add\u001b[0;34m(self)\u001b[0m\n\u001b[1;32m      7\u001b[0m \u001b[38;5;28;01mdef\u001b[39;00m \u001b[38;5;21madd\u001b[39m(\u001b[38;5;28mself\u001b[39m):\n\u001b[0;32m----> 8\u001b[0m     \u001b[38;5;28mprint\u001b[39m(\u001b[43mn1\u001b[49m\u001b[38;5;241m+\u001b[39mn2 ,\u001b[38;5;124m\"\u001b[39m\u001b[38;5;124m = add\u001b[39m\u001b[38;5;124m\"\u001b[39m)\n",
      "\u001b[0;31mNameError\u001b[0m: name 'n1' is not defined"
     ]
    }
   ],
   "source": [
    "obj.add()"
   ]
  },
  {
   "cell_type": "code",
   "execution_count": 40,
   "id": "f06b5fc8",
   "metadata": {},
   "outputs": [
    {
     "ename": "SyntaxError",
     "evalue": "invalid syntax (4007154304.py, line 2)",
     "output_type": "error",
     "traceback": [
      "\u001b[0;36m  Input \u001b[0;32mIn [40]\u001b[0;36m\u001b[0m\n\u001b[0;31m    int n1,n2\u001b[0m\n\u001b[0m        ^\u001b[0m\n\u001b[0;31mSyntaxError\u001b[0m\u001b[0;31m:\u001b[0m invalid syntax\n"
     ]
    }
   ],
   "source": [
    "class Addition:\n",
    "    int n1,n2\n",
    "    def __init__ (self):\n",
    "        pass\n",
    "    def get_data(self):\n",
    "        n1 = int(input(\"Num1 :\"))\n",
    "        n2 = int(input(\"Num2 :\"))\n",
    "    def add(self):\n",
    "        print(n1+n2 ,\" = add\")"
   ]
  },
  {
   "cell_type": "code",
   "execution_count": 41,
   "id": "c7b27c91",
   "metadata": {},
   "outputs": [],
   "source": [
    "class Addition:\n",
    "    def __init__ (self):\n",
    "        n1 = int(input(\"Num1 :\"))\n",
    "        n2 = int(input(\"Num2 :\"))\n",
    "#     def get_data(self):\n",
    "    def add(self):\n",
    "        print(n1+n2 ,\" = add\")"
   ]
  },
  {
   "cell_type": "code",
   "execution_count": 42,
   "id": "f6525d62",
   "metadata": {},
   "outputs": [
    {
     "name": "stdout",
     "output_type": "stream",
     "text": [
      "Num1 :4\n",
      "Num2 :5\n"
     ]
    }
   ],
   "source": [
    "obj2 = Addition()"
   ]
  },
  {
   "cell_type": "code",
   "execution_count": 43,
   "id": "dc980127",
   "metadata": {},
   "outputs": [
    {
     "ename": "NameError",
     "evalue": "name 'n1' is not defined",
     "output_type": "error",
     "traceback": [
      "\u001b[0;31m---------------------------------------------------------------------------\u001b[0m",
      "\u001b[0;31mNameError\u001b[0m                                 Traceback (most recent call last)",
      "Input \u001b[0;32mIn [43]\u001b[0m, in \u001b[0;36m<module>\u001b[0;34m\u001b[0m\n\u001b[0;32m----> 1\u001b[0m \u001b[43mobj2\u001b[49m\u001b[38;5;241;43m.\u001b[39;49m\u001b[43madd\u001b[49m\u001b[43m(\u001b[49m\u001b[43m)\u001b[49m\n",
      "Input \u001b[0;32mIn [41]\u001b[0m, in \u001b[0;36mAddition.add\u001b[0;34m(self)\u001b[0m\n\u001b[1;32m      6\u001b[0m \u001b[38;5;28;01mdef\u001b[39;00m \u001b[38;5;21madd\u001b[39m(\u001b[38;5;28mself\u001b[39m):\n\u001b[0;32m----> 7\u001b[0m     \u001b[38;5;28mprint\u001b[39m(\u001b[43mn1\u001b[49m\u001b[38;5;241m+\u001b[39mn2 ,\u001b[38;5;124m\"\u001b[39m\u001b[38;5;124m = add\u001b[39m\u001b[38;5;124m\"\u001b[39m)\n",
      "\u001b[0;31mNameError\u001b[0m: name 'n1' is not defined"
     ]
    }
   ],
   "source": [
    "obj2.add()"
   ]
  },
  {
   "cell_type": "code",
   "execution_count": 44,
   "id": "fd577bc7",
   "metadata": {},
   "outputs": [],
   "source": [
    "class Addition:\n",
    "    def __init__ (self):\n",
    "        self.n1 = int(input(\"Num1 :\"))\n",
    "        self.n2 = int(input(\"Num2 :\"))\n",
    "#     def get_data(self):\n",
    "    def add(self):\n",
    "        print(n1+n2 ,\" = add\")"
   ]
  },
  {
   "cell_type": "code",
   "execution_count": 45,
   "id": "047a6a25",
   "metadata": {},
   "outputs": [
    {
     "name": "stdout",
     "output_type": "stream",
     "text": [
      "Num1 :7\n",
      "Num2 :6\n"
     ]
    }
   ],
   "source": [
    "obj2 = Addition()"
   ]
  },
  {
   "cell_type": "code",
   "execution_count": 46,
   "id": "2636f02c",
   "metadata": {},
   "outputs": [
    {
     "ename": "NameError",
     "evalue": "name 'n1' is not defined",
     "output_type": "error",
     "traceback": [
      "\u001b[0;31m---------------------------------------------------------------------------\u001b[0m",
      "\u001b[0;31mNameError\u001b[0m                                 Traceback (most recent call last)",
      "Input \u001b[0;32mIn [46]\u001b[0m, in \u001b[0;36m<module>\u001b[0;34m\u001b[0m\n\u001b[0;32m----> 1\u001b[0m \u001b[43mobj2\u001b[49m\u001b[38;5;241;43m.\u001b[39;49m\u001b[43madd\u001b[49m\u001b[43m(\u001b[49m\u001b[43m)\u001b[49m\n",
      "Input \u001b[0;32mIn [44]\u001b[0m, in \u001b[0;36mAddition.add\u001b[0;34m(self)\u001b[0m\n\u001b[1;32m      6\u001b[0m \u001b[38;5;28;01mdef\u001b[39;00m \u001b[38;5;21madd\u001b[39m(\u001b[38;5;28mself\u001b[39m):\n\u001b[0;32m----> 7\u001b[0m     \u001b[38;5;28mprint\u001b[39m(\u001b[43mn1\u001b[49m\u001b[38;5;241m+\u001b[39mn2 ,\u001b[38;5;124m\"\u001b[39m\u001b[38;5;124m = add\u001b[39m\u001b[38;5;124m\"\u001b[39m)\n",
      "\u001b[0;31mNameError\u001b[0m: name 'n1' is not defined"
     ]
    }
   ],
   "source": [
    "obj2.add()"
   ]
  },
  {
   "cell_type": "code",
   "execution_count": 47,
   "id": "58568498",
   "metadata": {},
   "outputs": [],
   "source": [
    "class Addition:\n",
    "    def __init__ (self):\n",
    "        self.n1 = int(input(\"Num1 :\"))\n",
    "        self.n2 = int(input(\"Num2 :\"))\n",
    "#     def get_data(self):\n",
    "    def add(self):\n",
    "        print(self.n1+self.n2 ,\" = add\")"
   ]
  },
  {
   "cell_type": "code",
   "execution_count": 48,
   "id": "7c14964f",
   "metadata": {},
   "outputs": [
    {
     "name": "stdout",
     "output_type": "stream",
     "text": [
      "Num1 :2\n",
      "Num2 :3\n"
     ]
    }
   ],
   "source": [
    "obj2 = Addition()"
   ]
  },
  {
   "cell_type": "code",
   "execution_count": 49,
   "id": "c6eddc2c",
   "metadata": {},
   "outputs": [
    {
     "name": "stdout",
     "output_type": "stream",
     "text": [
      "5  = add\n"
     ]
    }
   ],
   "source": [
    "obj2.add()"
   ]
  },
  {
   "cell_type": "code",
   "execution_count": 50,
   "id": "a6e66a4e",
   "metadata": {},
   "outputs": [],
   "source": [
    "class Addition:\n",
    "    def __init__ (self):\n",
    "        pass\n",
    "    def get_data(self):\n",
    "        self.n1 = int(input(\"Num1 :\"))\n",
    "        self.n2 = int(input(\"Num2 :\"))\n",
    "    def add(self):\n",
    "        print(self.n1+self.n2 ,\" = add\")"
   ]
  },
  {
   "cell_type": "code",
   "execution_count": 51,
   "id": "5d559ac9",
   "metadata": {},
   "outputs": [],
   "source": [
    "ob = Addition()"
   ]
  },
  {
   "cell_type": "code",
   "execution_count": 52,
   "id": "b5a87070",
   "metadata": {},
   "outputs": [
    {
     "name": "stdout",
     "output_type": "stream",
     "text": [
      "Num1 :3\n",
      "Num2 :4\n"
     ]
    }
   ],
   "source": [
    "ob.get_data()"
   ]
  },
  {
   "cell_type": "code",
   "execution_count": 53,
   "id": "6b99c2ce",
   "metadata": {},
   "outputs": [
    {
     "name": "stdout",
     "output_type": "stream",
     "text": [
      "7  = add\n"
     ]
    }
   ],
   "source": [
    "ob.add()"
   ]
  },
  {
   "cell_type": "code",
   "execution_count": 56,
   "id": "093e446b",
   "metadata": {},
   "outputs": [],
   "source": [
    "class Person:\n",
    "    def __init__(self):\n",
    "        pass\n",
    "    def get_name(self):\n",
    "        self.name = input(\"Enter Name :\")\n",
    "    def get_age(self):\n",
    "        self.age = int(input(\"Enter age :\"))"
   ]
  },
  {
   "cell_type": "code",
   "execution_count": 57,
   "id": "ffa618cb",
   "metadata": {},
   "outputs": [],
   "source": [
    "p1 = Person()"
   ]
  },
  {
   "cell_type": "code",
   "execution_count": 58,
   "id": "4cdbff68",
   "metadata": {},
   "outputs": [
    {
     "name": "stdout",
     "output_type": "stream",
     "text": [
      "Enter age :13\n"
     ]
    }
   ],
   "source": [
    "p1.get_age()"
   ]
  },
  {
   "cell_type": "code",
   "execution_count": 59,
   "id": "b886940c",
   "metadata": {},
   "outputs": [
    {
     "name": "stdout",
     "output_type": "stream",
     "text": [
      "Enter Name :klm\n"
     ]
    }
   ],
   "source": [
    "p1.get_name()"
   ]
  },
  {
   "cell_type": "code",
   "execution_count": 60,
   "id": "2cd94875",
   "metadata": {},
   "outputs": [
    {
     "data": {
      "text/plain": [
       "'klm'"
      ]
     },
     "execution_count": 60,
     "metadata": {},
     "output_type": "execute_result"
    }
   ],
   "source": [
    "p1.name"
   ]
  },
  {
   "cell_type": "code",
   "execution_count": 61,
   "id": "89d2e90d",
   "metadata": {},
   "outputs": [
    {
     "data": {
      "text/plain": [
       "13"
      ]
     },
     "execution_count": 61,
     "metadata": {},
     "output_type": "execute_result"
    }
   ],
   "source": [
    "p1.age"
   ]
  },
  {
   "cell_type": "code",
   "execution_count": 62,
   "id": "356e01be",
   "metadata": {},
   "outputs": [],
   "source": [
    "class Student(Person):\n",
    "    pass"
   ]
  },
  {
   "cell_type": "code",
   "execution_count": 63,
   "id": "de58c517",
   "metadata": {},
   "outputs": [],
   "source": [
    "s1 = Student()"
   ]
  },
  {
   "cell_type": "code",
   "execution_count": 64,
   "id": "56fe7c52",
   "metadata": {},
   "outputs": [
    {
     "name": "stdout",
     "output_type": "stream",
     "text": [
      "Enter Name :kla\n"
     ]
    }
   ],
   "source": [
    "s1.get_name()"
   ]
  },
  {
   "cell_type": "code",
   "execution_count": 72,
   "id": "2b6c72ba",
   "metadata": {},
   "outputs": [],
   "source": [
    "class Organization:\n",
    "    def __init__(self):\n",
    "        print(\"Insided Or\")\n",
    "    def get_cat(self):\n",
    "        self.cate = input(\"Enter Categry :\")\n",
    "    def get_reg(self):\n",
    "        self.reg = input(\"Enter Registration id :\")"
   ]
  },
  {
   "cell_type": "code",
   "execution_count": 73,
   "id": "3164c614",
   "metadata": {},
   "outputs": [],
   "source": [
    "class College(Organization):\n",
    "    def __init__(self):\n",
    "        print(\"Inside\")\n",
    "    def get_loc(self):\n",
    "        self.loc = input(\"Enter Location :\")\n",
    "    def get_yr(self):\n",
    "        self.yr = input(\"Enter year estblished :\")"
   ]
  },
  {
   "cell_type": "code",
   "execution_count": 67,
   "id": "a77d7b7d",
   "metadata": {},
   "outputs": [],
   "source": [
    "o1 = Organization()"
   ]
  },
  {
   "cell_type": "code",
   "execution_count": 68,
   "id": "3b11ac53",
   "metadata": {},
   "outputs": [
    {
     "name": "stdout",
     "output_type": "stream",
     "text": [
      "Enter Categry :high school\n",
      "Enter Registration id :132\n"
     ]
    }
   ],
   "source": [
    "o1.get_cat()\n",
    "o1.get_reg()"
   ]
  },
  {
   "cell_type": "code",
   "execution_count": 69,
   "id": "0588e11e",
   "metadata": {},
   "outputs": [],
   "source": [
    "c1 = College()"
   ]
  },
  {
   "cell_type": "code",
   "execution_count": 70,
   "id": "9f3aa670",
   "metadata": {},
   "outputs": [
    {
     "name": "stdout",
     "output_type": "stream",
     "text": [
      "Enter Location :Pune\n",
      "Enter year estblished :1998\n",
      "Enter Categry :College\n",
      "Enter Registration id :432\n"
     ]
    }
   ],
   "source": [
    "c1.get_loc()\n",
    "c1.get_yr()\n",
    "c1.get_cat()\n",
    "c1.get_reg()"
   ]
  },
  {
   "cell_type": "code",
   "execution_count": 71,
   "id": "6f554ded",
   "metadata": {},
   "outputs": [
    {
     "data": {
      "text/plain": [
       "'Pune'"
      ]
     },
     "execution_count": 71,
     "metadata": {},
     "output_type": "execute_result"
    }
   ],
   "source": [
    "c1.loc"
   ]
  },
  {
   "cell_type": "code",
   "execution_count": 74,
   "id": "fa45f179",
   "metadata": {},
   "outputs": [
    {
     "name": "stdout",
     "output_type": "stream",
     "text": [
      "Insided Or\n"
     ]
    }
   ],
   "source": [
    "o1 = Organization()"
   ]
  },
  {
   "cell_type": "code",
   "execution_count": 75,
   "id": "9a062446",
   "metadata": {},
   "outputs": [
    {
     "name": "stdout",
     "output_type": "stream",
     "text": [
      "Inside\n"
     ]
    }
   ],
   "source": [
    "c1 = College()"
   ]
  },
  {
   "cell_type": "code",
   "execution_count": 76,
   "id": "851a77ac",
   "metadata": {},
   "outputs": [
    {
     "ename": "TypeError",
     "evalue": "'dict' object is not callable",
     "output_type": "error",
     "traceback": [
      "\u001b[0;31m---------------------------------------------------------------------------\u001b[0m",
      "\u001b[0;31mTypeError\u001b[0m                                 Traceback (most recent call last)",
      "Input \u001b[0;32mIn [76]\u001b[0m, in \u001b[0;36m<module>\u001b[0;34m\u001b[0m\n\u001b[0;32m----> 1\u001b[0m \u001b[43mo1\u001b[49m\u001b[38;5;241;43m.\u001b[39;49m\u001b[38;5;18;43m__dict__\u001b[39;49m\u001b[43m(\u001b[49m\u001b[43m)\u001b[49m\n",
      "\u001b[0;31mTypeError\u001b[0m: 'dict' object is not callable"
     ]
    }
   ],
   "source": [
    "o1.__dict__()"
   ]
  },
  {
   "cell_type": "code",
   "execution_count": 77,
   "id": "c8cca19b",
   "metadata": {},
   "outputs": [
    {
     "data": {
      "text/plain": [
       "{}"
      ]
     },
     "execution_count": 77,
     "metadata": {},
     "output_type": "execute_result"
    }
   ],
   "source": [
    "o1.__dict__"
   ]
  },
  {
   "cell_type": "code",
   "execution_count": 82,
   "id": "fdcb1c39",
   "metadata": {},
   "outputs": [],
   "source": [
    "class A:\n",
    "    def __init__(self):\n",
    "        print(\"Inside A\")\n",
    "        \n",
    "class B(A):\n",
    "    def __init__(self):\n",
    "        print(\"Inside b\")\n",
    "        super().__init__()"
   ]
  },
  {
   "cell_type": "code",
   "execution_count": 83,
   "id": "64a84e43",
   "metadata": {},
   "outputs": [
    {
     "name": "stdout",
     "output_type": "stream",
     "text": [
      "Inside b\n",
      "Inside A\n"
     ]
    }
   ],
   "source": [
    "obj = B()"
   ]
  },
  {
   "cell_type": "markdown",
   "id": "f98c3a72",
   "metadata": {},
   "source": [
    "## Access Speifier: \n",
    "    for public : NONE\n",
    "    for private : __\n",
    "    for protected : _"
   ]
  },
  {
   "cell_type": "code",
   "execution_count": 85,
   "id": "51d66c90",
   "metadata": {},
   "outputs": [],
   "source": [
    "def add(a,b):\n",
    "    def odd_even(c):\n",
    "        if c % 2 == 0:\n",
    "            return \"Even\"\n",
    "        else:\n",
    "            return \"Odd\"\n",
    "    c = a + b\n",
    "    return odd_even(c)"
   ]
  },
  {
   "cell_type": "code",
   "execution_count": 86,
   "id": "b9b03fcb",
   "metadata": {},
   "outputs": [
    {
     "data": {
      "text/plain": [
       "'Even'"
      ]
     },
     "execution_count": 86,
     "metadata": {},
     "output_type": "execute_result"
    }
   ],
   "source": [
    "add(5,3)"
   ]
  },
  {
   "cell_type": "code",
   "execution_count": 87,
   "id": "018e67c0",
   "metadata": {},
   "outputs": [],
   "source": [
    "def read_mks():\n",
    "    mks = int(input(\"Enter Student marks ;\"))\n",
    "    def p_f(mks):\n",
    "        if mks>=40:\n",
    "            return(\"Pass\")\n",
    "        else:\n",
    "            return (\"Fail\")\n",
    "    return p_f(mks)"
   ]
  },
  {
   "cell_type": "code",
   "execution_count": 88,
   "id": "9b6f2187",
   "metadata": {},
   "outputs": [
    {
     "name": "stdout",
     "output_type": "stream",
     "text": [
      "Enter Student marks ;45\n"
     ]
    },
    {
     "data": {
      "text/plain": [
       "'Pass'"
      ]
     },
     "execution_count": 88,
     "metadata": {},
     "output_type": "execute_result"
    }
   ],
   "source": [
    "read_mks()"
   ]
  },
  {
   "cell_type": "markdown",
   "id": "233df033",
   "metadata": {},
   "source": [
    "## Inner Class"
   ]
  },
  {
   "cell_type": "code",
   "execution_count": 97,
   "id": "786d14ab",
   "metadata": {},
   "outputs": [],
   "source": [
    "class PC:\n",
    "    def __init__(self,model,color):\n",
    "        self.model = model\n",
    "        self.color = color\n",
    "        self.cpu = self.CPU()\n",
    "        \n",
    "    class CPU:\n",
    "        def __init__(self):\n",
    "            self.cpu_type = \"11th Gen\"\n",
    "                \n",
    "        def get_cpu_type(self):\n",
    "            return self.cpu_type\n",
    "            "
   ]
  },
  {
   "cell_type": "code",
   "execution_count": 98,
   "id": "098f576b",
   "metadata": {},
   "outputs": [],
   "source": [
    "pc  =  PC(\"Omen\",\"black\")"
   ]
  },
  {
   "cell_type": "code",
   "execution_count": 99,
   "id": "db9c95ea",
   "metadata": {},
   "outputs": [
    {
     "data": {
      "text/plain": [
       "'11th Gen'"
      ]
     },
     "execution_count": 99,
     "metadata": {},
     "output_type": "execute_result"
    }
   ],
   "source": [
    "pc.cpu.get_cpu_type()"
   ]
  },
  {
   "cell_type": "code",
   "execution_count": null,
   "id": "0509a85b",
   "metadata": {},
   "outputs": [],
   "source": []
  }
 ],
 "metadata": {
  "kernelspec": {
   "display_name": "Python 3 (ipykernel)",
   "language": "python",
   "name": "python3"
  },
  "language_info": {
   "codemirror_mode": {
    "name": "ipython",
    "version": 3
   },
   "file_extension": ".py",
   "mimetype": "text/x-python",
   "name": "python",
   "nbconvert_exporter": "python",
   "pygments_lexer": "ipython3",
   "version": "3.8.10"
  }
 },
 "nbformat": 4,
 "nbformat_minor": 5
}
