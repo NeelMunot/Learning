{
 "cells": [
  {
   "cell_type": "code",
   "execution_count": 1,
   "id": "7c8e73f6",
   "metadata": {},
   "outputs": [],
   "source": [
    "import numpy as np"
   ]
  },
  {
   "cell_type": "code",
   "execution_count": 3,
   "id": "ee2ebd43",
   "metadata": {},
   "outputs": [],
   "source": [
    "data = np.array([1,2,3])"
   ]
  },
  {
   "cell_type": "code",
   "execution_count": 5,
   "id": "784765d3",
   "metadata": {},
   "outputs": [
    {
     "data": {
      "text/plain": [
       "array([1, 2, 3])"
      ]
     },
     "execution_count": 5,
     "metadata": {},
     "output_type": "execute_result"
    }
   ],
   "source": [
    "data"
   ]
  },
  {
   "cell_type": "code",
   "execution_count": 8,
   "id": "6e87943d",
   "metadata": {},
   "outputs": [
    {
     "data": {
      "text/plain": [
       "numpy.int64"
      ]
     },
     "execution_count": 8,
     "metadata": {},
     "output_type": "execute_result"
    }
   ],
   "source": [
    "type(data[0])"
   ]
  },
  {
   "cell_type": "code",
   "execution_count": 7,
   "id": "dfbe813c",
   "metadata": {},
   "outputs": [
    {
     "data": {
      "text/plain": [
       "array([2])"
      ]
     },
     "execution_count": 7,
     "metadata": {},
     "output_type": "execute_result"
    }
   ],
   "source": [
    "data[1:2]"
   ]
  },
  {
   "cell_type": "code",
   "execution_count": 12,
   "id": "cf548390",
   "metadata": {},
   "outputs": [
    {
     "data": {
      "text/plain": [
       "numpy.ndarray"
      ]
     },
     "execution_count": 12,
     "metadata": {},
     "output_type": "execute_result"
    }
   ],
   "source": [
    "type(data[1:2])"
   ]
  },
  {
   "cell_type": "code",
   "execution_count": 13,
   "id": "f00b9aa0",
   "metadata": {},
   "outputs": [
    {
     "data": {
      "text/plain": [
       "array([0., 0., 0.])"
      ]
     },
     "execution_count": 13,
     "metadata": {},
     "output_type": "execute_result"
    }
   ],
   "source": [
    "np.zeros(3)"
   ]
  },
  {
   "cell_type": "code",
   "execution_count": 14,
   "id": "976ad76d",
   "metadata": {},
   "outputs": [
    {
     "data": {
      "text/plain": [
       "array([1.])"
      ]
     },
     "execution_count": 14,
     "metadata": {},
     "output_type": "execute_result"
    }
   ],
   "source": [
    "np.ones(1)"
   ]
  },
  {
   "cell_type": "code",
   "execution_count": 15,
   "id": "c41e01dc",
   "metadata": {},
   "outputs": [
    {
     "data": {
      "text/plain": [
       "array([0., 0., 0.])"
      ]
     },
     "execution_count": 15,
     "metadata": {},
     "output_type": "execute_result"
    }
   ],
   "source": [
    "np.empty(3)"
   ]
  },
  {
   "cell_type": "code",
   "execution_count": 16,
   "id": "52917dc6",
   "metadata": {},
   "outputs": [
    {
     "data": {
      "text/plain": [
       "array([0., 0., 0.])"
      ]
     },
     "execution_count": 16,
     "metadata": {},
     "output_type": "execute_result"
    }
   ],
   "source": [
    "np.empty(3)"
   ]
  },
  {
   "cell_type": "code",
   "execution_count": 17,
   "id": "873a2aae",
   "metadata": {},
   "outputs": [
    {
     "data": {
      "text/plain": [
       "array([2.05833592e-312, 2.33419537e-312])"
      ]
     },
     "execution_count": 17,
     "metadata": {},
     "output_type": "execute_result"
    }
   ],
   "source": [
    "np.empty(2)"
   ]
  },
  {
   "cell_type": "code",
   "execution_count": 25,
   "id": "bc86ab65",
   "metadata": {},
   "outputs": [],
   "source": [
    "ones = np.ones(shape=3, dtype=np.int8)"
   ]
  },
  {
   "cell_type": "code",
   "execution_count": 23,
   "id": "589ed8f4",
   "metadata": {},
   "outputs": [
    {
     "data": {
      "text/plain": [
       "array([1., 1., 1.])"
      ]
     },
     "execution_count": 23,
     "metadata": {},
     "output_type": "execute_result"
    }
   ],
   "source": [
    "np.ones(3)"
   ]
  },
  {
   "cell_type": "code",
   "execution_count": 26,
   "id": "dabe33f7",
   "metadata": {},
   "outputs": [
    {
     "data": {
      "text/plain": [
       "array([1, 1, 1], dtype=int8)"
      ]
     },
     "execution_count": 26,
     "metadata": {},
     "output_type": "execute_result"
    }
   ],
   "source": [
    "ones"
   ]
  },
  {
   "cell_type": "code",
   "execution_count": 27,
   "id": "3e8477ec",
   "metadata": {},
   "outputs": [
    {
     "data": {
      "text/plain": [
       "array([1, 2, 3])"
      ]
     },
     "execution_count": 27,
     "metadata": {},
     "output_type": "execute_result"
    }
   ],
   "source": [
    "data"
   ]
  },
  {
   "cell_type": "code",
   "execution_count": 28,
   "id": "47b9d284",
   "metadata": {},
   "outputs": [
    {
     "data": {
      "text/plain": [
       "array([2, 3, 4])"
      ]
     },
     "execution_count": 28,
     "metadata": {},
     "output_type": "execute_result"
    }
   ],
   "source": [
    "data + ones"
   ]
  },
  {
   "cell_type": "code",
   "execution_count": 29,
   "id": "fd4c9c6e",
   "metadata": {},
   "outputs": [
    {
     "data": {
      "text/plain": [
       "array([3, 4, 5])"
      ]
     },
     "execution_count": 29,
     "metadata": {},
     "output_type": "execute_result"
    }
   ],
   "source": [
    "data + ones + ones"
   ]
  },
  {
   "cell_type": "code",
   "execution_count": 30,
   "id": "717ae1d1",
   "metadata": {},
   "outputs": [
    {
     "data": {
      "text/plain": [
       "array([0, 1, 2])"
      ]
     },
     "execution_count": 30,
     "metadata": {},
     "output_type": "execute_result"
    }
   ],
   "source": [
    "data - ones"
   ]
  },
  {
   "cell_type": "code",
   "execution_count": 31,
   "id": "d7cc220b",
   "metadata": {},
   "outputs": [
    {
     "data": {
      "text/plain": [
       "array([1, 4, 9])"
      ]
     },
     "execution_count": 31,
     "metadata": {},
     "output_type": "execute_result"
    }
   ],
   "source": [
    "data * data"
   ]
  },
  {
   "cell_type": "code",
   "execution_count": 32,
   "id": "148c5c09",
   "metadata": {},
   "outputs": [
    {
     "data": {
      "text/plain": [
       "array([1., 1., 1.])"
      ]
     },
     "execution_count": 32,
     "metadata": {},
     "output_type": "execute_result"
    }
   ],
   "source": [
    "data / data"
   ]
  },
  {
   "cell_type": "code",
   "execution_count": 33,
   "id": "48f2a966",
   "metadata": {},
   "outputs": [
    {
     "data": {
      "text/plain": [
       "array([ 5, 10, 15])"
      ]
     },
     "execution_count": 33,
     "metadata": {},
     "output_type": "execute_result"
    }
   ],
   "source": [
    "data * 5"
   ]
  },
  {
   "cell_type": "code",
   "execution_count": 34,
   "id": "d915b405",
   "metadata": {},
   "outputs": [
    {
     "data": {
      "text/plain": [
       "array([1., 2., 3.])"
      ]
     },
     "execution_count": 34,
     "metadata": {},
     "output_type": "execute_result"
    }
   ],
   "source": [
    "data / 1"
   ]
  },
  {
   "cell_type": "code",
   "execution_count": 35,
   "id": "54b1e54c",
   "metadata": {},
   "outputs": [],
   "source": [
    "data = np.array([1,2,3,4,5,6])"
   ]
  },
  {
   "cell_type": "code",
   "execution_count": 36,
   "id": "9d8ed6dd",
   "metadata": {},
   "outputs": [
    {
     "data": {
      "text/plain": [
       "array([[1, 2, 3],\n",
       "       [4, 5, 6]])"
      ]
     },
     "execution_count": 36,
     "metadata": {},
     "output_type": "execute_result"
    }
   ],
   "source": [
    "data.reshape(2,3)"
   ]
  },
  {
   "cell_type": "code",
   "execution_count": 37,
   "id": "d0c2af27",
   "metadata": {},
   "outputs": [],
   "source": [
    "r = data.reshape(2,3)"
   ]
  },
  {
   "cell_type": "code",
   "execution_count": 38,
   "id": "9b7f9137",
   "metadata": {},
   "outputs": [
    {
     "data": {
      "text/plain": [
       "2"
      ]
     },
     "execution_count": 38,
     "metadata": {},
     "output_type": "execute_result"
    }
   ],
   "source": [
    "r[0][1]"
   ]
  },
  {
   "cell_type": "code",
   "execution_count": 39,
   "id": "775fde4c",
   "metadata": {},
   "outputs": [
    {
     "ename": "ValueError",
     "evalue": "cannot reshape array of size 6 into shape (4,2)",
     "output_type": "error",
     "traceback": [
      "\u001b[0;31m---------------------------------------------------------------------------\u001b[0m",
      "\u001b[0;31mValueError\u001b[0m                                Traceback (most recent call last)",
      "\u001b[0;32m<ipython-input-39-a9ff60b969af>\u001b[0m in \u001b[0;36m<module>\u001b[0;34m\u001b[0m\n\u001b[0;32m----> 1\u001b[0;31m \u001b[0mdata\u001b[0m\u001b[0;34m.\u001b[0m\u001b[0mreshape\u001b[0m\u001b[0;34m(\u001b[0m\u001b[0;36m4\u001b[0m\u001b[0;34m,\u001b[0m\u001b[0;36m2\u001b[0m\u001b[0;34m)\u001b[0m\u001b[0;34m\u001b[0m\u001b[0;34m\u001b[0m\u001b[0m\n\u001b[0m",
      "\u001b[0;31mValueError\u001b[0m: cannot reshape array of size 6 into shape (4,2)"
     ]
    }
   ],
   "source": [
    "data.reshape(4,2)"
   ]
  },
  {
   "cell_type": "code",
   "execution_count": 40,
   "id": "8046ec39",
   "metadata": {},
   "outputs": [
    {
     "data": {
      "text/plain": [
       "array([[1, 2],\n",
       "       [3, 4],\n",
       "       [5, 6]])"
      ]
     },
     "execution_count": 40,
     "metadata": {},
     "output_type": "execute_result"
    }
   ],
   "source": [
    "data.reshape(3,2)"
   ]
  },
  {
   "cell_type": "code",
   "execution_count": 41,
   "id": "c3cf02cd",
   "metadata": {},
   "outputs": [],
   "source": [
    "m = data.reshape(3,2)"
   ]
  },
  {
   "cell_type": "code",
   "execution_count": 42,
   "id": "1288c89c",
   "metadata": {},
   "outputs": [
    {
     "data": {
      "text/plain": [
       "array([[1, 2],\n",
       "       [3, 4],\n",
       "       [5, 6]])"
      ]
     },
     "execution_count": 42,
     "metadata": {},
     "output_type": "execute_result"
    }
   ],
   "source": [
    "m"
   ]
  },
  {
   "cell_type": "code",
   "execution_count": 43,
   "id": "ee0210c7",
   "metadata": {},
   "outputs": [
    {
     "data": {
      "text/plain": [
       "array([[1, 2]])"
      ]
     },
     "execution_count": 43,
     "metadata": {},
     "output_type": "execute_result"
    }
   ],
   "source": [
    "m[0:1]"
   ]
  },
  {
   "cell_type": "code",
   "execution_count": 44,
   "id": "22dfd44a",
   "metadata": {},
   "outputs": [
    {
     "data": {
      "text/plain": [
       "2"
      ]
     },
     "execution_count": 44,
     "metadata": {},
     "output_type": "execute_result"
    }
   ],
   "source": [
    "m[0,1]"
   ]
  },
  {
   "cell_type": "code",
   "execution_count": 45,
   "id": "186fdb2c",
   "metadata": {},
   "outputs": [
    {
     "data": {
      "text/plain": [
       "array([[5, 6]])"
      ]
     },
     "execution_count": 45,
     "metadata": {},
     "output_type": "execute_result"
    }
   ],
   "source": [
    "m[2:]"
   ]
  },
  {
   "cell_type": "code",
   "execution_count": 46,
   "id": "a6fcb4b5",
   "metadata": {},
   "outputs": [
    {
     "data": {
      "text/plain": [
       "6"
      ]
     },
     "execution_count": 46,
     "metadata": {},
     "output_type": "execute_result"
    }
   ],
   "source": [
    "m.max()"
   ]
  },
  {
   "cell_type": "code",
   "execution_count": 47,
   "id": "93f739ac",
   "metadata": {},
   "outputs": [
    {
     "data": {
      "text/plain": [
       "1"
      ]
     },
     "execution_count": 47,
     "metadata": {},
     "output_type": "execute_result"
    }
   ],
   "source": [
    "m.min()"
   ]
  },
  {
   "cell_type": "code",
   "execution_count": 48,
   "id": "f2fe0afe",
   "metadata": {},
   "outputs": [
    {
     "data": {
      "text/plain": [
       "21"
      ]
     },
     "execution_count": 48,
     "metadata": {},
     "output_type": "execute_result"
    }
   ],
   "source": [
    "m.sum()"
   ]
  },
  {
   "cell_type": "code",
   "execution_count": 49,
   "id": "cd54c5e3",
   "metadata": {},
   "outputs": [
    {
     "data": {
      "text/plain": [
       "array([5, 6])"
      ]
     },
     "execution_count": 49,
     "metadata": {},
     "output_type": "execute_result"
    }
   ],
   "source": [
    "m.max(axis=0)"
   ]
  },
  {
   "cell_type": "code",
   "execution_count": 50,
   "id": "8ceeba02",
   "metadata": {},
   "outputs": [
    {
     "data": {
      "text/plain": [
       "array([2, 4, 6])"
      ]
     },
     "execution_count": 50,
     "metadata": {},
     "output_type": "execute_result"
    }
   ],
   "source": [
    "m.max(axis=1)"
   ]
  },
  {
   "cell_type": "code",
   "execution_count": 52,
   "id": "a7cbb356",
   "metadata": {},
   "outputs": [
    {
     "data": {
      "text/plain": [
       "2"
      ]
     },
     "execution_count": 52,
     "metadata": {},
     "output_type": "execute_result"
    }
   ],
   "source": [
    "m.ndim"
   ]
  },
  {
   "cell_type": "code",
   "execution_count": 53,
   "id": "3ac3dcb6",
   "metadata": {},
   "outputs": [
    {
     "data": {
      "text/plain": [
       "1"
      ]
     },
     "execution_count": 53,
     "metadata": {},
     "output_type": "execute_result"
    }
   ],
   "source": [
    "data.ndim"
   ]
  },
  {
   "cell_type": "code",
   "execution_count": 54,
   "id": "4a32431c",
   "metadata": {},
   "outputs": [
    {
     "data": {
      "text/plain": [
       "6"
      ]
     },
     "execution_count": 54,
     "metadata": {},
     "output_type": "execute_result"
    }
   ],
   "source": [
    "data.size"
   ]
  },
  {
   "cell_type": "code",
   "execution_count": 55,
   "id": "11fb59ab",
   "metadata": {},
   "outputs": [
    {
     "data": {
      "text/plain": [
       "6"
      ]
     },
     "execution_count": 55,
     "metadata": {},
     "output_type": "execute_result"
    }
   ],
   "source": [
    "m.size"
   ]
  },
  {
   "cell_type": "code",
   "execution_count": 56,
   "id": "08bb0b8b",
   "metadata": {},
   "outputs": [
    {
     "data": {
      "text/plain": [
       "(3, 2)"
      ]
     },
     "execution_count": 56,
     "metadata": {},
     "output_type": "execute_result"
    }
   ],
   "source": [
    "m.shape"
   ]
  },
  {
   "cell_type": "code",
   "execution_count": 57,
   "id": "9b3708e8",
   "metadata": {},
   "outputs": [
    {
     "data": {
      "text/plain": [
       "(6,)"
      ]
     },
     "execution_count": 57,
     "metadata": {},
     "output_type": "execute_result"
    }
   ],
   "source": [
    "data.shape"
   ]
  },
  {
   "cell_type": "code",
   "execution_count": 58,
   "id": "7322db50",
   "metadata": {},
   "outputs": [
    {
     "data": {
      "text/plain": [
       "array([1, 2, 3, 4, 5, 6])"
      ]
     },
     "execution_count": 58,
     "metadata": {},
     "output_type": "execute_result"
    }
   ],
   "source": [
    "data"
   ]
  },
  {
   "cell_type": "code",
   "execution_count": 59,
   "id": "241bd8de",
   "metadata": {},
   "outputs": [],
   "source": [
    "data=np.array([1,5,6,2,3,4])"
   ]
  },
  {
   "cell_type": "code",
   "execution_count": 64,
   "id": "eb6bb32e",
   "metadata": {},
   "outputs": [
    {
     "data": {
      "text/plain": [
       "array([1, 2, 3, 4, 5, 6])"
      ]
     },
     "execution_count": 64,
     "metadata": {},
     "output_type": "execute_result"
    }
   ],
   "source": [
    "np.sort(data)"
   ]
  },
  {
   "cell_type": "code",
   "execution_count": 65,
   "id": "74b11c1f",
   "metadata": {},
   "outputs": [],
   "source": [
    "a=np.array(['b', 'a', 'g', 'c'])"
   ]
  },
  {
   "cell_type": "code",
   "execution_count": 66,
   "id": "b48e6b5f",
   "metadata": {},
   "outputs": [
    {
     "data": {
      "text/plain": [
       "array(['b', 'a', 'g', 'c'], dtype='<U1')"
      ]
     },
     "execution_count": 66,
     "metadata": {},
     "output_type": "execute_result"
    }
   ],
   "source": [
    "a"
   ]
  },
  {
   "cell_type": "code",
   "execution_count": 68,
   "id": "519a77cb",
   "metadata": {},
   "outputs": [
    {
     "data": {
      "text/plain": [
       "array(['a', 'b', 'c', 'g'], dtype='<U1')"
      ]
     },
     "execution_count": 68,
     "metadata": {},
     "output_type": "execute_result"
    }
   ],
   "source": [
    "np.sort(a)"
   ]
  },
  {
   "cell_type": "code",
   "execution_count": 69,
   "id": "3f65325c",
   "metadata": {},
   "outputs": [],
   "source": [
    "a = np.array([1,2,3])\n",
    "b = np.array([4,5,6])"
   ]
  },
  {
   "cell_type": "code",
   "execution_count": 70,
   "id": "31ae4ec6",
   "metadata": {},
   "outputs": [
    {
     "data": {
      "text/plain": [
       "array([1, 2, 3])"
      ]
     },
     "execution_count": 70,
     "metadata": {},
     "output_type": "execute_result"
    }
   ],
   "source": [
    "a"
   ]
  },
  {
   "cell_type": "code",
   "execution_count": 71,
   "id": "b25c312e",
   "metadata": {},
   "outputs": [
    {
     "data": {
      "text/plain": [
       "5"
      ]
     },
     "execution_count": 71,
     "metadata": {},
     "output_type": "execute_result"
    }
   ],
   "source": [
    "5"
   ]
  },
  {
   "cell_type": "code",
   "execution_count": 72,
   "id": "fc35d45f",
   "metadata": {},
   "outputs": [
    {
     "data": {
      "text/plain": [
       "array([1, 2, 3, 4, 5, 6])"
      ]
     },
     "execution_count": 72,
     "metadata": {},
     "output_type": "execute_result"
    }
   ],
   "source": [
    "np.concatenate((a,b))"
   ]
  },
  {
   "cell_type": "code",
   "execution_count": 73,
   "id": "42acae80",
   "metadata": {},
   "outputs": [],
   "source": [
    "p = np.array([2,3,5,5,5,6])"
   ]
  },
  {
   "cell_type": "code",
   "execution_count": 76,
   "id": "02dbbbb2",
   "metadata": {},
   "outputs": [
    {
     "data": {
      "text/plain": [
       "array([2, 3, 5, 6])"
      ]
     },
     "execution_count": 76,
     "metadata": {},
     "output_type": "execute_result"
    }
   ],
   "source": [
    "np.unique(p)"
   ]
  },
  {
   "cell_type": "code",
   "execution_count": 77,
   "id": "0eac558d",
   "metadata": {},
   "outputs": [
    {
     "data": {
      "text/plain": [
       "array([[1, 2],\n",
       "       [3, 4],\n",
       "       [5, 6]])"
      ]
     },
     "execution_count": 77,
     "metadata": {},
     "output_type": "execute_result"
    }
   ],
   "source": [
    "m"
   ]
  },
  {
   "cell_type": "code",
   "execution_count": 78,
   "id": "4166b86d",
   "metadata": {},
   "outputs": [
    {
     "data": {
      "text/plain": [
       "array([[1, 3, 5],\n",
       "       [2, 4, 6]])"
      ]
     },
     "execution_count": 78,
     "metadata": {},
     "output_type": "execute_result"
    }
   ],
   "source": [
    "m.transpose()"
   ]
  },
  {
   "cell_type": "code",
   "execution_count": 87,
   "id": "7d35c6aa",
   "metadata": {},
   "outputs": [
    {
     "data": {
      "text/plain": [
       "array([0, 1, 2, 3, 4, 5, 6, 7, 8, 9])"
      ]
     },
     "execution_count": 87,
     "metadata": {},
     "output_type": "execute_result"
    }
   ],
   "source": [
    "np.arange(10)"
   ]
  },
  {
   "cell_type": "code",
   "execution_count": 85,
   "id": "21a8372d",
   "metadata": {},
   "outputs": [
    {
     "data": {
      "text/plain": [
       "array([[ 0,  1,  2,  3,  4,  5,  6,  7,  8,  9, 10, 11, 12, 13, 14, 15,\n",
       "        16, 17, 18, 19],\n",
       "       [20, 21, 22, 23, 24, 25, 26, 27, 28, 29, 30, 31, 32, 33, 34, 35,\n",
       "        36, 37, 38, 39],\n",
       "       [40, 41, 42, 43, 44, 45, 46, 47, 48, 49, 50, 51, 52, 53, 54, 55,\n",
       "        56, 57, 58, 59],\n",
       "       [60, 61, 62, 63, 64, 65, 66, 67, 68, 69, 70, 71, 72, 73, 74, 75,\n",
       "        76, 77, 78, 79],\n",
       "       [80, 81, 82, 83, 84, 85, 86, 87, 88, 89, 90, 91, 92, 93, 94, 95,\n",
       "        96, 97, 98, 99]])"
      ]
     },
     "execution_count": 85,
     "metadata": {},
     "output_type": "execute_result"
    }
   ],
   "source": [
    "np.arange(100).reshape(5,20)"
   ]
  },
  {
   "cell_type": "code",
   "execution_count": 91,
   "id": "c8ac523b",
   "metadata": {},
   "outputs": [
    {
     "data": {
      "text/plain": [
       "array([1, 3, 5, 7, 9])"
      ]
     },
     "execution_count": 91,
     "metadata": {},
     "output_type": "execute_result"
    }
   ],
   "source": [
    "np.arange(start=1, stop=11, step=2)"
   ]
  },
  {
   "cell_type": "code",
   "execution_count": 92,
   "id": "5d520a09",
   "metadata": {},
   "outputs": [
    {
     "data": {
      "text/plain": [
       "array([1, 3, 5, 7, 9])"
      ]
     },
     "execution_count": 92,
     "metadata": {},
     "output_type": "execute_result"
    }
   ],
   "source": [
    "np.arange(1,11,2)"
   ]
  },
  {
   "cell_type": "code",
   "execution_count": 93,
   "id": "5705ca17",
   "metadata": {},
   "outputs": [
    {
     "data": {
      "text/plain": [
       "array([ 1.,  2.,  3.,  4.,  5.,  6.,  7.,  8.,  9., 10.])"
      ]
     },
     "execution_count": 93,
     "metadata": {},
     "output_type": "execute_result"
    }
   ],
   "source": [
    "np.linspace(1, 10, num=10)"
   ]
  },
  {
   "cell_type": "code",
   "execution_count": 94,
   "id": "6d90cbb1",
   "metadata": {},
   "outputs": [
    {
     "data": {
      "text/plain": [
       "array([ 1.  ,  3.25,  5.5 ,  7.75, 10.  ])"
      ]
     },
     "execution_count": 94,
     "metadata": {},
     "output_type": "execute_result"
    }
   ],
   "source": [
    "np.linspace(1, 10, num=5)"
   ]
  },
  {
   "cell_type": "code",
   "execution_count": 95,
   "id": "ddabf12e",
   "metadata": {},
   "outputs": [
    {
     "data": {
      "text/plain": [
       "array([ 1., 10.])"
      ]
     },
     "execution_count": 95,
     "metadata": {},
     "output_type": "execute_result"
    }
   ],
   "source": [
    "np.linspace(1, 10, num=2)"
   ]
  },
  {
   "cell_type": "code",
   "execution_count": 96,
   "id": "6376e67d",
   "metadata": {},
   "outputs": [
    {
     "data": {
      "text/plain": [
       "array([ 1.        ,  1.47368421,  1.94736842,  2.42105263,  2.89473684,\n",
       "        3.36842105,  3.84210526,  4.31578947,  4.78947368,  5.26315789,\n",
       "        5.73684211,  6.21052632,  6.68421053,  7.15789474,  7.63157895,\n",
       "        8.10526316,  8.57894737,  9.05263158,  9.52631579, 10.        ])"
      ]
     },
     "execution_count": 96,
     "metadata": {},
     "output_type": "execute_result"
    }
   ],
   "source": [
    "np.linspace(1, 10, num=20)"
   ]
  },
  {
   "cell_type": "code",
   "execution_count": 97,
   "id": "3362ad68",
   "metadata": {},
   "outputs": [],
   "source": [
    "import pandas as pd"
   ]
  },
  {
   "cell_type": "code",
   "execution_count": 98,
   "id": "ee727c10",
   "metadata": {},
   "outputs": [],
   "source": [
    "data = [1,2,3]\n",
    "df = pd.DataFrame(data)"
   ]
  },
  {
   "cell_type": "code",
   "execution_count": 99,
   "id": "e00dba5d",
   "metadata": {},
   "outputs": [
    {
     "data": {
      "text/html": [
       "<div>\n",
       "<style scoped>\n",
       "    .dataframe tbody tr th:only-of-type {\n",
       "        vertical-align: middle;\n",
       "    }\n",
       "\n",
       "    .dataframe tbody tr th {\n",
       "        vertical-align: top;\n",
       "    }\n",
       "\n",
       "    .dataframe thead th {\n",
       "        text-align: right;\n",
       "    }\n",
       "</style>\n",
       "<table border=\"1\" class=\"dataframe\">\n",
       "  <thead>\n",
       "    <tr style=\"text-align: right;\">\n",
       "      <th></th>\n",
       "      <th>0</th>\n",
       "    </tr>\n",
       "  </thead>\n",
       "  <tbody>\n",
       "    <tr>\n",
       "      <th>0</th>\n",
       "      <td>1</td>\n",
       "    </tr>\n",
       "    <tr>\n",
       "      <th>1</th>\n",
       "      <td>2</td>\n",
       "    </tr>\n",
       "    <tr>\n",
       "      <th>2</th>\n",
       "      <td>3</td>\n",
       "    </tr>\n",
       "  </tbody>\n",
       "</table>\n",
       "</div>"
      ],
      "text/plain": [
       "   0\n",
       "0  1\n",
       "1  2\n",
       "2  3"
      ]
     },
     "execution_count": 99,
     "metadata": {},
     "output_type": "execute_result"
    }
   ],
   "source": [
    "df"
   ]
  },
  {
   "cell_type": "code",
   "execution_count": 103,
   "id": "411f284b",
   "metadata": {},
   "outputs": [],
   "source": [
    "data = [['Neel', 80], ['Yogesh', 76], ['Mihir', 75]]\n",
    "df = pd.DataFrame(data)"
   ]
  },
  {
   "cell_type": "code",
   "execution_count": 101,
   "id": "2b1b9d76",
   "metadata": {},
   "outputs": [
    {
     "data": {
      "text/html": [
       "<div>\n",
       "<style scoped>\n",
       "    .dataframe tbody tr th:only-of-type {\n",
       "        vertical-align: middle;\n",
       "    }\n",
       "\n",
       "    .dataframe tbody tr th {\n",
       "        vertical-align: top;\n",
       "    }\n",
       "\n",
       "    .dataframe thead th {\n",
       "        text-align: right;\n",
       "    }\n",
       "</style>\n",
       "<table border=\"1\" class=\"dataframe\">\n",
       "  <thead>\n",
       "    <tr style=\"text-align: right;\">\n",
       "      <th></th>\n",
       "      <th>0</th>\n",
       "      <th>1</th>\n",
       "    </tr>\n",
       "  </thead>\n",
       "  <tbody>\n",
       "    <tr>\n",
       "      <th>0</th>\n",
       "      <td>Neel</td>\n",
       "      <td>80</td>\n",
       "    </tr>\n",
       "    <tr>\n",
       "      <th>1</th>\n",
       "      <td>Yogesh</td>\n",
       "      <td>76</td>\n",
       "    </tr>\n",
       "    <tr>\n",
       "      <th>2</th>\n",
       "      <td>Mihir</td>\n",
       "      <td>75</td>\n",
       "    </tr>\n",
       "  </tbody>\n",
       "</table>\n",
       "</div>"
      ],
      "text/plain": [
       "        0   1\n",
       "0    Neel  80\n",
       "1  Yogesh  76\n",
       "2   Mihir  75"
      ]
     },
     "execution_count": 101,
     "metadata": {},
     "output_type": "execute_result"
    }
   ],
   "source": [
    "df"
   ]
  },
  {
   "cell_type": "code",
   "execution_count": 104,
   "id": "973783cd",
   "metadata": {},
   "outputs": [
    {
     "data": {
      "text/html": [
       "<div>\n",
       "<style scoped>\n",
       "    .dataframe tbody tr th:only-of-type {\n",
       "        vertical-align: middle;\n",
       "    }\n",
       "\n",
       "    .dataframe tbody tr th {\n",
       "        vertical-align: top;\n",
       "    }\n",
       "\n",
       "    .dataframe thead th {\n",
       "        text-align: right;\n",
       "    }\n",
       "</style>\n",
       "<table border=\"1\" class=\"dataframe\">\n",
       "  <thead>\n",
       "    <tr style=\"text-align: right;\">\n",
       "      <th></th>\n",
       "      <th>Name</th>\n",
       "      <th>Marks</th>\n",
       "    </tr>\n",
       "  </thead>\n",
       "  <tbody>\n",
       "    <tr>\n",
       "      <th>0</th>\n",
       "      <td>Neel</td>\n",
       "      <td>80</td>\n",
       "    </tr>\n",
       "    <tr>\n",
       "      <th>1</th>\n",
       "      <td>Yogesh</td>\n",
       "      <td>76</td>\n",
       "    </tr>\n",
       "    <tr>\n",
       "      <th>2</th>\n",
       "      <td>Mihir</td>\n",
       "      <td>75</td>\n",
       "    </tr>\n",
       "  </tbody>\n",
       "</table>\n",
       "</div>"
      ],
      "text/plain": [
       "     Name  Marks\n",
       "0    Neel     80\n",
       "1  Yogesh     76\n",
       "2   Mihir     75"
      ]
     },
     "execution_count": 104,
     "metadata": {},
     "output_type": "execute_result"
    }
   ],
   "source": [
    "data = [['Neel', 80], ['Yogesh', 76], ['Mihir', 75]]\n",
    "df = pd.DataFrame(data, columns=['Name', 'Marks'])\n",
    "df"
   ]
  },
  {
   "cell_type": "code",
   "execution_count": 106,
   "id": "a12b2cb8",
   "metadata": {},
   "outputs": [],
   "source": [
    "rollDF = pd.DataFrame([45,67,34], columns=['Roll_No'])"
   ]
  },
  {
   "cell_type": "code",
   "execution_count": 107,
   "id": "2a38ea74",
   "metadata": {},
   "outputs": [
    {
     "data": {
      "text/html": [
       "<div>\n",
       "<style scoped>\n",
       "    .dataframe tbody tr th:only-of-type {\n",
       "        vertical-align: middle;\n",
       "    }\n",
       "\n",
       "    .dataframe tbody tr th {\n",
       "        vertical-align: top;\n",
       "    }\n",
       "\n",
       "    .dataframe thead th {\n",
       "        text-align: right;\n",
       "    }\n",
       "</style>\n",
       "<table border=\"1\" class=\"dataframe\">\n",
       "  <thead>\n",
       "    <tr style=\"text-align: right;\">\n",
       "      <th></th>\n",
       "      <th>Roll_No</th>\n",
       "    </tr>\n",
       "  </thead>\n",
       "  <tbody>\n",
       "    <tr>\n",
       "      <th>0</th>\n",
       "      <td>45</td>\n",
       "    </tr>\n",
       "    <tr>\n",
       "      <th>1</th>\n",
       "      <td>67</td>\n",
       "    </tr>\n",
       "    <tr>\n",
       "      <th>2</th>\n",
       "      <td>34</td>\n",
       "    </tr>\n",
       "  </tbody>\n",
       "</table>\n",
       "</div>"
      ],
      "text/plain": [
       "   Roll_No\n",
       "0       45\n",
       "1       67\n",
       "2       34"
      ]
     },
     "execution_count": 107,
     "metadata": {},
     "output_type": "execute_result"
    }
   ],
   "source": [
    "rollDF"
   ]
  },
  {
   "cell_type": "code",
   "execution_count": 109,
   "id": "0f774fff",
   "metadata": {},
   "outputs": [],
   "source": [
    "df['Roll_num'] = rollDF['Roll_No']"
   ]
  },
  {
   "cell_type": "code",
   "execution_count": 110,
   "id": "2a477f4e",
   "metadata": {},
   "outputs": [
    {
     "data": {
      "text/html": [
       "<div>\n",
       "<style scoped>\n",
       "    .dataframe tbody tr th:only-of-type {\n",
       "        vertical-align: middle;\n",
       "    }\n",
       "\n",
       "    .dataframe tbody tr th {\n",
       "        vertical-align: top;\n",
       "    }\n",
       "\n",
       "    .dataframe thead th {\n",
       "        text-align: right;\n",
       "    }\n",
       "</style>\n",
       "<table border=\"1\" class=\"dataframe\">\n",
       "  <thead>\n",
       "    <tr style=\"text-align: right;\">\n",
       "      <th></th>\n",
       "      <th>Name</th>\n",
       "      <th>Marks</th>\n",
       "      <th>Roll_num</th>\n",
       "    </tr>\n",
       "  </thead>\n",
       "  <tbody>\n",
       "    <tr>\n",
       "      <th>0</th>\n",
       "      <td>Neel</td>\n",
       "      <td>80</td>\n",
       "      <td>45</td>\n",
       "    </tr>\n",
       "    <tr>\n",
       "      <th>1</th>\n",
       "      <td>Yogesh</td>\n",
       "      <td>76</td>\n",
       "      <td>67</td>\n",
       "    </tr>\n",
       "    <tr>\n",
       "      <th>2</th>\n",
       "      <td>Mihir</td>\n",
       "      <td>75</td>\n",
       "      <td>34</td>\n",
       "    </tr>\n",
       "  </tbody>\n",
       "</table>\n",
       "</div>"
      ],
      "text/plain": [
       "     Name  Marks  Roll_num\n",
       "0    Neel     80        45\n",
       "1  Yogesh     76        67\n",
       "2   Mihir     75        34"
      ]
     },
     "execution_count": 110,
     "metadata": {},
     "output_type": "execute_result"
    }
   ],
   "source": [
    "df"
   ]
  },
  {
   "cell_type": "code",
   "execution_count": 111,
   "id": "d2eff35b",
   "metadata": {},
   "outputs": [
    {
     "data": {
      "text/html": [
       "<div>\n",
       "<style scoped>\n",
       "    .dataframe tbody tr th:only-of-type {\n",
       "        vertical-align: middle;\n",
       "    }\n",
       "\n",
       "    .dataframe tbody tr th {\n",
       "        vertical-align: top;\n",
       "    }\n",
       "\n",
       "    .dataframe thead th {\n",
       "        text-align: right;\n",
       "    }\n",
       "</style>\n",
       "<table border=\"1\" class=\"dataframe\">\n",
       "  <thead>\n",
       "    <tr style=\"text-align: right;\">\n",
       "      <th></th>\n",
       "      <th>Name</th>\n",
       "      <th>Marks</th>\n",
       "    </tr>\n",
       "  </thead>\n",
       "  <tbody>\n",
       "    <tr>\n",
       "      <th>0</th>\n",
       "      <td>Neel</td>\n",
       "      <td>80</td>\n",
       "    </tr>\n",
       "    <tr>\n",
       "      <th>1</th>\n",
       "      <td>Yogesh</td>\n",
       "      <td>76</td>\n",
       "    </tr>\n",
       "    <tr>\n",
       "      <th>2</th>\n",
       "      <td>Mihir</td>\n",
       "      <td>75</td>\n",
       "    </tr>\n",
       "  </tbody>\n",
       "</table>\n",
       "</div>"
      ],
      "text/plain": [
       "     Name  Marks\n",
       "0    Neel     80\n",
       "1  Yogesh     76\n",
       "2   Mihir     75"
      ]
     },
     "execution_count": 111,
     "metadata": {},
     "output_type": "execute_result"
    }
   ],
   "source": [
    "del df['Roll_num']\n",
    "df"
   ]
  },
  {
   "cell_type": "code",
   "execution_count": 112,
   "id": "1613341e",
   "metadata": {},
   "outputs": [
    {
     "data": {
      "text/html": [
       "<div>\n",
       "<style scoped>\n",
       "    .dataframe tbody tr th:only-of-type {\n",
       "        vertical-align: middle;\n",
       "    }\n",
       "\n",
       "    .dataframe tbody tr th {\n",
       "        vertical-align: top;\n",
       "    }\n",
       "\n",
       "    .dataframe thead th {\n",
       "        text-align: right;\n",
       "    }\n",
       "</style>\n",
       "<table border=\"1\" class=\"dataframe\">\n",
       "  <thead>\n",
       "    <tr style=\"text-align: right;\">\n",
       "      <th></th>\n",
       "      <th>Name</th>\n",
       "      <th>Marks</th>\n",
       "    </tr>\n",
       "  </thead>\n",
       "  <tbody>\n",
       "    <tr>\n",
       "      <th>0</th>\n",
       "      <td>Mohit</td>\n",
       "      <td>75</td>\n",
       "    </tr>\n",
       "  </tbody>\n",
       "</table>\n",
       "</div>"
      ],
      "text/plain": [
       "    Name  Marks\n",
       "0  Mohit     75"
      ]
     },
     "execution_count": 112,
     "metadata": {},
     "output_type": "execute_result"
    }
   ],
   "source": [
    "studDF = pd.DataFrame([['Mohit', 75]], columns=['Name', 'Marks'])\n",
    "studDF"
   ]
  },
  {
   "cell_type": "code",
   "execution_count": 113,
   "id": "49bf75e9",
   "metadata": {},
   "outputs": [
    {
     "data": {
      "text/html": [
       "<div>\n",
       "<style scoped>\n",
       "    .dataframe tbody tr th:only-of-type {\n",
       "        vertical-align: middle;\n",
       "    }\n",
       "\n",
       "    .dataframe tbody tr th {\n",
       "        vertical-align: top;\n",
       "    }\n",
       "\n",
       "    .dataframe thead th {\n",
       "        text-align: right;\n",
       "    }\n",
       "</style>\n",
       "<table border=\"1\" class=\"dataframe\">\n",
       "  <thead>\n",
       "    <tr style=\"text-align: right;\">\n",
       "      <th></th>\n",
       "      <th>Name</th>\n",
       "      <th>Marks</th>\n",
       "    </tr>\n",
       "  </thead>\n",
       "  <tbody>\n",
       "    <tr>\n",
       "      <th>0</th>\n",
       "      <td>Neel</td>\n",
       "      <td>80</td>\n",
       "    </tr>\n",
       "    <tr>\n",
       "      <th>1</th>\n",
       "      <td>Yogesh</td>\n",
       "      <td>76</td>\n",
       "    </tr>\n",
       "    <tr>\n",
       "      <th>2</th>\n",
       "      <td>Mihir</td>\n",
       "      <td>75</td>\n",
       "    </tr>\n",
       "    <tr>\n",
       "      <th>0</th>\n",
       "      <td>Mohit</td>\n",
       "      <td>75</td>\n",
       "    </tr>\n",
       "  </tbody>\n",
       "</table>\n",
       "</div>"
      ],
      "text/plain": [
       "     Name  Marks\n",
       "0    Neel     80\n",
       "1  Yogesh     76\n",
       "2   Mihir     75\n",
       "0   Mohit     75"
      ]
     },
     "execution_count": 113,
     "metadata": {},
     "output_type": "execute_result"
    }
   ],
   "source": [
    "df = df.append(studDF)\n",
    "df"
   ]
  },
  {
   "cell_type": "code",
   "execution_count": 114,
   "id": "df0b710d",
   "metadata": {},
   "outputs": [
    {
     "data": {
      "text/plain": [
       "dtype('O')"
      ]
     },
     "execution_count": 114,
     "metadata": {},
     "output_type": "execute_result"
    }
   ],
   "source": [
    "df['Name'].dtype"
   ]
  },
  {
   "cell_type": "code",
   "execution_count": 115,
   "id": "a8256e29",
   "metadata": {},
   "outputs": [
    {
     "data": {
      "text/plain": [
       "dtype('int64')"
      ]
     },
     "execution_count": 115,
     "metadata": {},
     "output_type": "execute_result"
    }
   ],
   "source": [
    "df['Marks'].dtype"
   ]
  },
  {
   "cell_type": "code",
   "execution_count": 117,
   "id": "14d736a6",
   "metadata": {},
   "outputs": [
    {
     "data": {
      "text/plain": [
       "Name     object\n",
       "Marks     int64\n",
       "dtype: object"
      ]
     },
     "execution_count": 117,
     "metadata": {},
     "output_type": "execute_result"
    }
   ],
   "source": [
    "df.dtypes"
   ]
  },
  {
   "cell_type": "code",
   "execution_count": 118,
   "id": "f6b9ea88",
   "metadata": {},
   "outputs": [
    {
     "data": {
      "text/html": [
       "<div>\n",
       "<style scoped>\n",
       "    .dataframe tbody tr th:only-of-type {\n",
       "        vertical-align: middle;\n",
       "    }\n",
       "\n",
       "    .dataframe tbody tr th {\n",
       "        vertical-align: top;\n",
       "    }\n",
       "\n",
       "    .dataframe thead th {\n",
       "        text-align: right;\n",
       "    }\n",
       "</style>\n",
       "<table border=\"1\" class=\"dataframe\">\n",
       "  <thead>\n",
       "    <tr style=\"text-align: right;\">\n",
       "      <th></th>\n",
       "      <th>Name</th>\n",
       "      <th>Marks</th>\n",
       "    </tr>\n",
       "  </thead>\n",
       "  <tbody>\n",
       "    <tr>\n",
       "      <th>0</th>\n",
       "      <td>Neel</td>\n",
       "      <td>80</td>\n",
       "    </tr>\n",
       "    <tr>\n",
       "      <th>1</th>\n",
       "      <td>Yogesh</td>\n",
       "      <td>76</td>\n",
       "    </tr>\n",
       "    <tr>\n",
       "      <th>2</th>\n",
       "      <td>Mihir</td>\n",
       "      <td>75</td>\n",
       "    </tr>\n",
       "    <tr>\n",
       "      <th>0</th>\n",
       "      <td>Mohit</td>\n",
       "      <td>75</td>\n",
       "    </tr>\n",
       "  </tbody>\n",
       "</table>\n",
       "</div>"
      ],
      "text/plain": [
       "     Name  Marks\n",
       "0    Neel     80\n",
       "1  Yogesh     76\n",
       "2   Mihir     75\n",
       "0   Mohit     75"
      ]
     },
     "execution_count": 118,
     "metadata": {},
     "output_type": "execute_result"
    }
   ],
   "source": [
    "df.head()"
   ]
  },
  {
   "cell_type": "code",
   "execution_count": 119,
   "id": "2866c24a",
   "metadata": {},
   "outputs": [
    {
     "data": {
      "text/html": [
       "<div>\n",
       "<style scoped>\n",
       "    .dataframe tbody tr th:only-of-type {\n",
       "        vertical-align: middle;\n",
       "    }\n",
       "\n",
       "    .dataframe tbody tr th {\n",
       "        vertical-align: top;\n",
       "    }\n",
       "\n",
       "    .dataframe thead th {\n",
       "        text-align: right;\n",
       "    }\n",
       "</style>\n",
       "<table border=\"1\" class=\"dataframe\">\n",
       "  <thead>\n",
       "    <tr style=\"text-align: right;\">\n",
       "      <th></th>\n",
       "      <th>Name</th>\n",
       "      <th>Marks</th>\n",
       "    </tr>\n",
       "  </thead>\n",
       "  <tbody>\n",
       "    <tr>\n",
       "      <th>0</th>\n",
       "      <td>Neel</td>\n",
       "      <td>80</td>\n",
       "    </tr>\n",
       "    <tr>\n",
       "      <th>1</th>\n",
       "      <td>Yogesh</td>\n",
       "      <td>76</td>\n",
       "    </tr>\n",
       "  </tbody>\n",
       "</table>\n",
       "</div>"
      ],
      "text/plain": [
       "     Name  Marks\n",
       "0    Neel     80\n",
       "1  Yogesh     76"
      ]
     },
     "execution_count": 119,
     "metadata": {},
     "output_type": "execute_result"
    }
   ],
   "source": [
    "df.head(2)"
   ]
  },
  {
   "cell_type": "code",
   "execution_count": 120,
   "id": "a2819a1c",
   "metadata": {},
   "outputs": [
    {
     "data": {
      "text/html": [
       "<div>\n",
       "<style scoped>\n",
       "    .dataframe tbody tr th:only-of-type {\n",
       "        vertical-align: middle;\n",
       "    }\n",
       "\n",
       "    .dataframe tbody tr th {\n",
       "        vertical-align: top;\n",
       "    }\n",
       "\n",
       "    .dataframe thead th {\n",
       "        text-align: right;\n",
       "    }\n",
       "</style>\n",
       "<table border=\"1\" class=\"dataframe\">\n",
       "  <thead>\n",
       "    <tr style=\"text-align: right;\">\n",
       "      <th></th>\n",
       "      <th>Name</th>\n",
       "      <th>Marks</th>\n",
       "    </tr>\n",
       "  </thead>\n",
       "  <tbody>\n",
       "    <tr>\n",
       "      <th>0</th>\n",
       "      <td>Neel</td>\n",
       "      <td>80</td>\n",
       "    </tr>\n",
       "    <tr>\n",
       "      <th>1</th>\n",
       "      <td>Yogesh</td>\n",
       "      <td>76</td>\n",
       "    </tr>\n",
       "    <tr>\n",
       "      <th>2</th>\n",
       "      <td>Mihir</td>\n",
       "      <td>75</td>\n",
       "    </tr>\n",
       "    <tr>\n",
       "      <th>0</th>\n",
       "      <td>Mohit</td>\n",
       "      <td>75</td>\n",
       "    </tr>\n",
       "  </tbody>\n",
       "</table>\n",
       "</div>"
      ],
      "text/plain": [
       "     Name  Marks\n",
       "0    Neel     80\n",
       "1  Yogesh     76\n",
       "2   Mihir     75\n",
       "0   Mohit     75"
      ]
     },
     "execution_count": 120,
     "metadata": {},
     "output_type": "execute_result"
    }
   ],
   "source": [
    "df.head(200)"
   ]
  },
  {
   "cell_type": "code",
   "execution_count": 121,
   "id": "2e97bb4b",
   "metadata": {},
   "outputs": [
    {
     "data": {
      "text/html": [
       "<div>\n",
       "<style scoped>\n",
       "    .dataframe tbody tr th:only-of-type {\n",
       "        vertical-align: middle;\n",
       "    }\n",
       "\n",
       "    .dataframe tbody tr th {\n",
       "        vertical-align: top;\n",
       "    }\n",
       "\n",
       "    .dataframe thead th {\n",
       "        text-align: right;\n",
       "    }\n",
       "</style>\n",
       "<table border=\"1\" class=\"dataframe\">\n",
       "  <thead>\n",
       "    <tr style=\"text-align: right;\">\n",
       "      <th></th>\n",
       "      <th>Name</th>\n",
       "      <th>Marks</th>\n",
       "    </tr>\n",
       "  </thead>\n",
       "  <tbody>\n",
       "    <tr>\n",
       "      <th>0</th>\n",
       "      <td>Neel</td>\n",
       "      <td>80</td>\n",
       "    </tr>\n",
       "    <tr>\n",
       "      <th>1</th>\n",
       "      <td>Yogesh</td>\n",
       "      <td>76</td>\n",
       "    </tr>\n",
       "    <tr>\n",
       "      <th>2</th>\n",
       "      <td>Mihir</td>\n",
       "      <td>75</td>\n",
       "    </tr>\n",
       "    <tr>\n",
       "      <th>0</th>\n",
       "      <td>Mohit</td>\n",
       "      <td>75</td>\n",
       "    </tr>\n",
       "  </tbody>\n",
       "</table>\n",
       "</div>"
      ],
      "text/plain": [
       "     Name  Marks\n",
       "0    Neel     80\n",
       "1  Yogesh     76\n",
       "2   Mihir     75\n",
       "0   Mohit     75"
      ]
     },
     "execution_count": 121,
     "metadata": {},
     "output_type": "execute_result"
    }
   ],
   "source": [
    "df.tail()"
   ]
  },
  {
   "cell_type": "code",
   "execution_count": 122,
   "id": "3b2deb96",
   "metadata": {},
   "outputs": [
    {
     "data": {
      "text/html": [
       "<div>\n",
       "<style scoped>\n",
       "    .dataframe tbody tr th:only-of-type {\n",
       "        vertical-align: middle;\n",
       "    }\n",
       "\n",
       "    .dataframe tbody tr th {\n",
       "        vertical-align: top;\n",
       "    }\n",
       "\n",
       "    .dataframe thead th {\n",
       "        text-align: right;\n",
       "    }\n",
       "</style>\n",
       "<table border=\"1\" class=\"dataframe\">\n",
       "  <thead>\n",
       "    <tr style=\"text-align: right;\">\n",
       "      <th></th>\n",
       "      <th>Name</th>\n",
       "      <th>Marks</th>\n",
       "    </tr>\n",
       "  </thead>\n",
       "  <tbody>\n",
       "    <tr>\n",
       "      <th>2</th>\n",
       "      <td>Mihir</td>\n",
       "      <td>75</td>\n",
       "    </tr>\n",
       "    <tr>\n",
       "      <th>0</th>\n",
       "      <td>Mohit</td>\n",
       "      <td>75</td>\n",
       "    </tr>\n",
       "  </tbody>\n",
       "</table>\n",
       "</div>"
      ],
      "text/plain": [
       "    Name  Marks\n",
       "2  Mihir     75\n",
       "0  Mohit     75"
      ]
     },
     "execution_count": 122,
     "metadata": {},
     "output_type": "execute_result"
    }
   ],
   "source": [
    "df.tail(2)"
   ]
  },
  {
   "cell_type": "code",
   "execution_count": 123,
   "id": "9b7942f4",
   "metadata": {},
   "outputs": [
    {
     "data": {
      "text/html": [
       "<div>\n",
       "<style scoped>\n",
       "    .dataframe tbody tr th:only-of-type {\n",
       "        vertical-align: middle;\n",
       "    }\n",
       "\n",
       "    .dataframe tbody tr th {\n",
       "        vertical-align: top;\n",
       "    }\n",
       "\n",
       "    .dataframe thead th {\n",
       "        text-align: right;\n",
       "    }\n",
       "</style>\n",
       "<table border=\"1\" class=\"dataframe\">\n",
       "  <thead>\n",
       "    <tr style=\"text-align: right;\">\n",
       "      <th></th>\n",
       "      <th>Name</th>\n",
       "      <th>Marks</th>\n",
       "    </tr>\n",
       "  </thead>\n",
       "  <tbody>\n",
       "    <tr>\n",
       "      <th>0</th>\n",
       "      <td>Neel</td>\n",
       "      <td>80</td>\n",
       "    </tr>\n",
       "    <tr>\n",
       "      <th>1</th>\n",
       "      <td>Yogesh</td>\n",
       "      <td>76</td>\n",
       "    </tr>\n",
       "  </tbody>\n",
       "</table>\n",
       "</div>"
      ],
      "text/plain": [
       "     Name  Marks\n",
       "0    Neel     80\n",
       "1  Yogesh     76"
      ]
     },
     "execution_count": 123,
     "metadata": {},
     "output_type": "execute_result"
    }
   ],
   "source": [
    "df.head(2).tail(2)"
   ]
  },
  {
   "cell_type": "code",
   "execution_count": 124,
   "id": "25af2fea",
   "metadata": {},
   "outputs": [
    {
     "data": {
      "text/html": [
       "<div>\n",
       "<style scoped>\n",
       "    .dataframe tbody tr th:only-of-type {\n",
       "        vertical-align: middle;\n",
       "    }\n",
       "\n",
       "    .dataframe tbody tr th {\n",
       "        vertical-align: top;\n",
       "    }\n",
       "\n",
       "    .dataframe thead th {\n",
       "        text-align: right;\n",
       "    }\n",
       "</style>\n",
       "<table border=\"1\" class=\"dataframe\">\n",
       "  <thead>\n",
       "    <tr style=\"text-align: right;\">\n",
       "      <th></th>\n",
       "      <th>Name</th>\n",
       "      <th>Marks</th>\n",
       "    </tr>\n",
       "  </thead>\n",
       "  <tbody>\n",
       "    <tr>\n",
       "      <th>2</th>\n",
       "      <td>Mihir</td>\n",
       "      <td>75</td>\n",
       "    </tr>\n",
       "  </tbody>\n",
       "</table>\n",
       "</div>"
      ],
      "text/plain": [
       "    Name  Marks\n",
       "2  Mihir     75"
      ]
     },
     "execution_count": 124,
     "metadata": {},
     "output_type": "execute_result"
    }
   ],
   "source": [
    "df.head(3).tail(1)"
   ]
  },
  {
   "cell_type": "code",
   "execution_count": 127,
   "id": "93661b92",
   "metadata": {},
   "outputs": [
    {
     "data": {
      "text/html": [
       "<div>\n",
       "<style scoped>\n",
       "    .dataframe tbody tr th:only-of-type {\n",
       "        vertical-align: middle;\n",
       "    }\n",
       "\n",
       "    .dataframe tbody tr th {\n",
       "        vertical-align: top;\n",
       "    }\n",
       "\n",
       "    .dataframe thead th {\n",
       "        text-align: right;\n",
       "    }\n",
       "</style>\n",
       "<table border=\"1\" class=\"dataframe\">\n",
       "  <thead>\n",
       "    <tr style=\"text-align: right;\">\n",
       "      <th></th>\n",
       "      <th>Name</th>\n",
       "      <th>Marks</th>\n",
       "    </tr>\n",
       "  </thead>\n",
       "  <tbody>\n",
       "    <tr>\n",
       "      <th>2</th>\n",
       "      <td>Mihir</td>\n",
       "      <td>75</td>\n",
       "    </tr>\n",
       "  </tbody>\n",
       "</table>\n",
       "</div>"
      ],
      "text/plain": [
       "    Name  Marks\n",
       "2  Mihir     75"
      ]
     },
     "execution_count": 127,
     "metadata": {},
     "output_type": "execute_result"
    }
   ],
   "source": [
    "df.tail(2).head(1)"
   ]
  },
  {
   "cell_type": "code",
   "execution_count": 162,
   "id": "daad7709",
   "metadata": {},
   "outputs": [],
   "source": [
    "d = pd.read_csv('students.csv', header=None)"
   ]
  },
  {
   "cell_type": "code",
   "execution_count": 145,
   "id": "ea1ce775",
   "metadata": {},
   "outputs": [
    {
     "data": {
      "text/html": [
       "<div>\n",
       "<style scoped>\n",
       "    .dataframe tbody tr th:only-of-type {\n",
       "        vertical-align: middle;\n",
       "    }\n",
       "\n",
       "    .dataframe tbody tr th {\n",
       "        vertical-align: top;\n",
       "    }\n",
       "\n",
       "    .dataframe thead th {\n",
       "        text-align: right;\n",
       "    }\n",
       "</style>\n",
       "<table border=\"1\" class=\"dataframe\">\n",
       "  <thead>\n",
       "    <tr style=\"text-align: right;\">\n",
       "      <th></th>\n",
       "      <th>RollNo</th>\n",
       "      <th>Name</th>\n",
       "      <th>Dept</th>\n",
       "      <th>Marks</th>\n",
       "    </tr>\n",
       "  </thead>\n",
       "  <tbody>\n",
       "    <tr>\n",
       "      <th>0</th>\n",
       "      <td>1</td>\n",
       "      <td>abc</td>\n",
       "      <td>IT</td>\n",
       "      <td>50</td>\n",
       "    </tr>\n",
       "    <tr>\n",
       "      <th>1</th>\n",
       "      <td>2</td>\n",
       "      <td>pqr</td>\n",
       "      <td>Comp</td>\n",
       "      <td>40</td>\n",
       "    </tr>\n",
       "    <tr>\n",
       "      <th>2</th>\n",
       "      <td>3</td>\n",
       "      <td>xyz</td>\n",
       "      <td>IT</td>\n",
       "      <td>55</td>\n",
       "    </tr>\n",
       "  </tbody>\n",
       "</table>\n",
       "</div>"
      ],
      "text/plain": [
       "   RollNo Name  Dept  Marks\n",
       "0       1  abc    IT     50\n",
       "1       2  pqr  Comp     40\n",
       "2       3  xyz    IT     55"
      ]
     },
     "execution_count": 145,
     "metadata": {},
     "output_type": "execute_result"
    }
   ],
   "source": [
    "pd.read_csv('students.csv', names=('RollNo', 'Name', 'Dept', 'Marks'))"
   ]
  },
  {
   "cell_type": "code",
   "execution_count": 215,
   "id": "b8675540",
   "metadata": {},
   "outputs": [
    {
     "data": {
      "text/html": [
       "<div>\n",
       "<style scoped>\n",
       "    .dataframe tbody tr th:only-of-type {\n",
       "        vertical-align: middle;\n",
       "    }\n",
       "\n",
       "    .dataframe tbody tr th {\n",
       "        vertical-align: top;\n",
       "    }\n",
       "\n",
       "    .dataframe thead th {\n",
       "        text-align: right;\n",
       "    }\n",
       "</style>\n",
       "<table border=\"1\" class=\"dataframe\">\n",
       "  <thead>\n",
       "    <tr style=\"text-align: right;\">\n",
       "      <th></th>\n",
       "      <th>RollNo</th>\n",
       "      <th>Name</th>\n",
       "      <th>Dept</th>\n",
       "      <th>Marks</th>\n",
       "    </tr>\n",
       "  </thead>\n",
       "  <tbody>\n",
       "    <tr>\n",
       "      <th>stud1</th>\n",
       "      <td>1</td>\n",
       "      <td>abc</td>\n",
       "      <td>IT</td>\n",
       "      <td>50</td>\n",
       "    </tr>\n",
       "    <tr>\n",
       "      <th>stud2</th>\n",
       "      <td>2</td>\n",
       "      <td>pqr</td>\n",
       "      <td>Comp</td>\n",
       "      <td>40</td>\n",
       "    </tr>\n",
       "    <tr>\n",
       "      <th>stud3</th>\n",
       "      <td>3</td>\n",
       "      <td>xyz</td>\n",
       "      <td>IT</td>\n",
       "      <td>55</td>\n",
       "    </tr>\n",
       "  </tbody>\n",
       "</table>\n",
       "</div>"
      ],
      "text/plain": [
       "       RollNo Name  Dept  Marks\n",
       "stud1       1  abc    IT     50\n",
       "stud2       2  pqr  Comp     40\n",
       "stud3       3  xyz    IT     55"
      ]
     },
     "execution_count": 215,
     "metadata": {},
     "output_type": "execute_result"
    }
   ],
   "source": [
    "df = pd.read_csv('students.csv', names=('RollNo', 'Name', 'Dept', 'Marks'), index_col=0)\n",
    "df"
   ]
  },
  {
   "cell_type": "code",
   "execution_count": 154,
   "id": "22e99810",
   "metadata": {},
   "outputs": [],
   "source": [
    "df.to_csv('students_new.csv')"
   ]
  },
  {
   "cell_type": "code",
   "execution_count": 158,
   "id": "142a197a",
   "metadata": {},
   "outputs": [
    {
     "data": {
      "text/html": [
       "<div>\n",
       "<style scoped>\n",
       "    .dataframe tbody tr th:only-of-type {\n",
       "        vertical-align: middle;\n",
       "    }\n",
       "\n",
       "    .dataframe tbody tr th {\n",
       "        vertical-align: top;\n",
       "    }\n",
       "\n",
       "    .dataframe thead th {\n",
       "        text-align: right;\n",
       "    }\n",
       "</style>\n",
       "<table border=\"1\" class=\"dataframe\">\n",
       "  <thead>\n",
       "    <tr style=\"text-align: right;\">\n",
       "      <th></th>\n",
       "      <th>RollNo</th>\n",
       "      <th>Name</th>\n",
       "      <th>Dept</th>\n",
       "      <th>Marks</th>\n",
       "    </tr>\n",
       "  </thead>\n",
       "  <tbody>\n",
       "    <tr>\n",
       "      <th>stud1</th>\n",
       "      <td>1</td>\n",
       "      <td>abc</td>\n",
       "      <td>IT</td>\n",
       "      <td>50</td>\n",
       "    </tr>\n",
       "    <tr>\n",
       "      <th>stud2</th>\n",
       "      <td>2</td>\n",
       "      <td>pqr</td>\n",
       "      <td>Comp</td>\n",
       "      <td>40</td>\n",
       "    </tr>\n",
       "    <tr>\n",
       "      <th>stud3</th>\n",
       "      <td>3</td>\n",
       "      <td>xyz</td>\n",
       "      <td>IT</td>\n",
       "      <td>55</td>\n",
       "    </tr>\n",
       "  </tbody>\n",
       "</table>\n",
       "</div>"
      ],
      "text/plain": [
       "       RollNo Name  Dept  Marks\n",
       "stud1       1  abc    IT     50\n",
       "stud2       2  pqr  Comp     40\n",
       "stud3       3  xyz    IT     55"
      ]
     },
     "execution_count": 158,
     "metadata": {},
     "output_type": "execute_result"
    }
   ],
   "source": [
    "df"
   ]
  },
  {
   "cell_type": "code",
   "execution_count": 170,
   "id": "b4a169cf",
   "metadata": {},
   "outputs": [],
   "source": [
    "df.to_json('students.json')"
   ]
  },
  {
   "cell_type": "code",
   "execution_count": null,
   "id": "c227a8d0",
   "metadata": {},
   "outputs": [],
   "source": [
    "{\n",
    "  \"RollNo\":{\"stud1\":1,\"stud2\":2,\"stud3\":3},\n",
    " \"Name\":{\"stud1\":\"abc\",\"stud2\":\"pqr\",\"stud3\":\"xyz\"},\n",
    " \"Dept\":{\"stud1\":\"IT\",\"stud2\":\"Comp\",\"stud3\":\"IT\"},\n",
    " \"Marks\":{\"stud1\":50,\"stud2\":40,\"stud3\":55}\n",
    "}"
   ]
  },
  {
   "cell_type": "code",
   "execution_count": 171,
   "id": "37f8027b",
   "metadata": {},
   "outputs": [
    {
     "data": {
      "text/html": [
       "<div>\n",
       "<style scoped>\n",
       "    .dataframe tbody tr th:only-of-type {\n",
       "        vertical-align: middle;\n",
       "    }\n",
       "\n",
       "    .dataframe tbody tr th {\n",
       "        vertical-align: top;\n",
       "    }\n",
       "\n",
       "    .dataframe thead th {\n",
       "        text-align: right;\n",
       "    }\n",
       "</style>\n",
       "<table border=\"1\" class=\"dataframe\">\n",
       "  <thead>\n",
       "    <tr style=\"text-align: right;\">\n",
       "      <th></th>\n",
       "      <th>RollNo</th>\n",
       "      <th>Name</th>\n",
       "      <th>Dept</th>\n",
       "      <th>Marks</th>\n",
       "    </tr>\n",
       "  </thead>\n",
       "  <tbody>\n",
       "    <tr>\n",
       "      <th>stud1</th>\n",
       "      <td>1</td>\n",
       "      <td>abc</td>\n",
       "      <td>IT</td>\n",
       "      <td>50</td>\n",
       "    </tr>\n",
       "    <tr>\n",
       "      <th>stud2</th>\n",
       "      <td>2</td>\n",
       "      <td>lmn</td>\n",
       "      <td>Comp</td>\n",
       "      <td>40</td>\n",
       "    </tr>\n",
       "    <tr>\n",
       "      <th>stud3</th>\n",
       "      <td>3</td>\n",
       "      <td>xyz</td>\n",
       "      <td>IT</td>\n",
       "      <td>55</td>\n",
       "    </tr>\n",
       "  </tbody>\n",
       "</table>\n",
       "</div>"
      ],
      "text/plain": [
       "       RollNo Name  Dept  Marks\n",
       "stud1       1  abc    IT     50\n",
       "stud2       2  lmn  Comp     40\n",
       "stud3       3  xyz    IT     55"
      ]
     },
     "execution_count": 171,
     "metadata": {},
     "output_type": "execute_result"
    }
   ],
   "source": [
    "pd.read_json('students.json')"
   ]
  },
  {
   "cell_type": "code",
   "execution_count": 172,
   "id": "af004013",
   "metadata": {},
   "outputs": [],
   "source": [
    "url = \"https://api.exchangerate-api.com/v4/latest/USD\""
   ]
  },
  {
   "cell_type": "code",
   "execution_count": 173,
   "id": "b314e537",
   "metadata": {},
   "outputs": [],
   "source": [
    "import requests\n",
    "from pandas.io.json import json_normalize"
   ]
  },
  {
   "cell_type": "code",
   "execution_count": 196,
   "id": "f32ae2ac",
   "metadata": {},
   "outputs": [],
   "source": [
    "df = pd.read_json(url)"
   ]
  },
  {
   "cell_type": "code",
   "execution_count": 182,
   "id": "ac8542b4",
   "metadata": {},
   "outputs": [
    {
     "data": {
      "text/html": [
       "<div>\n",
       "<style scoped>\n",
       "    .dataframe tbody tr th:only-of-type {\n",
       "        vertical-align: middle;\n",
       "    }\n",
       "\n",
       "    .dataframe tbody tr th {\n",
       "        vertical-align: top;\n",
       "    }\n",
       "\n",
       "    .dataframe thead th {\n",
       "        text-align: right;\n",
       "    }\n",
       "</style>\n",
       "<table border=\"1\" class=\"dataframe\">\n",
       "  <thead>\n",
       "    <tr style=\"text-align: right;\">\n",
       "      <th></th>\n",
       "      <th>provider</th>\n",
       "      <th>WARNING_UPGRADE_TO_V6</th>\n",
       "      <th>terms</th>\n",
       "      <th>base</th>\n",
       "      <th>date</th>\n",
       "      <th>time_last_updated</th>\n",
       "      <th>rates</th>\n",
       "    </tr>\n",
       "  </thead>\n",
       "  <tbody>\n",
       "    <tr>\n",
       "      <th>AED</th>\n",
       "      <td>https://www.exchangerate-api.com</td>\n",
       "      <td>https://www.exchangerate-api.com/docs/free</td>\n",
       "      <td>https://www.exchangerate-api.com/terms</td>\n",
       "      <td>USD</td>\n",
       "      <td>2022-10-09</td>\n",
       "      <td>1665273602</td>\n",
       "      <td>3.67</td>\n",
       "    </tr>\n",
       "    <tr>\n",
       "      <th>AFN</th>\n",
       "      <td>https://www.exchangerate-api.com</td>\n",
       "      <td>https://www.exchangerate-api.com/docs/free</td>\n",
       "      <td>https://www.exchangerate-api.com/terms</td>\n",
       "      <td>USD</td>\n",
       "      <td>2022-10-09</td>\n",
       "      <td>1665273602</td>\n",
       "      <td>87.92</td>\n",
       "    </tr>\n",
       "  </tbody>\n",
       "</table>\n",
       "</div>"
      ],
      "text/plain": [
       "                             provider  \\\n",
       "AED  https://www.exchangerate-api.com   \n",
       "AFN  https://www.exchangerate-api.com   \n",
       "\n",
       "                          WARNING_UPGRADE_TO_V6  \\\n",
       "AED  https://www.exchangerate-api.com/docs/free   \n",
       "AFN  https://www.exchangerate-api.com/docs/free   \n",
       "\n",
       "                                      terms base       date  \\\n",
       "AED  https://www.exchangerate-api.com/terms  USD 2022-10-09   \n",
       "AFN  https://www.exchangerate-api.com/terms  USD 2022-10-09   \n",
       "\n",
       "     time_last_updated  rates  \n",
       "AED         1665273602   3.67  \n",
       "AFN         1665273602  87.92  "
      ]
     },
     "execution_count": 182,
     "metadata": {},
     "output_type": "execute_result"
    }
   ],
   "source": [
    "df.head(2)"
   ]
  },
  {
   "cell_type": "code",
   "execution_count": 186,
   "id": "e6ba3f05",
   "metadata": {},
   "outputs": [
    {
     "data": {
      "text/plain": [
       "pandas.core.series.Series"
      ]
     },
     "execution_count": 186,
     "metadata": {},
     "output_type": "execute_result"
    }
   ],
   "source": [
    "type(df['rates'])"
   ]
  },
  {
   "cell_type": "code",
   "execution_count": 188,
   "id": "33aa008b",
   "metadata": {},
   "outputs": [
    {
     "data": {
      "text/plain": [
       "pandas.core.frame.DataFrame"
      ]
     },
     "execution_count": 188,
     "metadata": {},
     "output_type": "execute_result"
    }
   ],
   "source": [
    "type(df[['date', 'rates']])"
   ]
  },
  {
   "cell_type": "code",
   "execution_count": 191,
   "id": "9c98e63e",
   "metadata": {},
   "outputs": [
    {
     "data": {
      "text/html": [
       "<div>\n",
       "<style scoped>\n",
       "    .dataframe tbody tr th:only-of-type {\n",
       "        vertical-align: middle;\n",
       "    }\n",
       "\n",
       "    .dataframe tbody tr th {\n",
       "        vertical-align: top;\n",
       "    }\n",
       "\n",
       "    .dataframe thead th {\n",
       "        text-align: right;\n",
       "    }\n",
       "</style>\n",
       "<table border=\"1\" class=\"dataframe\">\n",
       "  <thead>\n",
       "    <tr style=\"text-align: right;\">\n",
       "      <th></th>\n",
       "      <th>RollNo</th>\n",
       "      <th>Name</th>\n",
       "      <th>Dept</th>\n",
       "      <th>Marks</th>\n",
       "    </tr>\n",
       "  </thead>\n",
       "  <tbody>\n",
       "    <tr>\n",
       "      <th>stud1</th>\n",
       "      <td>1</td>\n",
       "      <td>abc</td>\n",
       "      <td>IT</td>\n",
       "      <td>50</td>\n",
       "    </tr>\n",
       "    <tr>\n",
       "      <th>stud2</th>\n",
       "      <td>2</td>\n",
       "      <td>pqr</td>\n",
       "      <td>Comp</td>\n",
       "      <td>40</td>\n",
       "    </tr>\n",
       "    <tr>\n",
       "      <th>stud3</th>\n",
       "      <td>3</td>\n",
       "      <td>xyz</td>\n",
       "      <td>IT</td>\n",
       "      <td>55</td>\n",
       "    </tr>\n",
       "  </tbody>\n",
       "</table>\n",
       "</div>"
      ],
      "text/plain": [
       "       RollNo Name  Dept  Marks\n",
       "stud1       1  abc    IT     50\n",
       "stud2       2  pqr  Comp     40\n",
       "stud3       3  xyz    IT     55"
      ]
     },
     "execution_count": 191,
     "metadata": {},
     "output_type": "execute_result"
    }
   ],
   "source": [
    "df"
   ]
  },
  {
   "cell_type": "code",
   "execution_count": 198,
   "id": "a8f85c39",
   "metadata": {},
   "outputs": [
    {
     "data": {
      "text/plain": [
       "provider                           https://www.exchangerate-api.com\n",
       "WARNING_UPGRADE_TO_V6    https://www.exchangerate-api.com/docs/free\n",
       "terms                        https://www.exchangerate-api.com/terms\n",
       "base                                                            USD\n",
       "date                                            2022-10-09 00:00:00\n",
       "time_last_updated                                        1665273602\n",
       "rates                                                           1.0\n",
       "Name: USD, dtype: object"
      ]
     },
     "execution_count": 198,
     "metadata": {},
     "output_type": "execute_result"
    }
   ],
   "source": [
    "df.loc['USD']"
   ]
  },
  {
   "cell_type": "code",
   "execution_count": 199,
   "id": "b25707d2",
   "metadata": {},
   "outputs": [
    {
     "data": {
      "text/plain": [
       "provider                           https://www.exchangerate-api.com\n",
       "WARNING_UPGRADE_TO_V6    https://www.exchangerate-api.com/docs/free\n",
       "terms                        https://www.exchangerate-api.com/terms\n",
       "base                                                            USD\n",
       "date                                            2022-10-09 00:00:00\n",
       "time_last_updated                                        1665273602\n",
       "rates                                                          3.67\n",
       "Name: AED, dtype: object"
      ]
     },
     "execution_count": 199,
     "metadata": {},
     "output_type": "execute_result"
    }
   ],
   "source": [
    "df.iloc[0]"
   ]
  },
  {
   "cell_type": "code",
   "execution_count": 200,
   "id": "dece47a1",
   "metadata": {},
   "outputs": [
    {
     "data": {
      "text/html": [
       "<div>\n",
       "<style scoped>\n",
       "    .dataframe tbody tr th:only-of-type {\n",
       "        vertical-align: middle;\n",
       "    }\n",
       "\n",
       "    .dataframe tbody tr th {\n",
       "        vertical-align: top;\n",
       "    }\n",
       "\n",
       "    .dataframe thead th {\n",
       "        text-align: right;\n",
       "    }\n",
       "</style>\n",
       "<table border=\"1\" class=\"dataframe\">\n",
       "  <thead>\n",
       "    <tr style=\"text-align: right;\">\n",
       "      <th></th>\n",
       "      <th>provider</th>\n",
       "      <th>WARNING_UPGRADE_TO_V6</th>\n",
       "      <th>terms</th>\n",
       "      <th>base</th>\n",
       "      <th>date</th>\n",
       "      <th>time_last_updated</th>\n",
       "      <th>rates</th>\n",
       "    </tr>\n",
       "  </thead>\n",
       "  <tbody>\n",
       "    <tr>\n",
       "      <th>AED</th>\n",
       "      <td>https://www.exchangerate-api.com</td>\n",
       "      <td>https://www.exchangerate-api.com/docs/free</td>\n",
       "      <td>https://www.exchangerate-api.com/terms</td>\n",
       "      <td>USD</td>\n",
       "      <td>2022-10-09</td>\n",
       "      <td>1665273602</td>\n",
       "      <td>3.67</td>\n",
       "    </tr>\n",
       "    <tr>\n",
       "      <th>AFN</th>\n",
       "      <td>https://www.exchangerate-api.com</td>\n",
       "      <td>https://www.exchangerate-api.com/docs/free</td>\n",
       "      <td>https://www.exchangerate-api.com/terms</td>\n",
       "      <td>USD</td>\n",
       "      <td>2022-10-09</td>\n",
       "      <td>1665273602</td>\n",
       "      <td>87.92</td>\n",
       "    </tr>\n",
       "  </tbody>\n",
       "</table>\n",
       "</div>"
      ],
      "text/plain": [
       "                             provider  \\\n",
       "AED  https://www.exchangerate-api.com   \n",
       "AFN  https://www.exchangerate-api.com   \n",
       "\n",
       "                          WARNING_UPGRADE_TO_V6  \\\n",
       "AED  https://www.exchangerate-api.com/docs/free   \n",
       "AFN  https://www.exchangerate-api.com/docs/free   \n",
       "\n",
       "                                      terms base       date  \\\n",
       "AED  https://www.exchangerate-api.com/terms  USD 2022-10-09   \n",
       "AFN  https://www.exchangerate-api.com/terms  USD 2022-10-09   \n",
       "\n",
       "     time_last_updated  rates  \n",
       "AED         1665273602   3.67  \n",
       "AFN         1665273602  87.92  "
      ]
     },
     "execution_count": 200,
     "metadata": {},
     "output_type": "execute_result"
    }
   ],
   "source": [
    "df.iloc[0:2]"
   ]
  },
  {
   "cell_type": "code",
   "execution_count": 202,
   "id": "063b30bc",
   "metadata": {},
   "outputs": [
    {
     "data": {
      "text/html": [
       "<div>\n",
       "<style scoped>\n",
       "    .dataframe tbody tr th:only-of-type {\n",
       "        vertical-align: middle;\n",
       "    }\n",
       "\n",
       "    .dataframe tbody tr th {\n",
       "        vertical-align: top;\n",
       "    }\n",
       "\n",
       "    .dataframe thead th {\n",
       "        text-align: right;\n",
       "    }\n",
       "</style>\n",
       "<table border=\"1\" class=\"dataframe\">\n",
       "  <thead>\n",
       "    <tr style=\"text-align: right;\">\n",
       "      <th></th>\n",
       "      <th>provider</th>\n",
       "      <th>WARNING_UPGRADE_TO_V6</th>\n",
       "      <th>terms</th>\n",
       "      <th>base</th>\n",
       "      <th>date</th>\n",
       "      <th>time_last_updated</th>\n",
       "      <th>rates</th>\n",
       "    </tr>\n",
       "  </thead>\n",
       "  <tbody>\n",
       "    <tr>\n",
       "      <th>AED</th>\n",
       "      <td>https://www.exchangerate-api.com</td>\n",
       "      <td>https://www.exchangerate-api.com/docs/free</td>\n",
       "      <td>https://www.exchangerate-api.com/terms</td>\n",
       "      <td>USD</td>\n",
       "      <td>2022-10-09</td>\n",
       "      <td>1665273602</td>\n",
       "      <td>3.67</td>\n",
       "    </tr>\n",
       "  </tbody>\n",
       "</table>\n",
       "</div>"
      ],
      "text/plain": [
       "                             provider  \\\n",
       "AED  https://www.exchangerate-api.com   \n",
       "\n",
       "                          WARNING_UPGRADE_TO_V6  \\\n",
       "AED  https://www.exchangerate-api.com/docs/free   \n",
       "\n",
       "                                      terms base       date  \\\n",
       "AED  https://www.exchangerate-api.com/terms  USD 2022-10-09   \n",
       "\n",
       "     time_last_updated  rates  \n",
       "AED         1665273602   3.67  "
      ]
     },
     "execution_count": 202,
     "metadata": {},
     "output_type": "execute_result"
    }
   ],
   "source": [
    "df.iloc[:1]"
   ]
  },
  {
   "cell_type": "code",
   "execution_count": 205,
   "id": "d8631d65",
   "metadata": {},
   "outputs": [
    {
     "data": {
      "text/html": [
       "<div>\n",
       "<style scoped>\n",
       "    .dataframe tbody tr th:only-of-type {\n",
       "        vertical-align: middle;\n",
       "    }\n",
       "\n",
       "    .dataframe tbody tr th {\n",
       "        vertical-align: top;\n",
       "    }\n",
       "\n",
       "    .dataframe thead th {\n",
       "        text-align: right;\n",
       "    }\n",
       "</style>\n",
       "<table border=\"1\" class=\"dataframe\">\n",
       "  <thead>\n",
       "    <tr style=\"text-align: right;\">\n",
       "      <th></th>\n",
       "      <th>provider</th>\n",
       "      <th>WARNING_UPGRADE_TO_V6</th>\n",
       "    </tr>\n",
       "  </thead>\n",
       "  <tbody>\n",
       "    <tr>\n",
       "      <th>AED</th>\n",
       "      <td>https://www.exchangerate-api.com</td>\n",
       "      <td>https://www.exchangerate-api.com/docs/free</td>\n",
       "    </tr>\n",
       "    <tr>\n",
       "      <th>AFN</th>\n",
       "      <td>https://www.exchangerate-api.com</td>\n",
       "      <td>https://www.exchangerate-api.com/docs/free</td>\n",
       "    </tr>\n",
       "    <tr>\n",
       "      <th>ALL</th>\n",
       "      <td>https://www.exchangerate-api.com</td>\n",
       "      <td>https://www.exchangerate-api.com/docs/free</td>\n",
       "    </tr>\n",
       "    <tr>\n",
       "      <th>AMD</th>\n",
       "      <td>https://www.exchangerate-api.com</td>\n",
       "      <td>https://www.exchangerate-api.com/docs/free</td>\n",
       "    </tr>\n",
       "    <tr>\n",
       "      <th>ANG</th>\n",
       "      <td>https://www.exchangerate-api.com</td>\n",
       "      <td>https://www.exchangerate-api.com/docs/free</td>\n",
       "    </tr>\n",
       "    <tr>\n",
       "      <th>...</th>\n",
       "      <td>...</td>\n",
       "      <td>...</td>\n",
       "    </tr>\n",
       "    <tr>\n",
       "      <th>XPF</th>\n",
       "      <td>https://www.exchangerate-api.com</td>\n",
       "      <td>https://www.exchangerate-api.com/docs/free</td>\n",
       "    </tr>\n",
       "    <tr>\n",
       "      <th>YER</th>\n",
       "      <td>https://www.exchangerate-api.com</td>\n",
       "      <td>https://www.exchangerate-api.com/docs/free</td>\n",
       "    </tr>\n",
       "    <tr>\n",
       "      <th>ZAR</th>\n",
       "      <td>https://www.exchangerate-api.com</td>\n",
       "      <td>https://www.exchangerate-api.com/docs/free</td>\n",
       "    </tr>\n",
       "    <tr>\n",
       "      <th>ZMW</th>\n",
       "      <td>https://www.exchangerate-api.com</td>\n",
       "      <td>https://www.exchangerate-api.com/docs/free</td>\n",
       "    </tr>\n",
       "    <tr>\n",
       "      <th>ZWL</th>\n",
       "      <td>https://www.exchangerate-api.com</td>\n",
       "      <td>https://www.exchangerate-api.com/docs/free</td>\n",
       "    </tr>\n",
       "  </tbody>\n",
       "</table>\n",
       "<p>162 rows × 2 columns</p>\n",
       "</div>"
      ],
      "text/plain": [
       "                             provider  \\\n",
       "AED  https://www.exchangerate-api.com   \n",
       "AFN  https://www.exchangerate-api.com   \n",
       "ALL  https://www.exchangerate-api.com   \n",
       "AMD  https://www.exchangerate-api.com   \n",
       "ANG  https://www.exchangerate-api.com   \n",
       "..                                ...   \n",
       "XPF  https://www.exchangerate-api.com   \n",
       "YER  https://www.exchangerate-api.com   \n",
       "ZAR  https://www.exchangerate-api.com   \n",
       "ZMW  https://www.exchangerate-api.com   \n",
       "ZWL  https://www.exchangerate-api.com   \n",
       "\n",
       "                          WARNING_UPGRADE_TO_V6  \n",
       "AED  https://www.exchangerate-api.com/docs/free  \n",
       "AFN  https://www.exchangerate-api.com/docs/free  \n",
       "ALL  https://www.exchangerate-api.com/docs/free  \n",
       "AMD  https://www.exchangerate-api.com/docs/free  \n",
       "ANG  https://www.exchangerate-api.com/docs/free  \n",
       "..                                          ...  \n",
       "XPF  https://www.exchangerate-api.com/docs/free  \n",
       "YER  https://www.exchangerate-api.com/docs/free  \n",
       "ZAR  https://www.exchangerate-api.com/docs/free  \n",
       "ZMW  https://www.exchangerate-api.com/docs/free  \n",
       "ZWL  https://www.exchangerate-api.com/docs/free  \n",
       "\n",
       "[162 rows x 2 columns]"
      ]
     },
     "execution_count": 205,
     "metadata": {},
     "output_type": "execute_result"
    }
   ],
   "source": [
    "df.iloc[:,0:2]"
   ]
  },
  {
   "cell_type": "code",
   "execution_count": 209,
   "id": "90ea29c1",
   "metadata": {},
   "outputs": [
    {
     "data": {
      "text/html": [
       "<div>\n",
       "<style scoped>\n",
       "    .dataframe tbody tr th:only-of-type {\n",
       "        vertical-align: middle;\n",
       "    }\n",
       "\n",
       "    .dataframe tbody tr th {\n",
       "        vertical-align: top;\n",
       "    }\n",
       "\n",
       "    .dataframe thead th {\n",
       "        text-align: right;\n",
       "    }\n",
       "</style>\n",
       "<table border=\"1\" class=\"dataframe\">\n",
       "  <thead>\n",
       "    <tr style=\"text-align: right;\">\n",
       "      <th></th>\n",
       "      <th>WARNING_UPGRADE_TO_V6</th>\n",
       "      <th>terms</th>\n",
       "    </tr>\n",
       "  </thead>\n",
       "  <tbody>\n",
       "    <tr>\n",
       "      <th>AMD</th>\n",
       "      <td>https://www.exchangerate-api.com/docs/free</td>\n",
       "      <td>https://www.exchangerate-api.com/terms</td>\n",
       "    </tr>\n",
       "  </tbody>\n",
       "</table>\n",
       "</div>"
      ],
      "text/plain": [
       "                          WARNING_UPGRADE_TO_V6  \\\n",
       "AMD  https://www.exchangerate-api.com/docs/free   \n",
       "\n",
       "                                      terms  \n",
       "AMD  https://www.exchangerate-api.com/terms  "
      ]
     },
     "execution_count": 209,
     "metadata": {},
     "output_type": "execute_result"
    }
   ],
   "source": [
    "df.iloc[3:4, 1:3]"
   ]
  },
  {
   "cell_type": "code",
   "execution_count": 210,
   "id": "7962a95a",
   "metadata": {},
   "outputs": [
    {
     "data": {
      "text/html": [
       "<div>\n",
       "<style scoped>\n",
       "    .dataframe tbody tr th:only-of-type {\n",
       "        vertical-align: middle;\n",
       "    }\n",
       "\n",
       "    .dataframe tbody tr th {\n",
       "        vertical-align: top;\n",
       "    }\n",
       "\n",
       "    .dataframe thead th {\n",
       "        text-align: right;\n",
       "    }\n",
       "</style>\n",
       "<table border=\"1\" class=\"dataframe\">\n",
       "  <thead>\n",
       "    <tr style=\"text-align: right;\">\n",
       "      <th></th>\n",
       "      <th>provider</th>\n",
       "      <th>WARNING_UPGRADE_TO_V6</th>\n",
       "      <th>terms</th>\n",
       "      <th>base</th>\n",
       "      <th>date</th>\n",
       "      <th>time_last_updated</th>\n",
       "      <th>rates</th>\n",
       "    </tr>\n",
       "  </thead>\n",
       "  <tbody>\n",
       "    <tr>\n",
       "      <th>AED</th>\n",
       "      <td>https://www.exchangerate-api.com</td>\n",
       "      <td>https://www.exchangerate-api.com/docs/free</td>\n",
       "      <td>https://www.exchangerate-api.com/terms</td>\n",
       "      <td>USD</td>\n",
       "      <td>2022-10-09</td>\n",
       "      <td>1665273602</td>\n",
       "      <td>3.67</td>\n",
       "    </tr>\n",
       "    <tr>\n",
       "      <th>ALL</th>\n",
       "      <td>https://www.exchangerate-api.com</td>\n",
       "      <td>https://www.exchangerate-api.com/docs/free</td>\n",
       "      <td>https://www.exchangerate-api.com/terms</td>\n",
       "      <td>USD</td>\n",
       "      <td>2022-10-09</td>\n",
       "      <td>1665273602</td>\n",
       "      <td>118.37</td>\n",
       "    </tr>\n",
       "  </tbody>\n",
       "</table>\n",
       "</div>"
      ],
      "text/plain": [
       "                             provider  \\\n",
       "AED  https://www.exchangerate-api.com   \n",
       "ALL  https://www.exchangerate-api.com   \n",
       "\n",
       "                          WARNING_UPGRADE_TO_V6  \\\n",
       "AED  https://www.exchangerate-api.com/docs/free   \n",
       "ALL  https://www.exchangerate-api.com/docs/free   \n",
       "\n",
       "                                      terms base       date  \\\n",
       "AED  https://www.exchangerate-api.com/terms  USD 2022-10-09   \n",
       "ALL  https://www.exchangerate-api.com/terms  USD 2022-10-09   \n",
       "\n",
       "     time_last_updated   rates  \n",
       "AED         1665273602    3.67  \n",
       "ALL         1665273602  118.37  "
      ]
     },
     "execution_count": 210,
     "metadata": {},
     "output_type": "execute_result"
    }
   ],
   "source": [
    "df.iloc[[0,2]]"
   ]
  },
  {
   "cell_type": "code",
   "execution_count": 211,
   "id": "5db385cb",
   "metadata": {},
   "outputs": [
    {
     "data": {
      "text/html": [
       "<div>\n",
       "<style scoped>\n",
       "    .dataframe tbody tr th:only-of-type {\n",
       "        vertical-align: middle;\n",
       "    }\n",
       "\n",
       "    .dataframe tbody tr th {\n",
       "        vertical-align: top;\n",
       "    }\n",
       "\n",
       "    .dataframe thead th {\n",
       "        text-align: right;\n",
       "    }\n",
       "</style>\n",
       "<table border=\"1\" class=\"dataframe\">\n",
       "  <thead>\n",
       "    <tr style=\"text-align: right;\">\n",
       "      <th></th>\n",
       "      <th>WARNING_UPGRADE_TO_V6</th>\n",
       "      <th>base</th>\n",
       "    </tr>\n",
       "  </thead>\n",
       "  <tbody>\n",
       "    <tr>\n",
       "      <th>AED</th>\n",
       "      <td>https://www.exchangerate-api.com/docs/free</td>\n",
       "      <td>USD</td>\n",
       "    </tr>\n",
       "    <tr>\n",
       "      <th>AOA</th>\n",
       "      <td>https://www.exchangerate-api.com/docs/free</td>\n",
       "      <td>USD</td>\n",
       "    </tr>\n",
       "  </tbody>\n",
       "</table>\n",
       "</div>"
      ],
      "text/plain": [
       "                          WARNING_UPGRADE_TO_V6 base\n",
       "AED  https://www.exchangerate-api.com/docs/free  USD\n",
       "AOA  https://www.exchangerate-api.com/docs/free  USD"
      ]
     },
     "execution_count": 211,
     "metadata": {},
     "output_type": "execute_result"
    }
   ],
   "source": [
    "df.iloc[[0,5], [1,3]]"
   ]
  },
  {
   "cell_type": "code",
   "execution_count": 219,
   "id": "43542497",
   "metadata": {},
   "outputs": [
    {
     "data": {
      "text/html": [
       "<div>\n",
       "<style scoped>\n",
       "    .dataframe tbody tr th:only-of-type {\n",
       "        vertical-align: middle;\n",
       "    }\n",
       "\n",
       "    .dataframe tbody tr th {\n",
       "        vertical-align: top;\n",
       "    }\n",
       "\n",
       "    .dataframe thead th {\n",
       "        text-align: right;\n",
       "    }\n",
       "</style>\n",
       "<table border=\"1\" class=\"dataframe\">\n",
       "  <thead>\n",
       "    <tr style=\"text-align: right;\">\n",
       "      <th></th>\n",
       "      <th>RollNo</th>\n",
       "      <th>Name</th>\n",
       "      <th>Dept</th>\n",
       "      <th>Marks</th>\n",
       "    </tr>\n",
       "  </thead>\n",
       "  <tbody>\n",
       "    <tr>\n",
       "      <th>stud2</th>\n",
       "      <td>2</td>\n",
       "      <td>pqr</td>\n",
       "      <td>Comp</td>\n",
       "      <td>40</td>\n",
       "    </tr>\n",
       "    <tr>\n",
       "      <th>stud1</th>\n",
       "      <td>1</td>\n",
       "      <td>abc</td>\n",
       "      <td>IT</td>\n",
       "      <td>50</td>\n",
       "    </tr>\n",
       "    <tr>\n",
       "      <th>stud3</th>\n",
       "      <td>3</td>\n",
       "      <td>xyz</td>\n",
       "      <td>IT</td>\n",
       "      <td>55</td>\n",
       "    </tr>\n",
       "  </tbody>\n",
       "</table>\n",
       "</div>"
      ],
      "text/plain": [
       "       RollNo Name  Dept  Marks\n",
       "stud2       2  pqr  Comp     40\n",
       "stud1       1  abc    IT     50\n",
       "stud3       3  xyz    IT     55"
      ]
     },
     "execution_count": 219,
     "metadata": {},
     "output_type": "execute_result"
    }
   ],
   "source": [
    "df.sort_values(by='Marks')"
   ]
  },
  {
   "cell_type": "code",
   "execution_count": 223,
   "id": "0da41bf1",
   "metadata": {},
   "outputs": [
    {
     "data": {
      "text/html": [
       "<div>\n",
       "<style scoped>\n",
       "    .dataframe tbody tr th:only-of-type {\n",
       "        vertical-align: middle;\n",
       "    }\n",
       "\n",
       "    .dataframe tbody tr th {\n",
       "        vertical-align: top;\n",
       "    }\n",
       "\n",
       "    .dataframe thead th {\n",
       "        text-align: right;\n",
       "    }\n",
       "</style>\n",
       "<table border=\"1\" class=\"dataframe\">\n",
       "  <thead>\n",
       "    <tr style=\"text-align: right;\">\n",
       "      <th></th>\n",
       "      <th>RollNo</th>\n",
       "      <th>Name</th>\n",
       "      <th>Dept</th>\n",
       "      <th>Marks</th>\n",
       "    </tr>\n",
       "  </thead>\n",
       "  <tbody>\n",
       "    <tr>\n",
       "      <th>stud2</th>\n",
       "      <td>2</td>\n",
       "      <td>pqr</td>\n",
       "      <td>Comp</td>\n",
       "      <td>40</td>\n",
       "    </tr>\n",
       "  </tbody>\n",
       "</table>\n",
       "</div>"
      ],
      "text/plain": [
       "       RollNo Name  Dept  Marks\n",
       "stud2       2  pqr  Comp     40"
      ]
     },
     "execution_count": 223,
     "metadata": {},
     "output_type": "execute_result"
    }
   ],
   "source": [
    "df.sort_values(by='Marks', ascending=False).tail(1)"
   ]
  },
  {
   "cell_type": "code",
   "execution_count": 225,
   "id": "b0588357",
   "metadata": {},
   "outputs": [
    {
     "data": {
      "text/html": [
       "<div>\n",
       "<style scoped>\n",
       "    .dataframe tbody tr th:only-of-type {\n",
       "        vertical-align: middle;\n",
       "    }\n",
       "\n",
       "    .dataframe tbody tr th {\n",
       "        vertical-align: top;\n",
       "    }\n",
       "\n",
       "    .dataframe thead th {\n",
       "        text-align: right;\n",
       "    }\n",
       "</style>\n",
       "<table border=\"1\" class=\"dataframe\">\n",
       "  <thead>\n",
       "    <tr style=\"text-align: right;\">\n",
       "      <th></th>\n",
       "      <th>RollNo</th>\n",
       "      <th>Name</th>\n",
       "      <th>Dept</th>\n",
       "      <th>Marks</th>\n",
       "    </tr>\n",
       "  </thead>\n",
       "  <tbody>\n",
       "    <tr>\n",
       "      <th>stud2</th>\n",
       "      <td>2</td>\n",
       "      <td>pqr</td>\n",
       "      <td>Comp</td>\n",
       "      <td>40</td>\n",
       "    </tr>\n",
       "    <tr>\n",
       "      <th>stud1</th>\n",
       "      <td>1</td>\n",
       "      <td>abc</td>\n",
       "      <td>IT</td>\n",
       "      <td>50</td>\n",
       "    </tr>\n",
       "    <tr>\n",
       "      <th>stud3</th>\n",
       "      <td>3</td>\n",
       "      <td>xyz</td>\n",
       "      <td>IT</td>\n",
       "      <td>55</td>\n",
       "    </tr>\n",
       "  </tbody>\n",
       "</table>\n",
       "</div>"
      ],
      "text/plain": [
       "       RollNo Name  Dept  Marks\n",
       "stud2       2  pqr  Comp     40\n",
       "stud1       1  abc    IT     50\n",
       "stud3       3  xyz    IT     55"
      ]
     },
     "execution_count": 225,
     "metadata": {},
     "output_type": "execute_result"
    }
   ],
   "source": [
    "df.sort_values(by=['Marks', 'RollNo'])"
   ]
  },
  {
   "cell_type": "code",
   "execution_count": 229,
   "id": "d42fcda5",
   "metadata": {},
   "outputs": [],
   "source": [
    "df.loc[4]= [4, 'lmn', 'IT', 50]"
   ]
  },
  {
   "cell_type": "code",
   "execution_count": 230,
   "id": "c016efad",
   "metadata": {},
   "outputs": [
    {
     "data": {
      "text/html": [
       "<div>\n",
       "<style scoped>\n",
       "    .dataframe tbody tr th:only-of-type {\n",
       "        vertical-align: middle;\n",
       "    }\n",
       "\n",
       "    .dataframe tbody tr th {\n",
       "        vertical-align: top;\n",
       "    }\n",
       "\n",
       "    .dataframe thead th {\n",
       "        text-align: right;\n",
       "    }\n",
       "</style>\n",
       "<table border=\"1\" class=\"dataframe\">\n",
       "  <thead>\n",
       "    <tr style=\"text-align: right;\">\n",
       "      <th></th>\n",
       "      <th>RollNo</th>\n",
       "      <th>Name</th>\n",
       "      <th>Dept</th>\n",
       "      <th>Marks</th>\n",
       "    </tr>\n",
       "  </thead>\n",
       "  <tbody>\n",
       "    <tr>\n",
       "      <th>stud1</th>\n",
       "      <td>1</td>\n",
       "      <td>abc</td>\n",
       "      <td>IT</td>\n",
       "      <td>50</td>\n",
       "    </tr>\n",
       "    <tr>\n",
       "      <th>stud2</th>\n",
       "      <td>2</td>\n",
       "      <td>pqr</td>\n",
       "      <td>Comp</td>\n",
       "      <td>40</td>\n",
       "    </tr>\n",
       "    <tr>\n",
       "      <th>stud3</th>\n",
       "      <td>3</td>\n",
       "      <td>xyz</td>\n",
       "      <td>IT</td>\n",
       "      <td>55</td>\n",
       "    </tr>\n",
       "    <tr>\n",
       "      <th>4</th>\n",
       "      <td>4</td>\n",
       "      <td>lmn</td>\n",
       "      <td>IT</td>\n",
       "      <td>50</td>\n",
       "    </tr>\n",
       "  </tbody>\n",
       "</table>\n",
       "</div>"
      ],
      "text/plain": [
       "       RollNo Name  Dept  Marks\n",
       "stud1       1  abc    IT     50\n",
       "stud2       2  pqr  Comp     40\n",
       "stud3       3  xyz    IT     55\n",
       "4           4  lmn    IT     50"
      ]
     },
     "execution_count": 230,
     "metadata": {},
     "output_type": "execute_result"
    }
   ],
   "source": [
    "df"
   ]
  },
  {
   "cell_type": "code",
   "execution_count": 231,
   "id": "1684a903",
   "metadata": {},
   "outputs": [
    {
     "data": {
      "text/html": [
       "<div>\n",
       "<style scoped>\n",
       "    .dataframe tbody tr th:only-of-type {\n",
       "        vertical-align: middle;\n",
       "    }\n",
       "\n",
       "    .dataframe tbody tr th {\n",
       "        vertical-align: top;\n",
       "    }\n",
       "\n",
       "    .dataframe thead th {\n",
       "        text-align: right;\n",
       "    }\n",
       "</style>\n",
       "<table border=\"1\" class=\"dataframe\">\n",
       "  <thead>\n",
       "    <tr style=\"text-align: right;\">\n",
       "      <th></th>\n",
       "      <th>RollNo</th>\n",
       "      <th>Name</th>\n",
       "      <th>Dept</th>\n",
       "      <th>Marks</th>\n",
       "    </tr>\n",
       "  </thead>\n",
       "  <tbody>\n",
       "    <tr>\n",
       "      <th>stud2</th>\n",
       "      <td>2</td>\n",
       "      <td>pqr</td>\n",
       "      <td>Comp</td>\n",
       "      <td>40</td>\n",
       "    </tr>\n",
       "    <tr>\n",
       "      <th>stud1</th>\n",
       "      <td>1</td>\n",
       "      <td>abc</td>\n",
       "      <td>IT</td>\n",
       "      <td>50</td>\n",
       "    </tr>\n",
       "    <tr>\n",
       "      <th>4</th>\n",
       "      <td>4</td>\n",
       "      <td>lmn</td>\n",
       "      <td>IT</td>\n",
       "      <td>50</td>\n",
       "    </tr>\n",
       "    <tr>\n",
       "      <th>stud3</th>\n",
       "      <td>3</td>\n",
       "      <td>xyz</td>\n",
       "      <td>IT</td>\n",
       "      <td>55</td>\n",
       "    </tr>\n",
       "  </tbody>\n",
       "</table>\n",
       "</div>"
      ],
      "text/plain": [
       "       RollNo Name  Dept  Marks\n",
       "stud2       2  pqr  Comp     40\n",
       "stud1       1  abc    IT     50\n",
       "4           4  lmn    IT     50\n",
       "stud3       3  xyz    IT     55"
      ]
     },
     "execution_count": 231,
     "metadata": {},
     "output_type": "execute_result"
    }
   ],
   "source": [
    "df.sort_values(by=['Marks', 'RollNo'])"
   ]
  },
  {
   "cell_type": "code",
   "execution_count": 232,
   "id": "1b3d2f49",
   "metadata": {},
   "outputs": [
    {
     "data": {
      "text/html": [
       "<div>\n",
       "<style scoped>\n",
       "    .dataframe tbody tr th:only-of-type {\n",
       "        vertical-align: middle;\n",
       "    }\n",
       "\n",
       "    .dataframe tbody tr th {\n",
       "        vertical-align: top;\n",
       "    }\n",
       "\n",
       "    .dataframe thead th {\n",
       "        text-align: right;\n",
       "    }\n",
       "</style>\n",
       "<table border=\"1\" class=\"dataframe\">\n",
       "  <thead>\n",
       "    <tr style=\"text-align: right;\">\n",
       "      <th></th>\n",
       "      <th>RollNo</th>\n",
       "      <th>Name</th>\n",
       "      <th>Dept</th>\n",
       "      <th>Marks</th>\n",
       "    </tr>\n",
       "  </thead>\n",
       "  <tbody>\n",
       "    <tr>\n",
       "      <th>stud3</th>\n",
       "      <td>3</td>\n",
       "      <td>xyz</td>\n",
       "      <td>IT</td>\n",
       "      <td>55</td>\n",
       "    </tr>\n",
       "    <tr>\n",
       "      <th>4</th>\n",
       "      <td>4</td>\n",
       "      <td>lmn</td>\n",
       "      <td>IT</td>\n",
       "      <td>50</td>\n",
       "    </tr>\n",
       "    <tr>\n",
       "      <th>stud1</th>\n",
       "      <td>1</td>\n",
       "      <td>abc</td>\n",
       "      <td>IT</td>\n",
       "      <td>50</td>\n",
       "    </tr>\n",
       "    <tr>\n",
       "      <th>stud2</th>\n",
       "      <td>2</td>\n",
       "      <td>pqr</td>\n",
       "      <td>Comp</td>\n",
       "      <td>40</td>\n",
       "    </tr>\n",
       "  </tbody>\n",
       "</table>\n",
       "</div>"
      ],
      "text/plain": [
       "       RollNo Name  Dept  Marks\n",
       "stud3       3  xyz    IT     55\n",
       "4           4  lmn    IT     50\n",
       "stud1       1  abc    IT     50\n",
       "stud2       2  pqr  Comp     40"
      ]
     },
     "execution_count": 232,
     "metadata": {},
     "output_type": "execute_result"
    }
   ],
   "source": [
    "df.sort_values(by=['Marks', 'RollNo'], ascending=False)"
   ]
  },
  {
   "cell_type": "code",
   "execution_count": 233,
   "id": "34cebf7e",
   "metadata": {},
   "outputs": [],
   "source": [
    "passStudents = df[ df['Marks'] > 40] "
   ]
  },
  {
   "cell_type": "code",
   "execution_count": 234,
   "id": "774ce257",
   "metadata": {},
   "outputs": [
    {
     "data": {
      "text/html": [
       "<div>\n",
       "<style scoped>\n",
       "    .dataframe tbody tr th:only-of-type {\n",
       "        vertical-align: middle;\n",
       "    }\n",
       "\n",
       "    .dataframe tbody tr th {\n",
       "        vertical-align: top;\n",
       "    }\n",
       "\n",
       "    .dataframe thead th {\n",
       "        text-align: right;\n",
       "    }\n",
       "</style>\n",
       "<table border=\"1\" class=\"dataframe\">\n",
       "  <thead>\n",
       "    <tr style=\"text-align: right;\">\n",
       "      <th></th>\n",
       "      <th>RollNo</th>\n",
       "      <th>Name</th>\n",
       "      <th>Dept</th>\n",
       "      <th>Marks</th>\n",
       "    </tr>\n",
       "  </thead>\n",
       "  <tbody>\n",
       "    <tr>\n",
       "      <th>stud1</th>\n",
       "      <td>1</td>\n",
       "      <td>abc</td>\n",
       "      <td>IT</td>\n",
       "      <td>50</td>\n",
       "    </tr>\n",
       "    <tr>\n",
       "      <th>stud3</th>\n",
       "      <td>3</td>\n",
       "      <td>xyz</td>\n",
       "      <td>IT</td>\n",
       "      <td>55</td>\n",
       "    </tr>\n",
       "    <tr>\n",
       "      <th>4</th>\n",
       "      <td>4</td>\n",
       "      <td>lmn</td>\n",
       "      <td>IT</td>\n",
       "      <td>50</td>\n",
       "    </tr>\n",
       "  </tbody>\n",
       "</table>\n",
       "</div>"
      ],
      "text/plain": [
       "       RollNo Name Dept  Marks\n",
       "stud1       1  abc   IT     50\n",
       "stud3       3  xyz   IT     55\n",
       "4           4  lmn   IT     50"
      ]
     },
     "execution_count": 234,
     "metadata": {},
     "output_type": "execute_result"
    }
   ],
   "source": [
    "passStudents"
   ]
  },
  {
   "cell_type": "code",
   "execution_count": 236,
   "id": "7340184c",
   "metadata": {},
   "outputs": [
    {
     "data": {
      "text/html": [
       "<div>\n",
       "<style scoped>\n",
       "    .dataframe tbody tr th:only-of-type {\n",
       "        vertical-align: middle;\n",
       "    }\n",
       "\n",
       "    .dataframe tbody tr th {\n",
       "        vertical-align: top;\n",
       "    }\n",
       "\n",
       "    .dataframe thead th {\n",
       "        text-align: right;\n",
       "    }\n",
       "</style>\n",
       "<table border=\"1\" class=\"dataframe\">\n",
       "  <thead>\n",
       "    <tr style=\"text-align: right;\">\n",
       "      <th></th>\n",
       "      <th>RollNo</th>\n",
       "      <th>Name</th>\n",
       "      <th>Dept</th>\n",
       "      <th>Marks</th>\n",
       "    </tr>\n",
       "  </thead>\n",
       "  <tbody>\n",
       "    <tr>\n",
       "      <th>stud1</th>\n",
       "      <td>1</td>\n",
       "      <td>abc</td>\n",
       "      <td>IT</td>\n",
       "      <td>50</td>\n",
       "    </tr>\n",
       "    <tr>\n",
       "      <th>stud3</th>\n",
       "      <td>3</td>\n",
       "      <td>xyz</td>\n",
       "      <td>IT</td>\n",
       "      <td>55</td>\n",
       "    </tr>\n",
       "    <tr>\n",
       "      <th>4</th>\n",
       "      <td>4</td>\n",
       "      <td>lmn</td>\n",
       "      <td>IT</td>\n",
       "      <td>50</td>\n",
       "    </tr>\n",
       "  </tbody>\n",
       "</table>\n",
       "</div>"
      ],
      "text/plain": [
       "       RollNo Name Dept  Marks\n",
       "stud1       1  abc   IT     50\n",
       "stud3       3  xyz   IT     55\n",
       "4           4  lmn   IT     50"
      ]
     },
     "execution_count": 236,
     "metadata": {},
     "output_type": "execute_result"
    }
   ],
   "source": [
    "df[ df['Dept'] == 'IT'] "
   ]
  },
  {
   "cell_type": "code",
   "execution_count": 237,
   "id": "968ed73b",
   "metadata": {},
   "outputs": [
    {
     "data": {
      "text/html": [
       "<div>\n",
       "<style scoped>\n",
       "    .dataframe tbody tr th:only-of-type {\n",
       "        vertical-align: middle;\n",
       "    }\n",
       "\n",
       "    .dataframe tbody tr th {\n",
       "        vertical-align: top;\n",
       "    }\n",
       "\n",
       "    .dataframe thead th {\n",
       "        text-align: right;\n",
       "    }\n",
       "</style>\n",
       "<table border=\"1\" class=\"dataframe\">\n",
       "  <thead>\n",
       "    <tr style=\"text-align: right;\">\n",
       "      <th></th>\n",
       "      <th>RollNo</th>\n",
       "      <th>Name</th>\n",
       "      <th>Dept</th>\n",
       "      <th>Marks</th>\n",
       "    </tr>\n",
       "  </thead>\n",
       "  <tbody>\n",
       "    <tr>\n",
       "      <th>stud1</th>\n",
       "      <td>1</td>\n",
       "      <td>abc</td>\n",
       "      <td>IT</td>\n",
       "      <td>50</td>\n",
       "    </tr>\n",
       "    <tr>\n",
       "      <th>stud2</th>\n",
       "      <td>2</td>\n",
       "      <td>pqr</td>\n",
       "      <td>Comp</td>\n",
       "      <td>40</td>\n",
       "    </tr>\n",
       "    <tr>\n",
       "      <th>stud3</th>\n",
       "      <td>3</td>\n",
       "      <td>xyz</td>\n",
       "      <td>IT</td>\n",
       "      <td>55</td>\n",
       "    </tr>\n",
       "    <tr>\n",
       "      <th>4</th>\n",
       "      <td>4</td>\n",
       "      <td>lmn</td>\n",
       "      <td>IT</td>\n",
       "      <td>50</td>\n",
       "    </tr>\n",
       "  </tbody>\n",
       "</table>\n",
       "</div>"
      ],
      "text/plain": [
       "       RollNo Name  Dept  Marks\n",
       "stud1       1  abc    IT     50\n",
       "stud2       2  pqr  Comp     40\n",
       "stud3       3  xyz    IT     55\n",
       "4           4  lmn    IT     50"
      ]
     },
     "execution_count": 237,
     "metadata": {},
     "output_type": "execute_result"
    }
   ],
   "source": [
    "df"
   ]
  },
  {
   "cell_type": "code",
   "execution_count": 243,
   "id": "93da853a",
   "metadata": {},
   "outputs": [
    {
     "data": {
      "text/html": [
       "<div>\n",
       "<style scoped>\n",
       "    .dataframe tbody tr th:only-of-type {\n",
       "        vertical-align: middle;\n",
       "    }\n",
       "\n",
       "    .dataframe tbody tr th {\n",
       "        vertical-align: top;\n",
       "    }\n",
       "\n",
       "    .dataframe thead th {\n",
       "        text-align: right;\n",
       "    }\n",
       "</style>\n",
       "<table border=\"1\" class=\"dataframe\">\n",
       "  <thead>\n",
       "    <tr style=\"text-align: right;\">\n",
       "      <th></th>\n",
       "      <th>RollNo</th>\n",
       "      <th>Name</th>\n",
       "      <th>Dept</th>\n",
       "      <th>Marks</th>\n",
       "    </tr>\n",
       "  </thead>\n",
       "  <tbody>\n",
       "    <tr>\n",
       "      <th>stud3</th>\n",
       "      <td>3</td>\n",
       "      <td>xyz</td>\n",
       "      <td>IT</td>\n",
       "      <td>55</td>\n",
       "    </tr>\n",
       "  </tbody>\n",
       "</table>\n",
       "</div>"
      ],
      "text/plain": [
       "       RollNo Name Dept  Marks\n",
       "stud3       3  xyz   IT     55"
      ]
     },
     "execution_count": 243,
     "metadata": {},
     "output_type": "execute_result"
    }
   ],
   "source": [
    "df[ df['Dept'] == 'IT'].sort_values(by='Marks', ascending=False).head(1)"
   ]
  },
  {
   "cell_type": "code",
   "execution_count": 246,
   "id": "05938ffa",
   "metadata": {},
   "outputs": [],
   "source": [
    "dg = df.groupby(['Dept'])"
   ]
  },
  {
   "cell_type": "code",
   "execution_count": 250,
   "id": "c708286f",
   "metadata": {},
   "outputs": [
    {
     "data": {
      "text/html": [
       "<div>\n",
       "<style scoped>\n",
       "    .dataframe tbody tr th:only-of-type {\n",
       "        vertical-align: middle;\n",
       "    }\n",
       "\n",
       "    .dataframe tbody tr th {\n",
       "        vertical-align: top;\n",
       "    }\n",
       "\n",
       "    .dataframe thead th {\n",
       "        text-align: right;\n",
       "    }\n",
       "</style>\n",
       "<table border=\"1\" class=\"dataframe\">\n",
       "  <thead>\n",
       "    <tr style=\"text-align: right;\">\n",
       "      <th></th>\n",
       "      <th>RollNo</th>\n",
       "      <th>Name</th>\n",
       "      <th>Marks</th>\n",
       "    </tr>\n",
       "    <tr>\n",
       "      <th>Dept</th>\n",
       "      <th></th>\n",
       "      <th></th>\n",
       "      <th></th>\n",
       "    </tr>\n",
       "  </thead>\n",
       "  <tbody>\n",
       "    <tr>\n",
       "      <th>Comp</th>\n",
       "      <td>2</td>\n",
       "      <td>pqr</td>\n",
       "      <td>40</td>\n",
       "    </tr>\n",
       "    <tr>\n",
       "      <th>IT</th>\n",
       "      <td>4</td>\n",
       "      <td>xyz</td>\n",
       "      <td>55</td>\n",
       "    </tr>\n",
       "  </tbody>\n",
       "</table>\n",
       "</div>"
      ],
      "text/plain": [
       "      RollNo Name  Marks\n",
       "Dept                    \n",
       "Comp       2  pqr     40\n",
       "IT         4  xyz     55"
      ]
     },
     "execution_count": 250,
     "metadata": {},
     "output_type": "execute_result"
    }
   ],
   "source": [
    "dg.max()"
   ]
  },
  {
   "cell_type": "code",
   "execution_count": 251,
   "id": "34edc904",
   "metadata": {},
   "outputs": [
    {
     "data": {
      "text/html": [
       "<div>\n",
       "<style scoped>\n",
       "    .dataframe tbody tr th:only-of-type {\n",
       "        vertical-align: middle;\n",
       "    }\n",
       "\n",
       "    .dataframe tbody tr th {\n",
       "        vertical-align: top;\n",
       "    }\n",
       "\n",
       "    .dataframe thead th {\n",
       "        text-align: right;\n",
       "    }\n",
       "</style>\n",
       "<table border=\"1\" class=\"dataframe\">\n",
       "  <thead>\n",
       "    <tr style=\"text-align: right;\">\n",
       "      <th></th>\n",
       "      <th>RollNo</th>\n",
       "      <th>Name</th>\n",
       "      <th>Marks</th>\n",
       "    </tr>\n",
       "    <tr>\n",
       "      <th>Dept</th>\n",
       "      <th></th>\n",
       "      <th></th>\n",
       "      <th></th>\n",
       "    </tr>\n",
       "  </thead>\n",
       "  <tbody>\n",
       "    <tr>\n",
       "      <th>Comp</th>\n",
       "      <td>2</td>\n",
       "      <td>pqr</td>\n",
       "      <td>40</td>\n",
       "    </tr>\n",
       "    <tr>\n",
       "      <th>IT</th>\n",
       "      <td>1</td>\n",
       "      <td>abc</td>\n",
       "      <td>50</td>\n",
       "    </tr>\n",
       "  </tbody>\n",
       "</table>\n",
       "</div>"
      ],
      "text/plain": [
       "      RollNo Name  Marks\n",
       "Dept                    \n",
       "Comp       2  pqr     40\n",
       "IT         1  abc     50"
      ]
     },
     "execution_count": 251,
     "metadata": {},
     "output_type": "execute_result"
    }
   ],
   "source": [
    "dg.min()"
   ]
  },
  {
   "cell_type": "code",
   "execution_count": 252,
   "id": "00915038",
   "metadata": {},
   "outputs": [
    {
     "data": {
      "text/html": [
       "<div>\n",
       "<style scoped>\n",
       "    .dataframe tbody tr th:only-of-type {\n",
       "        vertical-align: middle;\n",
       "    }\n",
       "\n",
       "    .dataframe tbody tr th {\n",
       "        vertical-align: top;\n",
       "    }\n",
       "\n",
       "    .dataframe thead th {\n",
       "        text-align: right;\n",
       "    }\n",
       "</style>\n",
       "<table border=\"1\" class=\"dataframe\">\n",
       "  <thead>\n",
       "    <tr style=\"text-align: right;\">\n",
       "      <th></th>\n",
       "      <th>RollNo</th>\n",
       "      <th>Name</th>\n",
       "      <th>Marks</th>\n",
       "    </tr>\n",
       "  </thead>\n",
       "  <tbody>\n",
       "    <tr>\n",
       "      <th>stud1</th>\n",
       "      <td>1.0</td>\n",
       "      <td>1.0</td>\n",
       "      <td>1.5</td>\n",
       "    </tr>\n",
       "    <tr>\n",
       "      <th>stud2</th>\n",
       "      <td>1.0</td>\n",
       "      <td>1.0</td>\n",
       "      <td>1.0</td>\n",
       "    </tr>\n",
       "    <tr>\n",
       "      <th>stud3</th>\n",
       "      <td>2.0</td>\n",
       "      <td>3.0</td>\n",
       "      <td>3.0</td>\n",
       "    </tr>\n",
       "    <tr>\n",
       "      <th>4</th>\n",
       "      <td>3.0</td>\n",
       "      <td>2.0</td>\n",
       "      <td>1.5</td>\n",
       "    </tr>\n",
       "  </tbody>\n",
       "</table>\n",
       "</div>"
      ],
      "text/plain": [
       "       RollNo  Name  Marks\n",
       "stud1     1.0   1.0    1.5\n",
       "stud2     1.0   1.0    1.0\n",
       "stud3     2.0   3.0    3.0\n",
       "4         3.0   2.0    1.5"
      ]
     },
     "execution_count": 252,
     "metadata": {},
     "output_type": "execute_result"
    }
   ],
   "source": [
    "dg.rank()"
   ]
  },
  {
   "cell_type": "code",
   "execution_count": 253,
   "id": "d178bc40",
   "metadata": {},
   "outputs": [
    {
     "data": {
      "text/plain": [
       "{'Comp': ['stud2'], 'IT': ['stud1', 'stud3', 4]}"
      ]
     },
     "execution_count": 253,
     "metadata": {},
     "output_type": "execute_result"
    }
   ],
   "source": [
    "dg.groups"
   ]
  },
  {
   "cell_type": "code",
   "execution_count": 258,
   "id": "fefd6c10",
   "metadata": {},
   "outputs": [
    {
     "name": "stdout",
     "output_type": "stream",
     "text": [
      "Group: Comp\n",
      "data:         RollNo Name  Dept  Marks\n",
      "stud2       2  pqr  Comp     40\n",
      "Group: IT\n",
      "data:         RollNo Name Dept  Marks\n",
      "stud1       1  abc   IT     50\n",
      "stud3       3  xyz   IT     55\n",
      "4           4  lmn   IT     50\n"
     ]
    }
   ],
   "source": [
    "for name, group in dg:\n",
    "    print(\"Group:\", name)\n",
    "    print(\"data: \", group)"
   ]
  },
  {
   "cell_type": "code",
   "execution_count": 261,
   "id": "99331c58",
   "metadata": {},
   "outputs": [
    {
     "data": {
      "text/html": [
       "<div>\n",
       "<style scoped>\n",
       "    .dataframe tbody tr th:only-of-type {\n",
       "        vertical-align: middle;\n",
       "    }\n",
       "\n",
       "    .dataframe tbody tr th {\n",
       "        vertical-align: top;\n",
       "    }\n",
       "\n",
       "    .dataframe thead th {\n",
       "        text-align: right;\n",
       "    }\n",
       "</style>\n",
       "<table border=\"1\" class=\"dataframe\">\n",
       "  <thead>\n",
       "    <tr style=\"text-align: right;\">\n",
       "      <th></th>\n",
       "      <th>sum</th>\n",
       "      <th>mean</th>\n",
       "      <th>std</th>\n",
       "    </tr>\n",
       "    <tr>\n",
       "      <th>Dept</th>\n",
       "      <th></th>\n",
       "      <th></th>\n",
       "      <th></th>\n",
       "    </tr>\n",
       "  </thead>\n",
       "  <tbody>\n",
       "    <tr>\n",
       "      <th>Comp</th>\n",
       "      <td>40</td>\n",
       "      <td>40.000000</td>\n",
       "      <td>NaN</td>\n",
       "    </tr>\n",
       "    <tr>\n",
       "      <th>IT</th>\n",
       "      <td>155</td>\n",
       "      <td>51.666667</td>\n",
       "      <td>2.886751</td>\n",
       "    </tr>\n",
       "  </tbody>\n",
       "</table>\n",
       "</div>"
      ],
      "text/plain": [
       "      sum       mean       std\n",
       "Dept                          \n",
       "Comp   40  40.000000       NaN\n",
       "IT    155  51.666667  2.886751"
      ]
     },
     "execution_count": 261,
     "metadata": {},
     "output_type": "execute_result"
    }
   ],
   "source": [
    "dg['Marks'].agg([np.sum, np.mean, np.std])"
   ]
  },
  {
   "cell_type": "code",
   "execution_count": 262,
   "id": "44b86dfa",
   "metadata": {},
   "outputs": [
    {
     "data": {
      "text/html": [
       "<div>\n",
       "<style scoped>\n",
       "    .dataframe tbody tr th:only-of-type {\n",
       "        vertical-align: middle;\n",
       "    }\n",
       "\n",
       "    .dataframe tbody tr th {\n",
       "        vertical-align: top;\n",
       "    }\n",
       "\n",
       "    .dataframe thead th {\n",
       "        text-align: right;\n",
       "    }\n",
       "</style>\n",
       "<table border=\"1\" class=\"dataframe\">\n",
       "  <thead>\n",
       "    <tr style=\"text-align: right;\">\n",
       "      <th></th>\n",
       "      <th>RollNo</th>\n",
       "      <th>Marks</th>\n",
       "    </tr>\n",
       "  </thead>\n",
       "  <tbody>\n",
       "    <tr>\n",
       "      <th>count</th>\n",
       "      <td>4.000000</td>\n",
       "      <td>4.000000</td>\n",
       "    </tr>\n",
       "    <tr>\n",
       "      <th>mean</th>\n",
       "      <td>2.500000</td>\n",
       "      <td>48.750000</td>\n",
       "    </tr>\n",
       "    <tr>\n",
       "      <th>std</th>\n",
       "      <td>1.290994</td>\n",
       "      <td>6.291529</td>\n",
       "    </tr>\n",
       "    <tr>\n",
       "      <th>min</th>\n",
       "      <td>1.000000</td>\n",
       "      <td>40.000000</td>\n",
       "    </tr>\n",
       "    <tr>\n",
       "      <th>25%</th>\n",
       "      <td>1.750000</td>\n",
       "      <td>47.500000</td>\n",
       "    </tr>\n",
       "    <tr>\n",
       "      <th>50%</th>\n",
       "      <td>2.500000</td>\n",
       "      <td>50.000000</td>\n",
       "    </tr>\n",
       "    <tr>\n",
       "      <th>75%</th>\n",
       "      <td>3.250000</td>\n",
       "      <td>51.250000</td>\n",
       "    </tr>\n",
       "    <tr>\n",
       "      <th>max</th>\n",
       "      <td>4.000000</td>\n",
       "      <td>55.000000</td>\n",
       "    </tr>\n",
       "  </tbody>\n",
       "</table>\n",
       "</div>"
      ],
      "text/plain": [
       "         RollNo      Marks\n",
       "count  4.000000   4.000000\n",
       "mean   2.500000  48.750000\n",
       "std    1.290994   6.291529\n",
       "min    1.000000  40.000000\n",
       "25%    1.750000  47.500000\n",
       "50%    2.500000  50.000000\n",
       "75%    3.250000  51.250000\n",
       "max    4.000000  55.000000"
      ]
     },
     "execution_count": 262,
     "metadata": {},
     "output_type": "execute_result"
    }
   ],
   "source": [
    "df.describe()"
   ]
  },
  {
   "cell_type": "code",
   "execution_count": 263,
   "id": "5d79410c",
   "metadata": {},
   "outputs": [
    {
     "data": {
      "text/html": [
       "<div>\n",
       "<style scoped>\n",
       "    .dataframe tbody tr th:only-of-type {\n",
       "        vertical-align: middle;\n",
       "    }\n",
       "\n",
       "    .dataframe tbody tr th {\n",
       "        vertical-align: top;\n",
       "    }\n",
       "\n",
       "    .dataframe thead th {\n",
       "        text-align: right;\n",
       "    }\n",
       "</style>\n",
       "<table border=\"1\" class=\"dataframe\">\n",
       "  <thead>\n",
       "    <tr style=\"text-align: right;\">\n",
       "      <th></th>\n",
       "      <th>RollNo</th>\n",
       "      <th>Name</th>\n",
       "      <th>Dept</th>\n",
       "      <th>Marks</th>\n",
       "    </tr>\n",
       "  </thead>\n",
       "  <tbody>\n",
       "    <tr>\n",
       "      <th>stud1</th>\n",
       "      <td>1</td>\n",
       "      <td>abc</td>\n",
       "      <td>IT</td>\n",
       "      <td>50</td>\n",
       "    </tr>\n",
       "    <tr>\n",
       "      <th>stud2</th>\n",
       "      <td>2</td>\n",
       "      <td>pqr</td>\n",
       "      <td>Comp</td>\n",
       "      <td>40</td>\n",
       "    </tr>\n",
       "    <tr>\n",
       "      <th>stud3</th>\n",
       "      <td>3</td>\n",
       "      <td>xyz</td>\n",
       "      <td>IT</td>\n",
       "      <td>55</td>\n",
       "    </tr>\n",
       "    <tr>\n",
       "      <th>4</th>\n",
       "      <td>4</td>\n",
       "      <td>lmn</td>\n",
       "      <td>IT</td>\n",
       "      <td>50</td>\n",
       "    </tr>\n",
       "  </tbody>\n",
       "</table>\n",
       "</div>"
      ],
      "text/plain": [
       "       RollNo Name  Dept  Marks\n",
       "stud1       1  abc    IT     50\n",
       "stud2       2  pqr  Comp     40\n",
       "stud3       3  xyz    IT     55\n",
       "4           4  lmn    IT     50"
      ]
     },
     "execution_count": 263,
     "metadata": {},
     "output_type": "execute_result"
    }
   ],
   "source": [
    "df"
   ]
  },
  {
   "cell_type": "code",
   "execution_count": 264,
   "id": "1ec2fdd4",
   "metadata": {},
   "outputs": [],
   "source": [
    "import matplotlib.pyplot as plt"
   ]
  },
  {
   "cell_type": "code",
   "execution_count": 265,
   "id": "2b221637",
   "metadata": {},
   "outputs": [],
   "source": [
    "plt.rcParams.update({'font.size': 20, 'figure.figsize': (10, 8)})"
   ]
  },
  {
   "cell_type": "code",
   "execution_count": 266,
   "id": "1fbfebc7",
   "metadata": {},
   "outputs": [],
   "source": [
    "data = [['tom', 10, 50], ['nick', 15, 67], ['juli', 14, 87]]\n",
    "df = pd.DataFrame(data, columns=['Name', 'Age', 'Score'])"
   ]
  },
  {
   "cell_type": "code",
   "execution_count": 267,
   "id": "2e9f13a1",
   "metadata": {},
   "outputs": [
    {
     "data": {
      "text/html": [
       "<div>\n",
       "<style scoped>\n",
       "    .dataframe tbody tr th:only-of-type {\n",
       "        vertical-align: middle;\n",
       "    }\n",
       "\n",
       "    .dataframe tbody tr th {\n",
       "        vertical-align: top;\n",
       "    }\n",
       "\n",
       "    .dataframe thead th {\n",
       "        text-align: right;\n",
       "    }\n",
       "</style>\n",
       "<table border=\"1\" class=\"dataframe\">\n",
       "  <thead>\n",
       "    <tr style=\"text-align: right;\">\n",
       "      <th></th>\n",
       "      <th>Name</th>\n",
       "      <th>Age</th>\n",
       "      <th>Score</th>\n",
       "    </tr>\n",
       "  </thead>\n",
       "  <tbody>\n",
       "    <tr>\n",
       "      <th>0</th>\n",
       "      <td>tom</td>\n",
       "      <td>10</td>\n",
       "      <td>50</td>\n",
       "    </tr>\n",
       "    <tr>\n",
       "      <th>1</th>\n",
       "      <td>nick</td>\n",
       "      <td>15</td>\n",
       "      <td>67</td>\n",
       "    </tr>\n",
       "    <tr>\n",
       "      <th>2</th>\n",
       "      <td>juli</td>\n",
       "      <td>14</td>\n",
       "      <td>87</td>\n",
       "    </tr>\n",
       "  </tbody>\n",
       "</table>\n",
       "</div>"
      ],
      "text/plain": [
       "   Name  Age  Score\n",
       "0   tom   10     50\n",
       "1  nick   15     67\n",
       "2  juli   14     87"
      ]
     },
     "execution_count": 267,
     "metadata": {},
     "output_type": "execute_result"
    }
   ],
   "source": [
    "df"
   ]
  },
  {
   "cell_type": "code",
   "execution_count": 272,
   "id": "d6ce94db",
   "metadata": {
    "scrolled": true
   },
   "outputs": [
    {
     "data": {
      "text/plain": [
       "<AxesSubplot:title={'center':'age vs score chart'}, ylabel='Score'>"
      ]
     },
     "execution_count": 272,
     "metadata": {},
     "output_type": "execute_result"
    },
    {
     "data": {
      "image/png": "[encoded data removed]",
      "text/plain": [
       "<Figure size 720x576 with 1 Axes>"
      ]
     },
     "metadata": {},
     "output_type": "display_data"
    }
   ],
   "source": [
    "df.plot(kind='pie', x='Age', y='Score', title='age vs score chart')"
   ]
  },
  {
   "cell_type": "code",
   "execution_count": 270,
   "id": "242d9a25",
   "metadata": {},
   "outputs": [
    {
     "data": {
      "text/plain": [
       "<AxesSubplot:title={'center':'age vs score chart'}, ylabel='Frequency'>"
      ]
     },
     "execution_count": 270,
     "metadata": {},
     "output_type": "execute_result"
    },
    {
     "data": {
      "image/png": "[encoded data removed]",
      "text/plain": [
       "<Figure size 720x576 with 1 Axes>"
      ]
     },
     "metadata": {
      "needs_background": "light"
     },
     "output_type": "display_data"
    }
   ],
   "source": [
    "df.plot(kind='hist', x='Age', y='Score', title='age vs score chart')"
   ]
  },
  {
   "cell_type": "code",
   "execution_count": 274,
   "id": "04ae23a0",
   "metadata": {},
   "outputs": [
    {
     "data": {
      "text/plain": [
       "<mpl_toolkits.mplot3d.art3d.Poly3DCollection at 0x7f837444d070>"
      ]
     },
     "execution_count": 274,
     "metadata": {},
     "output_type": "execute_result"
    },
    {
     "data": {
      "image/png": "[encoded data removed]",
      "text/plain": [
       "<Figure size 720x576 with 1 Axes>"
      ]
     },
     "metadata": {
      "needs_background": "light"
     },
     "output_type": "display_data"
    }
   ],
   "source": [
    "fig = plt.figure()\n",
    "ax = fig.add_subplot(projection='3d')\n",
    "X = np.arange(-5, 5, 0.15)\n",
    "Y = np.arange(-5, 5, 0.15)\n",
    "X, Y = np.meshgrid(X, Y)\n",
    "R = np.sqrt(X**2 + Y**2)\n",
    "Z = np.sin(R)\n",
    "\n",
    "ax.plot_surface(X, Y, Z, rstride=1, cstride=1, cmap='viridis')"
   ]
  },
  {
   "cell_type": "code",
   "execution_count": 278,
   "id": "f9e3ccf9",
   "metadata": {},
   "outputs": [],
   "source": [
    "data = pd.read_csv('data.csv', names=['lat', 'lang'])"
   ]
  },
  {
   "cell_type": "code",
   "execution_count": 279,
   "id": "aa4ff77e",
   "metadata": {},
   "outputs": [
    {
     "data": {
      "text/html": [
       "<div>\n",
       "<style scoped>\n",
       "    .dataframe tbody tr th:only-of-type {\n",
       "        vertical-align: middle;\n",
       "    }\n",
       "\n",
       "    .dataframe tbody tr th {\n",
       "        vertical-align: top;\n",
       "    }\n",
       "\n",
       "    .dataframe thead th {\n",
       "        text-align: right;\n",
       "    }\n",
       "</style>\n",
       "<table border=\"1\" class=\"dataframe\">\n",
       "  <thead>\n",
       "    <tr style=\"text-align: right;\">\n",
       "      <th></th>\n",
       "      <th>lat</th>\n",
       "      <th>lang</th>\n",
       "    </tr>\n",
       "  </thead>\n",
       "  <tbody>\n",
       "    <tr>\n",
       "      <th>0</th>\n",
       "      <td>32.502345</td>\n",
       "      <td>31.707006</td>\n",
       "    </tr>\n",
       "    <tr>\n",
       "      <th>1</th>\n",
       "      <td>53.426804</td>\n",
       "      <td>68.777596</td>\n",
       "    </tr>\n",
       "    <tr>\n",
       "      <th>2</th>\n",
       "      <td>61.530358</td>\n",
       "      <td>62.562382</td>\n",
       "    </tr>\n",
       "    <tr>\n",
       "      <th>3</th>\n",
       "      <td>47.475640</td>\n",
       "      <td>71.546632</td>\n",
       "    </tr>\n",
       "    <tr>\n",
       "      <th>4</th>\n",
       "      <td>59.813208</td>\n",
       "      <td>87.230925</td>\n",
       "    </tr>\n",
       "    <tr>\n",
       "      <th>...</th>\n",
       "      <td>...</td>\n",
       "      <td>...</td>\n",
       "    </tr>\n",
       "    <tr>\n",
       "      <th>95</th>\n",
       "      <td>50.030174</td>\n",
       "      <td>81.536991</td>\n",
       "    </tr>\n",
       "    <tr>\n",
       "      <th>96</th>\n",
       "      <td>49.239765</td>\n",
       "      <td>72.111832</td>\n",
       "    </tr>\n",
       "    <tr>\n",
       "      <th>97</th>\n",
       "      <td>50.039576</td>\n",
       "      <td>85.232007</td>\n",
       "    </tr>\n",
       "    <tr>\n",
       "      <th>98</th>\n",
       "      <td>48.149859</td>\n",
       "      <td>66.224958</td>\n",
       "    </tr>\n",
       "    <tr>\n",
       "      <th>99</th>\n",
       "      <td>25.128485</td>\n",
       "      <td>53.454394</td>\n",
       "    </tr>\n",
       "  </tbody>\n",
       "</table>\n",
       "<p>100 rows × 2 columns</p>\n",
       "</div>"
      ],
      "text/plain": [
       "          lat       lang\n",
       "0   32.502345  31.707006\n",
       "1   53.426804  68.777596\n",
       "2   61.530358  62.562382\n",
       "3   47.475640  71.546632\n",
       "4   59.813208  87.230925\n",
       "..        ...        ...\n",
       "95  50.030174  81.536991\n",
       "96  49.239765  72.111832\n",
       "97  50.039576  85.232007\n",
       "98  48.149859  66.224958\n",
       "99  25.128485  53.454394\n",
       "\n",
       "[100 rows x 2 columns]"
      ]
     },
     "execution_count": 279,
     "metadata": {},
     "output_type": "execute_result"
    }
   ],
   "source": [
    "data"
   ]
  },
  {
   "cell_type": "code",
   "execution_count": 280,
   "id": "be5eff2a",
   "metadata": {},
   "outputs": [],
   "source": [
    "from sklearn.linear_model import LinearRegression"
   ]
  },
  {
   "cell_type": "code",
   "execution_count": 281,
   "id": "220f4f18",
   "metadata": {},
   "outputs": [],
   "source": [
    "X = data.iloc[:, 0].values.reshape(-1, 1)"
   ]
  },
  {
   "cell_type": "code",
   "execution_count": 282,
   "id": "d1482c22",
   "metadata": {},
   "outputs": [
    {
     "data": {
      "text/plain": [
       "array([[32.50234527],\n",
       "       [53.42680403],\n",
       "       [61.53035803],\n",
       "       [47.47563963],\n",
       "       [59.81320787],\n",
       "       [55.14218841],\n",
       "       [52.21179669],\n",
       "       [39.29956669],\n",
       "       [48.10504169],\n",
       "       [52.55001444],\n",
       "       [45.41973014],\n",
       "       [54.35163488],\n",
       "       [44.1640495 ],\n",
       "       [58.16847072],\n",
       "       [56.72720806],\n",
       "       [48.95588857],\n",
       "       [44.68719623],\n",
       "       [60.29732685],\n",
       "       [45.61864377],\n",
       "       [38.81681754],\n",
       "       [66.18981661],\n",
       "       [65.41605175],\n",
       "       [47.48120861],\n",
       "       [41.57564262],\n",
       "       [51.84518691],\n",
       "       [59.37082201],\n",
       "       [57.31000344],\n",
       "       [63.61556125],\n",
       "       [46.73761941],\n",
       "       [50.55676015],\n",
       "       [52.22399609],\n",
       "       [35.56783005],\n",
       "       [42.43647694],\n",
       "       [58.16454011],\n",
       "       [57.50444762],\n",
       "       [45.44053073],\n",
       "       [61.89622268],\n",
       "       [33.09383174],\n",
       "       [36.43600951],\n",
       "       [37.67565486],\n",
       "       [44.55560838],\n",
       "       [43.31828263],\n",
       "       [50.07314563],\n",
       "       [43.87061265],\n",
       "       [62.99748075],\n",
       "       [32.66904376],\n",
       "       [40.16689901],\n",
       "       [53.57507753],\n",
       "       [33.86421497],\n",
       "       [64.70713867],\n",
       "       [38.11982403],\n",
       "       [44.50253806],\n",
       "       [40.59953838],\n",
       "       [41.72067636],\n",
       "       [51.08863468],\n",
       "       [55.0780959 ],\n",
       "       [41.37772653],\n",
       "       [62.49469743],\n",
       "       [49.20388754],\n",
       "       [41.10268519],\n",
       "       [41.18201611],\n",
       "       [50.18638949],\n",
       "       [52.37844622],\n",
       "       [50.13548549],\n",
       "       [33.64470601],\n",
       "       [39.55790122],\n",
       "       [56.13038882],\n",
       "       [57.36205213],\n",
       "       [60.26921439],\n",
       "       [35.67809389],\n",
       "       [31.588117  ],\n",
       "       [53.66093226],\n",
       "       [46.68222865],\n",
       "       [43.10782022],\n",
       "       [70.34607562],\n",
       "       [44.49285588],\n",
       "       [57.5045333 ],\n",
       "       [36.93007661],\n",
       "       [55.80573336],\n",
       "       [38.95476907],\n",
       "       [56.9012147 ],\n",
       "       [56.86890066],\n",
       "       [34.3331247 ],\n",
       "       [59.04974121],\n",
       "       [57.78822399],\n",
       "       [54.28232871],\n",
       "       [51.0887199 ],\n",
       "       [50.28283635],\n",
       "       [44.21174175],\n",
       "       [38.00548801],\n",
       "       [32.94047994],\n",
       "       [53.69163957],\n",
       "       [68.76573427],\n",
       "       [46.2309665 ],\n",
       "       [68.31936082],\n",
       "       [50.03017434],\n",
       "       [49.23976534],\n",
       "       [50.03957594],\n",
       "       [48.14985889],\n",
       "       [25.12848465]])"
      ]
     },
     "execution_count": 282,
     "metadata": {},
     "output_type": "execute_result"
    }
   ],
   "source": [
    "X"
   ]
  },
  {
   "cell_type": "code",
   "execution_count": 283,
   "id": "cab05f1e",
   "metadata": {},
   "outputs": [],
   "source": [
    "Y = data.iloc[:, 1].values.reshape(-1, 1)"
   ]
  },
  {
   "cell_type": "code",
   "execution_count": 284,
   "id": "adfbaf88",
   "metadata": {},
   "outputs": [
    {
     "data": {
      "text/plain": [
       "array([[ 31.70700585],\n",
       "       [ 68.77759598],\n",
       "       [ 62.5623823 ],\n",
       "       [ 71.54663223],\n",
       "       [ 87.23092513],\n",
       "       [ 78.21151827],\n",
       "       [ 79.64197305],\n",
       "       [ 59.17148932],\n",
       "       [ 75.3312423 ],\n",
       "       [ 71.30087989],\n",
       "       [ 55.16567715],\n",
       "       [ 82.47884676],\n",
       "       [ 62.00892325],\n",
       "       [ 75.39287043],\n",
       "       [ 81.43619216],\n",
       "       [ 60.72360244],\n",
       "       [ 82.89250373],\n",
       "       [ 97.37989686],\n",
       "       [ 48.84715332],\n",
       "       [ 56.87721319],\n",
       "       [ 83.87856466],\n",
       "       [118.5912173 ],\n",
       "       [ 57.25181946],\n",
       "       [ 51.39174408],\n",
       "       [ 75.38065167],\n",
       "       [ 74.76556403],\n",
       "       [ 95.45505292],\n",
       "       [ 95.22936602],\n",
       "       [ 79.05240617],\n",
       "       [ 83.43207142],\n",
       "       [ 63.35879032],\n",
       "       [ 41.4128853 ],\n",
       "       [ 76.61734128],\n",
       "       [ 96.76956643],\n",
       "       [ 74.08413012],\n",
       "       [ 66.58814441],\n",
       "       [ 77.76848242],\n",
       "       [ 50.71958891],\n",
       "       [ 62.12457082],\n",
       "       [ 60.81024665],\n",
       "       [ 52.68298337],\n",
       "       [ 58.56982472],\n",
       "       [ 82.90598149],\n",
       "       [ 61.4247098 ],\n",
       "       [115.2441528 ],\n",
       "       [ 45.57058882],\n",
       "       [ 54.0840548 ],\n",
       "       [ 87.99445276],\n",
       "       [ 52.72549438],\n",
       "       [ 93.57611869],\n",
       "       [ 80.16627545],\n",
       "       [ 65.10171157],\n",
       "       [ 65.56230126],\n",
       "       [ 65.28088692],\n",
       "       [ 73.43464155],\n",
       "       [ 71.13972786],\n",
       "       [ 79.10282968],\n",
       "       [ 86.52053844],\n",
       "       [ 84.74269781],\n",
       "       [ 59.35885025],\n",
       "       [ 61.68403752],\n",
       "       [ 69.84760416],\n",
       "       [ 86.09829121],\n",
       "       [ 59.10883927],\n",
       "       [ 69.89968164],\n",
       "       [ 44.86249071],\n",
       "       [ 85.49806778],\n",
       "       [ 95.53668685],\n",
       "       [ 70.25193442],\n",
       "       [ 52.72173496],\n",
       "       [ 50.39267014],\n",
       "       [ 63.64239878],\n",
       "       [ 72.24725107],\n",
       "       [ 57.81251298],\n",
       "       [104.25710159],\n",
       "       [ 86.64202032],\n",
       "       [ 91.486778  ],\n",
       "       [ 55.23166089],\n",
       "       [ 79.55043668],\n",
       "       [ 44.84712424],\n",
       "       [ 80.20752314],\n",
       "       [ 83.14274979],\n",
       "       [ 55.72348926],\n",
       "       [ 77.63418251],\n",
       "       [ 99.05141484],\n",
       "       [ 79.12064627],\n",
       "       [ 69.58889785],\n",
       "       [ 69.51050331],\n",
       "       [ 73.68756432],\n",
       "       [ 61.36690454],\n",
       "       [ 67.17065577],\n",
       "       [ 85.66820315],\n",
       "       [114.85387123],\n",
       "       [ 90.12357207],\n",
       "       [ 97.91982104],\n",
       "       [ 81.53699078],\n",
       "       [ 72.11183247],\n",
       "       [ 85.23200734],\n",
       "       [ 66.22495789],\n",
       "       [ 53.45439421]])"
      ]
     },
     "execution_count": 284,
     "metadata": {},
     "output_type": "execute_result"
    }
   ],
   "source": [
    "Y"
   ]
  },
  {
   "cell_type": "code",
   "execution_count": 285,
   "id": "a7d7f2e2",
   "metadata": {},
   "outputs": [],
   "source": [
    "linear_regressor = LinearRegression() "
   ]
  },
  {
   "cell_type": "code",
   "execution_count": 286,
   "id": "ce87a3ef",
   "metadata": {},
   "outputs": [
    {
     "data": {
      "text/plain": [
       "LinearRegression()"
      ]
     },
     "execution_count": 286,
     "metadata": {},
     "output_type": "execute_result"
    }
   ],
   "source": [
    "linear_regressor.fit(X, Y)"
   ]
  },
  {
   "cell_type": "code",
   "execution_count": 287,
   "id": "628abb26",
   "metadata": {},
   "outputs": [],
   "source": [
    "Y_pred = linear_regressor.predict(X)"
   ]
  },
  {
   "cell_type": "code",
   "execution_count": 288,
   "id": "22b0a969",
   "metadata": {},
   "outputs": [
    {
     "data": {
      "text/plain": [
       "array([[ 50.97313068],\n",
       "       [ 78.64428408],\n",
       "       [ 89.36067528],\n",
       "       [ 70.77427966],\n",
       "       [ 87.08986264],\n",
       "       [ 80.9127616 ],\n",
       "       [ 77.03752068],\n",
       "       [ 59.96198716],\n",
       "       [ 71.60662047],\n",
       "       [ 77.48479033],\n",
       "       [ 68.05548117],\n",
       "       [ 79.86730909],\n",
       "       [ 66.39493013],\n",
       "       [ 84.9148112 ],\n",
       "       [ 83.00884075],\n",
       "       [ 72.73180677],\n",
       "       [ 67.0867556 ],\n",
       "       [ 87.7300766 ],\n",
       "       [ 68.31853072],\n",
       "       [ 59.3235847 ],\n",
       "       [ 95.52248785],\n",
       "       [ 94.4992372 ],\n",
       "       [ 70.78164424],\n",
       "       [ 62.97194057],\n",
       "       [ 76.55270453],\n",
       "       [ 86.50483786],\n",
       "       [ 83.77954744],\n",
       "       [ 92.11821271],\n",
       "       [ 69.79829882],\n",
       "       [ 74.84884901],\n",
       "       [ 77.05365354],\n",
       "       [ 55.02702285],\n",
       "       [ 64.11033459],\n",
       "       [ 84.90961325],\n",
       "       [ 84.03668646],\n",
       "       [ 68.0829885 ],\n",
       "       [ 89.84450605],\n",
       "       [ 51.75533073],\n",
       "       [ 56.17513031],\n",
       "       [ 57.81447577],\n",
       "       [ 66.91273975],\n",
       "       [ 65.27646179],\n",
       "       [ 74.20930217],\n",
       "       [ 66.00688013],\n",
       "       [ 91.30084388],\n",
       "       [ 51.19357794],\n",
       "       [ 61.10897432],\n",
       "       [ 78.84036556],\n",
       "       [ 52.77410942],\n",
       "       [ 93.56174855],\n",
       "       [ 58.40185886],\n",
       "       [ 66.84255791],\n",
       "       [ 61.68111005],\n",
       "       [ 63.16373769],\n",
       "       [ 75.55221639],\n",
       "       [ 80.82800368],\n",
       "       [ 62.7102102 ],\n",
       "       [ 90.63594762],\n",
       "       [ 73.05976831],\n",
       "       [ 62.34648699],\n",
       "       [ 62.45139666],\n",
       "       [ 74.35905937],\n",
       "       [ 77.25790319],\n",
       "       [ 74.29174233],\n",
       "       [ 52.48382396],\n",
       "       [ 60.30361675],\n",
       "       [ 82.21958847],\n",
       "       [ 83.84837825],\n",
       "       [ 87.69289981],\n",
       "       [ 55.17283917],\n",
       "       [ 49.76412685],\n",
       "       [ 78.95390252],\n",
       "       [ 69.72504836],\n",
       "       [ 64.99813976],\n",
       "       [101.0188537 ],\n",
       "       [ 66.82975389],\n",
       "       [ 84.03679977],\n",
       "       [ 56.82849996],\n",
       "       [ 81.79025402],\n",
       "       [ 59.50601609],\n",
       "       [ 83.23895254],\n",
       "       [ 83.19621945],\n",
       "       [ 53.3942102 ],\n",
       "       [ 86.08023065],\n",
       "       [ 84.41196114],\n",
       "       [ 79.77565645],\n",
       "       [ 75.55232909],\n",
       "       [ 74.48660368],\n",
       "       [ 66.45799985],\n",
       "       [ 58.25065736],\n",
       "       [ 51.55253356],\n",
       "       [ 78.99451081],\n",
       "       [ 98.92896128],\n",
       "       [ 69.12828529],\n",
       "       [ 98.33866318],\n",
       "       [ 74.1524756 ],\n",
       "       [ 73.10721422],\n",
       "       [ 74.16490857],\n",
       "       [ 71.66588812],\n",
       "       [ 41.22170864]])"
      ]
     },
     "execution_count": 288,
     "metadata": {},
     "output_type": "execute_result"
    }
   ],
   "source": [
    "Y_pred"
   ]
  },
  {
   "cell_type": "code",
   "execution_count": 289,
   "id": "9c1c8f31",
   "metadata": {},
   "outputs": [
    {
     "data": {
      "text/plain": [
       "<matplotlib.collections.PathCollection at 0x7f8377f176a0>"
      ]
     },
     "execution_count": 289,
     "metadata": {},
     "output_type": "execute_result"
    },
    {
     "data": {
      "image/png": "[encoded data removed]",
      "text/plain": [
       "<Figure size 720x576 with 1 Axes>"
      ]
     },
     "metadata": {
      "needs_background": "light"
     },
     "output_type": "display_data"
    }
   ],
   "source": [
    "plt.scatter(X, Y)"
   ]
  },
  {
   "cell_type": "code",
   "execution_count": 292,
   "id": "ce9d2760",
   "metadata": {},
   "outputs": [
    {
     "data": {
      "image/png": "[encoded data removed]",
      "text/plain": [
       "<Figure size 720x576 with 1 Axes>"
      ]
     },
     "metadata": {
      "needs_background": "light"
     },
     "output_type": "display_data"
    }
   ],
   "source": [
    "plt.scatter(X, Y)\n",
    "plt.plot(X, Y_pred, color='red')\n",
    "plt.show()"
   ]
  }
 ],
 "metadata": {
  "kernelspec": {
   "display_name": "Python 3 (ipykernel)",
   "language": "python",
   "name": "python3"
  },
  "language_info": {
   "codemirror_mode": {
    "name": "ipython",
    "version": 3
   },
   "file_extension": ".py",
   "mimetype": "text/x-python",
   "name": "python",
   "nbconvert_exporter": "python",
   "pygments_lexer": "ipython3",
   "version": "3.8.10"
  }
 },
 "nbformat": 4,
 "nbformat_minor": 5
}
