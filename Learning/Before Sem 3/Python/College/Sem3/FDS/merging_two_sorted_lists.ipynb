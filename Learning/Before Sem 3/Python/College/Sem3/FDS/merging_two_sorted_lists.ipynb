{
 "cells": [
  {
   "cell_type": "code",
   "execution_count": 3,
   "metadata": {},
   "outputs": [
    {
     "name": "stdout",
     "output_type": "stream",
     "text": [
      "0\n"
     ]
    },
    {
     "ename": "IndexError",
     "evalue": "list assignment index out of range",
     "output_type": "error",
     "traceback": [
      "\u001b[0;31m---------------------------------------------------------------------------\u001b[0m",
      "\u001b[0;31mIndexError\u001b[0m                                Traceback (most recent call last)",
      "Cell \u001b[0;32mIn [3], line 4\u001b[0m\n\u001b[1;32m      2\u001b[0m \u001b[39mprint\u001b[39m(\u001b[39mlen\u001b[39m(lst))\n\u001b[1;32m      3\u001b[0m lst\n\u001b[0;32m----> 4\u001b[0m lst[\u001b[39m0\u001b[39;49m] \u001b[39m=\u001b[39m \u001b[39m1\u001b[39m\n\u001b[1;32m      5\u001b[0m lst[\u001b[39m1\u001b[39m] \u001b[39m=\u001b[39m \u001b[39m3\u001b[39m\n",
      "\u001b[0;31mIndexError\u001b[0m: list assignment index out of range"
     ]
    }
   ],
   "source": [
    "lst = [] * (10)\n",
    "print(len(lst))\n",
    "lst\n",
    "lst[0] = 1\n",
    "lst[1] = 3"
   ]
  },
  {
   "cell_type": "code",
   "execution_count": 4,
   "metadata": {},
   "outputs": [
    {
     "name": "stdout",
     "output_type": "stream",
     "text": [
      "10\n"
     ]
    }
   ],
   "source": [
    "lst = [None] * (10)\n",
    "print(len(lst))\n",
    "lst\n",
    "lst[0] = 1\n",
    "lst[1] = 3"
   ]
  },
  {
   "cell_type": "code",
   "execution_count": 3,
   "metadata": {},
   "outputs": [
    {
     "name": "stdout",
     "output_type": "stream",
     "text": [
      "['1', '2', '3', '4', '5']\n",
      "<class 'str'>\n"
     ]
    }
   ],
   "source": [
    "lst = input(\"Enter Elements : \").split()\n",
    "print(lst)\n",
    "print(type(lst[0]))"
   ]
  },
  {
   "cell_type": "code",
   "execution_count": 4,
   "metadata": {},
   "outputs": [
    {
     "name": "stdout",
     "output_type": "stream",
     "text": [
      "[['1', '2', '3', '4', '5']]\n",
      "<class 'list'>\n"
     ]
    }
   ],
   "source": [
    "lst = [input(\"Enter Elements : \").split()]\n",
    "print(lst)\n",
    "print(type(lst[0]))"
   ]
  },
  {
   "cell_type": "code",
   "execution_count": 6,
   "metadata": {},
   "outputs": [
    {
     "name": "stdout",
     "output_type": "stream",
     "text": [
      "['1 2 3 4 5']\n",
      "1\n",
      "<class 'str'>\n"
     ]
    }
   ],
   "source": [
    "lst = [input(\"Enter Elements : \")]\n",
    "print(lst)\n",
    "print(len(lst))\n",
    "print(type(lst[0]))"
   ]
  },
  {
   "cell_type": "code",
   "execution_count": 2,
   "metadata": {},
   "outputs": [
    {
     "ename": "IndexError",
     "evalue": "list index out of range",
     "output_type": "error",
     "traceback": [
      "\u001b[0;31m---------------------------------------------------------------------------\u001b[0m",
      "\u001b[0;31mIndexError\u001b[0m                                Traceback (most recent call last)",
      "Cell \u001b[0;32mIn [2], line 4\u001b[0m\n\u001b[1;32m      1\u001b[0m lst1 \u001b[38;5;241m=\u001b[39m [\u001b[38;5;241m1\u001b[39m,\u001b[38;5;241m3\u001b[39m,\u001b[38;5;241m4\u001b[39m,\u001b[38;5;241m7\u001b[39m,\u001b[38;5;241m9\u001b[39m]\n\u001b[1;32m      2\u001b[0m lst2 \u001b[38;5;241m=\u001b[39m [\u001b[38;5;241m0\u001b[39m,\u001b[38;5;241m2\u001b[39m,\u001b[38;5;241m5\u001b[39m,\u001b[38;5;241m6\u001b[39m,\u001b[38;5;241m8\u001b[39m,\u001b[38;5;241m10\u001b[39m,\u001b[38;5;241m11\u001b[39m]\n\u001b[0;32m----> 4\u001b[0m \u001b[43mmerge_list\u001b[49m\u001b[43m(\u001b[49m\u001b[43mlst1\u001b[49m\u001b[43m,\u001b[49m\u001b[43mlst2\u001b[49m\u001b[43m)\u001b[49m\n",
      "Cell \u001b[0;32mIn [1], line 16\u001b[0m, in \u001b[0;36mmerge_list\u001b[0;34m(lst_1, lst_2)\u001b[0m\n\u001b[1;32m     14\u001b[0m         \u001b[38;5;66;03m#  k = k + 1\u001b[39;00m\n\u001b[1;32m     15\u001b[0m \u001b[38;5;28;01mwhile\u001b[39;00m (i \u001b[38;5;241m<\u001b[39m \u001b[38;5;28mlen\u001b[39m(lst_1) \u001b[38;5;241m+\u001b[39m \u001b[38;5;28mlen\u001b[39m(lst_2)):\n\u001b[0;32m---> 16\u001b[0m     fin\u001b[38;5;241m.\u001b[39mappend(\u001b[43mlst_1\u001b[49m\u001b[43m[\u001b[49m\u001b[43mi\u001b[49m\u001b[43m]\u001b[49m)\n\u001b[1;32m     17\u001b[0m     i \u001b[38;5;241m=\u001b[39m i \u001b[38;5;241m+\u001b[39m \u001b[38;5;241m1\u001b[39m\n\u001b[1;32m     19\u001b[0m \u001b[38;5;28;01mwhile\u001b[39;00m (j \u001b[38;5;241m<\u001b[39m \u001b[38;5;28mlen\u001b[39m(lst_1) \u001b[38;5;241m+\u001b[39m \u001b[38;5;28mlen\u001b[39m(lst_2)):\n",
      "\u001b[0;31mIndexError\u001b[0m: list index out of range"
     ]
    }
   ],
   "source": [
    "lst1 = [1,3,4,7,9]\n",
    "lst2 = [0,2,5,6,8,10,11]\n",
    "\n",
    "merge_list(lst1,lst2)"
   ]
  },
  {
   "cell_type": "code",
   "execution_count": 1,
   "metadata": {},
   "outputs": [],
   "source": [
    "def merge_list (lst_1 , lst_2):\n",
    "    fin = []\n",
    "    i = 0\n",
    "    j = 0\n",
    "    # k = 0 ;; k is needed when fin = [None] * (len(lst_1) + len(lst_2)) i.e. when lenght of fin is defined\n",
    "    while (i < len(lst_1) and j < len(lst_2)):\n",
    "        if lst_1[i] < lst_2[j]:\n",
    "            fin.append(lst_1[i])\n",
    "            i = i + 1\n",
    "            # k = k + 1\n",
    "        else:\n",
    "             fin.append(lst_2[j])\n",
    "             j = j + 1\n",
    "            #  k = k + 1\n",
    "    while (i < len(lst_1)):\n",
    "        fin.append(lst_1[i])\n",
    "        i = i + 1\n",
    "    \n",
    "    while (j < len(lst_2)):\n",
    "        fin.append(lst_2[j])\n",
    "        j = j + 1\n",
    "    \n",
    "    print(fin)"
   ]
  },
  {
   "cell_type": "code",
   "execution_count": 4,
   "metadata": {},
   "outputs": [
    {
     "name": "stdout",
     "output_type": "stream",
     "text": [
      "[15, 20, 35, 40, 99, 44, 13]\n"
     ]
    }
   ],
   "source": [
    "lst1 = [15,20,35,40]\n",
    "lst2 = [99,44,13]\n",
    "\n",
    "merge_list(lst1,lst2)"
   ]
  },
  {
   "cell_type": "code",
   "execution_count": null,
   "metadata": {},
   "outputs": [],
   "source": []
  }
 ],
 "metadata": {
  "kernelspec": {
   "display_name": "Python 3 (ipykernel)",
   "language": "python",
   "name": "python3"
  },
  "language_info": {
   "codemirror_mode": {
    "name": "ipython",
    "version": 3
   },
   "file_extension": ".py",
   "mimetype": "text/x-python",
   "name": "python",
   "nbconvert_exporter": "python",
   "pygments_lexer": "ipython3",
   "version": "3.10.6"
  },
  "vscode": {
   "interpreter": {
    "hash": "916dbcbb3f70747c44a77c7bcd40155683ae19c65e1c03b4aa3499c5328201f1"
   }
  }
 },
 "nbformat": 4,
 "nbformat_minor": 2
}
