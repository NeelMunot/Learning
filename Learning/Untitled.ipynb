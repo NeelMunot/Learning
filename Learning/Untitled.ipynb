{
 "cells": [
  {
   "cell_type": "code",
   "execution_count": 31,
   "id": "2a12b51b",
   "metadata": {},
   "outputs": [],
   "source": [
    "def removeReverse(S):\n",
    "    lst = []\n",
    "    for item in S:\n",
    "        lst.append(item)\n",
    "#     print(type(lst))\n",
    "    print(lst)\n",
    "    s1 = set(lst)\n",
    "    print(s1)\n",
    "#     return string\n",
    "    p = \"\"\n",
    "    for char in S:\n",
    "        if char not in S:\n",
    "            p=p+char"
   ]
  },
  {
   "cell_type": "code",
   "execution_count": 32,
   "id": "17b3ce9d",
   "metadata": {},
   "outputs": [
    {
     "name": "stdout",
     "output_type": "stream",
     "text": [
      "['N', 'e', 'e', 'l']\n",
      "{'e', 'N', 'l'}\n"
     ]
    }
   ],
   "source": [
    "removeReverse(\"Neel\")"
   ]
  },
  {
   "cell_type": "code",
   "execution_count": 41,
   "id": "b2e304db",
   "metadata": {},
   "outputs": [],
   "source": [
    "str1 = \"Neel\"\n",
    "str1 = str1[::-1]"
   ]
  },
  {
   "cell_type": "code",
   "execution_count": 42,
   "id": "1311debf",
   "metadata": {},
   "outputs": [
    {
     "data": {
      "text/plain": [
       "'leeN'"
      ]
     },
     "execution_count": 42,
     "metadata": {},
     "output_type": "execute_result"
    }
   ],
   "source": [
    "str1"
   ]
  },
  {
   "cell_type": "code",
   "execution_count": 44,
   "id": "6abe7abf",
   "metadata": {},
   "outputs": [
    {
     "name": "stdout",
     "output_type": "stream",
     "text": [
      "4\n",
      "abab\n",
      "\n",
      "\n",
      "\n",
      "\n",
      "\n",
      "\n",
      "\n"
     ]
    }
   ],
   "source": [
    "#{ \n",
    "#Driver Code Starts\n",
    "#Initial Template for Python 3\n",
    "\n",
    " # } Driver Code Ends\n",
    "#User function Template for python3\n",
    "class Solution:\n",
    "    def removeReverse(self, S): \n",
    "        p = \"\"\n",
    "        for char in S:\n",
    "            if char not in S:\n",
    "                p=p+char\n",
    "        # p.reverse()\n",
    "        p = p[::-1]\n",
    "        return p\n",
    "\n",
    "#{ \n",
    "#Driver Code Starts.\n",
    "if __name__ == '__main__': \n",
    "    t = int(input())\n",
    "    for _ in range(t):\n",
    "        S = input()\n",
    "        ob = Solution()\n",
    "        ans = ob.removeReverse(S)\n",
    "        print(ans)\n",
    "\n",
    "\n",
    "#} Driver Code Ends"
   ]
  },
  {
   "cell_type": "code",
   "execution_count": 45,
   "id": "a9b1b2b5",
   "metadata": {},
   "outputs": [],
   "source": [
    "def removeReverse(S): \n",
    "        p = \"\"\n",
    "        for char in S:\n",
    "            if char not in S:\n",
    "                p=p+char\n",
    "        # p.reverse()\n",
    "        p = p[::-1]\n",
    "        return p"
   ]
  },
  {
   "cell_type": "code",
   "execution_count": 46,
   "id": "a24a9f9c",
   "metadata": {},
   "outputs": [
    {
     "data": {
      "text/plain": [
       "''"
      ]
     },
     "execution_count": 46,
     "metadata": {},
     "output_type": "execute_result"
    }
   ],
   "source": [
    "removeReverse(\"Neel\")"
   ]
  },
  {
   "cell_type": "code",
   "execution_count": null,
   "id": "f71d207e",
   "metadata": {},
   "outputs": [],
   "source": []
  }
 ],
 "metadata": {
  "kernelspec": {
   "display_name": "Python 3 (ipykernel)",
   "language": "python",
   "name": "python3"
  },
  "language_info": {
   "codemirror_mode": {
    "name": "ipython",
    "version": 3
   },
   "file_extension": ".py",
   "mimetype": "text/x-python",
   "name": "python",
   "nbconvert_exporter": "python",
   "pygments_lexer": "ipython3",
   "version": "3.10.6"
  }
 },
 "nbformat": 4,
 "nbformat_minor": 5
}
