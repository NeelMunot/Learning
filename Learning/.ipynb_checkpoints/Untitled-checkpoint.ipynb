{
 "cells": [
  {
   "cell_type": "code",
   "execution_count": 31,
   "id": "1a54b59e",
   "metadata": {},
   "outputs": [],
   "source": [
    "def removeReverse(S):\n",
    "    lst = []\n",
    "    for item in S:\n",
    "        lst.append(item)\n",
    "#     print(type(lst))\n",
    "    print(lst)\n",
    "    s1 = set(lst)\n",
    "    print(s1)\n",
    "#     return string\n",
    "    p = \"\"\n",
    "    for char in S:\n",
    "        if char not in S:\n",
    "            p=p+char"
   ]
  },
  {
   "cell_type": "code",
   "execution_count": 32,
   "id": "1b76df9d",
   "metadata": {},
   "outputs": [
    {
     "name": "stdout",
     "output_type": "stream",
     "text": [
      "['N', 'e', 'e', 'l']\n",
      "{'e', 'N', 'l'}\n"
     ]
    }
   ],
   "source": [
    "removeReverse(\"Neel\")"
   ]
  },
  {
   "cell_type": "code",
   "execution_count": 39,
   "id": "166d4158",
   "metadata": {},
   "outputs": [
    {
     "data": {
      "text/plain": [
       "'leeN'"
      ]
     },
     "execution_count": 39,
     "metadata": {},
     "output_type": "execute_result"
    }
   ],
   "source": [
    "str1 = \"Neel\"\n",
    "str1[::-1]"
   ]
  },
  {
   "cell_type": "code",
   "execution_count": null,
   "id": "ba7a8114",
   "metadata": {},
   "outputs": [],
   "source": []
  }
 ],
 "metadata": {
  "kernelspec": {
   "display_name": "Python 3 (ipykernel)",
   "language": "python",
   "name": "python3"
  },
  "language_info": {
   "codemirror_mode": {
    "name": "ipython",
    "version": 3
   },
   "file_extension": ".py",
   "mimetype": "text/x-python",
   "name": "python",
   "nbconvert_exporter": "python",
   "pygments_lexer": "ipython3",
   "version": "3.10.6"
  }
 },
 "nbformat": 4,
 "nbformat_minor": 5
}
