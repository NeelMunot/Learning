{
 "cells": [
  {
   "cell_type": "code",
   "execution_count": 3,
   "id": "8af44325",
   "metadata": {},
   "outputs": [
    {
     "name": "stdout",
     "output_type": "stream",
     "text": [
      "neel\n",
      "e\n"
     ]
    },
    {
     "ename": "TypeError",
     "evalue": "'str' object does not support item assignment",
     "output_type": "error",
     "traceback": [
      "\u001b[0;31m---------------------------------------------------------------------------\u001b[0m",
      "\u001b[0;31mTypeError\u001b[0m                                 Traceback (most recent call last)",
      "Input \u001b[0;32mIn [3]\u001b[0m, in \u001b[0;36m<module>\u001b[0;34m\u001b[0m\n\u001b[1;32m      1\u001b[0m a \u001b[38;5;241m=\u001b[39m \u001b[38;5;28minput\u001b[39m()\n\u001b[1;32m      2\u001b[0m \u001b[38;5;28mprint\u001b[39m(a[\u001b[38;5;241m2\u001b[39m])\n\u001b[0;32m----> 3\u001b[0m a[\u001b[38;5;241m2\u001b[39m] \u001b[38;5;241m=\u001b[39m \u001b[38;5;124m'\u001b[39m\u001b[38;5;124mr\u001b[39m\u001b[38;5;124m'\u001b[39m\n\u001b[1;32m      4\u001b[0m \u001b[38;5;28mprint\u001b[39m(a)\n",
      "\u001b[0;31mTypeError\u001b[0m: 'str' object does not support item assignment"
     ]
    }
   ],
   "source": [
    "a = input()\n",
    "print(a[2])\n",
    "a[2] = 'r'\n",
    "print(a)"
   ]
  },
  {
   "cell_type": "markdown",
   "id": "f0fb2477",
   "metadata": {},
   "source": [
    "The first line of input contains the original string. The next line contains the substring.\n",
    "\n",
    "Output the integer number indicating the total number of occurrences of the substring in the original string."
   ]
  },
  {
   "cell_type": "code",
   "execution_count": 1,
   "id": "e8853629",
   "metadata": {},
   "outputs": [],
   "source": [
    "def count_substring(string, sub_string):\n",
    "    ct = loc = i = j = position = 0\n",
    "    while (position < len(string)):\n",
    "#         import pdb;pdb.set_trace()\n",
    "        if string[i] == sub_string[j]:\n",
    "            if string[i:i+len(sub_string)] == sub_string:\n",
    "                loc = i\n",
    "                i = loc + 1\n",
    "                ct = ct + 1\n",
    "            else:\n",
    "                i = i +1\n",
    "        else:\n",
    "            i = i + 1\n",
    "        position = position + 1\n",
    "    print(ct)"
   ]
  },
  {
   "cell_type": "code",
   "execution_count": 2,
   "id": "b809d828",
   "metadata": {},
   "outputs": [
    {
     "name": "stdout",
     "output_type": "stream",
     "text": [
      "2\n"
     ]
    }
   ],
   "source": [
    "count_substring('WoW!ItSCoOWoWW','oW')"
   ]
  },
  {
   "cell_type": "code",
   "execution_count": null,
   "id": "bd5dfd64",
   "metadata": {},
   "outputs": [],
   "source": [
    "if __name__ == '__main__':\n",
    "    string = input().strip()\n",
    "    sub_string = input().strip()\n",
    "    \n",
    "    count = count_substring(string, sub_string)\n",
    "    print(count)"
   ]
  },
  {
   "cell_type": "code",
   "execution_count": null,
   "id": "346ee4e9",
   "metadata": {},
   "outputs": [],
   "source": [
    "count = 0, loc = 0, i =0,j = 0\n",
    "while (position < count(string)):\n",
    "    if string[i] == sub[j]:\n",
    "        if string[i:i+len(sub)] == sub:\n",
    "            loc = i\n",
    "            i = loc + 1\n",
    "            count = count + 1\n",
    "    else:\n",
    "        i = i + 1"
   ]
  },
  {
   "cell_type": "markdown",
   "id": "6e571fad",
   "metadata": {},
   "source": [
    "## Symmetric Difference"
   ]
  },
  {
   "cell_type": "code",
   "execution_count": 16,
   "id": "57f3721e",
   "metadata": {},
   "outputs": [
    {
     "name": "stdout",
     "output_type": "stream",
     "text": [
      "2\n",
      "4 5\n",
      "3\n",
      "-10 8 9\n"
     ]
    },
    {
     "ename": "TypeError",
     "evalue": "'NoneType' object is not iterable",
     "output_type": "error",
     "traceback": [
      "\u001b[0;31m---------------------------------------------------------------------------\u001b[0m",
      "\u001b[0;31mTypeError\u001b[0m                                 Traceback (most recent call last)",
      "Input \u001b[0;32mIn [16]\u001b[0m, in \u001b[0;36m<module>\u001b[0;34m\u001b[0m\n\u001b[1;32m     12\u001b[0m     \u001b[38;5;28;01mif\u001b[39;00m item \u001b[38;5;129;01mnot\u001b[39;00m \u001b[38;5;129;01min\u001b[39;00m sd:\n\u001b[1;32m     13\u001b[0m         lstf\u001b[38;5;241m.\u001b[39mappend(item)\n\u001b[0;32m---> 14\u001b[0m \u001b[38;5;28;01mfor\u001b[39;00m item \u001b[38;5;129;01min\u001b[39;00m lstf\u001b[38;5;241m.\u001b[39msort():\n\u001b[1;32m     15\u001b[0m     \u001b[38;5;28mprint\u001b[39m(item)\n",
      "\u001b[0;31mTypeError\u001b[0m: 'NoneType' object is not iterable"
     ]
    }
   ],
   "source": [
    "ns1 = int(input())\n",
    "s1 = [int(x) for x in input().split()]\n",
    "s1_1 = set(s1)\n",
    "ns2 = int(input())\n",
    "s2 = [int(x) for x in input().split()]\n",
    "s2_1 = set(s2)\n",
    "ns = s1_1.union(s2_1)\n",
    "\n",
    "sd = s1_1.intersection(s2_1)\n",
    "lstf = []\n",
    "for item in ns:\n",
    "    if item not in sd:\n",
    "        lstf.append(item)\n",
    "for item in lstf.sort():\n",
    "    print(item)"
   ]
  },
  {
   "cell_type": "code",
   "execution_count": 8,
   "id": "b3831951",
   "metadata": {},
   "outputs": [
    {
     "name": "stdout",
     "output_type": "stream",
     "text": [
      "set()\n"
     ]
    },
    {
     "data": {
      "text/plain": [
       "0"
      ]
     },
     "execution_count": 8,
     "metadata": {},
     "output_type": "execute_result"
    }
   ],
   "source": [
    "lst1  = [1,2,3,4,5]\n",
    "lst2 = [7,8,9,0]\n",
    "k = set(lst1).intersection(set(lst2))\n",
    "print(k)\n",
    "len(k)"
   ]
  },
  {
   "cell_type": "code",
   "execution_count": 10,
   "id": "962340b1",
   "metadata": {},
   "outputs": [
    {
     "name": "stdout",
     "output_type": "stream",
     "text": [
      "{3, 4, 5, 6}\n"
     ]
    }
   ],
   "source": [
    "lst = [4,5, 3 ,6]\n",
    "print(set(lst))"
   ]
  },
  {
   "cell_type": "code",
   "execution_count": 19,
   "id": "869e4444",
   "metadata": {},
   "outputs": [
    {
     "name": "stdout",
     "output_type": "stream",
     "text": [
      "2\n",
      "4 5\n",
      "3\n",
      "-10 8 9\n"
     ]
    },
    {
     "ename": "TypeError",
     "evalue": "'NoneType' object is not iterable",
     "output_type": "error",
     "traceback": [
      "\u001b[0;31m---------------------------------------------------------------------------\u001b[0m",
      "\u001b[0;31mTypeError\u001b[0m                                 Traceback (most recent call last)",
      "Input \u001b[0;32mIn [19]\u001b[0m, in \u001b[0;36m<module>\u001b[0;34m\u001b[0m\n\u001b[1;32m     13\u001b[0m         lstf\u001b[38;5;241m.\u001b[39mappend(item)\n\u001b[1;32m     14\u001b[0m lstf \u001b[38;5;241m=\u001b[39m lstf\u001b[38;5;241m.\u001b[39msort()\n\u001b[0;32m---> 15\u001b[0m \u001b[38;5;28;01mfor\u001b[39;00m item \u001b[38;5;129;01min\u001b[39;00m lstf:\n\u001b[1;32m     16\u001b[0m     \u001b[38;5;28mprint\u001b[39m(item)\n",
      "\u001b[0;31mTypeError\u001b[0m: 'NoneType' object is not iterable"
     ]
    }
   ],
   "source": [
    "ns1 = int(input())\n",
    "s1 = [int(x) for x in input().split()]\n",
    "s1_1 = set(s1)\n",
    "ns2 = int(input())\n",
    "s2 = [int(x) for x in input().split()]\n",
    "s2_1 = set(s2)\n",
    "ns = s1_1.union(s2_1)\n",
    "\n",
    "sd = s1_1.intersection(s2_1)\n",
    "lstf = []\n",
    "for item in ns:\n",
    "    if item not in sd:\n",
    "        lstf.append(item)\n",
    "lstf = lstf.sort()\n",
    "for item in lstf:\n",
    "    print(item)"
   ]
  },
  {
   "cell_type": "code",
   "execution_count": null,
   "id": "1776108b",
   "metadata": {},
   "outputs": [],
   "source": [
    "ns1 = int(input())\n",
    "s1 = [int(x) for x in input().split()]\n",
    "s1_1 = set(s1)\n",
    "ns2 = int(input())\n",
    "s2 = [int(x) for x in input().split()]\n",
    "s2_1 = set(s2)\n",
    "ns = s1_1.union(s2_1)\n",
    "\n",
    "sd = s1_1.intersection(s2_1)\n",
    "lstf = []\n",
    "for item in ns:\n",
    "    if item not in sd:\n",
    "        lstf.append(item)\n",
    "lstf = lstf.sort()\n",
    "for item in lstf:\n",
    "    print(item)"
   ]
  },
  {
   "cell_type": "code",
   "execution_count": 2,
   "id": "5ab70f8e",
   "metadata": {},
   "outputs": [
    {
     "name": "stdout",
     "output_type": "stream",
     "text": [
      "1 2 4 5 \n",
      "1 2 4 5 \n"
     ]
    }
   ],
   "source": [
    "a = (input())\n",
    "type (a)\n",
    "print(a)"
   ]
  },
  {
   "cell_type": "code",
   "execution_count": 5,
   "id": "8829b6f0",
   "metadata": {},
   "outputs": [
    {
     "name": "stdout",
     "output_type": "stream",
     "text": [
      "4\n",
      "1 2 3 4 5\n",
      "<class 'map'>\n"
     ]
    }
   ],
   "source": [
    "if __name__ == '__main__':\n",
    "    n = int(input())\n",
    "    integer_list = map(int, input().split())\n",
    "    print(type(integer_list))"
   ]
  },
  {
   "cell_type": "code",
   "execution_count": 6,
   "id": "1d122d4f",
   "metadata": {},
   "outputs": [
    {
     "name": "stdout",
     "output_type": "stream",
     "text": [
      "[None, None, None, None, None]\n",
      "['Alice', 0, 42, 12, 'hello']\n"
     ]
    }
   ],
   "source": [
    "\n",
    "# Create a list with n placeholder elements\n",
    "n = 5\n",
    "lst = [None] * n\n",
    "\n",
    "# Print the \"placeholder\" list:\n",
    "print(lst)\n",
    "\n",
    "# Overwrite the placeholder elements\n",
    "lst[0] = 'Alice'\n",
    "lst[1] = 0\n",
    "lst[2] = 42\n",
    "lst[3] = 12\n",
    "lst[4] = 'hello'\n",
    "print(lst)\n"
   ]
  },
  {
   "cell_type": "code",
   "execution_count": null,
   "id": "ab111091",
   "metadata": {},
   "outputs": [],
   "source": []
  }
 ],
 "metadata": {
  "kernelspec": {
   "display_name": "Python 3 (ipykernel)",
   "language": "python",
   "name": "python3"
  },
  "language_info": {
   "codemirror_mode": {
    "name": "ipython",
    "version": 3
   },
   "file_extension": ".py",
   "mimetype": "text/x-python",
   "name": "python",
   "nbconvert_exporter": "python",
   "pygments_lexer": "ipython3",
   "version": "3.8.10"
  }
 },
 "nbformat": 4,
 "nbformat_minor": 5
}
