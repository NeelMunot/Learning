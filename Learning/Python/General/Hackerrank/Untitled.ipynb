{
 "cells": [
  {
   "cell_type": "code",
   "execution_count": 3,
   "id": "8af44325",
   "metadata": {},
   "outputs": [
    {
     "name": "stdout",
     "output_type": "stream",
     "text": [
      "neel\n",
      "e\n"
     ]
    },
    {
     "ename": "TypeError",
     "evalue": "'str' object does not support item assignment",
     "output_type": "error",
     "traceback": [
      "\u001b[0;31m---------------------------------------------------------------------------\u001b[0m",
      "\u001b[0;31mTypeError\u001b[0m                                 Traceback (most recent call last)",
      "Input \u001b[0;32mIn [3]\u001b[0m, in \u001b[0;36m<module>\u001b[0;34m\u001b[0m\n\u001b[1;32m      1\u001b[0m a \u001b[38;5;241m=\u001b[39m \u001b[38;5;28minput\u001b[39m()\n\u001b[1;32m      2\u001b[0m \u001b[38;5;28mprint\u001b[39m(a[\u001b[38;5;241m2\u001b[39m])\n\u001b[0;32m----> 3\u001b[0m a[\u001b[38;5;241m2\u001b[39m] \u001b[38;5;241m=\u001b[39m \u001b[38;5;124m'\u001b[39m\u001b[38;5;124mr\u001b[39m\u001b[38;5;124m'\u001b[39m\n\u001b[1;32m      4\u001b[0m \u001b[38;5;28mprint\u001b[39m(a)\n",
      "\u001b[0;31mTypeError\u001b[0m: 'str' object does not support item assignment"
     ]
    }
   ],
   "source": [
    "a = input()\n",
    "print(a[2])\n",
    "a[2] = 'r'\n",
    "print(a)"
   ]
  },
  {
   "cell_type": "markdown",
   "id": "f0fb2477",
   "metadata": {},
   "source": [
    "The first line of input contains the original string. The next line contains the substring.\n",
    "\n",
    "Output the integer number indicating the total number of occurrences of the substring in the original string."
   ]
  },
  {
   "cell_type": "code",
   "execution_count": 1,
   "id": "e8853629",
   "metadata": {},
   "outputs": [],
   "source": [
    "def count_substring(string, sub_string):\n",
    "    ct = loc = i = j = position = 0\n",
    "    while (position < len(string)):\n",
    "#         import pdb;pdb.set_trace()\n",
    "        if string[i] == sub_string[j]:\n",
    "            if string[i:i+len(sub_string)] == sub_string:\n",
    "                loc = i\n",
    "                i = loc + 1\n",
    "                ct = ct + 1\n",
    "            else:\n",
    "                i = i +1\n",
    "        else:\n",
    "            i = i + 1\n",
    "        position = position + 1\n",
    "    print(ct)"
   ]
  },
  {
   "cell_type": "code",
   "execution_count": 2,
   "id": "b809d828",
   "metadata": {},
   "outputs": [
    {
     "name": "stdout",
     "output_type": "stream",
     "text": [
      "2\n"
     ]
    }
   ],
   "source": [
    "count_substring('WoW!ItSCoOWoWW','oW')"
   ]
  },
  {
   "cell_type": "code",
   "execution_count": null,
   "id": "bd5dfd64",
   "metadata": {},
   "outputs": [],
   "source": [
    "if __name__ == '__main__':\n",
    "    string = input().strip()\n",
    "    sub_string = input().strip()\n",
    "    \n",
    "    count = count_substring(string, sub_string)\n",
    "    print(count)"
   ]
  },
  {
   "cell_type": "code",
   "execution_count": null,
   "id": "346ee4e9",
   "metadata": {},
   "outputs": [],
   "source": [
    "count = 0, loc = 0, i =0,j = 0\n",
    "while (position < count(string)):\n",
    "    if string[i] == sub[j]:\n",
    "        if string[i:i+len(sub)] == sub:\n",
    "            loc = i\n",
    "            i = loc + 1\n",
    "            count = count + 1\n",
    "    else:\n",
    "        i = i + 1"
   ]
  }
 ],
 "metadata": {
  "kernelspec": {
   "display_name": "Python 3 (ipykernel)",
   "language": "python",
   "name": "python3"
  },
  "language_info": {
   "codemirror_mode": {
    "name": "ipython",
    "version": 3
   },
   "file_extension": ".py",
   "mimetype": "text/x-python",
   "name": "python",
   "nbconvert_exporter": "python",
   "pygments_lexer": "ipython3",
   "version": "3.8.10"
  }
 },
 "nbformat": 4,
 "nbformat_minor": 5
}
