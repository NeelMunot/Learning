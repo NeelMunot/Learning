{
 "cells": [
  {
   "cell_type": "markdown",
   "id": "468f1379",
   "metadata": {},
   "source": [
    "## Guessing game challenge\n",
    "\n",
    "\n",
    "The Challenge:\n",
    "\n",
    "Write a program that picks a random integer from 1 to 100, and has players guess the number. The rules are:\n",
    "\n",
    "1. If a player's guess is less than 1 or greater than 100, say \"OUT OF BOUNDS\"\n",
    "2. On a player's first turn, if their guess is\n",
    " * within 10 of the number, return \"WARM!\"\n",
    " * further than 10 away from the number, return \"COLD!\"\n",
    "3. On all subsequent turns, if a guess is \n",
    " * closer to the number than the previous guess return \"WARMER!\"\n",
    " * farther from the number than the previous guess, return \"COLDER!\"\n",
    "4. When the player's guess equals the number, tell them they've guessed correctly *and* how many guesses it took!"
   ]
  },
  {
   "cell_type": "code",
   "execution_count": 10,
   "id": "aa0c50e0",
   "metadata": {},
   "outputs": [],
   "source": []
  },
  {
   "cell_type": "code",
   "execution_count": 3,
   "id": "9ef27237",
   "metadata": {},
   "outputs": [
    {
     "data": {
      "text/plain": [
       "58"
      ]
     },
     "execution_count": 3,
     "metadata": {},
     "output_type": "execute_result"
    }
   ],
   "source": [
    "number_to_guess"
   ]
  },
  {
   "cell_type": "code",
   "execution_count": 14,
   "id": "bec69224",
   "metadata": {},
   "outputs": [
    {
     "name": "stdout",
     "output_type": "stream",
     "text": [
      "50\n",
      "Cold\n",
      "25\n",
      "colder\n",
      "80\n",
      "Warmer\n",
      "60\n",
      "Warmer\n",
      "70\n",
      "colder\n",
      "63\n",
      "Warmer\n",
      "62\n",
      "colder\n",
      "64\n",
      "theyve guessed correctly on turn8\n"
     ]
    }
   ],
   "source": [
    "from random import randint\n",
    "number_to_guess=randint(1,100)\n",
    "correct_guess = False\n",
    "turn = 0\n",
    "prev_diff = 0\n",
    "while(not correct_guess):\n",
    "    turn = turn+1\n",
    "    player_guess = int(input())\n",
    "    curr_diff = abs(player_guess - number_to_guess)\n",
    "    if(player_guess == number_to_guess):\n",
    "        print('theyve guessed correctly on turn'+str(turn))\n",
    "        correct_guess = True\n",
    "        continue\n",
    "    if(player_guess < 1 or player_guess >100):\n",
    "        print('OUT OF BOUNDS')\n",
    "    elif turn == 1:\n",
    "        if(curr_diff < 10):\n",
    "            print('Warm')\n",
    "        else:\n",
    "            print('Cold')\n",
    "    else:\n",
    "        if(curr_diff < prev_diff):\n",
    "            print('Warmer')\n",
    "        else:\n",
    "            print('colder')\n",
    "    prev_diff = curr_diff    \n",
    "        "
   ]
  },
  {
   "cell_type": "code",
   "execution_count": null,
   "id": "7c62621a",
   "metadata": {},
   "outputs": [],
   "source": []
  }
 ],
 "metadata": {
  "kernelspec": {
   "display_name": "Python 3",
   "language": "python",
   "name": "python3"
  },
  "language_info": {
   "codemirror_mode": {
    "name": "ipython",
    "version": 3
   },
   "file_extension": ".py",
   "mimetype": "text/x-python",
   "name": "python",
   "nbconvert_exporter": "python",
   "pygments_lexer": "ipython3",
   "version": "3.8.8"
  }
 },
 "nbformat": 4,
 "nbformat_minor": 5
}
