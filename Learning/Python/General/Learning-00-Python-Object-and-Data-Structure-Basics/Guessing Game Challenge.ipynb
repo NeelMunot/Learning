{
 "cells": [
  {
   "cell_type": "markdown",
   "id": "44b5c934",
   "metadata": {},
   "source": [
    "## Guessing game challenge\n",
    "\n",
    "\n",
    "The Challenge:\n",
    "\n",
    "Write a program that picks a random integer from 1 to 100, and has players guess the number. The rules are:\n",
    "\n",
    "1. If a player's guess is less than 1 or greater than 100, say \"OUT OF BOUNDS\"\n",
    "2. On a player's first turn, if their guess is\n",
    " * within 10 of the number, return \"WARM!\"\n",
    " * further than 10 away from the number, return \"COLD!\"\n",
    "3. On all subsequent turns, if a guess is \n",
    " * closer to the number than the previous guess return \"WARMER!\"\n",
    " * farther from the number than the previous guess, return \"COLDER!\"\n",
    "4. When the player's guess equals the number, tell them they've guessed correctly *and* how many guesses it took!"
   ]
  },
  {
   "cell_type": "code",
   "execution_count": 1,
   "id": "79e35a4f",
   "metadata": {},
   "outputs": [
    {
     "ename": "NameError",
     "evalue": "name 'random' is not defined",
     "output_type": "error",
     "traceback": [
      "\u001b[1;31m---------------------------------------------------------------------------\u001b[0m",
      "\u001b[1;31mNameError\u001b[0m                                 Traceback (most recent call last)",
      "\u001b[1;32m<ipython-input-1-8479c5171aa7>\u001b[0m in \u001b[0;36m<module>\u001b[1;34m\u001b[0m\n\u001b[0;32m      1\u001b[0m \u001b[1;31m#Getting a random integer from 1 to 100\u001b[0m\u001b[1;33m\u001b[0m\u001b[1;33m\u001b[0m\u001b[1;33m\u001b[0m\u001b[0m\n\u001b[1;32m----> 2\u001b[1;33m \u001b[0mrandom\u001b[0m\u001b[1;33m\u001b[0m\u001b[1;33m\u001b[0m\u001b[0m\n\u001b[0m",
      "\u001b[1;31mNameError\u001b[0m: name 'random' is not defined"
     ]
    }
   ],
   "source": [
    "#Getting a random integer from 1 to 100\n",
    "random"
   ]
  },
  {
   "cell_type": "code",
   "execution_count": 2,
   "id": "ffd3d115",
   "metadata": {},
   "outputs": [],
   "source": [
    "#from random import randint\n",
    "#a=randint(1,100)"
   ]
  },
  {
   "cell_type": "code",
   "execution_count": 3,
   "id": "3d9dded6",
   "metadata": {},
   "outputs": [],
   "source": [
    "guesslist=[]"
   ]
  },
  {
   "cell_type": "code",
   "execution_count": 4,
   "id": "cda1f969",
   "metadata": {},
   "outputs": [
    {
     "name": "stdout",
     "output_type": "stream",
     "text": [
      "[]\n"
     ]
    }
   ],
   "source": [
    "print(guesslist)"
   ]
  },
  {
   "cell_type": "code",
   "execution_count": 5,
   "id": "484affe1",
   "metadata": {},
   "outputs": [
    {
     "ename": "IndexError",
     "evalue": "list index out of range",
     "output_type": "error",
     "traceback": [
      "\u001b[1;31m---------------------------------------------------------------------------\u001b[0m",
      "\u001b[1;31mIndexError\u001b[0m                                Traceback (most recent call last)",
      "\u001b[1;32m<ipython-input-5-c9e5b79ccb60>\u001b[0m in \u001b[0;36m<module>\u001b[1;34m\u001b[0m\n\u001b[1;32m----> 1\u001b[1;33m \u001b[0mprint\u001b[0m\u001b[1;33m(\u001b[0m\u001b[0mguesslist\u001b[0m\u001b[1;33m[\u001b[0m\u001b[1;36m0\u001b[0m\u001b[1;33m]\u001b[0m\u001b[1;33m)\u001b[0m\u001b[1;33m\u001b[0m\u001b[1;33m\u001b[0m\u001b[0m\n\u001b[0m",
      "\u001b[1;31mIndexError\u001b[0m: list index out of range"
     ]
    }
   ],
   "source": [
    "print(guesslist[0])"
   ]
  },
  {
   "cell_type": "code",
   "execution_count": 6,
   "id": "3982ead1",
   "metadata": {},
   "outputs": [],
   "source": [
    "from random import randint\n",
    "randominteger=randint(1,100)"
   ]
  },
  {
   "cell_type": "code",
   "execution_count": 7,
   "id": "4d72c8b0",
   "metadata": {},
   "outputs": [],
   "source": [
    "rules=\"GUESSING GAME\\nHello player!You have to guess a number from 1 to 100.\\nThe follwing are the rules of the game:\\n1.If the number enetered by the player is greater than 100 or less than 1 you will get 'OUT OF BOUNDS' remark.\\n2.On player's first turn, if their guess is\\n\\t-within 10 of the number,player will get 'WARM' remark.\\n\\t-further than 10 away from the number, player will get 'COLD' remark.\\n3.On all subsequent turns, if a guess is\\n\\t-closer to the number than the previous guess a 'WARMER' rmeark will printed.\\n\\t-further than 10 away from the number, player will get a 'COLDER'remark.\\n4.After guessing correctly, number of guesses and the list of guesses will be displayed\""
   ]
  },
  {
   "cell_type": "code",
   "execution_count": 8,
   "id": "4c8d1007",
   "metadata": {},
   "outputs": [
    {
     "name": "stdout",
     "output_type": "stream",
     "text": [
      "GUESSING GAME\n",
      "Hello player!You have to guess a number from 1 to 100.\n",
      "The follwing are the rules of the game:\n",
      "1.If the number enetered by the player is greater than 100 or less than 1 you will get 'OUT OF BOUNDS' remark.\n",
      "2.On player's first turn, if their guess is\n",
      "\t-within 10 of the number,player will get 'WARM' remark.\n",
      "\t-further than 10 away from the number, player will get 'COLD' remark.\n",
      "3.On all subsequent turns, if a guess is\n",
      "\t-closer to the number than the previous guess a 'WARMER' rmeark will printed.\n",
      "\t-further than 10 away from the number, player will get a 'COLDER'remark.\n",
      "4.After guessing correctly, number of guesses and the list of guesses will be displayed\n"
     ]
    }
   ],
   "source": [
    "print(rules)"
   ]
  },
  {
   "cell_type": "code",
   "execution_count": 9,
   "id": "8cf49620",
   "metadata": {},
   "outputs": [],
   "source": [
    "rules=\"\\t\\tGUESSING GAME\\nHello player!You have to guess a number from 1 to 100.\\nThe follwing are the rules of the game:\\n1.If the number enetered by the player is greater than 100 or less than 1 you will get 'OUT OF BOUNDS' remark.\\n2.On player's first turn, if their guess is\\n\\t-within 10 of the number,player will get 'WARM' remark.\\n\\t-further than 10 away from the number, player will get 'COLD' remark.\\n3.On all subsequent turns, if a guess is\\n\\t-closer to the number than the previous guess a 'WARMER' rmeark will printed.\\n\\t-further than 10 away from the number, player will get a 'COLDER'remark.\\n4.After guessing correctly, number of guesses and the list of guesses will be displayed\""
   ]
  },
  {
   "cell_type": "code",
   "execution_count": 10,
   "id": "91f81a8c",
   "metadata": {},
   "outputs": [
    {
     "name": "stdout",
     "output_type": "stream",
     "text": [
      "\t\tGUESSING GAME\n",
      "Hello player!You have to guess a number from 1 to 100.\n",
      "The follwing are the rules of the game:\n",
      "1.If the number enetered by the player is greater than 100 or less than 1 you will get 'OUT OF BOUNDS' remark.\n",
      "2.On player's first turn, if their guess is\n",
      "\t-within 10 of the number,player will get 'WARM' remark.\n",
      "\t-further than 10 away from the number, player will get 'COLD' remark.\n",
      "3.On all subsequent turns, if a guess is\n",
      "\t-closer to the number than the previous guess a 'WARMER' rmeark will printed.\n",
      "\t-further than 10 away from the number, player will get a 'COLDER'remark.\n",
      "4.After guessing correctly, number of guesses and the list of guesses will be displayed\n"
     ]
    }
   ],
   "source": [
    "print(rules)"
   ]
  },
  {
   "cell_type": "code",
   "execution_count": 11,
   "id": "49e932d7",
   "metadata": {},
   "outputs": [],
   "source": [
    "rules=\"\\t\\t\\t\\tGUESSING GAME\\nHello player!You have to guess a number from 1 to 100.\\nThe follwing are the rules of the game:\\n1.If the number enetered by the player is greater than 100 or less than 1 you will get 'OUT OF BOUNDS' remark.\\n2.On player's first turn, if their guess is\\n\\t-within 10 of the number,player will get 'WARM' remark.\\n\\t-further than 10 away from the number, player will get 'COLD' remark.\\n3.On all subsequent turns, if a guess is\\n\\t-closer to the number than the previous guess a 'WARMER' rmeark will printed.\\n\\t-further than 10 away from the number, player will get a 'COLDER'remark.\\n4.After guessing correctly, number of guesses and the list of guesses will be displayed\""
   ]
  },
  {
   "cell_type": "code",
   "execution_count": 12,
   "id": "39743aed",
   "metadata": {},
   "outputs": [
    {
     "name": "stdout",
     "output_type": "stream",
     "text": [
      "\t\t\t\tGUESSING GAME\n",
      "Hello player!You have to guess a number from 1 to 100.\n",
      "The follwing are the rules of the game:\n",
      "1.If the number enetered by the player is greater than 100 or less than 1 you will get 'OUT OF BOUNDS' remark.\n",
      "2.On player's first turn, if their guess is\n",
      "\t-within 10 of the number,player will get 'WARM' remark.\n",
      "\t-further than 10 away from the number, player will get 'COLD' remark.\n",
      "3.On all subsequent turns, if a guess is\n",
      "\t-closer to the number than the previous guess a 'WARMER' rmeark will printed.\n",
      "\t-further than 10 away from the number, player will get a 'COLDER'remark.\n",
      "4.After guessing correctly, number of guesses and the list of guesses will be displayed\n"
     ]
    }
   ],
   "source": [
    "print(rules)"
   ]
  },
  {
   "cell_type": "code",
   "execution_count": 13,
   "id": "1a7beb45",
   "metadata": {},
   "outputs": [],
   "source": [
    "#guess=(input(\"Enter your guess\").strip())"
   ]
  },
  {
   "cell_type": "code",
   "execution_count": 14,
   "id": "5e8a17dd",
   "metadata": {},
   "outputs": [
    {
     "name": "stdout",
     "output_type": "stream",
     "text": [
      "[7, 8]\n"
     ]
    }
   ],
   "source": [
    "from random import randint\n",
    "randominteger=randint(1,100)\n",
    "randomintergerplusten=[randominteger,randominteger+1]\n",
    "print(randomintergerplusten)"
   ]
  },
  {
   "cell_type": "code",
   "execution_count": 15,
   "id": "444201d5",
   "metadata": {},
   "outputs": [
    {
     "data": {
      "text/plain": [
       "False"
      ]
     },
     "execution_count": 15,
     "metadata": {},
     "output_type": "execute_result"
    }
   ],
   "source": [
    "5 in range(10,3)"
   ]
  },
  {
   "cell_type": "code",
   "execution_count": 16,
   "id": "153d443c",
   "metadata": {},
   "outputs": [
    {
     "ename": "SyntaxError",
     "evalue": "invalid syntax (<ipython-input-16-4f1aef816556>, line 15)",
     "output_type": "error",
     "traceback": [
      "\u001b[1;36m  File \u001b[1;32m\"<ipython-input-16-4f1aef816556>\"\u001b[1;36m, line \u001b[1;32m15\u001b[0m\n\u001b[1;33m    elif :\u001b[0m\n\u001b[1;37m         ^\u001b[0m\n\u001b[1;31mSyntaxError\u001b[0m\u001b[1;31m:\u001b[0m invalid syntax\n"
     ]
    }
   ],
   "source": [
    "#print(rules)\n",
    "x=0\n",
    "a=0\n",
    "from random import randint\n",
    "randominteger=randint(1,100)\n",
    "randomintergerplusten=[randominteger+1,randominteger+2,randominteger+3,randominteger+4,randominteger+5,randominteger+6,randominteger+7,randominteger+8,randominteger+9,randominteger+10]\n",
    "randomintergerminusten=[randominteger-1,randominteger-2,randominteger-3,randominteger-4,randominteger-5,randominteger-6,randominteger-7,randominteger-8,randominteger-9,randominteger-10]\n",
    "while x==0:\n",
    "    guess=(input(\"Enter your guess\").strip())\n",
    "    guesslist.append(guess)\n",
    "    if guesslist[0]==randominteger:\n",
    "        print(\"Congratulations! You guessed correctly on your first turn!!!\")\n",
    "    elif guess>100 or guess<1:\n",
    "        print(\"OUT OF BOUNDS\")\n",
    "    elif :\n",
    "        if guess in randomintergerplusten or guess in randomintergerminusten:\n",
    "            print(\"WARM\")\n",
    "        else:\n",
    "            print(\"COLD\")\n",
    "    elif:\n",
    "        if guess in range(guesslist[a],randominteger) or guess in range(randominteger,guesslist[a]):\n",
    "            print(\"WARMER\")\n",
    "        else:\n",
    "            print(\"COLDER\")\n",
    "    else:\n",
    "        print(\"Congratulations! You guessed correctly. You took {} turns to guess correctly.\".format(len(guesslist)))\n",
    "        print(\"\\nThe lists of all your guesses is : \")\n",
    "        print(guesslist)\n",
    "    a=a+1"
   ]
  },
  {
   "cell_type": "code",
   "execution_count": 17,
   "id": "0475933b",
   "metadata": {},
   "outputs": [
    {
     "ename": "SyntaxError",
     "evalue": "invalid syntax (<ipython-input-17-5a1b460bd140>, line 13)",
     "output_type": "error",
     "traceback": [
      "\u001b[1;36m  File \u001b[1;32m\"<ipython-input-17-5a1b460bd140>\"\u001b[1;36m, line \u001b[1;32m13\u001b[0m\n\u001b[1;33m    elif : guess>100 or guess<1:\u001b[0m\n\u001b[1;37m         ^\u001b[0m\n\u001b[1;31mSyntaxError\u001b[0m\u001b[1;31m:\u001b[0m invalid syntax\n"
     ]
    }
   ],
   "source": [
    "#print(rules)\n",
    "x=0\n",
    "a=0\n",
    "from random import randint\n",
    "randominteger=randint(1,100)\n",
    "randomintergerplusten=[randominteger+1,randominteger+2,randominteger+3,randominteger+4,randominteger+5,randominteger+6,randominteger+7,randominteger+8,randominteger+9,randominteger+10]\n",
    "randomintergerminusten=[randominteger-1,randominteger-2,randominteger-3,randominteger-4,randominteger-5,randominteger-6,randominteger-7,randominteger-8,randominteger-9,randominteger-10]\n",
    "while x==0:\n",
    "    guess=(input(\"Enter your guess\").strip())\n",
    "    guesslist.append(guess)\n",
    "    if guesslist[0]==randominteger:\n",
    "        print(\"Congratulations! You guessed correctly on your first turn!!!\")\n",
    "    elif : guess>100 or guess<1:\n",
    "        print(\"OUT OF BOUNDS\")\n",
    "    elif :\n",
    "        if guess in randomintergerplusten or guess in randomintergerminusten:\n",
    "            print(\"WARM\")\n",
    "        else:\n",
    "            print(\"COLD\")\n",
    "    elif:\n",
    "        if guess in range(guesslist[a],randominteger) or guess in range(randominteger,guesslist[a]):\n",
    "            print(\"WARMER\")\n",
    "        else:\n",
    "            print(\"COLDER\")\n",
    "    else:\n",
    "        print(\"Congratulations! You guessed correctly. You took {} turns to guess correctly.\".format(len(guesslist)))\n",
    "        print(\"\\nThe lists of all your guesses is : \")\n",
    "        print(guesslist)\n",
    "    a=a+1"
   ]
  },
  {
   "cell_type": "code",
   "execution_count": 19,
   "id": "8877798a",
   "metadata": {},
   "outputs": [
    {
     "ename": "SyntaxError",
     "evalue": "invalid syntax (<ipython-input-19-75914688afd3>, line 21)",
     "output_type": "error",
     "traceback": [
      "\u001b[1;36m  File \u001b[1;32m\"<ipython-input-19-75914688afd3>\"\u001b[1;36m, line \u001b[1;32m21\u001b[0m\n\u001b[1;33m    else:\u001b[0m\n\u001b[1;37m    ^\u001b[0m\n\u001b[1;31mSyntaxError\u001b[0m\u001b[1;31m:\u001b[0m invalid syntax\n"
     ]
    }
   ],
   "source": [
    "#print(rules)\n",
    "x=0\n",
    "a=0\n",
    "from random import randint\n",
    "randominteger=randint(1,100)\n",
    "randomintergerplusten=[randominteger+1,randominteger+2,randominteger+3,randominteger+4,randominteger+5,randominteger+6,randominteger+7,randominteger+8,randominteger+9,randominteger+10]\n",
    "randomintergerminusten=[randominteger-1,randominteger-2,randominteger-3,randominteger-4,randominteger-5,randominteger-6,randominteger-7,randominteger-8,randominteger-9,randominteger-10]\n",
    "while x==0:\n",
    "    guess=(input(\"Enter your guess\").strip())\n",
    "    guesslist.append(guess)\n",
    "    if guesslist[0]==randominteger:\n",
    "        print(\"Congratulations! You guessed correctly on your first turn!!!\")\n",
    "    elif guess>100 or guess<1:\n",
    "        print(\"OUT OF BOUNDS\")\n",
    "    elif guess in randomintergerplusten or guess in randomintergerminusten:\n",
    "            print(\"WARM\")\n",
    "    elif guess in range(guesslist[a],randominteger) or guess in range(randominteger,guesslist[a]):\n",
    "            print(\"WARMER\")\n",
    "    else:\n",
    "            print(\"COLDER\")\n",
    "    else:\n",
    "        print(\"Congratulations! You guessed correctly. You took {} turns to guess correctly.\".format(len(guesslist)))\n",
    "        print(\"\\nThe lists of all your guesses is : \")\n",
    "        print(guesslist)\n",
    "    a=a+1"
   ]
  },
  {
   "cell_type": "code",
   "execution_count": 20,
   "id": "6e6eb0a1",
   "metadata": {},
   "outputs": [],
   "source": [
    "from random import randint"
   ]
  },
  {
   "cell_type": "code",
   "execution_count": 21,
   "id": "987b0c41",
   "metadata": {},
   "outputs": [
    {
     "name": "stdout",
     "output_type": "stream",
     "text": [
      "\t\t\t\tGUESSING GAME\n",
      "Hello player!You have to guess a number from 1 to 100.\n",
      "The follwing are the rules of the game:\n",
      "1.If the number enetered by the player is greater than 100 or less than 1 you will get 'OUT OF BOUNDS' remark.\n",
      "2.On player's first turn, if their guess is\n",
      "\t-within 10 of the number,player will get 'WARM' remark.\n",
      "\t-further than 10 away from the number, player will get 'COLD' remark.\n",
      "3.On all subsequent turns, if a guess is\n",
      "\t-closer to the number than the previous guess a 'WARMER' rmeark will printed.\n",
      "\t-further than 10 away from the number, player will get a 'COLDER'remark.\n",
      "4.After guessing correctly, number of guesses and the list of guesses will be displayed\n",
      "Enter your guess50\n",
      "COLD\n",
      "Enter your guess25\n",
      "WARMER\n",
      "Enter your guess10\n",
      "WARMER\n",
      "Enter your guess5\n",
      "WARMER\n",
      "Enter your guess9\n",
      "WARMER\n",
      "Enter your guess11\n",
      "WARMER\n",
      "Enter your guess4\n",
      "WARMER\n",
      "Enter your guess3\n",
      "WARMER\n",
      "Enter your guess2\n",
      "WARMER\n",
      "Enter your guess1\n",
      "WARMER\n",
      "Enter your guess0\n",
      "OUT OF BOUNDS\n",
      "Enter your guess8\n",
      "WARMER\n",
      "Enter your guess9\n",
      "WARMER\n",
      "Enter your guess10\n",
      "WARMER\n",
      "Enter your guess11\n",
      "WARMER\n",
      "Enter your guess12\n",
      "WARMER\n",
      "Enter your guess13\n",
      "WARMER\n",
      "Enter your guess14\n",
      "WARMER\n",
      "Enter your guess15\n",
      "WARMER\n",
      "Enter your guess16\n",
      "WARMER\n",
      "Enter your guess17\n",
      "WARMER\n",
      "Enter your guess19\n",
      "WARMER\n",
      "Enter your guess18\n",
      "WARMER\n",
      "Enter your guess20\n",
      "WARMER\n"
     ]
    },
    {
     "ename": "KeyboardInterrupt",
     "evalue": "Interrupted by user",
     "output_type": "error",
     "traceback": [
      "\u001b[1;31m---------------------------------------------------------------------------\u001b[0m",
      "\u001b[1;31mKeyboardInterrupt\u001b[0m                         Traceback (most recent call last)",
      "\u001b[1;32m<ipython-input-21-3c38739d76e5>\u001b[0m in \u001b[0;36m<module>\u001b[1;34m\u001b[0m\n\u001b[0;32m      7\u001b[0m \u001b[0mrandomintergerminusten\u001b[0m\u001b[1;33m=\u001b[0m\u001b[1;33m[\u001b[0m\u001b[0mrandominteger\u001b[0m\u001b[1;33m-\u001b[0m\u001b[1;36m1\u001b[0m\u001b[1;33m,\u001b[0m\u001b[0mrandominteger\u001b[0m\u001b[1;33m-\u001b[0m\u001b[1;36m2\u001b[0m\u001b[1;33m,\u001b[0m\u001b[0mrandominteger\u001b[0m\u001b[1;33m-\u001b[0m\u001b[1;36m3\u001b[0m\u001b[1;33m,\u001b[0m\u001b[0mrandominteger\u001b[0m\u001b[1;33m-\u001b[0m\u001b[1;36m4\u001b[0m\u001b[1;33m,\u001b[0m\u001b[0mrandominteger\u001b[0m\u001b[1;33m-\u001b[0m\u001b[1;36m5\u001b[0m\u001b[1;33m,\u001b[0m\u001b[0mrandominteger\u001b[0m\u001b[1;33m-\u001b[0m\u001b[1;36m6\u001b[0m\u001b[1;33m,\u001b[0m\u001b[0mrandominteger\u001b[0m\u001b[1;33m-\u001b[0m\u001b[1;36m7\u001b[0m\u001b[1;33m,\u001b[0m\u001b[0mrandominteger\u001b[0m\u001b[1;33m-\u001b[0m\u001b[1;36m8\u001b[0m\u001b[1;33m,\u001b[0m\u001b[0mrandominteger\u001b[0m\u001b[1;33m-\u001b[0m\u001b[1;36m9\u001b[0m\u001b[1;33m,\u001b[0m\u001b[0mrandominteger\u001b[0m\u001b[1;33m-\u001b[0m\u001b[1;36m10\u001b[0m\u001b[1;33m]\u001b[0m\u001b[1;33m\u001b[0m\u001b[1;33m\u001b[0m\u001b[0m\n\u001b[0;32m      8\u001b[0m \u001b[1;32mwhile\u001b[0m \u001b[0mx\u001b[0m\u001b[1;33m==\u001b[0m\u001b[1;36m0\u001b[0m\u001b[1;33m:\u001b[0m\u001b[1;33m\u001b[0m\u001b[1;33m\u001b[0m\u001b[0m\n\u001b[1;32m----> 9\u001b[1;33m     \u001b[0mguess\u001b[0m\u001b[1;33m=\u001b[0m\u001b[0mint\u001b[0m\u001b[1;33m(\u001b[0m\u001b[0minput\u001b[0m\u001b[1;33m(\u001b[0m\u001b[1;34m\"Enter your guess\"\u001b[0m\u001b[1;33m)\u001b[0m\u001b[1;33m.\u001b[0m\u001b[0mstrip\u001b[0m\u001b[1;33m(\u001b[0m\u001b[1;33m)\u001b[0m\u001b[1;33m)\u001b[0m\u001b[1;33m\u001b[0m\u001b[1;33m\u001b[0m\u001b[0m\n\u001b[0m\u001b[0;32m     10\u001b[0m     \u001b[0mguesslist\u001b[0m\u001b[1;33m.\u001b[0m\u001b[0mappend\u001b[0m\u001b[1;33m(\u001b[0m\u001b[0mguess\u001b[0m\u001b[1;33m)\u001b[0m\u001b[1;33m\u001b[0m\u001b[1;33m\u001b[0m\u001b[0m\n\u001b[0;32m     11\u001b[0m     \u001b[1;32mif\u001b[0m \u001b[0mguesslist\u001b[0m\u001b[1;33m[\u001b[0m\u001b[1;36m0\u001b[0m\u001b[1;33m]\u001b[0m\u001b[1;33m==\u001b[0m\u001b[0mrandominteger\u001b[0m\u001b[1;33m:\u001b[0m\u001b[1;33m\u001b[0m\u001b[1;33m\u001b[0m\u001b[0m\n",
      "\u001b[1;32m~\\anaconda3\\lib\\site-packages\\ipykernel\\kernelbase.py\u001b[0m in \u001b[0;36mraw_input\u001b[1;34m(self, prompt)\u001b[0m\n\u001b[0;32m    858\u001b[0m                 \u001b[1;34m\"raw_input was called, but this frontend does not support input requests.\"\u001b[0m\u001b[1;33m\u001b[0m\u001b[1;33m\u001b[0m\u001b[0m\n\u001b[0;32m    859\u001b[0m             )\n\u001b[1;32m--> 860\u001b[1;33m         return self._input_request(str(prompt),\n\u001b[0m\u001b[0;32m    861\u001b[0m             \u001b[0mself\u001b[0m\u001b[1;33m.\u001b[0m\u001b[0m_parent_ident\u001b[0m\u001b[1;33m,\u001b[0m\u001b[1;33m\u001b[0m\u001b[1;33m\u001b[0m\u001b[0m\n\u001b[0;32m    862\u001b[0m             \u001b[0mself\u001b[0m\u001b[1;33m.\u001b[0m\u001b[0m_parent_header\u001b[0m\u001b[1;33m,\u001b[0m\u001b[1;33m\u001b[0m\u001b[1;33m\u001b[0m\u001b[0m\n",
      "\u001b[1;32m~\\anaconda3\\lib\\site-packages\\ipykernel\\kernelbase.py\u001b[0m in \u001b[0;36m_input_request\u001b[1;34m(self, prompt, ident, parent, password)\u001b[0m\n\u001b[0;32m    902\u001b[0m             \u001b[1;32mexcept\u001b[0m \u001b[0mKeyboardInterrupt\u001b[0m\u001b[1;33m:\u001b[0m\u001b[1;33m\u001b[0m\u001b[1;33m\u001b[0m\u001b[0m\n\u001b[0;32m    903\u001b[0m                 \u001b[1;31m# re-raise KeyboardInterrupt, to truncate traceback\u001b[0m\u001b[1;33m\u001b[0m\u001b[1;33m\u001b[0m\u001b[1;33m\u001b[0m\u001b[0m\n\u001b[1;32m--> 904\u001b[1;33m                 \u001b[1;32mraise\u001b[0m \u001b[0mKeyboardInterrupt\u001b[0m\u001b[1;33m(\u001b[0m\u001b[1;34m\"Interrupted by user\"\u001b[0m\u001b[1;33m)\u001b[0m \u001b[1;32mfrom\u001b[0m \u001b[1;32mNone\u001b[0m\u001b[1;33m\u001b[0m\u001b[1;33m\u001b[0m\u001b[0m\n\u001b[0m\u001b[0;32m    905\u001b[0m             \u001b[1;32mexcept\u001b[0m \u001b[0mException\u001b[0m \u001b[1;32mas\u001b[0m \u001b[0me\u001b[0m\u001b[1;33m:\u001b[0m\u001b[1;33m\u001b[0m\u001b[1;33m\u001b[0m\u001b[0m\n\u001b[0;32m    906\u001b[0m                 \u001b[0mself\u001b[0m\u001b[1;33m.\u001b[0m\u001b[0mlog\u001b[0m\u001b[1;33m.\u001b[0m\u001b[0mwarning\u001b[0m\u001b[1;33m(\u001b[0m\u001b[1;34m\"Invalid Message:\"\u001b[0m\u001b[1;33m,\u001b[0m \u001b[0mexc_info\u001b[0m\u001b[1;33m=\u001b[0m\u001b[1;32mTrue\u001b[0m\u001b[1;33m)\u001b[0m\u001b[1;33m\u001b[0m\u001b[1;33m\u001b[0m\u001b[0m\n",
      "\u001b[1;31mKeyboardInterrupt\u001b[0m: Interrupted by user"
     ]
    }
   ],
   "source": [
    "print(rules)\n",
    "x=0\n",
    "a=0\n",
    "from random import randint\n",
    "randominteger=randint(1,100)\n",
    "randomintergerplusten=[randominteger+1,randominteger+2,randominteger+3,randominteger+4,randominteger+5,randominteger+6,randominteger+7,randominteger+8,randominteger+9,randominteger+10]\n",
    "randomintergerminusten=[randominteger-1,randominteger-2,randominteger-3,randominteger-4,randominteger-5,randominteger-6,randominteger-7,randominteger-8,randominteger-9,randominteger-10]\n",
    "while x==0:\n",
    "    guess=int(input(\"Enter your guess\").strip())\n",
    "    guesslist.append(guess)\n",
    "    if guesslist[0]==randominteger:\n",
    "        print(\"Congratulations! You guessed correctly on your first turn!!!\")\n",
    "    elif guess>100 or guess<1:\n",
    "        print(\"OUT OF BOUNDS\")\n",
    "    elif a==0 :\n",
    "        if guess in randomintergerplusten or guess in randomintergerminusten:\n",
    "            print(\"WARM\")\n",
    "        else:\n",
    "            print(\"COLD\")\n",
    "    elif a!=0:\n",
    "        if guess in range(guesslist[a],randominteger) or guess in range(randominteger,guesslist[a]):\n",
    "            print(\"WARMER\")\n",
    "        else:\n",
    "            print(\"COLDER\")\n",
    "    else:\n",
    "        print(\"Congratulations! You guessed correctly. You took {} turns to guess correctly.\".format(len(guesslist)))\n",
    "        print(\"\\nThe lists of all your guesses is : \")\n",
    "        print(guesslist)\n",
    "    a=a+1"
   ]
  },
  {
   "cell_type": "code",
   "execution_count": 22,
   "id": "82d4038e",
   "metadata": {},
   "outputs": [
    {
     "data": {
      "text/plain": [
       "33"
      ]
     },
     "execution_count": 22,
     "metadata": {},
     "output_type": "execute_result"
    }
   ],
   "source": [
    "randominteger"
   ]
  },
  {
   "cell_type": "code",
   "execution_count": 23,
   "id": "cc627580",
   "metadata": {},
   "outputs": [
    {
     "name": "stdout",
     "output_type": "stream",
     "text": [
      "\t\t\t\tGUESSING GAME\n",
      "Hello player!You have to guess a number from 1 to 100.\n",
      "The follwing are the rules of the game:\n",
      "1.If the number enetered by the player is greater than 100 or less than 1 you will get 'OUT OF BOUNDS' remark.\n",
      "2.On player's first turn, if their guess is\n",
      "\t-within 10 of the number,player will get 'WARM' remark.\n",
      "\t-further than 10 away from the number, player will get 'COLD' remark.\n",
      "3.On all subsequent turns, if a guess is\n",
      "\t-closer to the number than the previous guess a 'WARMER' rmeark will printed.\n",
      "\t-further than 10 away from the number, player will get a 'COLDER'remark.\n",
      "4.After guessing correctly, number of guesses and the list of guesses will be displayed\n",
      "Enter your guess50\n",
      "Congratulations! You guessed correctly on your first turn!!!\n"
     ]
    },
    {
     "ename": "KeyboardInterrupt",
     "evalue": "Interrupted by user",
     "output_type": "error",
     "traceback": [
      "\u001b[1;31m---------------------------------------------------------------------------\u001b[0m",
      "\u001b[1;31mKeyboardInterrupt\u001b[0m                         Traceback (most recent call last)",
      "\u001b[1;32m<ipython-input-23-1edcb0f2b485>\u001b[0m in \u001b[0;36m<module>\u001b[1;34m\u001b[0m\n\u001b[0;32m      7\u001b[0m \u001b[0mrandomintergerminusten\u001b[0m\u001b[1;33m=\u001b[0m\u001b[1;33m[\u001b[0m\u001b[0mrandominteger\u001b[0m\u001b[1;33m-\u001b[0m\u001b[1;36m1\u001b[0m\u001b[1;33m,\u001b[0m\u001b[0mrandominteger\u001b[0m\u001b[1;33m-\u001b[0m\u001b[1;36m2\u001b[0m\u001b[1;33m,\u001b[0m\u001b[0mrandominteger\u001b[0m\u001b[1;33m-\u001b[0m\u001b[1;36m3\u001b[0m\u001b[1;33m,\u001b[0m\u001b[0mrandominteger\u001b[0m\u001b[1;33m-\u001b[0m\u001b[1;36m4\u001b[0m\u001b[1;33m,\u001b[0m\u001b[0mrandominteger\u001b[0m\u001b[1;33m-\u001b[0m\u001b[1;36m5\u001b[0m\u001b[1;33m,\u001b[0m\u001b[0mrandominteger\u001b[0m\u001b[1;33m-\u001b[0m\u001b[1;36m6\u001b[0m\u001b[1;33m,\u001b[0m\u001b[0mrandominteger\u001b[0m\u001b[1;33m-\u001b[0m\u001b[1;36m7\u001b[0m\u001b[1;33m,\u001b[0m\u001b[0mrandominteger\u001b[0m\u001b[1;33m-\u001b[0m\u001b[1;36m8\u001b[0m\u001b[1;33m,\u001b[0m\u001b[0mrandominteger\u001b[0m\u001b[1;33m-\u001b[0m\u001b[1;36m9\u001b[0m\u001b[1;33m,\u001b[0m\u001b[0mrandominteger\u001b[0m\u001b[1;33m-\u001b[0m\u001b[1;36m10\u001b[0m\u001b[1;33m]\u001b[0m\u001b[1;33m\u001b[0m\u001b[1;33m\u001b[0m\u001b[0m\n\u001b[0;32m      8\u001b[0m \u001b[1;32mwhile\u001b[0m \u001b[0mx\u001b[0m\u001b[1;33m==\u001b[0m\u001b[1;36m0\u001b[0m\u001b[1;33m:\u001b[0m\u001b[1;33m\u001b[0m\u001b[1;33m\u001b[0m\u001b[0m\n\u001b[1;32m----> 9\u001b[1;33m     \u001b[0mguess\u001b[0m\u001b[1;33m=\u001b[0m\u001b[0mint\u001b[0m\u001b[1;33m(\u001b[0m\u001b[0minput\u001b[0m\u001b[1;33m(\u001b[0m\u001b[1;34m\"Enter your guess\"\u001b[0m\u001b[1;33m)\u001b[0m\u001b[1;33m.\u001b[0m\u001b[0mstrip\u001b[0m\u001b[1;33m(\u001b[0m\u001b[1;33m)\u001b[0m\u001b[1;33m)\u001b[0m\u001b[1;33m\u001b[0m\u001b[1;33m\u001b[0m\u001b[0m\n\u001b[0m\u001b[0;32m     10\u001b[0m     \u001b[0mguesslist\u001b[0m\u001b[1;33m.\u001b[0m\u001b[0mappend\u001b[0m\u001b[1;33m(\u001b[0m\u001b[0mguess\u001b[0m\u001b[1;33m)\u001b[0m\u001b[1;33m\u001b[0m\u001b[1;33m\u001b[0m\u001b[0m\n\u001b[0;32m     11\u001b[0m     \u001b[1;32mif\u001b[0m \u001b[0mguesslist\u001b[0m\u001b[1;33m[\u001b[0m\u001b[1;36m0\u001b[0m\u001b[1;33m]\u001b[0m\u001b[1;33m==\u001b[0m\u001b[0mrandominteger\u001b[0m\u001b[1;33m:\u001b[0m\u001b[1;33m\u001b[0m\u001b[1;33m\u001b[0m\u001b[0m\n",
      "\u001b[1;32m~\\anaconda3\\lib\\site-packages\\ipykernel\\kernelbase.py\u001b[0m in \u001b[0;36mraw_input\u001b[1;34m(self, prompt)\u001b[0m\n\u001b[0;32m    858\u001b[0m                 \u001b[1;34m\"raw_input was called, but this frontend does not support input requests.\"\u001b[0m\u001b[1;33m\u001b[0m\u001b[1;33m\u001b[0m\u001b[0m\n\u001b[0;32m    859\u001b[0m             )\n\u001b[1;32m--> 860\u001b[1;33m         return self._input_request(str(prompt),\n\u001b[0m\u001b[0;32m    861\u001b[0m             \u001b[0mself\u001b[0m\u001b[1;33m.\u001b[0m\u001b[0m_parent_ident\u001b[0m\u001b[1;33m,\u001b[0m\u001b[1;33m\u001b[0m\u001b[1;33m\u001b[0m\u001b[0m\n\u001b[0;32m    862\u001b[0m             \u001b[0mself\u001b[0m\u001b[1;33m.\u001b[0m\u001b[0m_parent_header\u001b[0m\u001b[1;33m,\u001b[0m\u001b[1;33m\u001b[0m\u001b[1;33m\u001b[0m\u001b[0m\n",
      "\u001b[1;32m~\\anaconda3\\lib\\site-packages\\ipykernel\\kernelbase.py\u001b[0m in \u001b[0;36m_input_request\u001b[1;34m(self, prompt, ident, parent, password)\u001b[0m\n\u001b[0;32m    902\u001b[0m             \u001b[1;32mexcept\u001b[0m \u001b[0mKeyboardInterrupt\u001b[0m\u001b[1;33m:\u001b[0m\u001b[1;33m\u001b[0m\u001b[1;33m\u001b[0m\u001b[0m\n\u001b[0;32m    903\u001b[0m                 \u001b[1;31m# re-raise KeyboardInterrupt, to truncate traceback\u001b[0m\u001b[1;33m\u001b[0m\u001b[1;33m\u001b[0m\u001b[1;33m\u001b[0m\u001b[0m\n\u001b[1;32m--> 904\u001b[1;33m                 \u001b[1;32mraise\u001b[0m \u001b[0mKeyboardInterrupt\u001b[0m\u001b[1;33m(\u001b[0m\u001b[1;34m\"Interrupted by user\"\u001b[0m\u001b[1;33m)\u001b[0m \u001b[1;32mfrom\u001b[0m \u001b[1;32mNone\u001b[0m\u001b[1;33m\u001b[0m\u001b[1;33m\u001b[0m\u001b[0m\n\u001b[0m\u001b[0;32m    905\u001b[0m             \u001b[1;32mexcept\u001b[0m \u001b[0mException\u001b[0m \u001b[1;32mas\u001b[0m \u001b[0me\u001b[0m\u001b[1;33m:\u001b[0m\u001b[1;33m\u001b[0m\u001b[1;33m\u001b[0m\u001b[0m\n\u001b[0;32m    906\u001b[0m                 \u001b[0mself\u001b[0m\u001b[1;33m.\u001b[0m\u001b[0mlog\u001b[0m\u001b[1;33m.\u001b[0m\u001b[0mwarning\u001b[0m\u001b[1;33m(\u001b[0m\u001b[1;34m\"Invalid Message:\"\u001b[0m\u001b[1;33m,\u001b[0m \u001b[0mexc_info\u001b[0m\u001b[1;33m=\u001b[0m\u001b[1;32mTrue\u001b[0m\u001b[1;33m)\u001b[0m\u001b[1;33m\u001b[0m\u001b[1;33m\u001b[0m\u001b[0m\n",
      "\u001b[1;31mKeyboardInterrupt\u001b[0m: Interrupted by user"
     ]
    }
   ],
   "source": [
    "print(rules)\n",
    "x=0\n",
    "a=0\n",
    "from random import randint\n",
    "randominteger=randint(1,100)\n",
    "randomintergerplusten=[randominteger+1,randominteger+2,randominteger+3,randominteger+4,randominteger+5,randominteger+6,randominteger+7,randominteger+8,randominteger+9,randominteger+10]\n",
    "randomintergerminusten=[randominteger-1,randominteger-2,randominteger-3,randominteger-4,randominteger-5,randominteger-6,randominteger-7,randominteger-8,randominteger-9,randominteger-10]\n",
    "while x==0:\n",
    "    guess=int(input(\"Enter your guess\").strip())\n",
    "    guesslist.append(guess)\n",
    "    if guesslist[0]==randominteger:\n",
    "        print(\"Congratulations! You guessed correctly on your first turn!!!\")\n",
    "    elif guess>100 or guess<1:\n",
    "        print(\"OUT OF BOUNDS\")\n",
    "    elif a==0 :\n",
    "        if guess in randomintergerplusten or guess in randomintergerminusten:\n",
    "            print(\"WARM\")\n",
    "        else:\n",
    "            print(\"COLD\")\n",
    "    elif a!=0:\n",
    "        if abs(randominteger-guesslist[a])<abs(randominteger-guesslist[a-1]):\n",
    "            print(\"WARMER\")\n",
    "        else:\n",
    "            print(\"COLDER\")\n",
    "    else:\n",
    "        print(\"Congratulations! You guessed correctly. You took {} turns to guess correctly.\".format(len(guesslist)))\n",
    "        print(\"\\nThe lists of all your guesses is : \")\n",
    "        print(guesslist)\n",
    "    a=a+1"
   ]
  },
  {
   "cell_type": "code",
   "execution_count": 24,
   "id": "17cc6b95",
   "metadata": {},
   "outputs": [
    {
     "name": "stdout",
     "output_type": "stream",
     "text": [
      "\t\t\t\tGUESSING GAME\n",
      "Hello player!You have to guess a number from 1 to 100.\n",
      "The follwing are the rules of the game:\n",
      "1.If the number enetered by the player is greater than 100 or less than 1 you will get 'OUT OF BOUNDS' remark.\n",
      "2.On player's first turn, if their guess is\n",
      "\t-within 10 of the number,player will get 'WARM' remark.\n",
      "\t-further than 10 away from the number, player will get 'COLD' remark.\n",
      "3.On all subsequent turns, if a guess is\n",
      "\t-closer to the number than the previous guess a 'WARMER' rmeark will printed.\n",
      "\t-further than 10 away from the number, player will get a 'COLDER'remark.\n",
      "4.After guessing correctly, number of guesses and the list of guesses will be displayed\n",
      "Enter your guess50\n",
      "WARM\n",
      "Enter your guess40\n",
      "COLDER\n",
      "Enter your guess45\n",
      "COLDER\n",
      "Enter your guess60\n",
      "COLDER\n"
     ]
    },
    {
     "ename": "KeyboardInterrupt",
     "evalue": "Interrupted by user",
     "output_type": "error",
     "traceback": [
      "\u001b[1;31m---------------------------------------------------------------------------\u001b[0m",
      "\u001b[1;31mKeyboardInterrupt\u001b[0m                         Traceback (most recent call last)",
      "\u001b[1;32m<ipython-input-24-896fad2889c9>\u001b[0m in \u001b[0;36m<module>\u001b[1;34m\u001b[0m\n\u001b[0;32m      7\u001b[0m \u001b[0mrandomintergerminusten\u001b[0m\u001b[1;33m=\u001b[0m\u001b[1;33m[\u001b[0m\u001b[0mrandominteger\u001b[0m\u001b[1;33m-\u001b[0m\u001b[1;36m1\u001b[0m\u001b[1;33m,\u001b[0m\u001b[0mrandominteger\u001b[0m\u001b[1;33m-\u001b[0m\u001b[1;36m2\u001b[0m\u001b[1;33m,\u001b[0m\u001b[0mrandominteger\u001b[0m\u001b[1;33m-\u001b[0m\u001b[1;36m3\u001b[0m\u001b[1;33m,\u001b[0m\u001b[0mrandominteger\u001b[0m\u001b[1;33m-\u001b[0m\u001b[1;36m4\u001b[0m\u001b[1;33m,\u001b[0m\u001b[0mrandominteger\u001b[0m\u001b[1;33m-\u001b[0m\u001b[1;36m5\u001b[0m\u001b[1;33m,\u001b[0m\u001b[0mrandominteger\u001b[0m\u001b[1;33m-\u001b[0m\u001b[1;36m6\u001b[0m\u001b[1;33m,\u001b[0m\u001b[0mrandominteger\u001b[0m\u001b[1;33m-\u001b[0m\u001b[1;36m7\u001b[0m\u001b[1;33m,\u001b[0m\u001b[0mrandominteger\u001b[0m\u001b[1;33m-\u001b[0m\u001b[1;36m8\u001b[0m\u001b[1;33m,\u001b[0m\u001b[0mrandominteger\u001b[0m\u001b[1;33m-\u001b[0m\u001b[1;36m9\u001b[0m\u001b[1;33m,\u001b[0m\u001b[0mrandominteger\u001b[0m\u001b[1;33m-\u001b[0m\u001b[1;36m10\u001b[0m\u001b[1;33m]\u001b[0m\u001b[1;33m\u001b[0m\u001b[1;33m\u001b[0m\u001b[0m\n\u001b[0;32m      8\u001b[0m \u001b[1;32mwhile\u001b[0m \u001b[0mx\u001b[0m\u001b[1;33m==\u001b[0m\u001b[1;36m0\u001b[0m\u001b[1;33m:\u001b[0m\u001b[1;33m\u001b[0m\u001b[1;33m\u001b[0m\u001b[0m\n\u001b[1;32m----> 9\u001b[1;33m     \u001b[0mguess\u001b[0m\u001b[1;33m=\u001b[0m\u001b[0mint\u001b[0m\u001b[1;33m(\u001b[0m\u001b[0minput\u001b[0m\u001b[1;33m(\u001b[0m\u001b[1;34m\"Enter your guess\"\u001b[0m\u001b[1;33m)\u001b[0m\u001b[1;33m.\u001b[0m\u001b[0mstrip\u001b[0m\u001b[1;33m(\u001b[0m\u001b[1;33m)\u001b[0m\u001b[1;33m)\u001b[0m\u001b[1;33m\u001b[0m\u001b[1;33m\u001b[0m\u001b[0m\n\u001b[0m\u001b[0;32m     10\u001b[0m     \u001b[0mguesslist\u001b[0m\u001b[1;33m.\u001b[0m\u001b[0mappend\u001b[0m\u001b[1;33m(\u001b[0m\u001b[0mguess\u001b[0m\u001b[1;33m)\u001b[0m\u001b[1;33m\u001b[0m\u001b[1;33m\u001b[0m\u001b[0m\n\u001b[0;32m     11\u001b[0m     \u001b[1;32mif\u001b[0m \u001b[0mguesslist\u001b[0m\u001b[1;33m[\u001b[0m\u001b[1;36m0\u001b[0m\u001b[1;33m]\u001b[0m\u001b[1;33m==\u001b[0m\u001b[0mrandominteger\u001b[0m\u001b[1;33m:\u001b[0m\u001b[1;33m\u001b[0m\u001b[1;33m\u001b[0m\u001b[0m\n",
      "\u001b[1;32m~\\anaconda3\\lib\\site-packages\\ipykernel\\kernelbase.py\u001b[0m in \u001b[0;36mraw_input\u001b[1;34m(self, prompt)\u001b[0m\n\u001b[0;32m    858\u001b[0m                 \u001b[1;34m\"raw_input was called, but this frontend does not support input requests.\"\u001b[0m\u001b[1;33m\u001b[0m\u001b[1;33m\u001b[0m\u001b[0m\n\u001b[0;32m    859\u001b[0m             )\n\u001b[1;32m--> 860\u001b[1;33m         return self._input_request(str(prompt),\n\u001b[0m\u001b[0;32m    861\u001b[0m             \u001b[0mself\u001b[0m\u001b[1;33m.\u001b[0m\u001b[0m_parent_ident\u001b[0m\u001b[1;33m,\u001b[0m\u001b[1;33m\u001b[0m\u001b[1;33m\u001b[0m\u001b[0m\n\u001b[0;32m    862\u001b[0m             \u001b[0mself\u001b[0m\u001b[1;33m.\u001b[0m\u001b[0m_parent_header\u001b[0m\u001b[1;33m,\u001b[0m\u001b[1;33m\u001b[0m\u001b[1;33m\u001b[0m\u001b[0m\n",
      "\u001b[1;32m~\\anaconda3\\lib\\site-packages\\ipykernel\\kernelbase.py\u001b[0m in \u001b[0;36m_input_request\u001b[1;34m(self, prompt, ident, parent, password)\u001b[0m\n\u001b[0;32m    902\u001b[0m             \u001b[1;32mexcept\u001b[0m \u001b[0mKeyboardInterrupt\u001b[0m\u001b[1;33m:\u001b[0m\u001b[1;33m\u001b[0m\u001b[1;33m\u001b[0m\u001b[0m\n\u001b[0;32m    903\u001b[0m                 \u001b[1;31m# re-raise KeyboardInterrupt, to truncate traceback\u001b[0m\u001b[1;33m\u001b[0m\u001b[1;33m\u001b[0m\u001b[1;33m\u001b[0m\u001b[0m\n\u001b[1;32m--> 904\u001b[1;33m                 \u001b[1;32mraise\u001b[0m \u001b[0mKeyboardInterrupt\u001b[0m\u001b[1;33m(\u001b[0m\u001b[1;34m\"Interrupted by user\"\u001b[0m\u001b[1;33m)\u001b[0m \u001b[1;32mfrom\u001b[0m \u001b[1;32mNone\u001b[0m\u001b[1;33m\u001b[0m\u001b[1;33m\u001b[0m\u001b[0m\n\u001b[0m\u001b[0;32m    905\u001b[0m             \u001b[1;32mexcept\u001b[0m \u001b[0mException\u001b[0m \u001b[1;32mas\u001b[0m \u001b[0me\u001b[0m\u001b[1;33m:\u001b[0m\u001b[1;33m\u001b[0m\u001b[1;33m\u001b[0m\u001b[0m\n\u001b[0;32m    906\u001b[0m                 \u001b[0mself\u001b[0m\u001b[1;33m.\u001b[0m\u001b[0mlog\u001b[0m\u001b[1;33m.\u001b[0m\u001b[0mwarning\u001b[0m\u001b[1;33m(\u001b[0m\u001b[1;34m\"Invalid Message:\"\u001b[0m\u001b[1;33m,\u001b[0m \u001b[0mexc_info\u001b[0m\u001b[1;33m=\u001b[0m\u001b[1;32mTrue\u001b[0m\u001b[1;33m)\u001b[0m\u001b[1;33m\u001b[0m\u001b[1;33m\u001b[0m\u001b[0m\n",
      "\u001b[1;31mKeyboardInterrupt\u001b[0m: Interrupted by user"
     ]
    }
   ],
   "source": [
    "print(rules)\n",
    "x=0\n",
    "a=0\n",
    "from random import randint\n",
    "randominteger=randint(1,100)\n",
    "randomintergerplusten=[randominteger+1,randominteger+2,randominteger+3,randominteger+4,randominteger+5,randominteger+6,randominteger+7,randominteger+8,randominteger+9,randominteger+10]\n",
    "randomintergerminusten=[randominteger-1,randominteger-2,randominteger-3,randominteger-4,randominteger-5,randominteger-6,randominteger-7,randominteger-8,randominteger-9,randominteger-10]\n",
    "while x==0:\n",
    "    guess=int(input(\"Enter your guess\").strip())\n",
    "    guesslist.append(guess)\n",
    "    if guesslist[0]==randominteger:\n",
    "        print(\"Congratulations! You guessed correctly on your first turn!!!\")\n",
    "        break\n",
    "    elif guess>100 or guess<1:\n",
    "        print(\"OUT OF BOUNDS\")\n",
    "    elif a==0 :\n",
    "        if guess in randomintergerplusten or guess in randomintergerminusten:\n",
    "            print(\"WARM\")\n",
    "        else:\n",
    "            print(\"COLD\")\n",
    "    elif a!=0:\n",
    "        if abs(randominteger-guesslist[a])<abs(randominteger-guesslist[a-1]):\n",
    "            print(\"WARMER\")\n",
    "        else:\n",
    "            print(\"COLDER\")\n",
    "    else:\n",
    "        print(\"Congratulations! You guessed correctly. You took {} turns to guess correctly.\".format(len(guesslist)))\n",
    "        print(\"\\nThe lists of all your guesses is : \")\n",
    "        print(guesslist)\n",
    "        break\n",
    "    a=a+1"
   ]
  },
  {
   "cell_type": "code",
   "execution_count": 25,
   "id": "c1c29acc",
   "metadata": {},
   "outputs": [
    {
     "data": {
      "text/plain": [
       "48"
      ]
     },
     "execution_count": 25,
     "metadata": {},
     "output_type": "execute_result"
    }
   ],
   "source": [
    "randominteger"
   ]
  },
  {
   "cell_type": "code",
   "execution_count": 26,
   "id": "ed0c9397",
   "metadata": {},
   "outputs": [
    {
     "name": "stdout",
     "output_type": "stream",
     "text": [
      "\t\t\t\tGUESSING GAME\n",
      "Hello player!You have to guess a number from 1 to 100.\n",
      "The follwing are the rules of the game:\n",
      "1.If the number enetered by the player is greater than 100 or less than 1 you will get 'OUT OF BOUNDS' remark.\n",
      "2.On player's first turn, if their guess is\n",
      "\t-within 10 of the number,player will get 'WARM' remark.\n",
      "\t-further than 10 away from the number, player will get 'COLD' remark.\n",
      "3.On all subsequent turns, if a guess is\n",
      "\t-closer to the number than the previous guess a 'WARMER' rmeark will printed.\n",
      "\t-further than 10 away from the number, player will get a 'COLDER'remark.\n",
      "4.After guessing correctly, number of guesses and the list of guesses will be displayed\n",
      "14\n",
      "Enter your guess 50\n",
      "COLD\n",
      "Enter your guess 25\n",
      "WARMER\n",
      "Enter your guess 20\n",
      "WARMER\n",
      "Enter your guess 10\n",
      "COLDER\n",
      "Enter your guess 11\n",
      "WARMER\n",
      "Enter your guess 12\n",
      "WARMER\n",
      "Enter your guess 13\n",
      "COLDER\n",
      "Enter your guess 14\n",
      "COLDER\n"
     ]
    },
    {
     "ename": "KeyboardInterrupt",
     "evalue": "Interrupted by user",
     "output_type": "error",
     "traceback": [
      "\u001b[1;31m---------------------------------------------------------------------------\u001b[0m",
      "\u001b[1;31mKeyboardInterrupt\u001b[0m                         Traceback (most recent call last)",
      "\u001b[1;32m<ipython-input-26-f7d9a4498134>\u001b[0m in \u001b[0;36m<module>\u001b[1;34m\u001b[0m\n\u001b[0;32m      8\u001b[0m \u001b[0mrandomintergerminusten\u001b[0m\u001b[1;33m=\u001b[0m\u001b[1;33m[\u001b[0m\u001b[0mrandominteger\u001b[0m\u001b[1;33m-\u001b[0m\u001b[1;36m1\u001b[0m\u001b[1;33m,\u001b[0m\u001b[0mrandominteger\u001b[0m\u001b[1;33m-\u001b[0m\u001b[1;36m2\u001b[0m\u001b[1;33m,\u001b[0m\u001b[0mrandominteger\u001b[0m\u001b[1;33m-\u001b[0m\u001b[1;36m3\u001b[0m\u001b[1;33m,\u001b[0m\u001b[0mrandominteger\u001b[0m\u001b[1;33m-\u001b[0m\u001b[1;36m4\u001b[0m\u001b[1;33m,\u001b[0m\u001b[0mrandominteger\u001b[0m\u001b[1;33m-\u001b[0m\u001b[1;36m5\u001b[0m\u001b[1;33m,\u001b[0m\u001b[0mrandominteger\u001b[0m\u001b[1;33m-\u001b[0m\u001b[1;36m6\u001b[0m\u001b[1;33m,\u001b[0m\u001b[0mrandominteger\u001b[0m\u001b[1;33m-\u001b[0m\u001b[1;36m7\u001b[0m\u001b[1;33m,\u001b[0m\u001b[0mrandominteger\u001b[0m\u001b[1;33m-\u001b[0m\u001b[1;36m8\u001b[0m\u001b[1;33m,\u001b[0m\u001b[0mrandominteger\u001b[0m\u001b[1;33m-\u001b[0m\u001b[1;36m9\u001b[0m\u001b[1;33m,\u001b[0m\u001b[0mrandominteger\u001b[0m\u001b[1;33m-\u001b[0m\u001b[1;36m10\u001b[0m\u001b[1;33m]\u001b[0m\u001b[1;33m\u001b[0m\u001b[1;33m\u001b[0m\u001b[0m\n\u001b[0;32m      9\u001b[0m \u001b[1;32mwhile\u001b[0m \u001b[0mx\u001b[0m\u001b[1;33m==\u001b[0m\u001b[1;36m0\u001b[0m\u001b[1;33m:\u001b[0m\u001b[1;33m\u001b[0m\u001b[1;33m\u001b[0m\u001b[0m\n\u001b[1;32m---> 10\u001b[1;33m     \u001b[0mguess\u001b[0m\u001b[1;33m=\u001b[0m\u001b[0mint\u001b[0m\u001b[1;33m(\u001b[0m\u001b[0minput\u001b[0m\u001b[1;33m(\u001b[0m\u001b[1;34m\"Enter your guess \"\u001b[0m\u001b[1;33m)\u001b[0m\u001b[1;33m.\u001b[0m\u001b[0mstrip\u001b[0m\u001b[1;33m(\u001b[0m\u001b[1;33m)\u001b[0m\u001b[1;33m)\u001b[0m\u001b[1;33m\u001b[0m\u001b[1;33m\u001b[0m\u001b[0m\n\u001b[0m\u001b[0;32m     11\u001b[0m     \u001b[0mguesslist\u001b[0m\u001b[1;33m.\u001b[0m\u001b[0mappend\u001b[0m\u001b[1;33m(\u001b[0m\u001b[0mguess\u001b[0m\u001b[1;33m)\u001b[0m\u001b[1;33m\u001b[0m\u001b[1;33m\u001b[0m\u001b[0m\n\u001b[0;32m     12\u001b[0m     \u001b[1;32mif\u001b[0m \u001b[0mguesslist\u001b[0m\u001b[1;33m[\u001b[0m\u001b[1;36m0\u001b[0m\u001b[1;33m]\u001b[0m\u001b[1;33m==\u001b[0m\u001b[0mrandominteger\u001b[0m\u001b[1;33m:\u001b[0m\u001b[1;33m\u001b[0m\u001b[1;33m\u001b[0m\u001b[0m\n",
      "\u001b[1;32m~\\anaconda3\\lib\\site-packages\\ipykernel\\kernelbase.py\u001b[0m in \u001b[0;36mraw_input\u001b[1;34m(self, prompt)\u001b[0m\n\u001b[0;32m    858\u001b[0m                 \u001b[1;34m\"raw_input was called, but this frontend does not support input requests.\"\u001b[0m\u001b[1;33m\u001b[0m\u001b[1;33m\u001b[0m\u001b[0m\n\u001b[0;32m    859\u001b[0m             )\n\u001b[1;32m--> 860\u001b[1;33m         return self._input_request(str(prompt),\n\u001b[0m\u001b[0;32m    861\u001b[0m             \u001b[0mself\u001b[0m\u001b[1;33m.\u001b[0m\u001b[0m_parent_ident\u001b[0m\u001b[1;33m,\u001b[0m\u001b[1;33m\u001b[0m\u001b[1;33m\u001b[0m\u001b[0m\n\u001b[0;32m    862\u001b[0m             \u001b[0mself\u001b[0m\u001b[1;33m.\u001b[0m\u001b[0m_parent_header\u001b[0m\u001b[1;33m,\u001b[0m\u001b[1;33m\u001b[0m\u001b[1;33m\u001b[0m\u001b[0m\n",
      "\u001b[1;32m~\\anaconda3\\lib\\site-packages\\ipykernel\\kernelbase.py\u001b[0m in \u001b[0;36m_input_request\u001b[1;34m(self, prompt, ident, parent, password)\u001b[0m\n\u001b[0;32m    902\u001b[0m             \u001b[1;32mexcept\u001b[0m \u001b[0mKeyboardInterrupt\u001b[0m\u001b[1;33m:\u001b[0m\u001b[1;33m\u001b[0m\u001b[1;33m\u001b[0m\u001b[0m\n\u001b[0;32m    903\u001b[0m                 \u001b[1;31m# re-raise KeyboardInterrupt, to truncate traceback\u001b[0m\u001b[1;33m\u001b[0m\u001b[1;33m\u001b[0m\u001b[1;33m\u001b[0m\u001b[0m\n\u001b[1;32m--> 904\u001b[1;33m                 \u001b[1;32mraise\u001b[0m \u001b[0mKeyboardInterrupt\u001b[0m\u001b[1;33m(\u001b[0m\u001b[1;34m\"Interrupted by user\"\u001b[0m\u001b[1;33m)\u001b[0m \u001b[1;32mfrom\u001b[0m \u001b[1;32mNone\u001b[0m\u001b[1;33m\u001b[0m\u001b[1;33m\u001b[0m\u001b[0m\n\u001b[0m\u001b[0;32m    905\u001b[0m             \u001b[1;32mexcept\u001b[0m \u001b[0mException\u001b[0m \u001b[1;32mas\u001b[0m \u001b[0me\u001b[0m\u001b[1;33m:\u001b[0m\u001b[1;33m\u001b[0m\u001b[1;33m\u001b[0m\u001b[0m\n\u001b[0;32m    906\u001b[0m                 \u001b[0mself\u001b[0m\u001b[1;33m.\u001b[0m\u001b[0mlog\u001b[0m\u001b[1;33m.\u001b[0m\u001b[0mwarning\u001b[0m\u001b[1;33m(\u001b[0m\u001b[1;34m\"Invalid Message:\"\u001b[0m\u001b[1;33m,\u001b[0m \u001b[0mexc_info\u001b[0m\u001b[1;33m=\u001b[0m\u001b[1;32mTrue\u001b[0m\u001b[1;33m)\u001b[0m\u001b[1;33m\u001b[0m\u001b[1;33m\u001b[0m\u001b[0m\n",
      "\u001b[1;31mKeyboardInterrupt\u001b[0m: Interrupted by user"
     ]
    }
   ],
   "source": [
    "print(rules)\n",
    "x=0\n",
    "a=0\n",
    "from random import randint\n",
    "randominteger=randint(1,100)\n",
    "print(randominteger)\n",
    "randomintergerplusten=[randominteger+1,randominteger+2,randominteger+3,randominteger+4,randominteger+5,randominteger+6,randominteger+7,randominteger+8,randominteger+9,randominteger+10]\n",
    "randomintergerminusten=[randominteger-1,randominteger-2,randominteger-3,randominteger-4,randominteger-5,randominteger-6,randominteger-7,randominteger-8,randominteger-9,randominteger-10]\n",
    "while x==0:\n",
    "    guess=int(input(\"Enter your guess \").strip())\n",
    "    guesslist.append(guess)\n",
    "    if guesslist[0]==randominteger:\n",
    "        print(\"Congratulations! You guessed correctly on your first turn!!!\")\n",
    "    elif guess>100 or guess<1:\n",
    "        print(\"OUT OF BOUNDS\")\n",
    "    elif a==0 :\n",
    "        if guess in randomintergerplusten or guess in randomintergerminusten:\n",
    "            print(\"WARM\")\n",
    "        else:\n",
    "            print(\"COLD\")\n",
    "    elif a!=0:\n",
    "        if abs(randominteger-guesslist[a])<abs(randominteger-guesslist[a-1]):\n",
    "            print(\"WARMER\")\n",
    "        else:\n",
    "            print(\"COLDER\")\n",
    "    else:\n",
    "        print(\"Congratulations! You guessed correctly. You took {} turns to guess correctly.\".format(len(guesslist)))\n",
    "        print(\"\\nThe lists of all your guesses is : \")\n",
    "        print(guesslist)\n",
    "    a=a+1"
   ]
  },
  {
   "cell_type": "code",
   "execution_count": 27,
   "id": "eb8781f7",
   "metadata": {},
   "outputs": [
    {
     "name": "stdout",
     "output_type": "stream",
     "text": [
      "\t\t\t\tGUESSING GAME\n",
      "Hello player!You have to guess a number from 1 to 100.\n",
      "The follwing are the rules of the game:\n",
      "1.If the number enetered by the player is greater than 100 or less than 1 you will get 'OUT OF BOUNDS' remark.\n",
      "2.On player's first turn, if their guess is\n",
      "\t-within 10 of the number,player will get 'WARM' remark.\n",
      "\t-further than 10 away from the number, player will get 'COLD' remark.\n",
      "3.On all subsequent turns, if a guess is\n",
      "\t-closer to the number than the previous guess a 'WARMER' rmeark will printed.\n",
      "\t-further than 10 away from the number, player will get a 'COLDER'remark.\n",
      "4.After guessing correctly, number of guesses and the list of guesses will be displayed\n",
      "54\n",
      "Enter your guess 50\n",
      "WARM\n",
      "Enter your guess 45\n",
      "COLDER\n",
      "Enter your guess 55\n",
      "COLDER\n",
      "Enter your guess 54\n",
      "Congratulations! You guessed correctly. You took 41 turns to guess correctly.\n",
      "\n",
      "The lists of all your guesses is : \n",
      "[50, 25, 10, 5, 9, 11, 4, 3, 2, 1, 0, 8, 9, 10, 11, 12, 13, 14, 15, 16, 17, 19, 18, 20, 50, 50, 40, 45, 60, 50, 25, 20, 10, 11, 12, 13, 14, 50, 45, 55, 54]\n"
     ]
    },
    {
     "ename": "KeyboardInterrupt",
     "evalue": "Interrupted by user",
     "output_type": "error",
     "traceback": [
      "\u001b[1;31m---------------------------------------------------------------------------\u001b[0m",
      "\u001b[1;31mKeyboardInterrupt\u001b[0m                         Traceback (most recent call last)",
      "\u001b[1;32m<ipython-input-27-cd5ad5888daf>\u001b[0m in \u001b[0;36m<module>\u001b[1;34m\u001b[0m\n\u001b[0;32m      8\u001b[0m \u001b[0mrandomintergerminusten\u001b[0m\u001b[1;33m=\u001b[0m\u001b[1;33m[\u001b[0m\u001b[0mrandominteger\u001b[0m\u001b[1;33m-\u001b[0m\u001b[1;36m1\u001b[0m\u001b[1;33m,\u001b[0m\u001b[0mrandominteger\u001b[0m\u001b[1;33m-\u001b[0m\u001b[1;36m2\u001b[0m\u001b[1;33m,\u001b[0m\u001b[0mrandominteger\u001b[0m\u001b[1;33m-\u001b[0m\u001b[1;36m3\u001b[0m\u001b[1;33m,\u001b[0m\u001b[0mrandominteger\u001b[0m\u001b[1;33m-\u001b[0m\u001b[1;36m4\u001b[0m\u001b[1;33m,\u001b[0m\u001b[0mrandominteger\u001b[0m\u001b[1;33m-\u001b[0m\u001b[1;36m5\u001b[0m\u001b[1;33m,\u001b[0m\u001b[0mrandominteger\u001b[0m\u001b[1;33m-\u001b[0m\u001b[1;36m6\u001b[0m\u001b[1;33m,\u001b[0m\u001b[0mrandominteger\u001b[0m\u001b[1;33m-\u001b[0m\u001b[1;36m7\u001b[0m\u001b[1;33m,\u001b[0m\u001b[0mrandominteger\u001b[0m\u001b[1;33m-\u001b[0m\u001b[1;36m8\u001b[0m\u001b[1;33m,\u001b[0m\u001b[0mrandominteger\u001b[0m\u001b[1;33m-\u001b[0m\u001b[1;36m9\u001b[0m\u001b[1;33m,\u001b[0m\u001b[0mrandominteger\u001b[0m\u001b[1;33m-\u001b[0m\u001b[1;36m10\u001b[0m\u001b[1;33m]\u001b[0m\u001b[1;33m\u001b[0m\u001b[1;33m\u001b[0m\u001b[0m\n\u001b[0;32m      9\u001b[0m \u001b[1;32mwhile\u001b[0m \u001b[0mx\u001b[0m\u001b[1;33m==\u001b[0m\u001b[1;36m0\u001b[0m\u001b[1;33m:\u001b[0m\u001b[1;33m\u001b[0m\u001b[1;33m\u001b[0m\u001b[0m\n\u001b[1;32m---> 10\u001b[1;33m     \u001b[0mguess\u001b[0m\u001b[1;33m=\u001b[0m\u001b[0mint\u001b[0m\u001b[1;33m(\u001b[0m\u001b[0minput\u001b[0m\u001b[1;33m(\u001b[0m\u001b[1;34m\"Enter your guess \"\u001b[0m\u001b[1;33m)\u001b[0m\u001b[1;33m.\u001b[0m\u001b[0mstrip\u001b[0m\u001b[1;33m(\u001b[0m\u001b[1;33m)\u001b[0m\u001b[1;33m)\u001b[0m\u001b[1;33m\u001b[0m\u001b[1;33m\u001b[0m\u001b[0m\n\u001b[0m\u001b[0;32m     11\u001b[0m     \u001b[0mguesslist\u001b[0m\u001b[1;33m.\u001b[0m\u001b[0mappend\u001b[0m\u001b[1;33m(\u001b[0m\u001b[0mguess\u001b[0m\u001b[1;33m)\u001b[0m\u001b[1;33m\u001b[0m\u001b[1;33m\u001b[0m\u001b[0m\n\u001b[0;32m     12\u001b[0m     \u001b[1;32mif\u001b[0m \u001b[0mguesslist\u001b[0m\u001b[1;33m[\u001b[0m\u001b[1;36m0\u001b[0m\u001b[1;33m]\u001b[0m\u001b[1;33m==\u001b[0m\u001b[0mrandominteger\u001b[0m\u001b[1;33m:\u001b[0m\u001b[1;33m\u001b[0m\u001b[1;33m\u001b[0m\u001b[0m\n",
      "\u001b[1;32m~\\anaconda3\\lib\\site-packages\\ipykernel\\kernelbase.py\u001b[0m in \u001b[0;36mraw_input\u001b[1;34m(self, prompt)\u001b[0m\n\u001b[0;32m    858\u001b[0m                 \u001b[1;34m\"raw_input was called, but this frontend does not support input requests.\"\u001b[0m\u001b[1;33m\u001b[0m\u001b[1;33m\u001b[0m\u001b[0m\n\u001b[0;32m    859\u001b[0m             )\n\u001b[1;32m--> 860\u001b[1;33m         return self._input_request(str(prompt),\n\u001b[0m\u001b[0;32m    861\u001b[0m             \u001b[0mself\u001b[0m\u001b[1;33m.\u001b[0m\u001b[0m_parent_ident\u001b[0m\u001b[1;33m,\u001b[0m\u001b[1;33m\u001b[0m\u001b[1;33m\u001b[0m\u001b[0m\n\u001b[0;32m    862\u001b[0m             \u001b[0mself\u001b[0m\u001b[1;33m.\u001b[0m\u001b[0m_parent_header\u001b[0m\u001b[1;33m,\u001b[0m\u001b[1;33m\u001b[0m\u001b[1;33m\u001b[0m\u001b[0m\n",
      "\u001b[1;32m~\\anaconda3\\lib\\site-packages\\ipykernel\\kernelbase.py\u001b[0m in \u001b[0;36m_input_request\u001b[1;34m(self, prompt, ident, parent, password)\u001b[0m\n\u001b[0;32m    902\u001b[0m             \u001b[1;32mexcept\u001b[0m \u001b[0mKeyboardInterrupt\u001b[0m\u001b[1;33m:\u001b[0m\u001b[1;33m\u001b[0m\u001b[1;33m\u001b[0m\u001b[0m\n\u001b[0;32m    903\u001b[0m                 \u001b[1;31m# re-raise KeyboardInterrupt, to truncate traceback\u001b[0m\u001b[1;33m\u001b[0m\u001b[1;33m\u001b[0m\u001b[1;33m\u001b[0m\u001b[0m\n\u001b[1;32m--> 904\u001b[1;33m                 \u001b[1;32mraise\u001b[0m \u001b[0mKeyboardInterrupt\u001b[0m\u001b[1;33m(\u001b[0m\u001b[1;34m\"Interrupted by user\"\u001b[0m\u001b[1;33m)\u001b[0m \u001b[1;32mfrom\u001b[0m \u001b[1;32mNone\u001b[0m\u001b[1;33m\u001b[0m\u001b[1;33m\u001b[0m\u001b[0m\n\u001b[0m\u001b[0;32m    905\u001b[0m             \u001b[1;32mexcept\u001b[0m \u001b[0mException\u001b[0m \u001b[1;32mas\u001b[0m \u001b[0me\u001b[0m\u001b[1;33m:\u001b[0m\u001b[1;33m\u001b[0m\u001b[1;33m\u001b[0m\u001b[0m\n\u001b[0;32m    906\u001b[0m                 \u001b[0mself\u001b[0m\u001b[1;33m.\u001b[0m\u001b[0mlog\u001b[0m\u001b[1;33m.\u001b[0m\u001b[0mwarning\u001b[0m\u001b[1;33m(\u001b[0m\u001b[1;34m\"Invalid Message:\"\u001b[0m\u001b[1;33m,\u001b[0m \u001b[0mexc_info\u001b[0m\u001b[1;33m=\u001b[0m\u001b[1;32mTrue\u001b[0m\u001b[1;33m)\u001b[0m\u001b[1;33m\u001b[0m\u001b[1;33m\u001b[0m\u001b[0m\n",
      "\u001b[1;31mKeyboardInterrupt\u001b[0m: Interrupted by user"
     ]
    }
   ],
   "source": [
    "print(rules)\n",
    "x=0\n",
    "a=0\n",
    "from random import randint\n",
    "randominteger=randint(1,100)\n",
    "print(randominteger)\n",
    "randomintergerplusten=[randominteger+1,randominteger+2,randominteger+3,randominteger+4,randominteger+5,randominteger+6,randominteger+7,randominteger+8,randominteger+9,randominteger+10]\n",
    "randomintergerminusten=[randominteger-1,randominteger-2,randominteger-3,randominteger-4,randominteger-5,randominteger-6,randominteger-7,randominteger-8,randominteger-9,randominteger-10]\n",
    "while x==0:\n",
    "    guess=int(input(\"Enter your guess \").strip())\n",
    "    guesslist.append(guess)\n",
    "    if guesslist[0]==randominteger:\n",
    "        print(\"Congratulations! You guessed correctly on your first turn!!!\")\n",
    "    elif guess>100 or guess<1:\n",
    "        print(\"OUT OF BOUNDS\")\n",
    "    elif a==0 :\n",
    "        if guess in randomintergerplusten or guess in randomintergerminusten:\n",
    "            print(\"WARM\")\n",
    "        else:\n",
    "            print(\"COLD\")\n",
    "    elif abs(randominteger-guesslist[a])<abs(randominteger-guesslist[a-1]):\n",
    "            print(\"WARMER\")\n",
    "    elif guess==randominteger:\n",
    "        print(\"Congratulations! You guessed correctly. You took {} turns to guess correctly.\".format(len(guesslist)))\n",
    "        print(\"\\nThe lists of all your guesses is : \")\n",
    "        print(guesslist)\n",
    "    else:\n",
    "        print(\"COLDER\")\n",
    "    a=a+1"
   ]
  },
  {
   "cell_type": "code",
   "execution_count": 28,
   "id": "12eaeae1",
   "metadata": {},
   "outputs": [
    {
     "name": "stdout",
     "output_type": "stream",
     "text": [
      "\t\t\t\tGUESSING GAME\n",
      "Hello player!You have to guess a number from 1 to 100.\n",
      "The follwing are the rules of the game:\n",
      "1.If the number enetered by the player is greater than 100 or less than 1 you will get 'OUT OF BOUNDS' remark.\n",
      "2.On player's first turn, if their guess is\n",
      "\t-within 10 of the number,player will get 'WARM' remark.\n",
      "\t-further than 10 away from the number, player will get 'COLD' remark.\n",
      "3.On all subsequent turns, if a guess is\n",
      "\t-closer to the number than the previous guess a 'WARMER' rmeark will printed.\n",
      "\t-further than 10 away from the number, player will get a 'COLDER'remark.\n",
      "4.After guessing correctly, number of guesses and the list of guesses will be displayed\n",
      "41\n",
      "Enter your guess 50\n",
      "WARM\n",
      "Enter your guess 60\n",
      "COLDER\n",
      "Enter your guess 45\n",
      "WARMER\n",
      "Enter your guess 40\n",
      "WARMER\n",
      "Enter your guess 35\n",
      "COLDER\n",
      "Enter your guess 44\n",
      "WARMER\n",
      "Enter your guess 43\n",
      "WARMER\n",
      "Enter your guess 42\n",
      "WARMER\n",
      "Enter your guess 31\n",
      "COLDER\n",
      "Enter your guess 41\n",
      "WARMER\n",
      "Enter your guess 41\n",
      "Congratulations! You guessed correctly. You took 11 turns to guess correctly.\n",
      "\n",
      "The lists of all your guesses is : \n",
      "[50, 60, 45, 40, 35, 44, 43, 42, 31, 41, 41]\n"
     ]
    }
   ],
   "source": [
    "print(rules)\n",
    "x=0\n",
    "a=0\n",
    "guesslist=[]\n",
    "from random import randint\n",
    "randominteger=randint(1,100)\n",
    "print(randominteger)\n",
    "randomintergerplusten=[randominteger+1,randominteger+2,randominteger+3,randominteger+4,randominteger+5,randominteger+6,randominteger+7,randominteger+8,randominteger+9,randominteger+10]\n",
    "randomintergerminusten=[randominteger-1,randominteger-2,randominteger-3,randominteger-4,randominteger-5,randominteger-6,randominteger-7,randominteger-8,randominteger-9,randominteger-10]\n",
    "while x==0:\n",
    "    guess=int(input(\"Enter your guess \").strip())\n",
    "    guesslist.append(guess)\n",
    "    if guesslist[0]==randominteger:\n",
    "        print(\"Congratulations! You guessed correctly on your first turn!!!\")\n",
    "    elif guess>100 or guess<1:\n",
    "        print(\"OUT OF BOUNDS\")\n",
    "    elif a==0 :\n",
    "        if guess in randomintergerplusten or guess in randomintergerminusten:\n",
    "            print(\"WARM\")\n",
    "        else:\n",
    "            print(\"COLD\")\n",
    "    elif abs(randominteger-guesslist[a])<abs(randominteger-guesslist[a-1]):\n",
    "            print(\"WARMER\")\n",
    "    elif guess==randominteger:\n",
    "        print(\"Congratulations! You guessed correctly. You took {} turns to guess correctly.\".format(len(guesslist)))\n",
    "        print(\"\\nThe lists of all your guesses is : \")\n",
    "        print(guesslist)\n",
    "        break\n",
    "    else:\n",
    "        print(\"COLDER\")\n",
    "    a=a+1"
   ]
  },
  {
   "cell_type": "markdown",
   "id": "794d1622",
   "metadata": {},
   "source": [
    "## Final and Correct Code"
   ]
  },
  {
   "cell_type": "code",
   "execution_count": 29,
   "id": "f1d6d51a",
   "metadata": {},
   "outputs": [
    {
     "name": "stdout",
     "output_type": "stream",
     "text": [
      "\t\t\t\tGUESSING GAME\n",
      "Hello player!You have to guess a number from 1 to 100.\n",
      "The follwing are the rules of the game:\n",
      "1.If the number enetered by the player is greater than 100 or less than 1 you will get 'OUT OF BOUNDS' remark.\n",
      "2.On player's first turn, if their guess is\n",
      "\t-within 10 of the number,player will get 'WARM' remark.\n",
      "\t-further than 10 away from the number, player will get 'COLD' remark.\n",
      "3.On all subsequent turns, if a guess is\n",
      "\t-closer to the number than the previous guess a 'WARMER' rmeark will printed.\n",
      "\t-further than 10 away from the number, player will get a 'COLDER'remark.\n",
      "4.After guessing correctly, number of guesses and the list of guesses will be displayed\n",
      "39\n",
      "Enter your guess 50\n",
      "COLD\n",
      "Enter your guess 40\n",
      "WARMER\n",
      "Enter your guess 35\n",
      "COLDER\n",
      "Enter your guess 37\n",
      "WARMER\n",
      "Enter your guess 38\n",
      "WARMER\n",
      "Enter your guess 39\n",
      "Congratulations! You guessed correctly. You took 6 turns to guess correctly.\n",
      "\n",
      "The lists of all your guesses is : \n",
      "[50, 40, 35, 37, 38, 39]\n"
     ]
    }
   ],
   "source": [
    "print(rules)\n",
    "x=0\n",
    "a=0\n",
    "guesslist=[]\n",
    "from random import randint\n",
    "randominteger=randint(1,100)\n",
    "print(randominteger)\n",
    "randomintergerplusten=[randominteger+1,randominteger+2,randominteger+3,randominteger+4,randominteger+5,randominteger+6,randominteger+7,randominteger+8,randominteger+9,randominteger+10]\n",
    "randomintergerminusten=[randominteger-1,randominteger-2,randominteger-3,randominteger-4,randominteger-5,randominteger-6,randominteger-7,randominteger-8,randominteger-9,randominteger-10]\n",
    "while x==0:\n",
    "    guess=int(input(\"Enter your guess \").strip())\n",
    "    guesslist.append(guess)\n",
    "    if guesslist[0]==randominteger:\n",
    "        print(\"Congratulations! You guessed correctly on your first turn!!!\")\n",
    "    elif guess>100 or guess<1:\n",
    "        print(\"OUT OF BOUNDS\")\n",
    "    elif a==0 :\n",
    "        if guess in randomintergerplusten or guess in randomintergerminusten:\n",
    "            print(\"WARM\")\n",
    "        else:\n",
    "            print(\"COLD\")\n",
    "    elif guess==randominteger:\n",
    "        print(\"Congratulations! You guessed correctly. You took {} turns to guess correctly.\".format(len(guesslist)))\n",
    "        print(\"\\nThe lists of all your guesses is : \")\n",
    "        print(guesslist)\n",
    "        break\n",
    "    elif abs(randominteger-guesslist[a])<abs(randominteger-guesslist[a-1]):\n",
    "            print(\"WARMER\")\n",
    "    else:\n",
    "        print(\"COLDER\")\n",
    "    a=a+1"
   ]
  },
  {
   "cell_type": "code",
   "execution_count": null,
   "id": "3db3e9a0",
   "metadata": {},
   "outputs": [],
   "source": []
  }
 ],
 "metadata": {
  "kernelspec": {
   "display_name": "Python 3",
   "language": "python",
   "name": "python3"
  },
  "language_info": {
   "codemirror_mode": {
    "name": "ipython",
    "version": 3
   },
   "file_extension": ".py",
   "mimetype": "text/x-python",
   "name": "python",
   "nbconvert_exporter": "python",
   "pygments_lexer": "ipython3",
   "version": "3.8.8"
  }
 },
 "nbformat": 4,
 "nbformat_minor": 5
}
