{
 "cells": [
  {
   "cell_type": "markdown",
   "id": "11321c07",
   "metadata": {},
   "source": [
    "# `*args` and `**kwargs`"
   ]
  },
  {
   "cell_type": "markdown",
   "id": "734a52f1",
   "metadata": {},
   "source": [
    "The above terms are akin to parameters. Theyusually show up as parameters in funtion definations."
   ]
  },
  {
   "cell_type": "code",
   "execution_count": 1,
   "id": "8ced2dea",
   "metadata": {},
   "outputs": [],
   "source": [
    "def func1(): return (sum(a,b))*0.5"
   ]
  },
  {
   "cell_type": "code",
   "execution_count": 2,
   "id": "dab8bd7a",
   "metadata": {},
   "outputs": [
    {
     "ename": "TypeError",
     "evalue": "func1() takes 0 positional arguments but 2 were given",
     "output_type": "error",
     "traceback": [
      "\u001b[1;31m---------------------------------------------------------------------------\u001b[0m",
      "\u001b[1;31mTypeError\u001b[0m                                 Traceback (most recent call last)",
      "\u001b[1;32m<ipython-input-2-1d44dcedc706>\u001b[0m in \u001b[0;36m<module>\u001b[1;34m\u001b[0m\n\u001b[1;32m----> 1\u001b[1;33m \u001b[0mfunc1\u001b[0m\u001b[1;33m(\u001b[0m\u001b[1;36m60\u001b[0m\u001b[1;33m,\u001b[0m\u001b[1;36m40\u001b[0m\u001b[1;33m)\u001b[0m\u001b[1;33m\u001b[0m\u001b[1;33m\u001b[0m\u001b[0m\n\u001b[0m",
      "\u001b[1;31mTypeError\u001b[0m: func1() takes 0 positional arguments but 2 were given"
     ]
    }
   ],
   "source": [
    "func1(60,40)"
   ]
  },
  {
   "cell_type": "code",
   "execution_count": 3,
   "id": "35c710ba",
   "metadata": {},
   "outputs": [],
   "source": [
    "def func1(a,b): return (sum(a,b))*0.5"
   ]
  },
  {
   "cell_type": "code",
   "execution_count": 4,
   "id": "a3fd0b56",
   "metadata": {},
   "outputs": [
    {
     "ename": "TypeError",
     "evalue": "'int' object is not iterable",
     "output_type": "error",
     "traceback": [
      "\u001b[1;31m---------------------------------------------------------------------------\u001b[0m",
      "\u001b[1;31mTypeError\u001b[0m                                 Traceback (most recent call last)",
      "\u001b[1;32m<ipython-input-4-1d44dcedc706>\u001b[0m in \u001b[0;36m<module>\u001b[1;34m\u001b[0m\n\u001b[1;32m----> 1\u001b[1;33m \u001b[0mfunc1\u001b[0m\u001b[1;33m(\u001b[0m\u001b[1;36m60\u001b[0m\u001b[1;33m,\u001b[0m\u001b[1;36m40\u001b[0m\u001b[1;33m)\u001b[0m\u001b[1;33m\u001b[0m\u001b[1;33m\u001b[0m\u001b[0m\n\u001b[0m",
      "\u001b[1;32m<ipython-input-3-0f584d1eb8aa>\u001b[0m in \u001b[0;36mfunc1\u001b[1;34m(a, b)\u001b[0m\n\u001b[1;32m----> 1\u001b[1;33m \u001b[1;32mdef\u001b[0m \u001b[0mfunc1\u001b[0m\u001b[1;33m(\u001b[0m\u001b[0ma\u001b[0m\u001b[1;33m,\u001b[0m\u001b[0mb\u001b[0m\u001b[1;33m)\u001b[0m\u001b[1;33m:\u001b[0m \u001b[1;32mreturn\u001b[0m \u001b[1;33m(\u001b[0m\u001b[0msum\u001b[0m\u001b[1;33m(\u001b[0m\u001b[0ma\u001b[0m\u001b[1;33m,\u001b[0m\u001b[0mb\u001b[0m\u001b[1;33m)\u001b[0m\u001b[1;33m)\u001b[0m\u001b[1;33m*\u001b[0m\u001b[1;36m0.5\u001b[0m\u001b[1;33m\u001b[0m\u001b[1;33m\u001b[0m\u001b[0m\n\u001b[0m",
      "\u001b[1;31mTypeError\u001b[0m: 'int' object is not iterable"
     ]
    }
   ],
   "source": [
    "func1(60,40)"
   ]
  },
  {
   "cell_type": "code",
   "execution_count": 5,
   "id": "e963ec3a",
   "metadata": {},
   "outputs": [],
   "source": [
    "def func1(a,b): return sum((a,b))*0.5"
   ]
  },
  {
   "cell_type": "code",
   "execution_count": 6,
   "id": "41041fa5",
   "metadata": {},
   "outputs": [
    {
     "data": {
      "text/plain": [
       "50.0"
      ]
     },
     "execution_count": 6,
     "metadata": {},
     "output_type": "execute_result"
    }
   ],
   "source": [
    "func1(60,40)"
   ]
  },
  {
   "cell_type": "markdown",
   "id": "b394f2ec",
   "metadata": {},
   "source": [
    "This function returns 50% of the sum of **a** and **b**. In this example, **a** and **b** are *positional* arguments; that is, 40 is assigned to **a** because it is the first argument, and 60 to **b**. Notice also that to work with multiple positional arguments in the `sum()` function we had to pass them in as a tuple.\n",
    "\n",
    "What if we want to work with more than two numbers? One way would be to assign a *lot* of parameters, and give each one a default value"
   ]
  },
  {
   "cell_type": "code",
   "execution_count": 7,
   "id": "4dfb7004",
   "metadata": {},
   "outputs": [
    {
     "data": {
      "text/plain": [
       "60.0"
      ]
     },
     "execution_count": 7,
     "metadata": {},
     "output_type": "execute_result"
    }
   ],
   "source": [
    "def myfunc(a=0,b=0,c=0,d=0,e=0):\n",
    "    return sum((a,b,c,d,e))*.5\n",
    "\n",
    "myfunc(40,60,20)"
   ]
  },
  {
   "cell_type": "markdown",
   "id": "808bddeb",
   "metadata": {},
   "source": [
    "Obviously this is not a very efficient solution and that's where `*args` comes in handy"
   ]
  },
  {
   "cell_type": "markdown",
   "id": "63f1ab9e",
   "metadata": {},
   "source": [
    "## *args"
   ]
  },
  {
   "cell_type": "markdown",
   "id": "3371a873",
   "metadata": {},
   "source": [
    "When a function parameter starts with astrisk, it allows <I>an arbitary number</I> of arguments. The function takes them in as a tuple of values "
   ]
  },
  {
   "cell_type": "code",
   "execution_count": 9,
   "id": "cf130367",
   "metadata": {},
   "outputs": [],
   "source": [
    "def func2(*args):\n",
    "    return sum(*args)*0.5"
   ]
  },
  {
   "cell_type": "code",
   "execution_count": 10,
   "id": "3d923a4a",
   "metadata": {},
   "outputs": [
    {
     "ename": "TypeError",
     "evalue": "'int' object is not iterable",
     "output_type": "error",
     "traceback": [
      "\u001b[1;31m---------------------------------------------------------------------------\u001b[0m",
      "\u001b[1;31mTypeError\u001b[0m                                 Traceback (most recent call last)",
      "\u001b[1;32m<ipython-input-10-3ae0c36e8fec>\u001b[0m in \u001b[0;36m<module>\u001b[1;34m\u001b[0m\n\u001b[1;32m----> 1\u001b[1;33m \u001b[0mfunc2\u001b[0m\u001b[1;33m(\u001b[0m\u001b[1;36m10\u001b[0m\u001b[1;33m)\u001b[0m\u001b[1;33m\u001b[0m\u001b[1;33m\u001b[0m\u001b[0m\n\u001b[0m",
      "\u001b[1;32m<ipython-input-9-bacf834929eb>\u001b[0m in \u001b[0;36mfunc2\u001b[1;34m(*args)\u001b[0m\n\u001b[0;32m      1\u001b[0m \u001b[1;32mdef\u001b[0m \u001b[0mfunc2\u001b[0m\u001b[1;33m(\u001b[0m\u001b[1;33m*\u001b[0m\u001b[0margs\u001b[0m\u001b[1;33m)\u001b[0m\u001b[1;33m:\u001b[0m\u001b[1;33m\u001b[0m\u001b[1;33m\u001b[0m\u001b[0m\n\u001b[1;32m----> 2\u001b[1;33m     \u001b[1;32mreturn\u001b[0m \u001b[0msum\u001b[0m\u001b[1;33m(\u001b[0m\u001b[1;33m*\u001b[0m\u001b[0margs\u001b[0m\u001b[1;33m)\u001b[0m\u001b[1;33m*\u001b[0m\u001b[1;36m0.5\u001b[0m\u001b[1;33m\u001b[0m\u001b[1;33m\u001b[0m\u001b[0m\n\u001b[0m",
      "\u001b[1;31mTypeError\u001b[0m: 'int' object is not iterable"
     ]
    }
   ],
   "source": [
    "func2(10)"
   ]
  },
  {
   "cell_type": "code",
   "execution_count": 11,
   "id": "bb860b32",
   "metadata": {},
   "outputs": [],
   "source": [
    "def func2(*args):\n",
    "    return sum(args)*0.5"
   ]
  },
  {
   "cell_type": "code",
   "execution_count": 12,
   "id": "b728966d",
   "metadata": {},
   "outputs": [
    {
     "data": {
      "text/plain": [
       "5.0"
      ]
     },
     "execution_count": 12,
     "metadata": {},
     "output_type": "execute_result"
    }
   ],
   "source": [
    "func2(10)"
   ]
  },
  {
   "cell_type": "code",
   "execution_count": 13,
   "id": "a6aba255",
   "metadata": {},
   "outputs": [],
   "source": [
    "# The built in function 'sum' needs only one iterable object to work. So the input for sum is ((3,4))"
   ]
  },
  {
   "cell_type": "markdown",
   "id": "0daea093",
   "metadata": {},
   "source": [
    "`*args` form a tuple of all the non keyword arguments while `**kwargs` form a dictionary of all the keyword arguments"
   ]
  },
  {
   "cell_type": "markdown",
   "id": "5b4141d4",
   "metadata": {},
   "source": [
    "## **kwargs"
   ]
  },
  {
   "cell_type": "code",
   "execution_count": 1,
   "id": "bdae94f7",
   "metadata": {},
   "outputs": [],
   "source": [
    "def myfun(**kwargs):\n",
    "    if 'fruits' in kwargs:\n",
    "        print(f\"My favourite fruit is {kwargs['fruits']}\")\n",
    "    else:\n",
    "        print(\"I don't like fruits\")"
   ]
  },
  {
   "cell_type": "code",
   "execution_count": 2,
   "id": "e18f1a7b",
   "metadata": {},
   "outputs": [
    {
     "ename": "SyntaxError",
     "evalue": "positional argument follows keyword argument (<ipython-input-2-906175d1a3f1>, line 1)",
     "output_type": "error",
     "traceback": [
      "\u001b[1;36m  File \u001b[1;32m\"<ipython-input-2-906175d1a3f1>\"\u001b[1;36m, line \u001b[1;32m1\u001b[0m\n\u001b[1;33m    myfun(fruits=\"pineapple\",\"grapes\",\"mangoes\")\u001b[0m\n\u001b[1;37m                             ^\u001b[0m\n\u001b[1;31mSyntaxError\u001b[0m\u001b[1;31m:\u001b[0m positional argument follows keyword argument\n"
     ]
    }
   ],
   "source": [
    "myfun(fruits=\"pineapple\",\"grapes\",\"mangoes\")\n",
    "#Placing keyworded arguments ahead of positional arguments raises the above exception"
   ]
  },
  {
   "cell_type": "code",
   "execution_count": 3,
   "id": "e5ec3df8",
   "metadata": {},
   "outputs": [
    {
     "name": "stdout",
     "output_type": "stream",
     "text": [
      "My favourite fruit is pineapple,grapes,mangoes\n"
     ]
    }
   ],
   "source": [
    "myfun(fruits=\"pineapple,grapes,mangoes\")"
   ]
  },
  {
   "cell_type": "markdown",
   "id": "2d957b99",
   "metadata": {},
   "source": [
    "## `*args` and `**kwargs` combined"
   ]
  },
  {
   "cell_type": "code",
   "execution_count": 4,
   "id": "c5fed996",
   "metadata": {},
   "outputs": [],
   "source": [
    "def funcn(required,*args,**kwargs):\n",
    "    print(required)\n",
    "    if args:\n",
    "        print(args)\n",
    "    if kwargs:\n",
    "        print(kwargs)"
   ]
  },
  {
   "cell_type": "code",
   "execution_count": 5,
   "id": "bdaf73d3",
   "metadata": {},
   "outputs": [
    {
     "ename": "TypeError",
     "evalue": "funcn() missing 1 required positional argument: 'required'",
     "output_type": "error",
     "traceback": [
      "\u001b[1;31m---------------------------------------------------------------------------\u001b[0m",
      "\u001b[1;31mTypeError\u001b[0m                                 Traceback (most recent call last)",
      "\u001b[1;32m<ipython-input-5-9f6c8b18edbd>\u001b[0m in \u001b[0;36m<module>\u001b[1;34m\u001b[0m\n\u001b[1;32m----> 1\u001b[1;33m \u001b[0mfuncn\u001b[0m\u001b[1;33m(\u001b[0m\u001b[1;33m)\u001b[0m\u001b[1;33m\u001b[0m\u001b[1;33m\u001b[0m\u001b[0m\n\u001b[0m",
      "\u001b[1;31mTypeError\u001b[0m: funcn() missing 1 required positional argument: 'required'"
     ]
    }
   ],
   "source": [
    "funcn()"
   ]
  },
  {
   "cell_type": "code",
   "execution_count": 6,
   "id": "c93a0eb5",
   "metadata": {},
   "outputs": [
    {
     "name": "stdout",
     "output_type": "stream",
     "text": [
      "hello\n"
     ]
    }
   ],
   "source": [
    "funcn(\"hello\")"
   ]
  },
  {
   "cell_type": "code",
   "execution_count": 7,
   "id": "a3b4cbe6",
   "metadata": {},
   "outputs": [
    {
     "name": "stdout",
     "output_type": "stream",
     "text": [
      "hello\n",
      "(1, 2, 3, 4)\n"
     ]
    }
   ],
   "source": [
    "funcn(\"hello\",1,2,3,4)"
   ]
  },
  {
   "cell_type": "code",
   "execution_count": 8,
   "id": "e3fa6a36",
   "metadata": {},
   "outputs": [
    {
     "name": "stdout",
     "output_type": "stream",
     "text": [
      "hello\n",
      "(1, 2, 3, 4)\n",
      "{'k1': 'arg1', 'k2': 'arg2'}\n"
     ]
    }
   ],
   "source": [
    "funcn(\"hello\",1,2,3,4,k1=\"arg1\",k2=\"arg2\")"
   ]
  },
  {
   "cell_type": "code",
   "execution_count": 9,
   "id": "bf409dd6",
   "metadata": {},
   "outputs": [
    {
     "ename": "SyntaxError",
     "evalue": "positional argument follows keyword argument (<ipython-input-9-172693349892>, line 1)",
     "output_type": "error",
     "traceback": [
      "\u001b[1;36m  File \u001b[1;32m\"<ipython-input-9-172693349892>\"\u001b[1;36m, line \u001b[1;32m1\u001b[0m\n\u001b[1;33m    funcn(\"hello\",1,2,3,4,k1=\"arg1\",k2=\"arg2\",5,6,7,8)\u001b[0m\n\u001b[1;37m                                              ^\u001b[0m\n\u001b[1;31mSyntaxError\u001b[0m\u001b[1;31m:\u001b[0m positional argument follows keyword argument\n"
     ]
    }
   ],
   "source": [
    "funcn(\"hello\",1,2,3,4,k1=\"arg1\",k2=\"arg2\",5,6,7,8)"
   ]
  },
  {
   "cell_type": "markdown",
   "id": "0c17298e",
   "metadata": {},
   "source": [
    "As with \"args\", you can use any name you'd like for keyworded arguments - \"kwargs\" is just a popular convention."
   ]
  },
  {
   "cell_type": "code",
   "execution_count": null,
   "id": "23d5fc82",
   "metadata": {},
   "outputs": [],
   "source": []
  }
 ],
 "metadata": {
  "kernelspec": {
   "display_name": "Python 3",
   "language": "python",
   "name": "python3"
  },
  "language_info": {
   "codemirror_mode": {
    "name": "ipython",
    "version": 3
   },
   "file_extension": ".py",
   "mimetype": "text/x-python",
   "name": "python",
   "nbconvert_exporter": "python",
   "pygments_lexer": "ipython3",
   "version": "3.8.8"
  }
 },
 "nbformat": 4,
 "nbformat_minor": 5
}
