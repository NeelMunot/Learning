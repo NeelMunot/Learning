{
 "cells": [
  {
   "cell_type": "markdown",
   "id": "7bb1f261",
   "metadata": {},
   "source": [
    "## Functions "
   ]
  },
  {
   "cell_type": "markdown",
   "id": "e106815c",
   "metadata": {},
   "source": [
    "## Introduction to functions\n",
    "\n",
    "\n",
    "This lecture consists of explain what a function in python is, and how to create one. Functions will be one of our main building blocks as we construct larger and larger amouts of code o solve problems. "
   ]
  },
  {
   "cell_type": "markdown",
   "id": "69c3711f",
   "metadata": {},
   "source": [
    "## What is a Function?\n",
    "\n",
    "Formally function is a device hat groups together a set of statemnts that can be run more than once. They can also let us specify parameters that can serve as inputs to the functions.\n",
    "\n",
    "On a fundamental level, functions allow us to not have to write the same code again and again.If you remember back to the lessons on strings and lists, remember that we used a function len() to get the length of a string. Since checking the length of a sequence is a common task you would want to write a function that can do this repeatedly at command.\n",
    "\n",
    "Functions will be one of the most ways of reusin code in python, and it will allow us to think of program as a design(we will dive much deeper into the ideas of design when we learn about of object orientes programming"
   ]
  },
  {
   "cell_type": "markdown",
   "id": "8239e851",
   "metadata": {},
   "source": [
    "## Why even use functions?\n",
    "\n",
    "Put simply, you should use functions when you plan on using a block of code multiple times.The function will allow us to call the same block of code multiple times without wrting it again and again.This in turn will allow us to create more complex python scripts."
   ]
  },
  {
   "cell_type": "markdown",
   "id": "27e9e77d",
   "metadata": {},
   "source": [
    "## Function Topics\n",
    "* def keyword\n",
    "* simple example of a function\n",
    "* calling a function with ()\n",
    "* accepting parameters\n",
    "* print versus return\n",
    "* adding in logic inside a function\n",
    "* multiple returns inside a function \n",
    "* adding in loops inside a function\n",
    "* tuple unpacking\n",
    "* interactions between functions\n",
    "\n",
    "(There is a concept of function within a function and returning a function)"
   ]
  },
  {
   "cell_type": "markdown",
   "id": "1ad121af",
   "metadata": {},
   "source": [
    "## def Keyword\n",
    "\n",
    "Let's see how to do build out a function's syntax."
   ]
  },
  {
   "cell_type": "code",
   "execution_count": 1,
   "id": "f98b3290",
   "metadata": {},
   "outputs": [],
   "source": [
    "def name_of_function(arg1,arg2):\n",
    "    \"\"\"\n",
    "    This is where you write the docstring of the function.\n",
    "    \n",
    "    What a docstring is: https://www.youtube.com/watch?v=l3084gzo6Eo\n",
    "    \"\"\"\n",
    "    #write code here and return the desired result"
   ]
  },
  {
   "cell_type": "markdown",
   "id": "a2d069ab",
   "metadata": {},
   "source": [
    "We begin with <code>def</code> then a space followed by the name of the function. Try to keep names relevant, for example len() is a good name for a length() function. Also be careful with names, you wouldn't want to call a function the same name as a [built-in function in Python](https://docs.python.org/3/library/functions.html) (such as len).\n",
    "\n",
    "Next come a pair of parentheses with a number of arguments separated by a comma. These arguments are the inputs for your function. You'll be able to use these inputs in your function and reference them. After this you put a colon.\n",
    "\n",
    "Now here is the important step, you must indent to begin the code inside your function correctly. Python makes use of *whitespace* to organize code. Lots of other programing languages do not do this, so keep that in mind.\n",
    "\n",
    "Next you'll see the docstring, this is where you write a basic description of the function. Using Jupyter and Jupyter Notebooks, you'll be able to read these docstrings by pressing Shift+Tab after a function name. Docstrings are not necessary for simple functions, but it's good practice to put them in so you or other people can easily understand the code you write.\n",
    "\n",
    "After all this you begin writing the code you wish to execute.\n",
    "\n",
    "The best way to learn functions is by going through examples. So let's try to go through examples that relate back to the various objects and data structures we learned about before."
   ]
  },
  {
   "cell_type": "markdown",
   "id": "4ed34190",
   "metadata": {},
   "source": [
    "## Simple example of function"
   ]
  },
  {
   "cell_type": "code",
   "execution_count": 2,
   "id": "f7d01a61",
   "metadata": {},
   "outputs": [],
   "source": [
    "def say_hello():\n",
    "    print(\"Hello! This was printed using a function\")"
   ]
  },
  {
   "cell_type": "markdown",
   "id": "d4bd2fd7",
   "metadata": {},
   "source": [
    "## Calling a function "
   ]
  },
  {
   "cell_type": "code",
   "execution_count": 3,
   "id": "80751d8d",
   "metadata": {},
   "outputs": [
    {
     "name": "stdout",
     "output_type": "stream",
     "text": [
      "Hello! This was printed using a function\n"
     ]
    }
   ],
   "source": [
    "say_hello()"
   ]
  },
  {
   "cell_type": "code",
   "execution_count": 4,
   "id": "082e6be0",
   "metadata": {},
   "outputs": [
    {
     "data": {
      "text/plain": [
       "<function __main__.say_hello()>"
      ]
     },
     "execution_count": 4,
     "metadata": {},
     "output_type": "execute_result"
    }
   ],
   "source": [
    "say_hello"
   ]
  },
  {
   "cell_type": "markdown",
   "id": "b866f445",
   "metadata": {},
   "source": [
    "If you forget the parenthesis (), it will simply display the fact that say_hello is a function. Later on we will learn we can actually pass in functions into other functions! But for now, simply remember to call functions with ()."
   ]
  },
  {
   "cell_type": "markdown",
   "id": "22e86f18",
   "metadata": {},
   "source": [
    "## Accepting Parameters(arguments)"
   ]
  },
  {
   "cell_type": "code",
   "execution_count": 5,
   "id": "12a13b28",
   "metadata": {},
   "outputs": [],
   "source": [
    "def greeting(name):\n",
    "    print(\"Hello {}! How Do You Do?\".format(name))"
   ]
  },
  {
   "cell_type": "code",
   "execution_count": 6,
   "id": "01a53f32",
   "metadata": {},
   "outputs": [
    {
     "name": "stdout",
     "output_type": "stream",
     "text": [
      "Hello Neel! How Do You Do?\n"
     ]
    }
   ],
   "source": [
    "greeting(\"Neel\")"
   ]
  },
  {
   "cell_type": "markdown",
   "id": "11884bf3",
   "metadata": {},
   "source": [
    "## Using return\n",
    "\n",
    "If we actually want to save the resulting variable we need to use the **return** keyword.\n",
    "\n",
    "<code>return</code> allows a function to *return* a result that can then be stored as a variable, or used in whatever manner a user wants."
   ]
  },
  {
   "cell_type": "code",
   "execution_count": 7,
   "id": "eabe34fb",
   "metadata": {},
   "outputs": [],
   "source": [
    "def add_num(num1,num2):\n",
    "    return(num1+num2)"
   ]
  },
  {
   "cell_type": "code",
   "execution_count": 8,
   "id": "4ecc25a0",
   "metadata": {},
   "outputs": [
    {
     "data": {
      "text/plain": [
       "25"
      ]
     },
     "execution_count": 8,
     "metadata": {},
     "output_type": "execute_result"
    }
   ],
   "source": [
    "add_num(12,13)"
   ]
  },
  {
   "cell_type": "code",
   "execution_count": 9,
   "id": "8b54b507",
   "metadata": {},
   "outputs": [
    {
     "name": "stdout",
     "output_type": "stream",
     "text": [
      "12 13\n"
     ]
    }
   ],
   "source": [
    "print(12,13)"
   ]
  },
  {
   "cell_type": "code",
   "execution_count": 10,
   "id": "9bfffc16",
   "metadata": {},
   "outputs": [],
   "source": [
    "#Can also save it as a variable using return\n",
    "sum1=add_num(12,46)"
   ]
  },
  {
   "cell_type": "code",
   "execution_count": 11,
   "id": "2e8be289",
   "metadata": {},
   "outputs": [
    {
     "name": "stdout",
     "output_type": "stream",
     "text": [
      "58\n"
     ]
    }
   ],
   "source": [
    "print(sum1)"
   ]
  },
  {
   "cell_type": "code",
   "execution_count": 12,
   "id": "25194d29",
   "metadata": {},
   "outputs": [
    {
     "data": {
      "text/plain": [
       "'onetwo'"
      ]
     },
     "execution_count": 12,
     "metadata": {},
     "output_type": "execute_result"
    }
   ],
   "source": [
    "add_num(\"one\",\"two\")"
   ]
  },
  {
   "cell_type": "code",
   "execution_count": 13,
   "id": "2b8bb374",
   "metadata": {},
   "outputs": [],
   "source": [
    "def add_num1(num1,num2):\n",
    "    returnint((num1+num2))"
   ]
  },
  {
   "cell_type": "code",
   "execution_count": 14,
   "id": "42ad24aa",
   "metadata": {},
   "outputs": [
    {
     "ename": "NameError",
     "evalue": "name 'returnint' is not defined",
     "output_type": "error",
     "traceback": [
      "\u001b[1;31m---------------------------------------------------------------------------\u001b[0m",
      "\u001b[1;31mNameError\u001b[0m                                 Traceback (most recent call last)",
      "\u001b[1;32m<ipython-input-14-40e8043d8a80>\u001b[0m in \u001b[0;36m<module>\u001b[1;34m\u001b[0m\n\u001b[1;32m----> 1\u001b[1;33m \u001b[0madd_num1\u001b[0m\u001b[1;33m(\u001b[0m\u001b[1;34m\"one\"\u001b[0m\u001b[1;33m,\u001b[0m\u001b[1;34m\"two\"\u001b[0m\u001b[1;33m)\u001b[0m\u001b[1;33m\u001b[0m\u001b[1;33m\u001b[0m\u001b[0m\n\u001b[0m",
      "\u001b[1;32m<ipython-input-13-8029c77af0e3>\u001b[0m in \u001b[0;36madd_num1\u001b[1;34m(num1, num2)\u001b[0m\n\u001b[0;32m      1\u001b[0m \u001b[1;32mdef\u001b[0m \u001b[0madd_num1\u001b[0m\u001b[1;33m(\u001b[0m\u001b[0mnum1\u001b[0m\u001b[1;33m,\u001b[0m\u001b[0mnum2\u001b[0m\u001b[1;33m)\u001b[0m\u001b[1;33m:\u001b[0m\u001b[1;33m\u001b[0m\u001b[1;33m\u001b[0m\u001b[0m\n\u001b[1;32m----> 2\u001b[1;33m     \u001b[0mreturnint\u001b[0m\u001b[1;33m(\u001b[0m\u001b[1;33m(\u001b[0m\u001b[0mnum1\u001b[0m\u001b[1;33m+\u001b[0m\u001b[0mnum2\u001b[0m\u001b[1;33m)\u001b[0m\u001b[1;33m)\u001b[0m\u001b[1;33m\u001b[0m\u001b[1;33m\u001b[0m\u001b[0m\n\u001b[0m",
      "\u001b[1;31mNameError\u001b[0m: name 'returnint' is not defined"
     ]
    }
   ],
   "source": [
    "add_num1(\"one\",\"two\")"
   ]
  },
  {
   "cell_type": "code",
   "execution_count": 15,
   "id": "3d5a74de",
   "metadata": {},
   "outputs": [],
   "source": [
    "def add_num1(num1,num2):\n",
    "    return int((num1+num2))"
   ]
  },
  {
   "cell_type": "code",
   "execution_count": 16,
   "id": "05b2a85d",
   "metadata": {},
   "outputs": [
    {
     "ename": "ValueError",
     "evalue": "invalid literal for int() with base 10: 'onetwo'",
     "output_type": "error",
     "traceback": [
      "\u001b[1;31m---------------------------------------------------------------------------\u001b[0m",
      "\u001b[1;31mValueError\u001b[0m                                Traceback (most recent call last)",
      "\u001b[1;32m<ipython-input-16-40e8043d8a80>\u001b[0m in \u001b[0;36m<module>\u001b[1;34m\u001b[0m\n\u001b[1;32m----> 1\u001b[1;33m \u001b[0madd_num1\u001b[0m\u001b[1;33m(\u001b[0m\u001b[1;34m\"one\"\u001b[0m\u001b[1;33m,\u001b[0m\u001b[1;34m\"two\"\u001b[0m\u001b[1;33m)\u001b[0m\u001b[1;33m\u001b[0m\u001b[1;33m\u001b[0m\u001b[0m\n\u001b[0m",
      "\u001b[1;32m<ipython-input-15-b82ca4ef0b36>\u001b[0m in \u001b[0;36madd_num1\u001b[1;34m(num1, num2)\u001b[0m\n\u001b[0;32m      1\u001b[0m \u001b[1;32mdef\u001b[0m \u001b[0madd_num1\u001b[0m\u001b[1;33m(\u001b[0m\u001b[0mnum1\u001b[0m\u001b[1;33m,\u001b[0m\u001b[0mnum2\u001b[0m\u001b[1;33m)\u001b[0m\u001b[1;33m:\u001b[0m\u001b[1;33m\u001b[0m\u001b[1;33m\u001b[0m\u001b[0m\n\u001b[1;32m----> 2\u001b[1;33m     \u001b[1;32mreturn\u001b[0m \u001b[0mint\u001b[0m\u001b[1;33m(\u001b[0m\u001b[1;33m(\u001b[0m\u001b[0mnum1\u001b[0m\u001b[1;33m+\u001b[0m\u001b[0mnum2\u001b[0m\u001b[1;33m)\u001b[0m\u001b[1;33m)\u001b[0m\u001b[1;33m\u001b[0m\u001b[1;33m\u001b[0m\u001b[0m\n\u001b[0m",
      "\u001b[1;31mValueError\u001b[0m: invalid literal for int() with base 10: 'onetwo'"
     ]
    }
   ],
   "source": [
    "add_num1(\"one\",\"two\")"
   ]
  },
  {
   "cell_type": "code",
   "execution_count": 17,
   "id": "e1ce7bbb",
   "metadata": {},
   "outputs": [],
   "source": [
    "def add_num1(num1,num2):\n",
    "    return (int(num1+num2))"
   ]
  },
  {
   "cell_type": "code",
   "execution_count": 18,
   "id": "b624779d",
   "metadata": {},
   "outputs": [
    {
     "ename": "ValueError",
     "evalue": "invalid literal for int() with base 10: 'onetwo'",
     "output_type": "error",
     "traceback": [
      "\u001b[1;31m---------------------------------------------------------------------------\u001b[0m",
      "\u001b[1;31mValueError\u001b[0m                                Traceback (most recent call last)",
      "\u001b[1;32m<ipython-input-18-40e8043d8a80>\u001b[0m in \u001b[0;36m<module>\u001b[1;34m\u001b[0m\n\u001b[1;32m----> 1\u001b[1;33m \u001b[0madd_num1\u001b[0m\u001b[1;33m(\u001b[0m\u001b[1;34m\"one\"\u001b[0m\u001b[1;33m,\u001b[0m\u001b[1;34m\"two\"\u001b[0m\u001b[1;33m)\u001b[0m\u001b[1;33m\u001b[0m\u001b[1;33m\u001b[0m\u001b[0m\n\u001b[0m",
      "\u001b[1;32m<ipython-input-17-aeb46f786367>\u001b[0m in \u001b[0;36madd_num1\u001b[1;34m(num1, num2)\u001b[0m\n\u001b[0;32m      1\u001b[0m \u001b[1;32mdef\u001b[0m \u001b[0madd_num1\u001b[0m\u001b[1;33m(\u001b[0m\u001b[0mnum1\u001b[0m\u001b[1;33m,\u001b[0m\u001b[0mnum2\u001b[0m\u001b[1;33m)\u001b[0m\u001b[1;33m:\u001b[0m\u001b[1;33m\u001b[0m\u001b[1;33m\u001b[0m\u001b[0m\n\u001b[1;32m----> 2\u001b[1;33m     \u001b[1;32mreturn\u001b[0m \u001b[1;33m(\u001b[0m\u001b[0mint\u001b[0m\u001b[1;33m(\u001b[0m\u001b[0mnum1\u001b[0m\u001b[1;33m+\u001b[0m\u001b[0mnum2\u001b[0m\u001b[1;33m)\u001b[0m\u001b[1;33m)\u001b[0m\u001b[1;33m\u001b[0m\u001b[1;33m\u001b[0m\u001b[0m\n\u001b[0m",
      "\u001b[1;31mValueError\u001b[0m: invalid literal for int() with base 10: 'onetwo'"
     ]
    }
   ],
   "source": [
    "add_num1(\"one\",\"two\")"
   ]
  },
  {
   "cell_type": "code",
   "execution_count": 19,
   "id": "9cc881c4",
   "metadata": {},
   "outputs": [
    {
     "data": {
      "text/plain": [
       "12"
      ]
     },
     "execution_count": 19,
     "metadata": {},
     "output_type": "execute_result"
    }
   ],
   "source": [
    "add_num1(\"1\",\"2\")"
   ]
  },
  {
   "cell_type": "code",
   "execution_count": 20,
   "id": "8fb667f2",
   "metadata": {},
   "outputs": [
    {
     "ename": "SyntaxError",
     "evalue": "invalid syntax (<ipython-input-20-927df34dbb07>, line 1)",
     "output_type": "error",
     "traceback": [
      "\u001b[1;36m  File \u001b[1;32m\"<ipython-input-20-927df34dbb07>\"\u001b[1;36m, line \u001b[1;32m1\u001b[0m\n\u001b[1;33m    def add_num2(int(num1),int(num2)):\u001b[0m\n\u001b[1;37m                    ^\u001b[0m\n\u001b[1;31mSyntaxError\u001b[0m\u001b[1;31m:\u001b[0m invalid syntax\n"
     ]
    }
   ],
   "source": [
    "def add_num2(int(num1),int(num2)):\n",
    "    return (num1+num2)"
   ]
  },
  {
   "cell_type": "code",
   "execution_count": 1,
   "id": "61110690",
   "metadata": {},
   "outputs": [],
   "source": [
    "def add_num1(num1,num2):\n",
    "    return (int(num1+num2))"
   ]
  },
  {
   "cell_type": "code",
   "execution_count": 2,
   "id": "0f06a192",
   "metadata": {},
   "outputs": [
    {
     "data": {
      "text/plain": [
       "12"
      ]
     },
     "execution_count": 2,
     "metadata": {},
     "output_type": "execute_result"
    }
   ],
   "source": [
    "add_num1(\"1\",\"2\")"
   ]
  },
  {
   "cell_type": "code",
   "execution_count": 3,
   "id": "786863ec",
   "metadata": {},
   "outputs": [],
   "source": [
    "def add_num1(num1,num2):\n",
    "    return (int(num1)+int(num2))"
   ]
  },
  {
   "cell_type": "code",
   "execution_count": 4,
   "id": "be6f4d52",
   "metadata": {},
   "outputs": [
    {
     "data": {
      "text/plain": [
       "3"
      ]
     },
     "execution_count": 4,
     "metadata": {},
     "output_type": "execute_result"
    }
   ],
   "source": [
    "add_num1(\"1\",\"2\")"
   ]
  },
  {
   "cell_type": "markdown",
   "id": "532a0cdc",
   "metadata": {},
   "source": [
    "If you enter number as a string and want int do as above"
   ]
  },
  {
   "cell_type": "markdown",
   "id": "d787b589",
   "metadata": {},
   "source": [
    "## Very Common question: Difference between print() and return()??"
   ]
  },
  {
   "cell_type": "markdown",
   "id": "8849513a",
   "metadata": {},
   "source": [
    "**The return keyword allows u sto save it for future use. Whereas print doesn't allow us to do so. 'print' only prints the output and doesn't save it for the future**"
   ]
  },
  {
   "cell_type": "code",
   "execution_count": 5,
   "id": "59a939b9",
   "metadata": {},
   "outputs": [],
   "source": [
    "def print_result(a,b):\n",
    "    print(a+b)"
   ]
  },
  {
   "cell_type": "code",
   "execution_count": 6,
   "id": "99ea1912",
   "metadata": {},
   "outputs": [],
   "source": [
    "def return_result(a,b):\n",
    "    return(a+b)"
   ]
  },
  {
   "cell_type": "code",
   "execution_count": 7,
   "id": "5c23235f",
   "metadata": {},
   "outputs": [
    {
     "data": {
      "text/plain": [
       "57"
      ]
     },
     "execution_count": 7,
     "metadata": {},
     "output_type": "execute_result"
    }
   ],
   "source": [
    "return_result(23,34)"
   ]
  },
  {
   "cell_type": "code",
   "execution_count": 8,
   "id": "dc1feb65",
   "metadata": {},
   "outputs": [],
   "source": [
    "c = return_result(12,3)"
   ]
  },
  {
   "cell_type": "code",
   "execution_count": 9,
   "id": "9f44e680",
   "metadata": {},
   "outputs": [
    {
     "name": "stdout",
     "output_type": "stream",
     "text": [
      "15\n"
     ]
    }
   ],
   "source": [
    "print(c)"
   ]
  },
  {
   "cell_type": "code",
   "execution_count": 10,
   "id": "452d4968",
   "metadata": {},
   "outputs": [
    {
     "name": "stdout",
     "output_type": "stream",
     "text": [
      "9\n"
     ]
    }
   ],
   "source": [
    "print_result(5,4)"
   ]
  },
  {
   "cell_type": "code",
   "execution_count": 11,
   "id": "c8edebb4",
   "metadata": {},
   "outputs": [
    {
     "name": "stdout",
     "output_type": "stream",
     "text": [
      "11\n"
     ]
    }
   ],
   "source": [
    "d = print_result(6,5)"
   ]
  },
  {
   "cell_type": "code",
   "execution_count": 12,
   "id": "f486bfb0",
   "metadata": {},
   "outputs": [
    {
     "name": "stdout",
     "output_type": "stream",
     "text": [
      "None\n"
     ]
    }
   ],
   "source": [
    "print(d)"
   ]
  },
  {
   "cell_type": "code",
   "execution_count": 13,
   "id": "200220cd",
   "metadata": {},
   "outputs": [
    {
     "data": {
      "text/plain": [
       "NoneType"
      ]
     },
     "execution_count": 13,
     "metadata": {},
     "output_type": "execute_result"
    }
   ],
   "source": [
    "type(d)"
   ]
  },
  {
   "cell_type": "markdown",
   "id": "a94370c2",
   "metadata": {},
   "source": [
    "**Be careful! Notice how print_result() doesn't let you actually save the result to a variable! It only prints it out, with print() returning None for the assignment!**"
   ]
  },
  {
   "cell_type": "code",
   "execution_count": 14,
   "id": "38f6cf9d",
   "metadata": {},
   "outputs": [
    {
     "ename": "TypeError",
     "evalue": "unsupported operand type(s) for +: 'int' and 'NoneType'",
     "output_type": "error",
     "traceback": [
      "\u001b[1;31m---------------------------------------------------------------------------\u001b[0m",
      "\u001b[1;31mTypeError\u001b[0m                                 Traceback (most recent call last)",
      "\u001b[1;32m<ipython-input-14-ad687b5fa348>\u001b[0m in \u001b[0;36m<module>\u001b[1;34m\u001b[0m\n\u001b[1;32m----> 1\u001b[1;33m \u001b[0mc\u001b[0m\u001b[1;33m+\u001b[0m\u001b[0md\u001b[0m\u001b[1;33m\u001b[0m\u001b[1;33m\u001b[0m\u001b[0m\n\u001b[0m",
      "\u001b[1;31mTypeError\u001b[0m: unsupported operand type(s) for +: 'int' and 'NoneType'"
     ]
    }
   ],
   "source": [
    "c+d"
   ]
  },
  {
   "cell_type": "code",
   "execution_count": 15,
   "id": "46be469b",
   "metadata": {},
   "outputs": [
    {
     "ename": "NameError",
     "evalue": "name 'D' is not defined",
     "output_type": "error",
     "traceback": [
      "\u001b[1;31m---------------------------------------------------------------------------\u001b[0m",
      "\u001b[1;31mNameError\u001b[0m                                 Traceback (most recent call last)",
      "\u001b[1;32m<ipython-input-15-0aef51e0ef21>\u001b[0m in \u001b[0;36m<module>\u001b[1;34m\u001b[0m\n\u001b[1;32m----> 1\u001b[1;33m \u001b[0mc\u001b[0m\u001b[1;33m+\u001b[0m\u001b[0mint\u001b[0m\u001b[1;33m(\u001b[0m\u001b[0mD\u001b[0m\u001b[1;33m)\u001b[0m\u001b[1;33m\u001b[0m\u001b[1;33m\u001b[0m\u001b[0m\n\u001b[0m",
      "\u001b[1;31mNameError\u001b[0m: name 'D' is not defined"
     ]
    }
   ],
   "source": [
    "c+int(D)"
   ]
  },
  {
   "cell_type": "code",
   "execution_count": 16,
   "id": "ce64e05f",
   "metadata": {},
   "outputs": [
    {
     "ename": "TypeError",
     "evalue": "int() argument must be a string, a bytes-like object or a number, not 'NoneType'",
     "output_type": "error",
     "traceback": [
      "\u001b[1;31m---------------------------------------------------------------------------\u001b[0m",
      "\u001b[1;31mTypeError\u001b[0m                                 Traceback (most recent call last)",
      "\u001b[1;32m<ipython-input-16-6e0d86f95d60>\u001b[0m in \u001b[0;36m<module>\u001b[1;34m\u001b[0m\n\u001b[1;32m----> 1\u001b[1;33m \u001b[0mc\u001b[0m\u001b[1;33m+\u001b[0m\u001b[0mint\u001b[0m\u001b[1;33m(\u001b[0m\u001b[0md\u001b[0m\u001b[1;33m)\u001b[0m\u001b[1;33m\u001b[0m\u001b[1;33m\u001b[0m\u001b[0m\n\u001b[0m",
      "\u001b[1;31mTypeError\u001b[0m: int() argument must be a string, a bytes-like object or a number, not 'NoneType'"
     ]
    }
   ],
   "source": [
    "c+int(d)"
   ]
  },
  {
   "cell_type": "code",
   "execution_count": 17,
   "id": "35ccc073",
   "metadata": {},
   "outputs": [],
   "source": [
    "#There is nothing in d therefore"
   ]
  },
  {
   "cell_type": "markdown",
   "id": "b0519432",
   "metadata": {},
   "source": [
    "## Adding logic to internal operations of function"
   ]
  },
  {
   "cell_type": "code",
   "execution_count": 18,
   "id": "c266c6e3",
   "metadata": {},
   "outputs": [
    {
     "data": {
      "text/plain": [
       "0"
      ]
     },
     "execution_count": 18,
     "metadata": {},
     "output_type": "execute_result"
    }
   ],
   "source": [
    "24%2"
   ]
  },
  {
   "cell_type": "code",
   "execution_count": 19,
   "id": "cdaca3e5",
   "metadata": {},
   "outputs": [
    {
     "data": {
      "text/plain": [
       "1"
      ]
     },
     "execution_count": 19,
     "metadata": {},
     "output_type": "execute_result"
    }
   ],
   "source": [
    "15%2"
   ]
  },
  {
   "cell_type": "code",
   "execution_count": 20,
   "id": "e97ad64a",
   "metadata": {},
   "outputs": [
    {
     "data": {
      "text/plain": [
       "True"
      ]
     },
     "execution_count": 20,
     "metadata": {},
     "output_type": "execute_result"
    }
   ],
   "source": [
    "24%2==0"
   ]
  },
  {
   "cell_type": "markdown",
   "id": "3caa59a4",
   "metadata": {},
   "source": [
    "## Check if number is even"
   ]
  },
  {
   "cell_type": "code",
   "execution_count": 21,
   "id": "5e39a708",
   "metadata": {},
   "outputs": [],
   "source": [
    "def even_numb_check(number):\n",
    "    return number % 2 == 0"
   ]
  },
  {
   "cell_type": "code",
   "execution_count": 22,
   "id": "3d40bd5e",
   "metadata": {},
   "outputs": [
    {
     "data": {
      "text/plain": [
       "True"
      ]
     },
     "execution_count": 22,
     "metadata": {},
     "output_type": "execute_result"
    }
   ],
   "source": [
    "even_numb_check(32)"
   ]
  },
  {
   "cell_type": "code",
   "execution_count": 23,
   "id": "27723445",
   "metadata": {},
   "outputs": [
    {
     "data": {
      "text/plain": [
       "False"
      ]
     },
     "execution_count": 23,
     "metadata": {},
     "output_type": "execute_result"
    }
   ],
   "source": [
    "even_numb_check(67)"
   ]
  },
  {
   "cell_type": "markdown",
   "id": "70c7c6d4",
   "metadata": {},
   "source": [
    "## Check if any number in list is even"
   ]
  },
  {
   "cell_type": "code",
   "execution_count": 24,
   "id": "a95f85a9",
   "metadata": {},
   "outputs": [],
   "source": [
    "def list_even_check(num_list):\n",
    "    for num in num_list:\n",
    "        if numb % 2 == 0:\n",
    "            return True\n",
    "        else:\n",
    "            pass"
   ]
  },
  {
   "cell_type": "code",
   "execution_count": 25,
   "id": "6f1bfc3a",
   "metadata": {},
   "outputs": [
    {
     "ename": "NameError",
     "evalue": "name 'numb' is not defined",
     "output_type": "error",
     "traceback": [
      "\u001b[1;31m---------------------------------------------------------------------------\u001b[0m",
      "\u001b[1;31mNameError\u001b[0m                                 Traceback (most recent call last)",
      "\u001b[1;32m<ipython-input-25-429c12d40cc5>\u001b[0m in \u001b[0;36m<module>\u001b[1;34m\u001b[0m\n\u001b[1;32m----> 1\u001b[1;33m \u001b[0mlist_even_check\u001b[0m\u001b[1;33m(\u001b[0m\u001b[1;33m[\u001b[0m\u001b[1;36m2\u001b[0m\u001b[1;33m,\u001b[0m\u001b[1;36m3\u001b[0m\u001b[1;33m,\u001b[0m\u001b[1;36m44\u001b[0m\u001b[1;33m,\u001b[0m\u001b[1;36m5\u001b[0m\u001b[1;33m,\u001b[0m\u001b[1;36m1\u001b[0m\u001b[1;33m]\u001b[0m\u001b[1;33m)\u001b[0m\u001b[1;33m\u001b[0m\u001b[1;33m\u001b[0m\u001b[0m\n\u001b[0m",
      "\u001b[1;32m<ipython-input-24-eee4737ccdc7>\u001b[0m in \u001b[0;36mlist_even_check\u001b[1;34m(num_list)\u001b[0m\n\u001b[0;32m      1\u001b[0m \u001b[1;32mdef\u001b[0m \u001b[0mlist_even_check\u001b[0m\u001b[1;33m(\u001b[0m\u001b[0mnum_list\u001b[0m\u001b[1;33m)\u001b[0m\u001b[1;33m:\u001b[0m\u001b[1;33m\u001b[0m\u001b[1;33m\u001b[0m\u001b[0m\n\u001b[0;32m      2\u001b[0m     \u001b[1;32mfor\u001b[0m \u001b[0mnum\u001b[0m \u001b[1;32min\u001b[0m \u001b[0mnum_list\u001b[0m\u001b[1;33m:\u001b[0m\u001b[1;33m\u001b[0m\u001b[1;33m\u001b[0m\u001b[0m\n\u001b[1;32m----> 3\u001b[1;33m         \u001b[1;32mif\u001b[0m \u001b[0mnumb\u001b[0m \u001b[1;33m%\u001b[0m \u001b[1;36m2\u001b[0m \u001b[1;33m==\u001b[0m \u001b[1;36m0\u001b[0m\u001b[1;33m:\u001b[0m\u001b[1;33m\u001b[0m\u001b[1;33m\u001b[0m\u001b[0m\n\u001b[0m\u001b[0;32m      4\u001b[0m             \u001b[1;32mreturn\u001b[0m \u001b[1;32mTrue\u001b[0m\u001b[1;33m\u001b[0m\u001b[1;33m\u001b[0m\u001b[0m\n\u001b[0;32m      5\u001b[0m         \u001b[1;32melse\u001b[0m\u001b[1;33m:\u001b[0m\u001b[1;33m\u001b[0m\u001b[1;33m\u001b[0m\u001b[0m\n",
      "\u001b[1;31mNameError\u001b[0m: name 'numb' is not defined"
     ]
    }
   ],
   "source": [
    "list_even_check([2,3,44,5,1])"
   ]
  },
  {
   "cell_type": "code",
   "execution_count": 29,
   "id": "06e0466e",
   "metadata": {},
   "outputs": [],
   "source": [
    "def list_even_check(num_list):\n",
    "    for num in num_list:\n",
    "        if num % 2 == 0:\n",
    "            return True\n",
    "        else:\n",
    "            pass"
   ]
  },
  {
   "cell_type": "code",
   "execution_count": 27,
   "id": "14c8c5e3",
   "metadata": {},
   "outputs": [
    {
     "data": {
      "text/plain": [
       "True"
      ]
     },
     "execution_count": 27,
     "metadata": {},
     "output_type": "execute_result"
    }
   ],
   "source": [
    "list_even_check([2,3,44,5,1])"
   ]
  },
  {
   "cell_type": "markdown",
   "id": "b05527e8",
   "metadata": {},
   "source": [
    "**We are not printing anything if all numbers are odd!!**"
   ]
  },
  {
   "cell_type": "code",
   "execution_count": 28,
   "id": "a765a429",
   "metadata": {},
   "outputs": [],
   "source": [
    "list_even_check([1,3,5,7])"
   ]
  },
  {
   "cell_type": "markdown",
   "id": "7b08a6ac",
   "metadata": {},
   "source": [
    "**VERY COMMON MISTAKE!! LET'S SEE A COMMON LOGIC ERROR, NOTE THIS IS WRONG!!!**"
   ]
  },
  {
   "cell_type": "code",
   "execution_count": 30,
   "id": "2eacf9c8",
   "metadata": {},
   "outputs": [],
   "source": [
    "def list_even_check(num_list):\n",
    "    for num in num_list:\n",
    "        if num % 2 == 0:\n",
    "            return True\n",
    "        else:\n",
    "            return False"
   ]
  },
  {
   "cell_type": "code",
   "execution_count": 31,
   "id": "9fcbcd49",
   "metadata": {},
   "outputs": [
    {
     "data": {
      "text/plain": [
       "False"
      ]
     },
     "execution_count": 31,
     "metadata": {},
     "output_type": "execute_result"
    }
   ],
   "source": [
    "list_even_check([1,1,3])"
   ]
  },
  {
   "cell_type": "code",
   "execution_count": 32,
   "id": "58faa39a",
   "metadata": {},
   "outputs": [
    {
     "data": {
      "text/plain": [
       "False"
      ]
     },
     "execution_count": 32,
     "metadata": {},
     "output_type": "execute_result"
    }
   ],
   "source": [
    "list_even_check([1,2,3])"
   ]
  },
  {
   "cell_type": "code",
   "execution_count": 33,
   "id": "d5447b24",
   "metadata": {},
   "outputs": [
    {
     "data": {
      "text/plain": [
       "'\\nThe above function is wrong because it prints False for an even number\\nThe problem in this function is that if the first number is even only then it will print True \\nOtherwise it will print False as the loop does not check all the values\\n'"
      ]
     },
     "execution_count": 33,
     "metadata": {},
     "output_type": "execute_result"
    }
   ],
   "source": [
    "'''\n",
    "The above function is wrong because it prints False for an even number\n",
    "The problem in this function is that if the first number is even only then it will print True \n",
    "Otherwise it will print False as the loop does not check all the values\n",
    "'''"
   ]
  },
  {
   "cell_type": "markdown",
   "id": "44b637bd",
   "metadata": {},
   "source": [
    "**CORRECT APPROACH TO THE PROBLEM**"
   ]
  },
  {
   "cell_type": "code",
   "execution_count": 34,
   "id": "8d77a843",
   "metadata": {},
   "outputs": [],
   "source": [
    "def list_even_check(num_list):\n",
    "    for num in num_list:\n",
    "        if num % 2 == 0:\n",
    "            return True #Returns True only after hitting even number \n",
    "        else:\n",
    "            pass  #This indentation ensures it runs through the whole loop\n",
    "    return False"
   ]
  },
  {
   "cell_type": "code",
   "execution_count": 35,
   "id": "b8a3f6ed",
   "metadata": {},
   "outputs": [
    {
     "data": {
      "text/plain": [
       "True"
      ]
     },
     "execution_count": 35,
     "metadata": {},
     "output_type": "execute_result"
    }
   ],
   "source": [
    "list_even_check([1,2,3,4])"
   ]
  },
  {
   "cell_type": "markdown",
   "id": "f840a49c",
   "metadata": {},
   "source": [
    "## Return all even numbers in a list"
   ]
  },
  {
   "cell_type": "code",
   "execution_count": 36,
   "id": "51171ef6",
   "metadata": {},
   "outputs": [],
   "source": [
    "def even_nos_list(num_list):\n",
    "    even_list=[]"
   ]
  },
  {
   "cell_type": "code",
   "execution_count": 37,
   "id": "a2ae3385",
   "metadata": {},
   "outputs": [],
   "source": [
    "def even_nos_list(num_list):\n",
    "    even_list=[]  #A List for all the even numbers in the original list\n",
    "    for num in num_list:  #Lis tunpacking\n",
    "        if num % 2 ==0:\n",
    "            even_list.append(num)\n",
    "        else:\n",
    "            pass\n",
    "    return even_list"
   ]
  },
  {
   "cell_type": "code",
   "execution_count": 38,
   "id": "7d24a9cc",
   "metadata": {},
   "outputs": [
    {
     "data": {
      "text/plain": [
       "[2, 4, 6, 8, 10]"
      ]
     },
     "execution_count": 38,
     "metadata": {},
     "output_type": "execute_result"
    }
   ],
   "source": [
    "even_nos_list([1,2,3,4,5,6,7,8,9,10])"
   ]
  },
  {
   "cell_type": "markdown",
   "id": "4cf32af2",
   "metadata": {},
   "source": [
    "## Returning Tuples for Unpacking"
   ]
  },
  {
   "cell_type": "markdown",
   "id": "33676699",
   "metadata": {},
   "source": [
    "**Recall we can loop through a list of tuples and \"unpack\" the values within them**"
   ]
  },
  {
   "cell_type": "code",
   "execution_count": 39,
   "id": "ed4f2e13",
   "metadata": {},
   "outputs": [],
   "source": [
    "list1=[(\"apples\",200),(\"mangos\",250),(\"bananas\",230)]"
   ]
  },
  {
   "cell_type": "code",
   "execution_count": 40,
   "id": "6693b894",
   "metadata": {},
   "outputs": [
    {
     "name": "stdout",
     "output_type": "stream",
     "text": [
      "('apples', 200)\n",
      "('mangos', 250)\n",
      "('bananas', 230)\n"
     ]
    }
   ],
   "source": [
    "for item in list1:\n",
    "    print(item)"
   ]
  },
  {
   "cell_type": "code",
   "execution_count": 41,
   "id": "68fa7705",
   "metadata": {},
   "outputs": [
    {
     "name": "stdout",
     "output_type": "stream",
     "text": [
      "('bananas', 230)\n",
      "('bananas', 230)\n",
      "('bananas', 230)\n"
     ]
    }
   ],
   "source": [
    "for fruits,quantity in list1:\n",
    "    print(item)"
   ]
  },
  {
   "cell_type": "code",
   "execution_count": 42,
   "id": "5cc4b30e",
   "metadata": {},
   "outputs": [
    {
     "name": "stdout",
     "output_type": "stream",
     "text": [
      "apples\n",
      "mangos\n",
      "bananas\n"
     ]
    }
   ],
   "source": [
    "for fruits,quantity in list1:\n",
    "    print(fruits)"
   ]
  },
  {
   "cell_type": "code",
   "execution_count": 43,
   "id": "45033d45",
   "metadata": {},
   "outputs": [
    {
     "name": "stdout",
     "output_type": "stream",
     "text": [
      "200\n",
      "250\n",
      "230\n"
     ]
    }
   ],
   "source": [
    "for fruits,quantity in list1:\n",
    "    print(quantity)"
   ]
  },
  {
   "cell_type": "markdown",
   "id": "e4d3b1c2",
   "metadata": {},
   "source": [
    "**Similarly, functions often return tuples, to easily return multiple results for later use.**"
   ]
  },
  {
   "cell_type": "code",
   "execution_count": 44,
   "id": "2056329a",
   "metadata": {},
   "outputs": [],
   "source": [
    "work_hours = [('Abby',100),('Billy',400),('Cassie',800)]"
   ]
  },
  {
   "cell_type": "markdown",
   "id": "65549f88",
   "metadata": {},
   "source": [
    "The employee of the month function will return both the name and number of hours worked for the top performer (judged by number of hours worked)."
   ]
  },
  {
   "cell_type": "code",
   "execution_count": 45,
   "id": "d45ab3e5",
   "metadata": {},
   "outputs": [],
   "source": [
    "def employ_of_month(data_set):   #Here data_set is the input list\n",
    "    current_max = 0  #Setting a max value to beat here zero\n",
    "    employ_of_month = \" \" #Setting an empty value for loop\n",
    "    \n",
    "    for employee,hours in data_set:\n",
    "        if hours > current_max:\n",
    "            current_max = hours\n",
    "            employ_of_month=employ\n",
    "        else:\n",
    "            pass\n",
    "    return(employ_of_month,current_max)"
   ]
  },
  {
   "cell_type": "code",
   "execution_count": 46,
   "id": "751e3b5d",
   "metadata": {},
   "outputs": [
    {
     "ename": "NameError",
     "evalue": "name 'employ' is not defined",
     "output_type": "error",
     "traceback": [
      "\u001b[1;31m---------------------------------------------------------------------------\u001b[0m",
      "\u001b[1;31mNameError\u001b[0m                                 Traceback (most recent call last)",
      "\u001b[1;32m<ipython-input-46-83d76f2d9c7d>\u001b[0m in \u001b[0;36m<module>\u001b[1;34m\u001b[0m\n\u001b[1;32m----> 1\u001b[1;33m \u001b[0memploy_of_month\u001b[0m\u001b[1;33m(\u001b[0m\u001b[0mwork_hours\u001b[0m\u001b[1;33m)\u001b[0m\u001b[1;33m\u001b[0m\u001b[1;33m\u001b[0m\u001b[0m\n\u001b[0m",
      "\u001b[1;32m<ipython-input-45-66eab24f9314>\u001b[0m in \u001b[0;36memploy_of_month\u001b[1;34m(data_set)\u001b[0m\n\u001b[0;32m      6\u001b[0m         \u001b[1;32mif\u001b[0m \u001b[0mhours\u001b[0m \u001b[1;33m>\u001b[0m \u001b[0mcurrent_max\u001b[0m\u001b[1;33m:\u001b[0m\u001b[1;33m\u001b[0m\u001b[1;33m\u001b[0m\u001b[0m\n\u001b[0;32m      7\u001b[0m             \u001b[0mcurrent_max\u001b[0m \u001b[1;33m=\u001b[0m \u001b[0mhours\u001b[0m\u001b[1;33m\u001b[0m\u001b[1;33m\u001b[0m\u001b[0m\n\u001b[1;32m----> 8\u001b[1;33m             \u001b[0memploy_of_month\u001b[0m\u001b[1;33m=\u001b[0m\u001b[0memploy\u001b[0m\u001b[1;33m\u001b[0m\u001b[1;33m\u001b[0m\u001b[0m\n\u001b[0m\u001b[0;32m      9\u001b[0m         \u001b[1;32melse\u001b[0m\u001b[1;33m:\u001b[0m\u001b[1;33m\u001b[0m\u001b[1;33m\u001b[0m\u001b[0m\n\u001b[0;32m     10\u001b[0m             \u001b[1;32mpass\u001b[0m\u001b[1;33m\u001b[0m\u001b[1;33m\u001b[0m\u001b[0m\n",
      "\u001b[1;31mNameError\u001b[0m: name 'employ' is not defined"
     ]
    }
   ],
   "source": [
    "employ_of_month(work_hours)"
   ]
  },
  {
   "cell_type": "code",
   "execution_count": 47,
   "id": "1d04b091",
   "metadata": {},
   "outputs": [],
   "source": [
    "def employ_of_month(data_set):   #Here data_set is the input list\n",
    "    current_max = 0  #Setting a max value to beat here zero\n",
    "    employ_of_month = \" \" #Setting an empty value for loop\n",
    "    \n",
    "    for employee,hours in data_set:\n",
    "        if hours > current_max:\n",
    "            current_max = hours\n",
    "            employ_of_month=employee\n",
    "        else:\n",
    "            pass\n",
    "    return(employ_of_month,current_max)"
   ]
  },
  {
   "cell_type": "code",
   "execution_count": 48,
   "id": "88cc2459",
   "metadata": {},
   "outputs": [
    {
     "data": {
      "text/plain": [
       "('Cassie', 800)"
      ]
     },
     "execution_count": 48,
     "metadata": {},
     "output_type": "execute_result"
    }
   ],
   "source": [
    "employ_of_month(work_hours)"
   ]
  },
  {
   "cell_type": "markdown",
   "id": "c27e2167",
   "metadata": {},
   "source": [
    "## Interaction Between Functions\n",
    "\n"
   ]
  },
  {
   "cell_type": "markdown",
   "id": "58dae5ef",
   "metadata": {},
   "source": [
    "Functions often use results from other functions, let's see a simple example through a guessing game. There will be 3 positions in the list, one of which is an 'O', a function will shuffle the list, another will take a player's guess, and finally another will check to see if it is correct. This is based on the classic carnival game of guessing which cup a red ball is under."
   ]
  },
  {
   "cell_type": "code",
   "execution_count": 1,
   "id": "41fff636",
   "metadata": {},
   "outputs": [],
   "source": [
    "from random import shuffle"
   ]
  },
  {
   "cell_type": "code",
   "execution_count": 2,
   "id": "32a69b0e",
   "metadata": {},
   "outputs": [],
   "source": [
    "example = [1,2,3,4,5,6]"
   ]
  },
  {
   "cell_type": "code",
   "execution_count": 3,
   "id": "09d16c6c",
   "metadata": {},
   "outputs": [
    {
     "ename": "AttributeError",
     "evalue": "'list' object has no attribute 'shuffle'",
     "output_type": "error",
     "traceback": [
      "\u001b[1;31m---------------------------------------------------------------------------\u001b[0m",
      "\u001b[1;31mAttributeError\u001b[0m                            Traceback (most recent call last)",
      "\u001b[1;32m<ipython-input-3-80d7971808fd>\u001b[0m in \u001b[0;36m<module>\u001b[1;34m\u001b[0m\n\u001b[1;32m----> 1\u001b[1;33m \u001b[0mexample\u001b[0m\u001b[1;33m.\u001b[0m\u001b[0mshuffle\u001b[0m\u001b[1;33m(\u001b[0m\u001b[1;33m)\u001b[0m\u001b[1;33m\u001b[0m\u001b[1;33m\u001b[0m\u001b[0m\n\u001b[0m",
      "\u001b[1;31mAttributeError\u001b[0m: 'list' object has no attribute 'shuffle'"
     ]
    }
   ],
   "source": [
    "example.shuffle()"
   ]
  },
  {
   "cell_type": "code",
   "execution_count": 4,
   "id": "4a0b4fce",
   "metadata": {},
   "outputs": [],
   "source": [
    "shuffle(example)"
   ]
  },
  {
   "cell_type": "code",
   "execution_count": 5,
   "id": "a97ac3f2",
   "metadata": {},
   "outputs": [
    {
     "data": {
      "text/plain": [
       "[2, 1, 3, 4, 6, 5]"
      ]
     },
     "execution_count": 5,
     "metadata": {},
     "output_type": "execute_result"
    }
   ],
   "source": [
    "example"
   ]
  },
  {
   "cell_type": "code",
   "execution_count": 6,
   "id": "bf19006c",
   "metadata": {},
   "outputs": [],
   "source": [
    "def shuffle_fn():\n",
    "    list1 = ['','o','']"
   ]
  },
  {
   "cell_type": "code",
   "execution_count": 7,
   "id": "d4af1bc1",
   "metadata": {},
   "outputs": [],
   "source": [
    "def shuffle_fn():\n",
    "    list1 = ['','o','']\n",
    "    shuffle(list1)\n",
    "    return(list1)"
   ]
  },
  {
   "cell_type": "code",
   "execution_count": 8,
   "id": "09c0e09b",
   "metadata": {},
   "outputs": [
    {
     "ename": "NameError",
     "evalue": "name 'shuffl_fn' is not defined",
     "output_type": "error",
     "traceback": [
      "\u001b[1;31m---------------------------------------------------------------------------\u001b[0m",
      "\u001b[1;31mNameError\u001b[0m                                 Traceback (most recent call last)",
      "\u001b[1;32m<ipython-input-8-902d1eef8d68>\u001b[0m in \u001b[0;36m<module>\u001b[1;34m\u001b[0m\n\u001b[1;32m----> 1\u001b[1;33m \u001b[0mshuffl_fn\u001b[0m\u001b[1;33m(\u001b[0m\u001b[1;33m)\u001b[0m\u001b[1;33m\u001b[0m\u001b[1;33m\u001b[0m\u001b[0m\n\u001b[0m",
      "\u001b[1;31mNameError\u001b[0m: name 'shuffl_fn' is not defined"
     ]
    }
   ],
   "source": [
    "shuffl_fn()"
   ]
  },
  {
   "cell_type": "code",
   "execution_count": 9,
   "id": "67d65b44",
   "metadata": {},
   "outputs": [
    {
     "data": {
      "text/plain": [
       "['', '', 'o']"
      ]
     },
     "execution_count": 9,
     "metadata": {},
     "output_type": "execute_result"
    }
   ],
   "source": [
    "shuffle_fn()"
   ]
  },
  {
   "cell_type": "code",
   "execution_count": 10,
   "id": "3a502cdb",
   "metadata": {},
   "outputs": [],
   "source": [
    "def player_guess_fn():\n",
    "    player_guess=int(input(\"Enter position of 'o' from 0,1,2\").strip())"
   ]
  },
  {
   "cell_type": "code",
   "execution_count": 11,
   "id": "f7ad71c9",
   "metadata": {},
   "outputs": [],
   "source": [
    "def player_guess_fn():\n",
    "    player_guess=int(input(\"Enter position of 'o' from 0,1,2\").strip())\n",
    "    return player_guess"
   ]
  },
  {
   "cell_type": "code",
   "execution_count": 12,
   "id": "cce8fb38",
   "metadata": {},
   "outputs": [
    {
     "name": "stdout",
     "output_type": "stream",
     "text": [
      "Enter position of 'o' from 0,1,22\n"
     ]
    }
   ],
   "source": [
    "trial=player_guess_fn()"
   ]
  },
  {
   "cell_type": "code",
   "execution_count": 13,
   "id": "9d3a2a65",
   "metadata": {},
   "outputs": [
    {
     "name": "stdout",
     "output_type": "stream",
     "text": [
      "2\n"
     ]
    }
   ],
   "source": [
    "print(trial)"
   ]
  },
  {
   "cell_type": "code",
   "execution_count": 14,
   "id": "97a057fd",
   "metadata": {},
   "outputs": [],
   "source": [
    "def player_guess_fn():\n",
    "    player_guess=int(input(\"Enter position of 'o' from 0,1,2 : \").strip())\n",
    "    return player_guess"
   ]
  },
  {
   "cell_type": "code",
   "execution_count": 15,
   "id": "7ff5dae4",
   "metadata": {},
   "outputs": [
    {
     "name": "stdout",
     "output_type": "stream",
     "text": [
      "Enter position of 'o' from 0,1,2 : 5\n"
     ]
    }
   ],
   "source": [
    "trial=player_guess_fn()"
   ]
  },
  {
   "cell_type": "code",
   "execution_count": 16,
   "id": "4d064401",
   "metadata": {},
   "outputs": [
    {
     "data": {
      "text/plain": [
       "5"
      ]
     },
     "execution_count": 16,
     "metadata": {},
     "output_type": "execute_result"
    }
   ],
   "source": [
    "trial"
   ]
  },
  {
   "cell_type": "code",
   "execution_count": 17,
   "id": "286b5af8",
   "metadata": {},
   "outputs": [
    {
     "ename": "SyntaxError",
     "evalue": "invalid syntax (<ipython-input-17-c7213a4906ea>, line 3)",
     "output_type": "error",
     "traceback": [
      "\u001b[1;36m  File \u001b[1;32m\"<ipython-input-17-c7213a4906ea>\"\u001b[1;36m, line \u001b[1;32m3\u001b[0m\n\u001b[1;33m    while player_guess not in [0,1,2]\u001b[0m\n\u001b[1;37m                                     ^\u001b[0m\n\u001b[1;31mSyntaxError\u001b[0m\u001b[1;31m:\u001b[0m invalid syntax\n"
     ]
    }
   ],
   "source": [
    "def player_guess_fn():\n",
    "    player_guess=3\n",
    "    while player_guess not in [0,1,2]\n",
    "    player_guess=int(input(\"Enter position of 'o' from 0,1,2 : \").strip())\n",
    "    return player_guess"
   ]
  },
  {
   "cell_type": "code",
   "execution_count": 18,
   "id": "493a1110",
   "metadata": {},
   "outputs": [
    {
     "ename": "IndentationError",
     "evalue": "expected an indented block (<ipython-input-18-7726a79527b6>, line 4)",
     "output_type": "error",
     "traceback": [
      "\u001b[1;36m  File \u001b[1;32m\"<ipython-input-18-7726a79527b6>\"\u001b[1;36m, line \u001b[1;32m4\u001b[0m\n\u001b[1;33m    player_guess=int(input(\"Enter position of 'o' from 0,1,2 : \").strip())\u001b[0m\n\u001b[1;37m    ^\u001b[0m\n\u001b[1;31mIndentationError\u001b[0m\u001b[1;31m:\u001b[0m expected an indented block\n"
     ]
    }
   ],
   "source": [
    "def player_guess_fn():\n",
    "    player_guess=3\n",
    "    while player_guess not in [0,1,2]:\n",
    "    player_guess=int(input(\"Enter position of 'o' from 0,1,2 : \").strip())\n",
    "    return player_guess"
   ]
  },
  {
   "cell_type": "code",
   "execution_count": 19,
   "id": "8bf76201",
   "metadata": {},
   "outputs": [
    {
     "ename": "IndentationError",
     "evalue": "expected an indented block (<ipython-input-19-1d80e9d0f64e>, line 4)",
     "output_type": "error",
     "traceback": [
      "\u001b[1;36m  File \u001b[1;32m\"<ipython-input-19-1d80e9d0f64e>\"\u001b[1;36m, line \u001b[1;32m4\u001b[0m\n\u001b[1;33m    rand1=int(input(\"Enter position of 'o' from 0,1,2 : \").strip())\u001b[0m\n\u001b[1;37m    ^\u001b[0m\n\u001b[1;31mIndentationError\u001b[0m\u001b[1;31m:\u001b[0m expected an indented block\n"
     ]
    }
   ],
   "source": [
    "def player_guess_fn():\n",
    "    player_guess=3\n",
    "    while player_guess not in [0,1,2]:\n",
    "    rand1=int(input(\"Enter position of 'o' from 0,1,2 : \").strip())\n",
    "    player_guess=rand1\n",
    "    return player_guess"
   ]
  },
  {
   "cell_type": "code",
   "execution_count": 20,
   "id": "6271bb67",
   "metadata": {},
   "outputs": [
    {
     "ename": "IndentationError",
     "evalue": "expected an indented block (<ipython-input-20-b2ced5dc4da1>, line 4)",
     "output_type": "error",
     "traceback": [
      "\u001b[1;36m  File \u001b[1;32m\"<ipython-input-20-b2ced5dc4da1>\"\u001b[1;36m, line \u001b[1;32m4\u001b[0m\n\u001b[1;33m    rand1=int(input(\"Enter position of 'o' from 0,1,2 : \").strip())\u001b[0m\n\u001b[1;37m    ^\u001b[0m\n\u001b[1;31mIndentationError\u001b[0m\u001b[1;31m:\u001b[0m expected an indented block\n"
     ]
    }
   ],
   "source": [
    "def player_guess_fn():\n",
    "    player_guess=3\n",
    "    while rand1 not in [0,1,2]:\n",
    "    rand1=int(input(\"Enter position of 'o' from 0,1,2 : \").strip())\n",
    "    \n",
    "    player_guess=rand1\n",
    "    return player_guess"
   ]
  },
  {
   "cell_type": "code",
   "execution_count": 21,
   "id": "0f8abed7",
   "metadata": {},
   "outputs": [],
   "source": [
    "def player_guess_fn():\n",
    "    player_guess=3\n",
    "    while player_guess not in [0,1,2]:\n",
    "        player_guess=int(input(\"Enter position of 'o' from 0,1,2 : \").strip())\n",
    "    return player_guess"
   ]
  },
  {
   "cell_type": "code",
   "execution_count": 22,
   "id": "1a04ed1b",
   "metadata": {},
   "outputs": [
    {
     "name": "stdout",
     "output_type": "stream",
     "text": [
      "Enter position of 'o' from 0,1,2 : 5\n",
      "Enter position of 'o' from 0,1,2 : 3\n",
      "Enter position of 'o' from 0,1,2 : 5\n",
      "Enter position of 'o' from 0,1,2 : 2\n"
     ]
    }
   ],
   "source": [
    "trial1=player_guess_fn()"
   ]
  },
  {
   "cell_type": "code",
   "execution_count": 23,
   "id": "174ee127",
   "metadata": {},
   "outputs": [
    {
     "name": "stdout",
     "output_type": "stream",
     "text": [
      "2\n"
     ]
    }
   ],
   "source": [
    "print(trial1)"
   ]
  },
  {
   "cell_type": "code",
   "execution_count": 24,
   "id": "43b4e8c4",
   "metadata": {},
   "outputs": [],
   "source": [
    "def check_fn(shuffled_list,guess):\n",
    "    for item in shuffled_list:\n",
    "        if shuffled_list[guess]=='o':\n",
    "            print(\"You Guessed Correctly !!!\")\n",
    "            print(shuffled_list)\n",
    "        else:\n",
    "            print(\"Your Guess waas wrong\")\n",
    "            "
   ]
  },
  {
   "cell_type": "code",
   "execution_count": 25,
   "id": "fdde85b1",
   "metadata": {},
   "outputs": [
    {
     "name": "stdout",
     "output_type": "stream",
     "text": [
      "Enter position of 'o' from 0,1,2 : 5\n",
      "Enter position of 'o' from 0,1,2 : 4\n",
      "Enter position of 'o' from 0,1,2 : 0\n",
      "Your Guess waas wrong\n",
      "Your Guess waas wrong\n",
      "Your Guess waas wrong\n"
     ]
    }
   ],
   "source": [
    "shuffled_list1 = shuffle_fn()\n",
    "\n",
    "guess1 = player_guess_fn()\n",
    "\n",
    "check_fn(shuffled_list1,guess1)"
   ]
  },
  {
   "cell_type": "code",
   "execution_count": 26,
   "id": "8cf49257",
   "metadata": {},
   "outputs": [],
   "source": [
    "def check_fn(shuffled_list,guess):\n",
    "    for item in shuffled_list:\n",
    "        if shuffled_list[guess]=='o':\n",
    "            print(\"You Guessed Correctly !!!\")\n",
    "            print(shuffled_list)\n",
    "        else:\n",
    "            pass\n",
    "    print(\"Your Guess waas wrong\")\n",
    "            "
   ]
  },
  {
   "cell_type": "code",
   "execution_count": 27,
   "id": "7f73cddd",
   "metadata": {},
   "outputs": [
    {
     "name": "stdout",
     "output_type": "stream",
     "text": [
      "Enter position of 'o' from 0,1,2 : 7\n",
      "Enter position of 'o' from 0,1,2 : 3\n",
      "Enter position of 'o' from 0,1,2 : 2\n",
      "Your Guess waas wrong\n"
     ]
    }
   ],
   "source": [
    "shuffled_list1 = shuffle_fn()\n",
    "\n",
    "guess1 = player_guess_fn()\n",
    "\n",
    "check_fn(shuffled_list1,guess1)"
   ]
  },
  {
   "cell_type": "code",
   "execution_count": 28,
   "id": "96953b29",
   "metadata": {},
   "outputs": [],
   "source": [
    "def check_fn(shuffled_list,guess):\n",
    "    for item in shuffled_list:\n",
    "        if shuffled_list[guess]=='o':\n",
    "            print(\"You Guessed Correctly !!!\")\n",
    "            print(shuffled_list)\n",
    "        else:\n",
    "            pass\n",
    "    print(\"Your Guess waas wrong\")\n",
    "    print(shuffled_list)"
   ]
  },
  {
   "cell_type": "code",
   "execution_count": 29,
   "id": "3d52674a",
   "metadata": {},
   "outputs": [
    {
     "name": "stdout",
     "output_type": "stream",
     "text": [
      "Enter position of 'o' from 0,1,2 : 9\n",
      "Enter position of 'o' from 0,1,2 : 10\n",
      "Enter position of 'o' from 0,1,2 : 1\n",
      "Your Guess waas wrong\n",
      "['', '', 'o']\n"
     ]
    }
   ],
   "source": [
    "shuffled_list1 = shuffle_fn()\n",
    "\n",
    "guess1 = player_guess_fn()\n",
    "\n",
    "check_fn(shuffled_list1,guess1)"
   ]
  },
  {
   "cell_type": "code",
   "execution_count": null,
   "id": "2d6fab48",
   "metadata": {},
   "outputs": [],
   "source": []
  }
 ],
 "metadata": {
  "kernelspec": {
   "display_name": "Python 3",
   "language": "python",
   "name": "python3"
  },
  "language_info": {
   "codemirror_mode": {
    "name": "ipython",
    "version": 3
   },
   "file_extension": ".py",
   "mimetype": "text/x-python",
   "name": "python",
   "nbconvert_exporter": "python",
   "pygments_lexer": "ipython3",
   "version": "3.8.8"
  }
 },
 "nbformat": 4,
 "nbformat_minor": 5
}
