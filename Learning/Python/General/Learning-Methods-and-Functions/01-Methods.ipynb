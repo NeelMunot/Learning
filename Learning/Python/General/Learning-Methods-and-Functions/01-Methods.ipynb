{
 "cells": [
  {
   "cell_type": "markdown",
   "id": "90eb6f86",
   "metadata": {},
   "source": [
    "## Methods\n",
    "\n",
    "\n",
    "Methods are essentially functions built into the objects.Later on we will learn to crate our own objects using OBJECT ORIENTED LANGUAGE(OOP).\n",
    "\n",
    "Methods perfrom a specific actions on objects and can take arguments, just like a function. This will serve as brief introduction to methods and get you thinking about overall design methods that we will touch back when we reach OOP's in the course. \n",
    "\n",
    "methods are of the format :\n",
    "\n",
    "        object.method(arg1,arg2,arg3.....)\n",
    "\n",
    "We will later see that we can think them of methods having an argument 'self' reffering to the object itself. We won't know that just now, but we will be using it in oop."
   ]
  },
  {
   "cell_type": "code",
   "execution_count": 1,
   "id": "61864749",
   "metadata": {},
   "outputs": [],
   "source": [
    "#Creating a lsit\n",
    "lst=[1,2,3,4,5,6]"
   ]
  },
  {
   "cell_type": "markdown",
   "id": "d9c147d6",
   "metadata": {},
   "source": [
    "Fortunately, with iPython and the Jupyter Notebook we can quickly see all the possible methods using the tab key. The methods for a list are:\n",
    "\n",
    "        .append\n",
    "        .count\n",
    "        .extend \n",
    "        .insert\n",
    "        .pop\n",
    "        .reverse\n",
    "        .remove\n",
    "        .sort"
   ]
  },
  {
   "cell_type": "markdown",
   "id": "c45712db",
   "metadata": {},
   "source": [
    "In further you will have to search google for methods and use them."
   ]
  },
  {
   "cell_type": "code",
   "execution_count": 1,
   "id": "32cb3789",
   "metadata": {},
   "outputs": [
    {
     "ename": "NameError",
     "evalue": "name 'lst' is not defined",
     "output_type": "error",
     "traceback": [
      "\u001b[1;31m---------------------------------------------------------------------------\u001b[0m",
      "\u001b[1;31mNameError\u001b[0m                                 Traceback (most recent call last)",
      "\u001b[1;32m<ipython-input-1-e74ab4176b2b>\u001b[0m in \u001b[0;36m<module>\u001b[1;34m\u001b[0m\n\u001b[1;32m----> 1\u001b[1;33m \u001b[0mlst\u001b[0m\u001b[1;33m.\u001b[0m\u001b[0mappend\u001b[0m\u001b[1;33m(\u001b[0m\u001b[1;36m6\u001b[0m\u001b[1;33m)\u001b[0m\u001b[1;33m\u001b[0m\u001b[1;33m\u001b[0m\u001b[0m\n\u001b[0m",
      "\u001b[1;31mNameError\u001b[0m: name 'lst' is not defined"
     ]
    }
   ],
   "source": [
    "lst.append(6)"
   ]
  },
  {
   "cell_type": "code",
   "execution_count": 2,
   "id": "325b1427",
   "metadata": {},
   "outputs": [],
   "source": [
    "lst=[1,2,3,4,5,6]"
   ]
  },
  {
   "cell_type": "code",
   "execution_count": 3,
   "id": "2bdcc2ce",
   "metadata": {},
   "outputs": [],
   "source": [
    "lst.append(6)"
   ]
  },
  {
   "cell_type": "code",
   "execution_count": 4,
   "id": "5581c327",
   "metadata": {},
   "outputs": [
    {
     "data": {
      "text/plain": [
       "[1, 2, 3, 4, 5, 6, 6]"
      ]
     },
     "execution_count": 4,
     "metadata": {},
     "output_type": "execute_result"
    }
   ],
   "source": [
    "lst"
   ]
  },
  {
   "cell_type": "code",
   "execution_count": 5,
   "id": "88a87866",
   "metadata": {},
   "outputs": [
    {
     "data": {
      "text/plain": [
       "2"
      ]
     },
     "execution_count": 5,
     "metadata": {},
     "output_type": "execute_result"
    }
   ],
   "source": [
    "lst.count(6)"
   ]
  },
  {
   "cell_type": "markdown",
   "id": "1e476b32",
   "metadata": {},
   "source": [
    "You can always use Shift+Tab in the Jupyter Notebook to get more help about the method. In general Python you can use the help() function:"
   ]
  },
  {
   "cell_type": "code",
   "execution_count": 6,
   "id": "f3564939",
   "metadata": {},
   "outputs": [
    {
     "name": "stdout",
     "output_type": "stream",
     "text": [
      "Help on built-in function count:\n",
      "\n",
      "count(value, /) method of builtins.list instance\n",
      "    Return number of occurrences of value.\n",
      "\n"
     ]
    }
   ],
   "source": [
    "help(lst.count)"
   ]
  },
  {
   "cell_type": "markdown",
   "id": "e0e41139",
   "metadata": {},
   "source": [
    "Feel free to play around with the rest of the methods for a list. Later on in this section your quiz will involve using help and Google searching for methods of different types of objects!"
   ]
  },
  {
   "cell_type": "code",
   "execution_count": null,
   "id": "9e12ac0b",
   "metadata": {},
   "outputs": [],
   "source": []
  }
 ],
 "metadata": {
  "kernelspec": {
   "display_name": "Python 3",
   "language": "python",
   "name": "python3"
  },
  "language_info": {
   "codemirror_mode": {
    "name": "ipython",
    "version": 3
   },
   "file_extension": ".py",
   "mimetype": "text/x-python",
   "name": "python",
   "nbconvert_exporter": "python",
   "pygments_lexer": "ipython3",
   "version": "3.8.8"
  }
 },
 "nbformat": 4,
 "nbformat_minor": 5
}
