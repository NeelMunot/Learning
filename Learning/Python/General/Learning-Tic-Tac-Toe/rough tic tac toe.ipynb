{
 "cells": [
  {
   "cell_type": "code",
   "execution_count": 1,
   "id": "bc392df2",
   "metadata": {},
   "outputs": [],
   "source": [
    "# from IPython.display import clear_output\n",
    "# clear_output()"
   ]
  },
  {
   "cell_type": "code",
   "execution_count": 27,
   "id": "943e970e",
   "metadata": {},
   "outputs": [],
   "source": [
    "# def dummy():\n",
    "#     choice = False\n",
    "#     while choice == False:\n",
    "    \n",
    "#         a=int(input(\"Enter a number\").strip())\n",
    "#         clear_output()\n",
    "#         if a in range (0,15):\n",
    "#             print(\"Good\")\n",
    "#             choice=True"
   ]
  },
  {
   "cell_type": "code",
   "execution_count": 28,
   "id": "873a314c",
   "metadata": {},
   "outputs": [
    {
     "name": "stdout",
     "output_type": "stream",
     "text": [
      "Good\n"
     ]
    }
   ],
   "source": [
    "dummy()"
   ]
  },
  {
   "cell_type": "code",
   "execution_count": 29,
   "id": "3575bddf",
   "metadata": {},
   "outputs": [],
   "source": [
    "# def dummy():\n",
    "#     choice = \"wrong\"\n",
    "#     while choice not in [1,2,3]:\n",
    "#         a=int(input(\"Enter a number\").strip())\n",
    "#         clear_output()\n",
    "#         if a in range (0,15):\n",
    "#             print(\"Good\")\n",
    "#             choice=True"
   ]
  },
  {
   "cell_type": "code",
   "execution_count": 11,
   "id": "9df178c0",
   "metadata": {},
   "outputs": [],
   "source": [
    "# def output_func(a=\"\",b=\"\",c=\"\",d=\"\",e=\"\",f=\"\",g=\"\",h=\"\",i=\"\"):\n",
    "#     print(\"  {a}  |  {b}  |  {c}  \" .format(a,b,c))\n",
    "#     print(\"_____|_____|_____\")\n",
    "#     print(\"  {d}  |  {e}  |  {f}  \" .format(d,e,f))\n",
    "#     print(\"_____|_____|_____\")\n",
    "#     print(\"  {g}  |  {h}  |  {i}  \" .format(g,h,i))\n",
    "#     print(\"     |     |     \")"
   ]
  },
  {
   "cell_type": "code",
   "execution_count": 12,
   "id": "1d3114ad",
   "metadata": {},
   "outputs": [
    {
     "ename": "KeyError",
     "evalue": "'a'",
     "output_type": "error",
     "traceback": [
      "\u001b[1;31m---------------------------------------------------------------------------\u001b[0m",
      "\u001b[1;31mKeyError\u001b[0m                                  Traceback (most recent call last)",
      "\u001b[1;32m<ipython-input-12-6605cc69c4f7>\u001b[0m in \u001b[0;36m<module>\u001b[1;34m\u001b[0m\n\u001b[1;32m----> 1\u001b[1;33m \u001b[0moutput_func\u001b[0m\u001b[1;33m(\u001b[0m\u001b[1;36m1\u001b[0m\u001b[1;33m,\u001b[0m\u001b[1;36m2\u001b[0m\u001b[1;33m,\u001b[0m\u001b[1;36m3\u001b[0m\u001b[1;33m,\u001b[0m\u001b[1;36m4\u001b[0m\u001b[1;33m,\u001b[0m\u001b[1;36m5\u001b[0m\u001b[1;33m,\u001b[0m\u001b[1;36m6\u001b[0m\u001b[1;33m,\u001b[0m\u001b[1;36m7\u001b[0m\u001b[1;33m,\u001b[0m\u001b[1;36m8\u001b[0m\u001b[1;33m,\u001b[0m\u001b[1;36m9\u001b[0m\u001b[1;33m)\u001b[0m\u001b[1;33m\u001b[0m\u001b[1;33m\u001b[0m\u001b[0m\n\u001b[0m",
      "\u001b[1;32m<ipython-input-11-0f94c045abc4>\u001b[0m in \u001b[0;36moutput_func\u001b[1;34m(a, b, c, d, e, f, g, h, i)\u001b[0m\n\u001b[0;32m      1\u001b[0m \u001b[1;32mdef\u001b[0m \u001b[0moutput_func\u001b[0m\u001b[1;33m(\u001b[0m\u001b[0ma\u001b[0m\u001b[1;33m=\u001b[0m\u001b[1;34m\"\"\u001b[0m\u001b[1;33m,\u001b[0m\u001b[0mb\u001b[0m\u001b[1;33m=\u001b[0m\u001b[1;34m\"\"\u001b[0m\u001b[1;33m,\u001b[0m\u001b[0mc\u001b[0m\u001b[1;33m=\u001b[0m\u001b[1;34m\"\"\u001b[0m\u001b[1;33m,\u001b[0m\u001b[0md\u001b[0m\u001b[1;33m=\u001b[0m\u001b[1;34m\"\"\u001b[0m\u001b[1;33m,\u001b[0m\u001b[0me\u001b[0m\u001b[1;33m=\u001b[0m\u001b[1;34m\"\"\u001b[0m\u001b[1;33m,\u001b[0m\u001b[0mf\u001b[0m\u001b[1;33m=\u001b[0m\u001b[1;34m\"\"\u001b[0m\u001b[1;33m,\u001b[0m\u001b[0mg\u001b[0m\u001b[1;33m=\u001b[0m\u001b[1;34m\"\"\u001b[0m\u001b[1;33m,\u001b[0m\u001b[0mh\u001b[0m\u001b[1;33m=\u001b[0m\u001b[1;34m\"\"\u001b[0m\u001b[1;33m,\u001b[0m\u001b[0mi\u001b[0m\u001b[1;33m=\u001b[0m\u001b[1;34m\"\"\u001b[0m\u001b[1;33m)\u001b[0m\u001b[1;33m:\u001b[0m\u001b[1;33m\u001b[0m\u001b[1;33m\u001b[0m\u001b[0m\n\u001b[1;32m----> 2\u001b[1;33m     \u001b[0mprint\u001b[0m\u001b[1;33m(\u001b[0m\u001b[1;34m\"  {a}  |  {b}  |  {c}  \"\u001b[0m \u001b[1;33m.\u001b[0m\u001b[0mformat\u001b[0m\u001b[1;33m(\u001b[0m\u001b[0ma\u001b[0m\u001b[1;33m,\u001b[0m\u001b[0mb\u001b[0m\u001b[1;33m,\u001b[0m\u001b[0mc\u001b[0m\u001b[1;33m)\u001b[0m\u001b[1;33m)\u001b[0m\u001b[1;33m\u001b[0m\u001b[1;33m\u001b[0m\u001b[0m\n\u001b[0m\u001b[0;32m      3\u001b[0m     \u001b[0mprint\u001b[0m\u001b[1;33m(\u001b[0m\u001b[1;34m\"_____|_____|_____\"\u001b[0m\u001b[1;33m)\u001b[0m\u001b[1;33m\u001b[0m\u001b[1;33m\u001b[0m\u001b[0m\n\u001b[0;32m      4\u001b[0m     \u001b[0mprint\u001b[0m\u001b[1;33m(\u001b[0m\u001b[1;34m\"  {d}  |  {e}  |  {f}  \"\u001b[0m \u001b[1;33m.\u001b[0m\u001b[0mformat\u001b[0m\u001b[1;33m(\u001b[0m\u001b[0md\u001b[0m\u001b[1;33m,\u001b[0m\u001b[0me\u001b[0m\u001b[1;33m,\u001b[0m\u001b[0mf\u001b[0m\u001b[1;33m)\u001b[0m\u001b[1;33m)\u001b[0m\u001b[1;33m\u001b[0m\u001b[1;33m\u001b[0m\u001b[0m\n\u001b[0;32m      5\u001b[0m     \u001b[0mprint\u001b[0m\u001b[1;33m(\u001b[0m\u001b[1;34m\"_____|_____|_____\"\u001b[0m\u001b[1;33m)\u001b[0m\u001b[1;33m\u001b[0m\u001b[1;33m\u001b[0m\u001b[0m\n",
      "\u001b[1;31mKeyError\u001b[0m: 'a'"
     ]
    }
   ],
   "source": [
    "# output_func(1,2,3,4,5,6,7,8,9)"
   ]
  },
  {
   "cell_type": "code",
   "execution_count": 31,
   "id": "37a77a86",
   "metadata": {},
   "outputs": [],
   "source": [
    "# def output_func(a=\" \",b=\" \",c=\" \",d=\" \",e=\" \",f=\" \",g=\" \",h=\" \",i=\" \"):\n",
    "#     print(\"  {}  |  {}  |  {}  \" .format(a,b,c))\n",
    "#     print(\"_____|_____|_____\")\n",
    "#     print(\"  {}  |  {}  |  {}  \" .format(d,e,f))\n",
    "#     print(\"_____|_____|_____\")\n",
    "#     print(\"  {}  |  {}  |  {}  \" .format(g,h,i))\n",
    "#     print(\"     |     |     \")"
   ]
  },
  {
   "cell_type": "code",
   "execution_count": 40,
   "id": "997eb7e3",
   "metadata": {},
   "outputs": [],
   "source": [
    "def output_func(lst):\n",
    "    print(\"  {}  |  {}  |  {}  \" .format(lst[0],lst[1],lst[2]))\n",
    "    print(\"_____|_____|_____\")\n",
    "    print(\"  {}  |  {}  |  {}  \" .format(lst[3],lst[4],lst[5]))\n",
    "    print(\"_____|_____|_____\")\n",
    "    print(\"  {}  |  {}  |  {}  \" .format(lst[6],lst[7],lst[8]))\n",
    "    print(\"     |     |     \")"
   ]
  },
  {
   "cell_type": "code",
   "execution_count": 19,
   "id": "afe85173",
   "metadata": {},
   "outputs": [
    {
     "name": "stdout",
     "output_type": "stream",
     "text": [
      "  1  |  2  |  3  \n",
      "_____|_____|_____\n",
      "     |     |     \n",
      "_____|_____|_____\n",
      "     |     |     \n",
      "     |     |     \n"
     ]
    }
   ],
   "source": [
    "output_func(1,2,3)"
   ]
  },
  {
   "cell_type": "code",
   "execution_count": 20,
   "id": "b2a8a41c",
   "metadata": {},
   "outputs": [
    {
     "name": "stdout",
     "output_type": "stream",
     "text": [
      "     |     |  x  \n",
      "_____|_____|_____\n",
      "     |  o  |     \n",
      "_____|_____|_____\n",
      "     |     |     \n",
      "     |     |     \n"
     ]
    }
   ],
   "source": [
    "output_func(c=\"x\",e=\"o\")"
   ]
  },
  {
   "cell_type": "code",
   "execution_count": 23,
   "id": "737ce3ae",
   "metadata": {},
   "outputs": [],
   "source": [
    "def take_input_x():\n",
    "    posx=input((\"Enter Position for x : \").strip())\n",
    "    return posx"
   ]
  },
  {
   "cell_type": "code",
   "execution_count": 24,
   "id": "ed964843",
   "metadata": {},
   "outputs": [],
   "source": [
    "def take_input_o():\n",
    "    poso=input((\"Enter Position for o : \").strip())\n",
    "    return poso"
   ]
  },
  {
   "cell_type": "code",
   "execution_count": 26,
   "id": "c60216d7",
   "metadata": {},
   "outputs": [
    {
     "ename": "KeyboardInterrupt",
     "evalue": "Interrupted by user",
     "output_type": "error",
     "traceback": [
      "\u001b[1;31m---------------------------------------------------------------------------\u001b[0m",
      "\u001b[1;31mKeyboardInterrupt\u001b[0m                         Traceback (most recent call last)",
      "\u001b[1;32m<ipython-input-26-438cd45c6c11>\u001b[0m in \u001b[0;36m<module>\u001b[1;34m\u001b[0m\n\u001b[0;32m      1\u001b[0m \u001b[1;32mif\u001b[0m \u001b[0m__name__\u001b[0m \u001b[1;33m==\u001b[0m \u001b[1;34m\"__main__\"\u001b[0m\u001b[1;33m:\u001b[0m\u001b[1;33m\u001b[0m\u001b[1;33m\u001b[0m\u001b[0m\n\u001b[1;32m----> 2\u001b[1;33m     \u001b[0mtake_input_x\u001b[0m\u001b[1;33m(\u001b[0m\u001b[1;33m)\u001b[0m\u001b[1;33m\u001b[0m\u001b[1;33m\u001b[0m\u001b[0m\n\u001b[0m\u001b[0;32m      3\u001b[0m     \u001b[0mtake_input_o\u001b[0m\u001b[1;33m(\u001b[0m\u001b[1;33m)\u001b[0m\u001b[1;33m\u001b[0m\u001b[1;33m\u001b[0m\u001b[0m\n",
      "\u001b[1;32m<ipython-input-23-8558a628460e>\u001b[0m in \u001b[0;36mtake_input_x\u001b[1;34m()\u001b[0m\n\u001b[0;32m      1\u001b[0m \u001b[1;32mdef\u001b[0m \u001b[0mtake_input_x\u001b[0m\u001b[1;33m(\u001b[0m\u001b[1;33m)\u001b[0m\u001b[1;33m:\u001b[0m\u001b[1;33m\u001b[0m\u001b[1;33m\u001b[0m\u001b[0m\n\u001b[1;32m----> 2\u001b[1;33m     \u001b[0mposx\u001b[0m\u001b[1;33m=\u001b[0m\u001b[0minput\u001b[0m\u001b[1;33m(\u001b[0m\u001b[1;33m(\u001b[0m\u001b[1;34m\"Enter Position for x : \"\u001b[0m\u001b[1;33m)\u001b[0m\u001b[1;33m.\u001b[0m\u001b[0mstrip\u001b[0m\u001b[1;33m(\u001b[0m\u001b[1;33m)\u001b[0m\u001b[1;33m)\u001b[0m\u001b[1;33m\u001b[0m\u001b[1;33m\u001b[0m\u001b[0m\n\u001b[0m\u001b[0;32m      3\u001b[0m     \u001b[1;32mreturn\u001b[0m \u001b[0mposx\u001b[0m\u001b[1;33m\u001b[0m\u001b[1;33m\u001b[0m\u001b[0m\n",
      "\u001b[1;32m~\\anaconda3\\lib\\site-packages\\ipykernel\\kernelbase.py\u001b[0m in \u001b[0;36mraw_input\u001b[1;34m(self, prompt)\u001b[0m\n\u001b[0;32m    858\u001b[0m                 \u001b[1;34m\"raw_input was called, but this frontend does not support input requests.\"\u001b[0m\u001b[1;33m\u001b[0m\u001b[1;33m\u001b[0m\u001b[0m\n\u001b[0;32m    859\u001b[0m             )\n\u001b[1;32m--> 860\u001b[1;33m         return self._input_request(str(prompt),\n\u001b[0m\u001b[0;32m    861\u001b[0m             \u001b[0mself\u001b[0m\u001b[1;33m.\u001b[0m\u001b[0m_parent_ident\u001b[0m\u001b[1;33m,\u001b[0m\u001b[1;33m\u001b[0m\u001b[1;33m\u001b[0m\u001b[0m\n\u001b[0;32m    862\u001b[0m             \u001b[0mself\u001b[0m\u001b[1;33m.\u001b[0m\u001b[0m_parent_header\u001b[0m\u001b[1;33m,\u001b[0m\u001b[1;33m\u001b[0m\u001b[1;33m\u001b[0m\u001b[0m\n",
      "\u001b[1;32m~\\anaconda3\\lib\\site-packages\\ipykernel\\kernelbase.py\u001b[0m in \u001b[0;36m_input_request\u001b[1;34m(self, prompt, ident, parent, password)\u001b[0m\n\u001b[0;32m    902\u001b[0m             \u001b[1;32mexcept\u001b[0m \u001b[0mKeyboardInterrupt\u001b[0m\u001b[1;33m:\u001b[0m\u001b[1;33m\u001b[0m\u001b[1;33m\u001b[0m\u001b[0m\n\u001b[0;32m    903\u001b[0m                 \u001b[1;31m# re-raise KeyboardInterrupt, to truncate traceback\u001b[0m\u001b[1;33m\u001b[0m\u001b[1;33m\u001b[0m\u001b[1;33m\u001b[0m\u001b[0m\n\u001b[1;32m--> 904\u001b[1;33m                 \u001b[1;32mraise\u001b[0m \u001b[0mKeyboardInterrupt\u001b[0m\u001b[1;33m(\u001b[0m\u001b[1;34m\"Interrupted by user\"\u001b[0m\u001b[1;33m)\u001b[0m \u001b[1;32mfrom\u001b[0m \u001b[1;32mNone\u001b[0m\u001b[1;33m\u001b[0m\u001b[1;33m\u001b[0m\u001b[0m\n\u001b[0m\u001b[0;32m    905\u001b[0m             \u001b[1;32mexcept\u001b[0m \u001b[0mException\u001b[0m \u001b[1;32mas\u001b[0m \u001b[0me\u001b[0m\u001b[1;33m:\u001b[0m\u001b[1;33m\u001b[0m\u001b[1;33m\u001b[0m\u001b[0m\n\u001b[0;32m    906\u001b[0m                 \u001b[0mself\u001b[0m\u001b[1;33m.\u001b[0m\u001b[0mlog\u001b[0m\u001b[1;33m.\u001b[0m\u001b[0mwarning\u001b[0m\u001b[1;33m(\u001b[0m\u001b[1;34m\"Invalid Message:\"\u001b[0m\u001b[1;33m,\u001b[0m \u001b[0mexc_info\u001b[0m\u001b[1;33m=\u001b[0m\u001b[1;32mTrue\u001b[0m\u001b[1;33m)\u001b[0m\u001b[1;33m\u001b[0m\u001b[1;33m\u001b[0m\u001b[0m\n",
      "\u001b[1;31mKeyboardInterrupt\u001b[0m: Interrupted by user"
     ]
    }
   ],
   "source": [
    "# if __name__ == \"__main__\":\n",
    "#     take_input_x()\n",
    "#     take_input_o()"
   ]
  },
  {
   "cell_type": "code",
   "execution_count": 27,
   "id": "518c0b8e",
   "metadata": {},
   "outputs": [
    {
     "data": {
      "text/plain": [
       "'__main__'"
      ]
     },
     "execution_count": 27,
     "metadata": {},
     "output_type": "execute_result"
    }
   ],
   "source": []
  },
  {
   "cell_type": "code",
   "execution_count": null,
   "id": "52349a98",
   "metadata": {},
   "outputs": [],
   "source": [
    "# def interfac():\n",
    "#     posx=take_input_x()\n",
    "#     take_input_o()\n",
    "#     output_func()"
   ]
  },
  {
   "cell_type": "code",
   "execution_count": 28,
   "id": "6676f09e",
   "metadata": {},
   "outputs": [
    {
     "name": "stdout",
     "output_type": "stream",
     "text": [
      "Enter Position for o :7\n",
      "  7  |     |     \n",
      "_____|_____|_____\n",
      "     |     |     \n",
      "_____|_____|_____\n",
      "     |     |     \n",
      "     |     |     \n"
     ]
    }
   ],
   "source": [
    "output_func(take_input_o())"
   ]
  },
  {
   "cell_type": "code",
   "execution_count": 32,
   "id": "09101450",
   "metadata": {},
   "outputs": [
    {
     "name": "stdout",
     "output_type": "stream",
     "text": [
      "     |     |  x  \n",
      "_____|_____|_____\n",
      "     |     |     \n",
      "_____|_____|_____\n",
      "     |     |     \n",
      "     |     |     \n"
     ]
    }
   ],
   "source": [
    "\n",
    "output_func(c='x')"
   ]
  },
  {
   "cell_type": "code",
   "execution_count": 33,
   "id": "a974d633",
   "metadata": {},
   "outputs": [
    {
     "name": "stdout",
     "output_type": "stream",
     "text": [
      "     |     |     \n",
      "_____|_____|_____\n",
      "  y  |     |     \n",
      "_____|_____|_____\n",
      "     |     |     \n",
      "     |     |     \n"
     ]
    }
   ],
   "source": [
    "\n",
    "output_func(d='y')"
   ]
  },
  {
   "cell_type": "code",
   "execution_count": null,
   "id": "c3271a14",
   "metadata": {},
   "outputs": [],
   "source": [
    "lst_x_y = [\" \",\" \",\" \",\" \",\" \",\" \",\" \",\" \",\" \",\" \"]"
   ]
  },
  {
   "cell_type": "code",
   "execution_count": 39,
   "id": "ee6205b0",
   "metadata": {},
   "outputs": [],
   "source": [
    "pos=4\n",
    "lst_x_y[pos]=\"x\""
   ]
  },
  {
   "cell_type": "code",
   "execution_count": 36,
   "id": "6aeb496f",
   "metadata": {},
   "outputs": [
    {
     "data": {
      "text/plain": [
       "2"
      ]
     },
     "execution_count": 36,
     "metadata": {},
     "output_type": "execute_result"
    }
   ],
   "source": [
    "lst_x_y[1]"
   ]
  },
  {
   "cell_type": "code",
   "execution_count": 44,
   "id": "6dbda3f0",
   "metadata": {},
   "outputs": [],
   "source": [
    "# def take_input_x():\n",
    "#     posx=int(input((\"Enter Position for x : \").strip()))\n",
    "#     return posx-1"
   ]
  },
  {
   "cell_type": "code",
   "execution_count": 45,
   "id": "65eec070",
   "metadata": {},
   "outputs": [],
   "source": [
    "# def take_input_y():\n",
    "#     posx=int(input((\"Enter Position for y : \").strip()))\n",
    "#     return posx-1"
   ]
  },
  {
   "cell_type": "code",
   "execution_count": null,
   "id": "372d5a69",
   "metadata": {},
   "outputs": [
    {
     "name": "stdout",
     "output_type": "stream",
     "text": [
      "Enter Position for x :3\n",
      "     |     |  x  \n",
      "_____|_____|_____\n",
      "     |     |     \n",
      "_____|_____|_____\n",
      "     |     |     \n",
      "     |     |     \n",
      "Enter Position for y :2\n",
      "     |  y  |  x  \n",
      "_____|_____|_____\n",
      "     |     |     \n",
      "_____|_____|_____\n",
      "     |     |     \n",
      "     |     |     \n"
     ]
    }
   ],
   "source": [
    "lst_x_y = [\" \",\" \",\" \",\" \",\" \",\" \",\" \",\" \",\" \",\" \"]\n",
    "while True:\n",
    "    lst_x_y[take_input_x()]='x'\n",
    "    output_func(lst_x_y)\n",
    "    lst_x_y[take_input_y()]='y'\n",
    "    output_func(lst_x_y)"
   ]
  },
  {
   "cell_type": "code",
   "execution_count": null,
   "id": "e2ad8aa0",
   "metadata": {},
   "outputs": [],
   "source": []
  },
  {
   "cell_type": "code",
   "execution_count": null,
   "id": "d08e55e2",
   "metadata": {},
   "outputs": [],
   "source": []
  },
  {
   "cell_type": "markdown",
   "id": "e31e08d8",
   "metadata": {},
   "source": [
    "## Day2 "
   ]
  },
  {
   "cell_type": "code",
   "execution_count": null,
   "id": "48b5b4b7",
   "metadata": {},
   "outputs": [],
   "source": [
    "lst_x_o = [\" \",\" \",\" \",\" \",\" \",\" \",\" \",\" \",\" \",\" \"]\n",
    "list_pos=[]\n",
    "#take input x function\n",
    "#overwrite check function\n",
    "    #if overwrite goto error function\n",
    "    #Error function ddisplays error \n",
    "    #Then goes to \"take input x function\"\n",
    "    ##if no overwrite attempt make changes in a list and each number a tuple\n",
    "#take input y function\n",
    "#overwrite check function\n",
    "    #if overwrite goto error function\n",
    "    #Error function ddisplays error \n",
    "    #Then goes to \"take input y function\"\n",
    "    ##if no overwrite attempt make changes in a list and each number a tuple"
   ]
  },
  {
   "cell_type": "code",
   "execution_count": 5,
   "id": "7c325a46",
   "metadata": {},
   "outputs": [],
   "source": [
    "# list_pos_t=[5,3,1]"
   ]
  },
  {
   "cell_type": "code",
   "execution_count": 10,
   "id": "496bd35b",
   "metadata": {},
   "outputs": [],
   "source": [
    "# def overwrite_check(player,pos):\n",
    "#     list_pos_t.append(pos)\n",
    "#     set_pos=set(list_pos_t)\n",
    "#     if set_pos==list_pos_t:\n",
    "#         return(\"No Error\",player)\n",
    "#     else:\n",
    "#         return(\"Error\",player)"
   ]
  },
  {
   "cell_type": "code",
   "execution_count": 11,
   "id": "13b88d2d",
   "metadata": {},
   "outputs": [
    {
     "data": {
      "text/plain": [
       "('Error', 'x')"
      ]
     },
     "execution_count": 11,
     "metadata": {},
     "output_type": "execute_result"
    }
   ],
   "source": [
    "overwrite_check(\"x\",5)"
   ]
  },
  {
   "cell_type": "code",
   "execution_count": 12,
   "id": "454890b3",
   "metadata": {},
   "outputs": [],
   "source": [
    "def input_x(error):\n",
    "    if error==\"Error\":\n",
    "        print(\"Error : Overwrite attempt detected\")\n",
    "        print(\"No Cheating!!\")\n",
    "        pos_x=int(input(\"Enter correct position for x : \"))\n",
    "        return (\"x\",pos_x)\n",
    "    else:\n",
    "        pos_x = int(input(\"Enter position of x : \"))\n",
    "        return(\"x\",pos_x)"
   ]
  },
  {
   "cell_type": "code",
   "execution_count": 13,
   "id": "d9eefca5",
   "metadata": {},
   "outputs": [
    {
     "name": "stdout",
     "output_type": "stream",
     "text": [
      "Enter position of x : 5\n"
     ]
    },
    {
     "data": {
      "text/plain": [
       "('x', 5)"
      ]
     },
     "execution_count": 13,
     "metadata": {},
     "output_type": "execute_result"
    }
   ],
   "source": [
    "input_x(\"No Error\")"
   ]
  },
  {
   "cell_type": "code",
   "execution_count": 14,
   "id": "038cb982",
   "metadata": {},
   "outputs": [],
   "source": [
    "def input_y(error):\n",
    "    if error==\"Error\":\n",
    "        print(\"Error : Overwrite attempt detected\")\n",
    "        print(\"No Cheating!!\")\n",
    "        pos_y=int(input(\"Enter correct position for y : \"))\n",
    "        return (\"y\",pos_y)\n",
    "    else:\n",
    "        pos_y = int(input(\"Enter position of y : \"))\n",
    "        return(\"y\",pos_y)"
   ]
  },
  {
   "cell_type": "code",
   "execution_count": 15,
   "id": "d31527cd",
   "metadata": {},
   "outputs": [
    {
     "name": "stdout",
     "output_type": "stream",
     "text": [
      "Error : Overwrite attempt detected\n",
      "No Cheating!!\n",
      "Enter correct position for y : 4\n"
     ]
    },
    {
     "data": {
      "text/plain": [
       "('y', 4)"
      ]
     },
     "execution_count": 15,
     "metadata": {},
     "output_type": "execute_result"
    }
   ],
   "source": [
    "input_y(\"Error\")"
   ]
  },
  {
   "cell_type": "code",
   "execution_count": 16,
   "id": "4e397d86",
   "metadata": {},
   "outputs": [],
   "source": [
    "def rules_func():\n",
    "    print(\"WELCOME TO TIC-TAC-TOE GAMES\")\n",
    "    print(\"The rules of the game are as follows : \")\n",
    "    print(\"   -When it's your turn enter postion where you want your character printed\")\n",
    "    print(\"   -Wait for your turn\")\n",
    "    print(\"   -NO TRYING TO OVERWRITE PREVIOULY USED POSITION\")\n",
    "    print(\"The grid along with the positions are as follows : \")\n",
    "    print(\"  {}  |  {}  |  {}  \" .format(1,2,3))\n",
    "    print(\"_____|_____|_____\")\n",
    "    print(\"  {}  |  {}  |  {}  \" .format(4,5,6))\n",
    "    print(\"_____|_____|_____\")\n",
    "    print(\"  {}  |  {}  |  {}  \" .format(7,8,9))\n",
    "    print(\"     |     |     \")"
   ]
  },
  {
   "cell_type": "code",
   "execution_count": 17,
   "id": "874815bd",
   "metadata": {
    "collapsed": true
   },
   "outputs": [
    {
     "name": "stdout",
     "output_type": "stream",
     "text": [
      "WELCOME TO TIC-TAC-TOE GAMES\n",
      "The rules of the game are as follows : \n",
      "   -When it's your turn enter postion where you want your character printed\n",
      "   -Wait for your turn\n",
      "   -NO TRYING TO OVERWRITE PREVIOULY USED POSITION\n",
      "The grid along with the positions are as follows : \n",
      "  1  |  2  |  3  \n",
      "_____|_____|_____\n",
      "  4  |  5  |  6  \n",
      "_____|_____|_____\n",
      "  7  |  8  |  9  \n",
      "     |     |     \n"
     ]
    }
   ],
   "source": [
    "rules_func()"
   ]
  },
  {
   "cell_type": "code",
   "execution_count": 25,
   "id": "46d65728",
   "metadata": {},
   "outputs": [],
   "source": [
    "list_x_y = [\" \",\" \",\" \",\" \",\" \",\" \",\" \",\" \",\" \",\" \"]"
   ]
  },
  {
   "cell_type": "code",
   "execution_count": 32,
   "id": "d9084113",
   "metadata": {},
   "outputs": [],
   "source": [
    "def output_display(player,position):\n",
    "        list_x_y[position-1]=(player)\n",
    "        print(\"  {}  |  {}  |  {}  \" .format(list_x_y[0],list_x_y[1],list_x_y[2]))\n",
    "        print(\"_____|_____|_____\")\n",
    "        print(\"  {}  |  {}  |  {}  \" .format(list_x_y[3],list_x_y[4],list_x_y[5]))\n",
    "        print(\"_____|_____|_____\")\n",
    "        print(\"  {}  |  {}  |  {}  \" .format(list_x_y[6],list_x_y[7],list_x_y[8]))\n",
    "        print(\"     |     |     \")\n",
    "        if player==\"x\":\n",
    "            return(\"y\")\n",
    "        else:\n",
    "            return(\"x\")"
   ]
  },
  {
   "cell_type": "code",
   "execution_count": 34,
   "id": "cb240029",
   "metadata": {
    "collapsed": true
   },
   "outputs": [
    {
     "name": "stdout",
     "output_type": "stream",
     "text": [
      "     |     |     \n",
      "_____|_____|_____\n",
      "  y  |  x  |     \n",
      "_____|_____|_____\n",
      "     |     |     \n",
      "     |     |     \n"
     ]
    },
    {
     "data": {
      "text/plain": [
       "'y'"
      ]
     },
     "execution_count": 34,
     "metadata": {},
     "output_type": "execute_result"
    }
   ],
   "source": [
    "output_display(\"x\",5)"
   ]
  },
  {
   "cell_type": "code",
   "execution_count": 36,
   "id": "7543358c",
   "metadata": {
    "collapsed": true
   },
   "outputs": [
    {
     "name": "stdout",
     "output_type": "stream",
     "text": [
      "     |     |     \n",
      "_____|_____|_____\n",
      "  y  |  x  |     \n",
      "_____|_____|_____\n",
      "     |     |     \n",
      "     |     |     \n"
     ]
    },
    {
     "data": {
      "text/plain": [
       "'y'"
      ]
     },
     "execution_count": 36,
     "metadata": {},
     "output_type": "execute_result"
    }
   ],
   "source": [
    "output_display(\"x\",5)"
   ]
  },
  {
   "cell_type": "code",
   "execution_count": 37,
   "id": "b70ace54",
   "metadata": {
    "collapsed": true
   },
   "outputs": [
    {
     "name": "stdout",
     "output_type": "stream",
     "text": [
      "     |     |     \n",
      "_____|_____|_____\n",
      "  y  |  x  |     \n",
      "_____|_____|_____\n",
      "     |     |     \n",
      "     |     |     \n"
     ]
    },
    {
     "data": {
      "text/plain": [
       "'x'"
      ]
     },
     "execution_count": 37,
     "metadata": {},
     "output_type": "execute_result"
    }
   ],
   "source": [
    "output_display(\"y\",4)"
   ]
  },
  {
   "cell_type": "code",
   "execution_count": 47,
   "id": "79289301",
   "metadata": {},
   "outputs": [],
   "source": [
    "# def base_func():\n",
    "#     rules_func()\n",
    "#     (a,b)=input_x(\"No Error\")\n",
    "#     overwrite_check(a,b)\n",
    "#     pass"
   ]
  },
  {
   "cell_type": "code",
   "execution_count": 48,
   "id": "94ced896",
   "metadata": {
    "collapsed": true
   },
   "outputs": [
    {
     "name": "stdout",
     "output_type": "stream",
     "text": [
      "WELCOME TO TIC-TAC-TOE GAMES\n",
      "The rules of the game are as follows : \n",
      "   -When it's your turn enter postion where you want your character printed\n",
      "   -Wait for your turn\n",
      "   -NO TRYING TO OVERWRITE PREVIOULY USED POSITION\n",
      "The grid along with the positions are as follows : \n",
      "  1  |  2  |  3  \n",
      "_____|_____|_____\n",
      "  4  |  5  |  6  \n",
      "_____|_____|_____\n",
      "  7  |  8  |  9  \n",
      "     |     |     \n",
      "Enter position of x : 5\n"
     ]
    }
   ],
   "source": [
    "# base_func()"
   ]
  },
  {
   "cell_type": "code",
   "execution_count": 76,
   "id": "49efc1b6",
   "metadata": {},
   "outputs": [],
   "source": [
    "# def base_func():\n",
    "#     rules_func()\n",
    "#     (a,b)=input_x(\"No Error\")\n",
    "#     (c,d)=(overwrite_check(a,b))\n",
    "#     while c==\"Error\":\n",
    "#         (a,b)=input_x(\"Error\")\n",
    "#         (c,d)=(overwrite_check(a,b))\n",
    "# #     if c==\"No Error\":\n",
    "# #         output_display(a,d)\n",
    "# #     else:\n",
    "# #         print(\"Error\")\n",
    "# #     pass"
   ]
  },
  {
   "cell_type": "code",
   "execution_count": 50,
   "id": "d656ca92",
   "metadata": {
    "collapsed": true
   },
   "outputs": [
    {
     "name": "stdout",
     "output_type": "stream",
     "text": [
      "WELCOME TO TIC-TAC-TOE GAMES\n",
      "The rules of the game are as follows : \n",
      "   -When it's your turn enter postion where you want your character printed\n",
      "   -Wait for your turn\n",
      "   -NO TRYING TO OVERWRITE PREVIOULY USED POSITION\n",
      "The grid along with the positions are as follows : \n",
      "  1  |  2  |  3  \n",
      "_____|_____|_____\n",
      "  4  |  5  |  6  \n",
      "_____|_____|_____\n",
      "  7  |  8  |  9  \n",
      "     |     |     \n",
      "Enter position of x : 5\n",
      "('Error', 'x')\n"
     ]
    }
   ],
   "source": [
    "# base_func()"
   ]
  },
  {
   "cell_type": "code",
   "execution_count": 55,
   "id": "bfa0d3ce",
   "metadata": {},
   "outputs": [],
   "source": [
    "# list_pos = []"
   ]
  },
  {
   "cell_type": "code",
   "execution_count": 61,
   "id": "fb11cf90",
   "metadata": {
    "collapsed": true
   },
   "outputs": [
    {
     "ename": "SyntaxError",
     "evalue": "invalid syntax (<ipython-input-61-02eb8c62086b>, line 3)",
     "output_type": "error",
     "traceback": [
      "\u001b[1;36m  File \u001b[1;32m\"<ipython-input-61-02eb8c62086b>\"\u001b[1;36m, line \u001b[1;32m3\u001b[0m\n\u001b[1;33m    global(set_pos=set(list_pos))\u001b[0m\n\u001b[1;37m          ^\u001b[0m\n\u001b[1;31mSyntaxError\u001b[0m\u001b[1;31m:\u001b[0m invalid syntax\n"
     ]
    }
   ],
   "source": [
    "# def overwrite_check(player,pos):\n",
    "#     list_pos.append(pos)\n",
    "#     set_pos=set(list_pos)\n",
    "#     if set_pos==list_pos:\n",
    "#         return(\"No Error\",player)\n",
    "#     else:\n",
    "#         return(\"Error\",player)"
   ]
  },
  {
   "cell_type": "code",
   "execution_count": 53,
   "id": "1b3c883e",
   "metadata": {
    "collapsed": true
   },
   "outputs": [
    {
     "name": "stdout",
     "output_type": "stream",
     "text": [
      "WELCOME TO TIC-TAC-TOE GAMES\n",
      "The rules of the game are as follows : \n",
      "   -When it's your turn enter postion where you want your character printed\n",
      "   -Wait for your turn\n",
      "   -NO TRYING TO OVERWRITE PREVIOULY USED POSITION\n",
      "The grid along with the positions are as follows : \n",
      "  1  |  2  |  3  \n",
      "_____|_____|_____\n",
      "  4  |  5  |  6  \n",
      "_____|_____|_____\n",
      "  7  |  8  |  9  \n",
      "     |     |     \n",
      "Enter position of x : 5\n",
      "('Error', 'x')\n"
     ]
    }
   ],
   "source": [
    "# base_func()"
   ]
  },
  {
   "cell_type": "code",
   "execution_count": 58,
   "id": "c14da66e",
   "metadata": {
    "collapsed": true
   },
   "outputs": [
    {
     "name": "stdout",
     "output_type": "stream",
     "text": [
      "WELCOME TO TIC-TAC-TOE GAMES\n",
      "The rules of the game are as follows : \n",
      "   -When it's your turn enter postion where you want your character printed\n",
      "   -Wait for your turn\n",
      "   -NO TRYING TO OVERWRITE PREVIOULY USED POSITION\n",
      "The grid along with the positions are as follows : \n",
      "  1  |  2  |  3  \n",
      "_____|_____|_____\n",
      "  4  |  5  |  6  \n",
      "_____|_____|_____\n",
      "  7  |  8  |  9  \n",
      "     |     |     \n",
      "Enter position of x : 6\n",
      "('Error', 'x')\n"
     ]
    }
   ],
   "source": [
    "# base_func()"
   ]
  },
  {
   "cell_type": "code",
   "execution_count": 59,
   "id": "fca96be0",
   "metadata": {},
   "outputs": [
    {
     "data": {
      "text/plain": [
       "[6]"
      ]
     },
     "execution_count": 59,
     "metadata": {},
     "output_type": "execute_result"
    }
   ],
   "source": [
    "# list_pos"
   ]
  },
  {
   "cell_type": "code",
   "execution_count": 60,
   "id": "55884e01",
   "metadata": {
    "collapsed": true
   },
   "outputs": [
    {
     "name": "stdout",
     "output_type": "stream",
     "text": [
      "WELCOME TO TIC-TAC-TOE GAMES\n",
      "The rules of the game are as follows : \n",
      "   -When it's your turn enter postion where you want your character printed\n",
      "   -Wait for your turn\n",
      "   -NO TRYING TO OVERWRITE PREVIOULY USED POSITION\n",
      "The grid along with the positions are as follows : \n",
      "  1  |  2  |  3  \n",
      "_____|_____|_____\n",
      "  4  |  5  |  6  \n",
      "_____|_____|_____\n",
      "  7  |  8  |  9  \n",
      "     |     |     \n",
      "Enter position of x : 7\n",
      "('Error', 'x')\n"
     ]
    }
   ],
   "source": [
    "# base_func()"
   ]
  },
  {
   "cell_type": "code",
   "execution_count": 62,
   "id": "7ca589a9",
   "metadata": {},
   "outputs": [],
   "source": [
    "# New and correct overwrite_check function\n",
    "def overwrite_check(player,pos):\n",
    "    list_pos.append(pos)\n",
    "    set_pos=set(list_pos)\n",
    "    list_set_pos=list(set_pos)\n",
    "    if list_set_pos==list_pos:\n",
    "        return(\"No Error\",player)\n",
    "    else:\n",
    "        return(\"Error\",player)"
   ]
  },
  {
   "cell_type": "code",
   "execution_count": 103,
   "id": "ac2f42de",
   "metadata": {},
   "outputs": [],
   "source": [
    "list_pos = []"
   ]
  },
  {
   "cell_type": "code",
   "execution_count": 64,
   "id": "022b5375",
   "metadata": {
    "collapsed": true
   },
   "outputs": [
    {
     "name": "stdout",
     "output_type": "stream",
     "text": [
      "WELCOME TO TIC-TAC-TOE GAMES\n",
      "The rules of the game are as follows : \n",
      "   -When it's your turn enter postion where you want your character printed\n",
      "   -Wait for your turn\n",
      "   -NO TRYING TO OVERWRITE PREVIOULY USED POSITION\n",
      "The grid along with the positions are as follows : \n",
      "  1  |  2  |  3  \n",
      "_____|_____|_____\n",
      "  4  |  5  |  6  \n",
      "_____|_____|_____\n",
      "  7  |  8  |  9  \n",
      "     |     |     \n",
      "Enter position of x : 5\n",
      "('No Error', 'x')\n"
     ]
    }
   ],
   "source": [
    "base_func()"
   ]
  },
  {
   "cell_type": "code",
   "execution_count": 65,
   "id": "dddc8621",
   "metadata": {
    "collapsed": true
   },
   "outputs": [
    {
     "name": "stdout",
     "output_type": "stream",
     "text": [
      "WELCOME TO TIC-TAC-TOE GAMES\n",
      "The rules of the game are as follows : \n",
      "   -When it's your turn enter postion where you want your character printed\n",
      "   -Wait for your turn\n",
      "   -NO TRYING TO OVERWRITE PREVIOULY USED POSITION\n",
      "The grid along with the positions are as follows : \n",
      "  1  |  2  |  3  \n",
      "_____|_____|_____\n",
      "  4  |  5  |  6  \n",
      "_____|_____|_____\n",
      "  7  |  8  |  9  \n",
      "     |     |     \n",
      "Enter position of x : 5\n",
      "('Error', 'x')\n"
     ]
    }
   ],
   "source": [
    "base_func()"
   ]
  },
  {
   "cell_type": "code",
   "execution_count": 69,
   "id": "a28db063",
   "metadata": {
    "collapsed": true
   },
   "outputs": [
    {
     "name": "stdout",
     "output_type": "stream",
     "text": [
      "WELCOME TO TIC-TAC-TOE GAMES\n",
      "The rules of the game are as follows : \n",
      "   -When it's your turn enter postion where you want your character printed\n",
      "   -Wait for your turn\n",
      "   -NO TRYING TO OVERWRITE PREVIOULY USED POSITION\n",
      "The grid along with the positions are as follows : \n",
      "  1  |  2  |  3  \n",
      "_____|_____|_____\n",
      "  4  |  5  |  6  \n",
      "_____|_____|_____\n",
      "  7  |  8  |  9  \n",
      "     |     |     \n",
      "Enter position of x : 5\n",
      "Error\n"
     ]
    }
   ],
   "source": [
    "base_func()"
   ]
  },
  {
   "cell_type": "code",
   "execution_count": 73,
   "id": "004f9b62",
   "metadata": {
    "collapsed": true
   },
   "outputs": [
    {
     "name": "stdout",
     "output_type": "stream",
     "text": [
      "WELCOME TO TIC-TAC-TOE GAMES\n",
      "The rules of the game are as follows : \n",
      "   -When it's your turn enter postion where you want your character printed\n",
      "   -Wait for your turn\n",
      "   -NO TRYING TO OVERWRITE PREVIOULY USED POSITION\n",
      "The grid along with the positions are as follows : \n",
      "  1  |  2  |  3  \n",
      "_____|_____|_____\n",
      "  4  |  5  |  6  \n",
      "_____|_____|_____\n",
      "  7  |  8  |  9  \n",
      "     |     |     \n",
      "Enter position of x : 5\n"
     ]
    },
    {
     "ename": "TypeError",
     "evalue": "unsupported operand type(s) for -: 'str' and 'int'",
     "output_type": "error",
     "traceback": [
      "\u001b[1;31m---------------------------------------------------------------------------\u001b[0m",
      "\u001b[1;31mTypeError\u001b[0m                                 Traceback (most recent call last)",
      "\u001b[1;32m<ipython-input-73-72d2709f4e40>\u001b[0m in \u001b[0;36m<module>\u001b[1;34m\u001b[0m\n\u001b[1;32m----> 1\u001b[1;33m \u001b[0mbase_func\u001b[0m\u001b[1;33m(\u001b[0m\u001b[1;33m)\u001b[0m\u001b[1;33m\u001b[0m\u001b[1;33m\u001b[0m\u001b[0m\n\u001b[0m",
      "\u001b[1;32m<ipython-input-72-aa8cd014fbd4>\u001b[0m in \u001b[0;36mbase_func\u001b[1;34m()\u001b[0m\n\u001b[0;32m      7\u001b[0m         \u001b[1;33m(\u001b[0m\u001b[0mc\u001b[0m\u001b[1;33m,\u001b[0m\u001b[0md\u001b[0m\u001b[1;33m)\u001b[0m\u001b[1;33m=\u001b[0m\u001b[1;33m(\u001b[0m\u001b[0moverwrite_check\u001b[0m\u001b[1;33m(\u001b[0m\u001b[0ma\u001b[0m\u001b[1;33m,\u001b[0m\u001b[0mb\u001b[0m\u001b[1;33m)\u001b[0m\u001b[1;33m)\u001b[0m\u001b[1;33m\u001b[0m\u001b[1;33m\u001b[0m\u001b[0m\n\u001b[0;32m      8\u001b[0m     \u001b[1;32mif\u001b[0m \u001b[0mc\u001b[0m\u001b[1;33m==\u001b[0m\u001b[1;34m\"No Error\"\u001b[0m\u001b[1;33m:\u001b[0m\u001b[1;33m\u001b[0m\u001b[1;33m\u001b[0m\u001b[0m\n\u001b[1;32m----> 9\u001b[1;33m         \u001b[0moutput_display\u001b[0m\u001b[1;33m(\u001b[0m\u001b[0ma\u001b[0m\u001b[1;33m,\u001b[0m\u001b[0md\u001b[0m\u001b[1;33m)\u001b[0m\u001b[1;33m\u001b[0m\u001b[1;33m\u001b[0m\u001b[0m\n\u001b[0m\u001b[0;32m     10\u001b[0m     \u001b[1;32melse\u001b[0m\u001b[1;33m:\u001b[0m\u001b[1;33m\u001b[0m\u001b[1;33m\u001b[0m\u001b[0m\n\u001b[0;32m     11\u001b[0m         \u001b[0mprint\u001b[0m\u001b[1;33m(\u001b[0m\u001b[1;34m\"Error\"\u001b[0m\u001b[1;33m)\u001b[0m\u001b[1;33m\u001b[0m\u001b[1;33m\u001b[0m\u001b[0m\n",
      "\u001b[1;32m<ipython-input-32-caf8ba3cf3fc>\u001b[0m in \u001b[0;36moutput_display\u001b[1;34m(player, position)\u001b[0m\n\u001b[0;32m      1\u001b[0m \u001b[1;32mdef\u001b[0m \u001b[0moutput_display\u001b[0m\u001b[1;33m(\u001b[0m\u001b[0mplayer\u001b[0m\u001b[1;33m,\u001b[0m\u001b[0mposition\u001b[0m\u001b[1;33m)\u001b[0m\u001b[1;33m:\u001b[0m\u001b[1;33m\u001b[0m\u001b[1;33m\u001b[0m\u001b[0m\n\u001b[1;32m----> 2\u001b[1;33m         \u001b[0mlist_x_y\u001b[0m\u001b[1;33m[\u001b[0m\u001b[0mposition\u001b[0m\u001b[1;33m-\u001b[0m\u001b[1;36m1\u001b[0m\u001b[1;33m]\u001b[0m\u001b[1;33m=\u001b[0m\u001b[1;33m(\u001b[0m\u001b[0mplayer\u001b[0m\u001b[1;33m)\u001b[0m\u001b[1;33m\u001b[0m\u001b[1;33m\u001b[0m\u001b[0m\n\u001b[0m\u001b[0;32m      3\u001b[0m         \u001b[0mprint\u001b[0m\u001b[1;33m(\u001b[0m\u001b[1;34m\"  {}  |  {}  |  {}  \"\u001b[0m \u001b[1;33m.\u001b[0m\u001b[0mformat\u001b[0m\u001b[1;33m(\u001b[0m\u001b[0mlist_x_y\u001b[0m\u001b[1;33m[\u001b[0m\u001b[1;36m0\u001b[0m\u001b[1;33m]\u001b[0m\u001b[1;33m,\u001b[0m\u001b[0mlist_x_y\u001b[0m\u001b[1;33m[\u001b[0m\u001b[1;36m1\u001b[0m\u001b[1;33m]\u001b[0m\u001b[1;33m,\u001b[0m\u001b[0mlist_x_y\u001b[0m\u001b[1;33m[\u001b[0m\u001b[1;36m2\u001b[0m\u001b[1;33m]\u001b[0m\u001b[1;33m)\u001b[0m\u001b[1;33m)\u001b[0m\u001b[1;33m\u001b[0m\u001b[1;33m\u001b[0m\u001b[0m\n\u001b[0;32m      4\u001b[0m         \u001b[0mprint\u001b[0m\u001b[1;33m(\u001b[0m\u001b[1;34m\"_____|_____|_____\"\u001b[0m\u001b[1;33m)\u001b[0m\u001b[1;33m\u001b[0m\u001b[1;33m\u001b[0m\u001b[0m\n\u001b[0;32m      5\u001b[0m         \u001b[0mprint\u001b[0m\u001b[1;33m(\u001b[0m\u001b[1;34m\"  {}  |  {}  |  {}  \"\u001b[0m \u001b[1;33m.\u001b[0m\u001b[0mformat\u001b[0m\u001b[1;33m(\u001b[0m\u001b[0mlist_x_y\u001b[0m\u001b[1;33m[\u001b[0m\u001b[1;36m3\u001b[0m\u001b[1;33m]\u001b[0m\u001b[1;33m,\u001b[0m\u001b[0mlist_x_y\u001b[0m\u001b[1;33m[\u001b[0m\u001b[1;36m4\u001b[0m\u001b[1;33m]\u001b[0m\u001b[1;33m,\u001b[0m\u001b[0mlist_x_y\u001b[0m\u001b[1;33m[\u001b[0m\u001b[1;36m5\u001b[0m\u001b[1;33m]\u001b[0m\u001b[1;33m)\u001b[0m\u001b[1;33m)\u001b[0m\u001b[1;33m\u001b[0m\u001b[1;33m\u001b[0m\u001b[0m\n",
      "\u001b[1;31mTypeError\u001b[0m: unsupported operand type(s) for -: 'str' and 'int'"
     ]
    }
   ],
   "source": [
    "base_func()"
   ]
  },
  {
   "cell_type": "code",
   "execution_count": 75,
   "id": "4f6a269e",
   "metadata": {
    "collapsed": true
   },
   "outputs": [
    {
     "name": "stdout",
     "output_type": "stream",
     "text": [
      "WELCOME TO TIC-TAC-TOE GAMES\n",
      "The rules of the game are as follows : \n",
      "   -When it's your turn enter postion where you want your character printed\n",
      "   -Wait for your turn\n",
      "   -NO TRYING TO OVERWRITE PREVIOULY USED POSITION\n",
      "The grid along with the positions are as follows : \n",
      "  1  |  2  |  3  \n",
      "_____|_____|_____\n",
      "  4  |  5  |  6  \n",
      "_____|_____|_____\n",
      "  7  |  8  |  9  \n",
      "     |     |     \n",
      "Enter position of x : 5\n"
     ]
    },
    {
     "ename": "KeyboardInterrupt",
     "evalue": "Interrupted by user",
     "output_type": "error",
     "traceback": [
      "\u001b[1;31m---------------------------------------------------------------------------\u001b[0m",
      "\u001b[1;31mKeyboardInterrupt\u001b[0m                         Traceback (most recent call last)",
      "\u001b[1;32m<ipython-input-75-72d2709f4e40>\u001b[0m in \u001b[0;36m<module>\u001b[1;34m\u001b[0m\n\u001b[1;32m----> 1\u001b[1;33m \u001b[0mbase_func\u001b[0m\u001b[1;33m(\u001b[0m\u001b[1;33m)\u001b[0m\u001b[1;33m\u001b[0m\u001b[1;33m\u001b[0m\u001b[0m\n\u001b[0m",
      "\u001b[1;32m<ipython-input-74-c6e9628e9ab0>\u001b[0m in \u001b[0;36mbase_func\u001b[1;34m()\u001b[0m\n\u001b[0;32m      4\u001b[0m     \u001b[1;33m(\u001b[0m\u001b[0mc\u001b[0m\u001b[1;33m,\u001b[0m\u001b[0md\u001b[0m\u001b[1;33m)\u001b[0m\u001b[1;33m=\u001b[0m\u001b[1;33m(\u001b[0m\u001b[0moverwrite_check\u001b[0m\u001b[1;33m(\u001b[0m\u001b[0ma\u001b[0m\u001b[1;33m,\u001b[0m\u001b[0mb\u001b[0m\u001b[1;33m)\u001b[0m\u001b[1;33m)\u001b[0m\u001b[1;33m\u001b[0m\u001b[1;33m\u001b[0m\u001b[0m\n\u001b[0;32m      5\u001b[0m     \u001b[1;32mwhile\u001b[0m \u001b[0mc\u001b[0m\u001b[1;33m==\u001b[0m\u001b[1;34m\"Error\"\u001b[0m\u001b[1;33m:\u001b[0m\u001b[1;33m\u001b[0m\u001b[1;33m\u001b[0m\u001b[0m\n\u001b[1;32m----> 6\u001b[1;33m         \u001b[1;33m(\u001b[0m\u001b[0ma\u001b[0m\u001b[1;33m,\u001b[0m\u001b[0mb\u001b[0m\u001b[1;33m)\u001b[0m\u001b[1;33m=\u001b[0m\u001b[0minput_x\u001b[0m\u001b[1;33m(\u001b[0m\u001b[1;34m\"No Error\"\u001b[0m\u001b[1;33m)\u001b[0m\u001b[1;33m\u001b[0m\u001b[1;33m\u001b[0m\u001b[0m\n\u001b[0m\u001b[0;32m      7\u001b[0m         \u001b[1;33m(\u001b[0m\u001b[0mc\u001b[0m\u001b[1;33m,\u001b[0m\u001b[0md\u001b[0m\u001b[1;33m)\u001b[0m\u001b[1;33m=\u001b[0m\u001b[1;33m(\u001b[0m\u001b[0moverwrite_check\u001b[0m\u001b[1;33m(\u001b[0m\u001b[0ma\u001b[0m\u001b[1;33m,\u001b[0m\u001b[0mb\u001b[0m\u001b[1;33m)\u001b[0m\u001b[1;33m)\u001b[0m\u001b[1;33m\u001b[0m\u001b[1;33m\u001b[0m\u001b[0m\n\u001b[0;32m      8\u001b[0m \u001b[1;31m#     if c==\"No Error\":\u001b[0m\u001b[1;33m\u001b[0m\u001b[1;33m\u001b[0m\u001b[1;33m\u001b[0m\u001b[0m\n",
      "\u001b[1;32m<ipython-input-12-0ea08abc8fea>\u001b[0m in \u001b[0;36minput_x\u001b[1;34m(error)\u001b[0m\n\u001b[0;32m      6\u001b[0m         \u001b[1;32mreturn\u001b[0m \u001b[1;33m(\u001b[0m\u001b[1;34m\"x\"\u001b[0m\u001b[1;33m,\u001b[0m\u001b[0mpos_x\u001b[0m\u001b[1;33m)\u001b[0m\u001b[1;33m\u001b[0m\u001b[1;33m\u001b[0m\u001b[0m\n\u001b[0;32m      7\u001b[0m     \u001b[1;32melse\u001b[0m\u001b[1;33m:\u001b[0m\u001b[1;33m\u001b[0m\u001b[1;33m\u001b[0m\u001b[0m\n\u001b[1;32m----> 8\u001b[1;33m         \u001b[0mpos_x\u001b[0m \u001b[1;33m=\u001b[0m \u001b[0mint\u001b[0m\u001b[1;33m(\u001b[0m\u001b[0minput\u001b[0m\u001b[1;33m(\u001b[0m\u001b[1;34m\"Enter position of x : \"\u001b[0m\u001b[1;33m)\u001b[0m\u001b[1;33m)\u001b[0m\u001b[1;33m\u001b[0m\u001b[1;33m\u001b[0m\u001b[0m\n\u001b[0m\u001b[0;32m      9\u001b[0m         \u001b[1;32mreturn\u001b[0m\u001b[1;33m(\u001b[0m\u001b[1;34m\"x\"\u001b[0m\u001b[1;33m,\u001b[0m\u001b[0mpos_x\u001b[0m\u001b[1;33m)\u001b[0m\u001b[1;33m\u001b[0m\u001b[1;33m\u001b[0m\u001b[0m\n",
      "\u001b[1;32m~\\anaconda3\\lib\\site-packages\\ipykernel\\kernelbase.py\u001b[0m in \u001b[0;36mraw_input\u001b[1;34m(self, prompt)\u001b[0m\n\u001b[0;32m    858\u001b[0m                 \u001b[1;34m\"raw_input was called, but this frontend does not support input requests.\"\u001b[0m\u001b[1;33m\u001b[0m\u001b[1;33m\u001b[0m\u001b[0m\n\u001b[0;32m    859\u001b[0m             )\n\u001b[1;32m--> 860\u001b[1;33m         return self._input_request(str(prompt),\n\u001b[0m\u001b[0;32m    861\u001b[0m             \u001b[0mself\u001b[0m\u001b[1;33m.\u001b[0m\u001b[0m_parent_ident\u001b[0m\u001b[1;33m,\u001b[0m\u001b[1;33m\u001b[0m\u001b[1;33m\u001b[0m\u001b[0m\n\u001b[0;32m    862\u001b[0m             \u001b[0mself\u001b[0m\u001b[1;33m.\u001b[0m\u001b[0m_parent_header\u001b[0m\u001b[1;33m,\u001b[0m\u001b[1;33m\u001b[0m\u001b[1;33m\u001b[0m\u001b[0m\n",
      "\u001b[1;32m~\\anaconda3\\lib\\site-packages\\ipykernel\\kernelbase.py\u001b[0m in \u001b[0;36m_input_request\u001b[1;34m(self, prompt, ident, parent, password)\u001b[0m\n\u001b[0;32m    902\u001b[0m             \u001b[1;32mexcept\u001b[0m \u001b[0mKeyboardInterrupt\u001b[0m\u001b[1;33m:\u001b[0m\u001b[1;33m\u001b[0m\u001b[1;33m\u001b[0m\u001b[0m\n\u001b[0;32m    903\u001b[0m                 \u001b[1;31m# re-raise KeyboardInterrupt, to truncate traceback\u001b[0m\u001b[1;33m\u001b[0m\u001b[1;33m\u001b[0m\u001b[1;33m\u001b[0m\u001b[0m\n\u001b[1;32m--> 904\u001b[1;33m                 \u001b[1;32mraise\u001b[0m \u001b[0mKeyboardInterrupt\u001b[0m\u001b[1;33m(\u001b[0m\u001b[1;34m\"Interrupted by user\"\u001b[0m\u001b[1;33m)\u001b[0m \u001b[1;32mfrom\u001b[0m \u001b[1;32mNone\u001b[0m\u001b[1;33m\u001b[0m\u001b[1;33m\u001b[0m\u001b[0m\n\u001b[0m\u001b[0;32m    905\u001b[0m             \u001b[1;32mexcept\u001b[0m \u001b[0mException\u001b[0m \u001b[1;32mas\u001b[0m \u001b[0me\u001b[0m\u001b[1;33m:\u001b[0m\u001b[1;33m\u001b[0m\u001b[1;33m\u001b[0m\u001b[0m\n\u001b[0;32m    906\u001b[0m                 \u001b[0mself\u001b[0m\u001b[1;33m.\u001b[0m\u001b[0mlog\u001b[0m\u001b[1;33m.\u001b[0m\u001b[0mwarning\u001b[0m\u001b[1;33m(\u001b[0m\u001b[1;34m\"Invalid Message:\"\u001b[0m\u001b[1;33m,\u001b[0m \u001b[0mexc_info\u001b[0m\u001b[1;33m=\u001b[0m\u001b[1;32mTrue\u001b[0m\u001b[1;33m)\u001b[0m\u001b[1;33m\u001b[0m\u001b[1;33m\u001b[0m\u001b[0m\n",
      "\u001b[1;31mKeyboardInterrupt\u001b[0m: Interrupted by user"
     ]
    }
   ],
   "source": [
    "base_func()"
   ]
  },
  {
   "cell_type": "code",
   "execution_count": 77,
   "id": "de29a498",
   "metadata": {
    "collapsed": true
   },
   "outputs": [
    {
     "name": "stdout",
     "output_type": "stream",
     "text": [
      "WELCOME TO TIC-TAC-TOE GAMES\n",
      "The rules of the game are as follows : \n",
      "   -When it's your turn enter postion where you want your character printed\n",
      "   -Wait for your turn\n",
      "   -NO TRYING TO OVERWRITE PREVIOULY USED POSITION\n",
      "The grid along with the positions are as follows : \n",
      "  1  |  2  |  3  \n",
      "_____|_____|_____\n",
      "  4  |  5  |  6  \n",
      "_____|_____|_____\n",
      "  7  |  8  |  9  \n",
      "     |     |     \n",
      "Enter position of x : 5\n",
      "Error : Overwrite attempt detected\n",
      "No Cheating!!\n",
      "Enter correct position for x : 4\n",
      "Error : Overwrite attempt detected\n",
      "No Cheating!!\n",
      "Enter correct position for x : 9\n",
      "Error : Overwrite attempt detected\n",
      "No Cheating!!\n"
     ]
    },
    {
     "ename": "KeyboardInterrupt",
     "evalue": "Interrupted by user",
     "output_type": "error",
     "traceback": [
      "\u001b[1;31m---------------------------------------------------------------------------\u001b[0m",
      "\u001b[1;31mKeyboardInterrupt\u001b[0m                         Traceback (most recent call last)",
      "\u001b[1;32m<ipython-input-77-72d2709f4e40>\u001b[0m in \u001b[0;36m<module>\u001b[1;34m\u001b[0m\n\u001b[1;32m----> 1\u001b[1;33m \u001b[0mbase_func\u001b[0m\u001b[1;33m(\u001b[0m\u001b[1;33m)\u001b[0m\u001b[1;33m\u001b[0m\u001b[1;33m\u001b[0m\u001b[0m\n\u001b[0m",
      "\u001b[1;32m<ipython-input-76-2bfba0a3cb34>\u001b[0m in \u001b[0;36mbase_func\u001b[1;34m()\u001b[0m\n\u001b[0;32m      4\u001b[0m     \u001b[1;33m(\u001b[0m\u001b[0mc\u001b[0m\u001b[1;33m,\u001b[0m\u001b[0md\u001b[0m\u001b[1;33m)\u001b[0m\u001b[1;33m=\u001b[0m\u001b[1;33m(\u001b[0m\u001b[0moverwrite_check\u001b[0m\u001b[1;33m(\u001b[0m\u001b[0ma\u001b[0m\u001b[1;33m,\u001b[0m\u001b[0mb\u001b[0m\u001b[1;33m)\u001b[0m\u001b[1;33m)\u001b[0m\u001b[1;33m\u001b[0m\u001b[1;33m\u001b[0m\u001b[0m\n\u001b[0;32m      5\u001b[0m     \u001b[1;32mwhile\u001b[0m \u001b[0mc\u001b[0m\u001b[1;33m==\u001b[0m\u001b[1;34m\"Error\"\u001b[0m\u001b[1;33m:\u001b[0m\u001b[1;33m\u001b[0m\u001b[1;33m\u001b[0m\u001b[0m\n\u001b[1;32m----> 6\u001b[1;33m         \u001b[1;33m(\u001b[0m\u001b[0ma\u001b[0m\u001b[1;33m,\u001b[0m\u001b[0mb\u001b[0m\u001b[1;33m)\u001b[0m\u001b[1;33m=\u001b[0m\u001b[0minput_x\u001b[0m\u001b[1;33m(\u001b[0m\u001b[1;34m\"Error\"\u001b[0m\u001b[1;33m)\u001b[0m\u001b[1;33m\u001b[0m\u001b[1;33m\u001b[0m\u001b[0m\n\u001b[0m\u001b[0;32m      7\u001b[0m         \u001b[1;33m(\u001b[0m\u001b[0mc\u001b[0m\u001b[1;33m,\u001b[0m\u001b[0md\u001b[0m\u001b[1;33m)\u001b[0m\u001b[1;33m=\u001b[0m\u001b[1;33m(\u001b[0m\u001b[0moverwrite_check\u001b[0m\u001b[1;33m(\u001b[0m\u001b[0ma\u001b[0m\u001b[1;33m,\u001b[0m\u001b[0mb\u001b[0m\u001b[1;33m)\u001b[0m\u001b[1;33m)\u001b[0m\u001b[1;33m\u001b[0m\u001b[1;33m\u001b[0m\u001b[0m\n\u001b[0;32m      8\u001b[0m \u001b[1;31m#     if c==\"No Error\":\u001b[0m\u001b[1;33m\u001b[0m\u001b[1;33m\u001b[0m\u001b[1;33m\u001b[0m\u001b[0m\n",
      "\u001b[1;32m<ipython-input-12-0ea08abc8fea>\u001b[0m in \u001b[0;36minput_x\u001b[1;34m(error)\u001b[0m\n\u001b[0;32m      3\u001b[0m         \u001b[0mprint\u001b[0m\u001b[1;33m(\u001b[0m\u001b[1;34m\"Error : Overwrite attempt detected\"\u001b[0m\u001b[1;33m)\u001b[0m\u001b[1;33m\u001b[0m\u001b[1;33m\u001b[0m\u001b[0m\n\u001b[0;32m      4\u001b[0m         \u001b[0mprint\u001b[0m\u001b[1;33m(\u001b[0m\u001b[1;34m\"No Cheating!!\"\u001b[0m\u001b[1;33m)\u001b[0m\u001b[1;33m\u001b[0m\u001b[1;33m\u001b[0m\u001b[0m\n\u001b[1;32m----> 5\u001b[1;33m         \u001b[0mpos_x\u001b[0m\u001b[1;33m=\u001b[0m\u001b[0mint\u001b[0m\u001b[1;33m(\u001b[0m\u001b[0minput\u001b[0m\u001b[1;33m(\u001b[0m\u001b[1;34m\"Enter correct position for x : \"\u001b[0m\u001b[1;33m)\u001b[0m\u001b[1;33m)\u001b[0m\u001b[1;33m\u001b[0m\u001b[1;33m\u001b[0m\u001b[0m\n\u001b[0m\u001b[0;32m      6\u001b[0m         \u001b[1;32mreturn\u001b[0m \u001b[1;33m(\u001b[0m\u001b[1;34m\"x\"\u001b[0m\u001b[1;33m,\u001b[0m\u001b[0mpos_x\u001b[0m\u001b[1;33m)\u001b[0m\u001b[1;33m\u001b[0m\u001b[1;33m\u001b[0m\u001b[0m\n\u001b[0;32m      7\u001b[0m     \u001b[1;32melse\u001b[0m\u001b[1;33m:\u001b[0m\u001b[1;33m\u001b[0m\u001b[1;33m\u001b[0m\u001b[0m\n",
      "\u001b[1;32m~\\anaconda3\\lib\\site-packages\\ipykernel\\kernelbase.py\u001b[0m in \u001b[0;36mraw_input\u001b[1;34m(self, prompt)\u001b[0m\n\u001b[0;32m    858\u001b[0m                 \u001b[1;34m\"raw_input was called, but this frontend does not support input requests.\"\u001b[0m\u001b[1;33m\u001b[0m\u001b[1;33m\u001b[0m\u001b[0m\n\u001b[0;32m    859\u001b[0m             )\n\u001b[1;32m--> 860\u001b[1;33m         return self._input_request(str(prompt),\n\u001b[0m\u001b[0;32m    861\u001b[0m             \u001b[0mself\u001b[0m\u001b[1;33m.\u001b[0m\u001b[0m_parent_ident\u001b[0m\u001b[1;33m,\u001b[0m\u001b[1;33m\u001b[0m\u001b[1;33m\u001b[0m\u001b[0m\n\u001b[0;32m    862\u001b[0m             \u001b[0mself\u001b[0m\u001b[1;33m.\u001b[0m\u001b[0m_parent_header\u001b[0m\u001b[1;33m,\u001b[0m\u001b[1;33m\u001b[0m\u001b[1;33m\u001b[0m\u001b[0m\n",
      "\u001b[1;32m~\\anaconda3\\lib\\site-packages\\ipykernel\\kernelbase.py\u001b[0m in \u001b[0;36m_input_request\u001b[1;34m(self, prompt, ident, parent, password)\u001b[0m\n\u001b[0;32m    902\u001b[0m             \u001b[1;32mexcept\u001b[0m \u001b[0mKeyboardInterrupt\u001b[0m\u001b[1;33m:\u001b[0m\u001b[1;33m\u001b[0m\u001b[1;33m\u001b[0m\u001b[0m\n\u001b[0;32m    903\u001b[0m                 \u001b[1;31m# re-raise KeyboardInterrupt, to truncate traceback\u001b[0m\u001b[1;33m\u001b[0m\u001b[1;33m\u001b[0m\u001b[1;33m\u001b[0m\u001b[0m\n\u001b[1;32m--> 904\u001b[1;33m                 \u001b[1;32mraise\u001b[0m \u001b[0mKeyboardInterrupt\u001b[0m\u001b[1;33m(\u001b[0m\u001b[1;34m\"Interrupted by user\"\u001b[0m\u001b[1;33m)\u001b[0m \u001b[1;32mfrom\u001b[0m \u001b[1;32mNone\u001b[0m\u001b[1;33m\u001b[0m\u001b[1;33m\u001b[0m\u001b[0m\n\u001b[0m\u001b[0;32m    905\u001b[0m             \u001b[1;32mexcept\u001b[0m \u001b[0mException\u001b[0m \u001b[1;32mas\u001b[0m \u001b[0me\u001b[0m\u001b[1;33m:\u001b[0m\u001b[1;33m\u001b[0m\u001b[1;33m\u001b[0m\u001b[0m\n\u001b[0;32m    906\u001b[0m                 \u001b[0mself\u001b[0m\u001b[1;33m.\u001b[0m\u001b[0mlog\u001b[0m\u001b[1;33m.\u001b[0m\u001b[0mwarning\u001b[0m\u001b[1;33m(\u001b[0m\u001b[1;34m\"Invalid Message:\"\u001b[0m\u001b[1;33m,\u001b[0m \u001b[0mexc_info\u001b[0m\u001b[1;33m=\u001b[0m\u001b[1;32mTrue\u001b[0m\u001b[1;33m)\u001b[0m\u001b[1;33m\u001b[0m\u001b[1;33m\u001b[0m\u001b[0m\n",
      "\u001b[1;31mKeyboardInterrupt\u001b[0m: Interrupted by user"
     ]
    }
   ],
   "source": [
    "base_func()"
   ]
  },
  {
   "cell_type": "code",
   "execution_count": 104,
   "id": "171699db",
   "metadata": {},
   "outputs": [],
   "source": [
    "# def base_func():\n",
    "#     rules_func()\n",
    "#     (a,b)=input_x(\"No Error\")\n",
    "#     (c,d)=(overwrite_check(a,b))\n",
    "#     while(True):\n",
    "#         if c==\"Error\":\n",
    "#             (a,b)=input_x(c)\n",
    "#             (c,d)=(overwrite_check(a,b))\n",
    "#             print(c,d)\n",
    "#         else:\n",
    "#             break\n",
    "# #         output_display(a,d)\n",
    "# #     else:\n",
    "# #         print(\"Error\")\n",
    "# #     pass"
   ]
  },
  {
   "cell_type": "code",
   "execution_count": 80,
   "id": "cf8a33f0",
   "metadata": {
    "collapsed": true
   },
   "outputs": [
    {
     "name": "stdout",
     "output_type": "stream",
     "text": [
      "WELCOME TO TIC-TAC-TOE GAMES\n",
      "The rules of the game are as follows : \n",
      "   -When it's your turn enter postion where you want your character printed\n",
      "   -Wait for your turn\n",
      "   -NO TRYING TO OVERWRITE PREVIOULY USED POSITION\n",
      "The grid along with the positions are as follows : \n",
      "  1  |  2  |  3  \n",
      "_____|_____|_____\n",
      "  4  |  5  |  6  \n",
      "_____|_____|_____\n",
      "  7  |  8  |  9  \n",
      "     |     |     \n",
      "Enter position of x : 5\n"
     ]
    }
   ],
   "source": [
    "base_func()"
   ]
  },
  {
   "cell_type": "code",
   "execution_count": 81,
   "id": "aa6edfe2",
   "metadata": {
    "collapsed": true
   },
   "outputs": [
    {
     "name": "stdout",
     "output_type": "stream",
     "text": [
      "WELCOME TO TIC-TAC-TOE GAMES\n",
      "The rules of the game are as follows : \n",
      "   -When it's your turn enter postion where you want your character printed\n",
      "   -Wait for your turn\n",
      "   -NO TRYING TO OVERWRITE PREVIOULY USED POSITION\n",
      "The grid along with the positions are as follows : \n",
      "  1  |  2  |  3  \n",
      "_____|_____|_____\n",
      "  4  |  5  |  6  \n",
      "_____|_____|_____\n",
      "  7  |  8  |  9  \n",
      "     |     |     \n",
      "Enter position of x : 5\n",
      "Error : Overwrite attempt detected\n",
      "No Cheating!!\n",
      "Enter correct position for x : 4\n",
      "Error : Overwrite attempt detected\n",
      "No Cheating!!\n"
     ]
    },
    {
     "ename": "KeyboardInterrupt",
     "evalue": "Interrupted by user",
     "output_type": "error",
     "traceback": [
      "\u001b[1;31m---------------------------------------------------------------------------\u001b[0m",
      "\u001b[1;31mKeyboardInterrupt\u001b[0m                         Traceback (most recent call last)",
      "\u001b[1;32m<ipython-input-81-72d2709f4e40>\u001b[0m in \u001b[0;36m<module>\u001b[1;34m\u001b[0m\n\u001b[1;32m----> 1\u001b[1;33m \u001b[0mbase_func\u001b[0m\u001b[1;33m(\u001b[0m\u001b[1;33m)\u001b[0m\u001b[1;33m\u001b[0m\u001b[1;33m\u001b[0m\u001b[0m\n\u001b[0m",
      "\u001b[1;32m<ipython-input-79-2bfba0a3cb34>\u001b[0m in \u001b[0;36mbase_func\u001b[1;34m()\u001b[0m\n\u001b[0;32m      4\u001b[0m     \u001b[1;33m(\u001b[0m\u001b[0mc\u001b[0m\u001b[1;33m,\u001b[0m\u001b[0md\u001b[0m\u001b[1;33m)\u001b[0m\u001b[1;33m=\u001b[0m\u001b[1;33m(\u001b[0m\u001b[0moverwrite_check\u001b[0m\u001b[1;33m(\u001b[0m\u001b[0ma\u001b[0m\u001b[1;33m,\u001b[0m\u001b[0mb\u001b[0m\u001b[1;33m)\u001b[0m\u001b[1;33m)\u001b[0m\u001b[1;33m\u001b[0m\u001b[1;33m\u001b[0m\u001b[0m\n\u001b[0;32m      5\u001b[0m     \u001b[1;32mwhile\u001b[0m \u001b[0mc\u001b[0m\u001b[1;33m==\u001b[0m\u001b[1;34m\"Error\"\u001b[0m\u001b[1;33m:\u001b[0m\u001b[1;33m\u001b[0m\u001b[1;33m\u001b[0m\u001b[0m\n\u001b[1;32m----> 6\u001b[1;33m         \u001b[1;33m(\u001b[0m\u001b[0ma\u001b[0m\u001b[1;33m,\u001b[0m\u001b[0mb\u001b[0m\u001b[1;33m)\u001b[0m\u001b[1;33m=\u001b[0m\u001b[0minput_x\u001b[0m\u001b[1;33m(\u001b[0m\u001b[1;34m\"Error\"\u001b[0m\u001b[1;33m)\u001b[0m\u001b[1;33m\u001b[0m\u001b[1;33m\u001b[0m\u001b[0m\n\u001b[0m\u001b[0;32m      7\u001b[0m         \u001b[1;33m(\u001b[0m\u001b[0mc\u001b[0m\u001b[1;33m,\u001b[0m\u001b[0md\u001b[0m\u001b[1;33m)\u001b[0m\u001b[1;33m=\u001b[0m\u001b[1;33m(\u001b[0m\u001b[0moverwrite_check\u001b[0m\u001b[1;33m(\u001b[0m\u001b[0ma\u001b[0m\u001b[1;33m,\u001b[0m\u001b[0mb\u001b[0m\u001b[1;33m)\u001b[0m\u001b[1;33m)\u001b[0m\u001b[1;33m\u001b[0m\u001b[1;33m\u001b[0m\u001b[0m\n\u001b[0;32m      8\u001b[0m \u001b[1;31m#     if c==\"No Error\":\u001b[0m\u001b[1;33m\u001b[0m\u001b[1;33m\u001b[0m\u001b[1;33m\u001b[0m\u001b[0m\n",
      "\u001b[1;32m<ipython-input-12-0ea08abc8fea>\u001b[0m in \u001b[0;36minput_x\u001b[1;34m(error)\u001b[0m\n\u001b[0;32m      3\u001b[0m         \u001b[0mprint\u001b[0m\u001b[1;33m(\u001b[0m\u001b[1;34m\"Error : Overwrite attempt detected\"\u001b[0m\u001b[1;33m)\u001b[0m\u001b[1;33m\u001b[0m\u001b[1;33m\u001b[0m\u001b[0m\n\u001b[0;32m      4\u001b[0m         \u001b[0mprint\u001b[0m\u001b[1;33m(\u001b[0m\u001b[1;34m\"No Cheating!!\"\u001b[0m\u001b[1;33m)\u001b[0m\u001b[1;33m\u001b[0m\u001b[1;33m\u001b[0m\u001b[0m\n\u001b[1;32m----> 5\u001b[1;33m         \u001b[0mpos_x\u001b[0m\u001b[1;33m=\u001b[0m\u001b[0mint\u001b[0m\u001b[1;33m(\u001b[0m\u001b[0minput\u001b[0m\u001b[1;33m(\u001b[0m\u001b[1;34m\"Enter correct position for x : \"\u001b[0m\u001b[1;33m)\u001b[0m\u001b[1;33m)\u001b[0m\u001b[1;33m\u001b[0m\u001b[1;33m\u001b[0m\u001b[0m\n\u001b[0m\u001b[0;32m      6\u001b[0m         \u001b[1;32mreturn\u001b[0m \u001b[1;33m(\u001b[0m\u001b[1;34m\"x\"\u001b[0m\u001b[1;33m,\u001b[0m\u001b[0mpos_x\u001b[0m\u001b[1;33m)\u001b[0m\u001b[1;33m\u001b[0m\u001b[1;33m\u001b[0m\u001b[0m\n\u001b[0;32m      7\u001b[0m     \u001b[1;32melse\u001b[0m\u001b[1;33m:\u001b[0m\u001b[1;33m\u001b[0m\u001b[1;33m\u001b[0m\u001b[0m\n",
      "\u001b[1;32m~\\anaconda3\\lib\\site-packages\\ipykernel\\kernelbase.py\u001b[0m in \u001b[0;36mraw_input\u001b[1;34m(self, prompt)\u001b[0m\n\u001b[0;32m    858\u001b[0m                 \u001b[1;34m\"raw_input was called, but this frontend does not support input requests.\"\u001b[0m\u001b[1;33m\u001b[0m\u001b[1;33m\u001b[0m\u001b[0m\n\u001b[0;32m    859\u001b[0m             )\n\u001b[1;32m--> 860\u001b[1;33m         return self._input_request(str(prompt),\n\u001b[0m\u001b[0;32m    861\u001b[0m             \u001b[0mself\u001b[0m\u001b[1;33m.\u001b[0m\u001b[0m_parent_ident\u001b[0m\u001b[1;33m,\u001b[0m\u001b[1;33m\u001b[0m\u001b[1;33m\u001b[0m\u001b[0m\n\u001b[0;32m    862\u001b[0m             \u001b[0mself\u001b[0m\u001b[1;33m.\u001b[0m\u001b[0m_parent_header\u001b[0m\u001b[1;33m,\u001b[0m\u001b[1;33m\u001b[0m\u001b[1;33m\u001b[0m\u001b[0m\n",
      "\u001b[1;32m~\\anaconda3\\lib\\site-packages\\ipykernel\\kernelbase.py\u001b[0m in \u001b[0;36m_input_request\u001b[1;34m(self, prompt, ident, parent, password)\u001b[0m\n\u001b[0;32m    902\u001b[0m             \u001b[1;32mexcept\u001b[0m \u001b[0mKeyboardInterrupt\u001b[0m\u001b[1;33m:\u001b[0m\u001b[1;33m\u001b[0m\u001b[1;33m\u001b[0m\u001b[0m\n\u001b[0;32m    903\u001b[0m                 \u001b[1;31m# re-raise KeyboardInterrupt, to truncate traceback\u001b[0m\u001b[1;33m\u001b[0m\u001b[1;33m\u001b[0m\u001b[1;33m\u001b[0m\u001b[0m\n\u001b[1;32m--> 904\u001b[1;33m                 \u001b[1;32mraise\u001b[0m \u001b[0mKeyboardInterrupt\u001b[0m\u001b[1;33m(\u001b[0m\u001b[1;34m\"Interrupted by user\"\u001b[0m\u001b[1;33m)\u001b[0m \u001b[1;32mfrom\u001b[0m \u001b[1;32mNone\u001b[0m\u001b[1;33m\u001b[0m\u001b[1;33m\u001b[0m\u001b[0m\n\u001b[0m\u001b[0;32m    905\u001b[0m             \u001b[1;32mexcept\u001b[0m \u001b[0mException\u001b[0m \u001b[1;32mas\u001b[0m \u001b[0me\u001b[0m\u001b[1;33m:\u001b[0m\u001b[1;33m\u001b[0m\u001b[1;33m\u001b[0m\u001b[0m\n\u001b[0;32m    906\u001b[0m                 \u001b[0mself\u001b[0m\u001b[1;33m.\u001b[0m\u001b[0mlog\u001b[0m\u001b[1;33m.\u001b[0m\u001b[0mwarning\u001b[0m\u001b[1;33m(\u001b[0m\u001b[1;34m\"Invalid Message:\"\u001b[0m\u001b[1;33m,\u001b[0m \u001b[0mexc_info\u001b[0m\u001b[1;33m=\u001b[0m\u001b[1;32mTrue\u001b[0m\u001b[1;33m)\u001b[0m\u001b[1;33m\u001b[0m\u001b[1;33m\u001b[0m\u001b[0m\n",
      "\u001b[1;31mKeyboardInterrupt\u001b[0m: Interrupted by user"
     ]
    }
   ],
   "source": [
    "base_func()"
   ]
  },
  {
   "cell_type": "code",
   "execution_count": 84,
   "id": "cd6384cd",
   "metadata": {
    "collapsed": true
   },
   "outputs": [
    {
     "name": "stdout",
     "output_type": "stream",
     "text": [
      "WELCOME TO TIC-TAC-TOE GAMES\n",
      "The rules of the game are as follows : \n",
      "   -When it's your turn enter postion where you want your character printed\n",
      "   -Wait for your turn\n",
      "   -NO TRYING TO OVERWRITE PREVIOULY USED POSITION\n",
      "The grid along with the positions are as follows : \n",
      "  1  |  2  |  3  \n",
      "_____|_____|_____\n",
      "  4  |  5  |  6  \n",
      "_____|_____|_____\n",
      "  7  |  8  |  9  \n",
      "     |     |     \n",
      "Enter position of x : 5\n"
     ]
    }
   ],
   "source": [
    "base_func()"
   ]
  },
  {
   "cell_type": "code",
   "execution_count": 85,
   "id": "fa55a42a",
   "metadata": {
    "collapsed": true
   },
   "outputs": [
    {
     "name": "stdout",
     "output_type": "stream",
     "text": [
      "WELCOME TO TIC-TAC-TOE GAMES\n",
      "The rules of the game are as follows : \n",
      "   -When it's your turn enter postion where you want your character printed\n",
      "   -Wait for your turn\n",
      "   -NO TRYING TO OVERWRITE PREVIOULY USED POSITION\n",
      "The grid along with the positions are as follows : \n",
      "  1  |  2  |  3  \n",
      "_____|_____|_____\n",
      "  4  |  5  |  6  \n",
      "_____|_____|_____\n",
      "  7  |  8  |  9  \n",
      "     |     |     \n",
      "Enter position of x : 5\n",
      "Error : Overwrite attempt detected\n",
      "No Cheating!!\n",
      "Enter correct position for x : 2\n",
      "Error\n",
      "Error : Overwrite attempt detected\n",
      "No Cheating!!\n"
     ]
    },
    {
     "ename": "KeyboardInterrupt",
     "evalue": "Interrupted by user",
     "output_type": "error",
     "traceback": [
      "\u001b[1;31m---------------------------------------------------------------------------\u001b[0m",
      "\u001b[1;31mKeyboardInterrupt\u001b[0m                         Traceback (most recent call last)",
      "\u001b[1;32m<ipython-input-85-72d2709f4e40>\u001b[0m in \u001b[0;36m<module>\u001b[1;34m\u001b[0m\n\u001b[1;32m----> 1\u001b[1;33m \u001b[0mbase_func\u001b[0m\u001b[1;33m(\u001b[0m\u001b[1;33m)\u001b[0m\u001b[1;33m\u001b[0m\u001b[1;33m\u001b[0m\u001b[0m\n\u001b[0m",
      "\u001b[1;32m<ipython-input-83-a2b3274b746b>\u001b[0m in \u001b[0;36mbase_func\u001b[1;34m()\u001b[0m\n\u001b[0;32m      4\u001b[0m     \u001b[1;33m(\u001b[0m\u001b[0mc\u001b[0m\u001b[1;33m,\u001b[0m\u001b[0md\u001b[0m\u001b[1;33m)\u001b[0m\u001b[1;33m=\u001b[0m\u001b[1;33m(\u001b[0m\u001b[0moverwrite_check\u001b[0m\u001b[1;33m(\u001b[0m\u001b[0ma\u001b[0m\u001b[1;33m,\u001b[0m\u001b[0mb\u001b[0m\u001b[1;33m)\u001b[0m\u001b[1;33m)\u001b[0m\u001b[1;33m\u001b[0m\u001b[1;33m\u001b[0m\u001b[0m\n\u001b[0;32m      5\u001b[0m     \u001b[1;32mwhile\u001b[0m \u001b[0mc\u001b[0m\u001b[1;33m==\u001b[0m\u001b[1;34m\"Error\"\u001b[0m\u001b[1;33m:\u001b[0m\u001b[1;33m\u001b[0m\u001b[1;33m\u001b[0m\u001b[0m\n\u001b[1;32m----> 6\u001b[1;33m         \u001b[1;33m(\u001b[0m\u001b[0ma\u001b[0m\u001b[1;33m,\u001b[0m\u001b[0mb\u001b[0m\u001b[1;33m)\u001b[0m\u001b[1;33m=\u001b[0m\u001b[0minput_x\u001b[0m\u001b[1;33m(\u001b[0m\u001b[1;34m\"Error\"\u001b[0m\u001b[1;33m)\u001b[0m\u001b[1;33m\u001b[0m\u001b[1;33m\u001b[0m\u001b[0m\n\u001b[0m\u001b[0;32m      7\u001b[0m         \u001b[1;33m(\u001b[0m\u001b[0mc\u001b[0m\u001b[1;33m,\u001b[0m\u001b[0md\u001b[0m\u001b[1;33m)\u001b[0m\u001b[1;33m=\u001b[0m\u001b[1;33m(\u001b[0m\u001b[0moverwrite_check\u001b[0m\u001b[1;33m(\u001b[0m\u001b[0ma\u001b[0m\u001b[1;33m,\u001b[0m\u001b[0mb\u001b[0m\u001b[1;33m)\u001b[0m\u001b[1;33m)\u001b[0m\u001b[1;33m\u001b[0m\u001b[1;33m\u001b[0m\u001b[0m\n\u001b[0;32m      8\u001b[0m         \u001b[0mprint\u001b[0m\u001b[1;33m(\u001b[0m\u001b[0mc\u001b[0m\u001b[1;33m)\u001b[0m\u001b[1;33m\u001b[0m\u001b[1;33m\u001b[0m\u001b[0m\n",
      "\u001b[1;32m<ipython-input-12-0ea08abc8fea>\u001b[0m in \u001b[0;36minput_x\u001b[1;34m(error)\u001b[0m\n\u001b[0;32m      3\u001b[0m         \u001b[0mprint\u001b[0m\u001b[1;33m(\u001b[0m\u001b[1;34m\"Error : Overwrite attempt detected\"\u001b[0m\u001b[1;33m)\u001b[0m\u001b[1;33m\u001b[0m\u001b[1;33m\u001b[0m\u001b[0m\n\u001b[0;32m      4\u001b[0m         \u001b[0mprint\u001b[0m\u001b[1;33m(\u001b[0m\u001b[1;34m\"No Cheating!!\"\u001b[0m\u001b[1;33m)\u001b[0m\u001b[1;33m\u001b[0m\u001b[1;33m\u001b[0m\u001b[0m\n\u001b[1;32m----> 5\u001b[1;33m         \u001b[0mpos_x\u001b[0m\u001b[1;33m=\u001b[0m\u001b[0mint\u001b[0m\u001b[1;33m(\u001b[0m\u001b[0minput\u001b[0m\u001b[1;33m(\u001b[0m\u001b[1;34m\"Enter correct position for x : \"\u001b[0m\u001b[1;33m)\u001b[0m\u001b[1;33m)\u001b[0m\u001b[1;33m\u001b[0m\u001b[1;33m\u001b[0m\u001b[0m\n\u001b[0m\u001b[0;32m      6\u001b[0m         \u001b[1;32mreturn\u001b[0m \u001b[1;33m(\u001b[0m\u001b[1;34m\"x\"\u001b[0m\u001b[1;33m,\u001b[0m\u001b[0mpos_x\u001b[0m\u001b[1;33m)\u001b[0m\u001b[1;33m\u001b[0m\u001b[1;33m\u001b[0m\u001b[0m\n\u001b[0;32m      7\u001b[0m     \u001b[1;32melse\u001b[0m\u001b[1;33m:\u001b[0m\u001b[1;33m\u001b[0m\u001b[1;33m\u001b[0m\u001b[0m\n",
      "\u001b[1;32m~\\anaconda3\\lib\\site-packages\\ipykernel\\kernelbase.py\u001b[0m in \u001b[0;36mraw_input\u001b[1;34m(self, prompt)\u001b[0m\n\u001b[0;32m    858\u001b[0m                 \u001b[1;34m\"raw_input was called, but this frontend does not support input requests.\"\u001b[0m\u001b[1;33m\u001b[0m\u001b[1;33m\u001b[0m\u001b[0m\n\u001b[0;32m    859\u001b[0m             )\n\u001b[1;32m--> 860\u001b[1;33m         return self._input_request(str(prompt),\n\u001b[0m\u001b[0;32m    861\u001b[0m             \u001b[0mself\u001b[0m\u001b[1;33m.\u001b[0m\u001b[0m_parent_ident\u001b[0m\u001b[1;33m,\u001b[0m\u001b[1;33m\u001b[0m\u001b[1;33m\u001b[0m\u001b[0m\n\u001b[0;32m    862\u001b[0m             \u001b[0mself\u001b[0m\u001b[1;33m.\u001b[0m\u001b[0m_parent_header\u001b[0m\u001b[1;33m,\u001b[0m\u001b[1;33m\u001b[0m\u001b[1;33m\u001b[0m\u001b[0m\n",
      "\u001b[1;32m~\\anaconda3\\lib\\site-packages\\ipykernel\\kernelbase.py\u001b[0m in \u001b[0;36m_input_request\u001b[1;34m(self, prompt, ident, parent, password)\u001b[0m\n\u001b[0;32m    902\u001b[0m             \u001b[1;32mexcept\u001b[0m \u001b[0mKeyboardInterrupt\u001b[0m\u001b[1;33m:\u001b[0m\u001b[1;33m\u001b[0m\u001b[1;33m\u001b[0m\u001b[0m\n\u001b[0;32m    903\u001b[0m                 \u001b[1;31m# re-raise KeyboardInterrupt, to truncate traceback\u001b[0m\u001b[1;33m\u001b[0m\u001b[1;33m\u001b[0m\u001b[1;33m\u001b[0m\u001b[0m\n\u001b[1;32m--> 904\u001b[1;33m                 \u001b[1;32mraise\u001b[0m \u001b[0mKeyboardInterrupt\u001b[0m\u001b[1;33m(\u001b[0m\u001b[1;34m\"Interrupted by user\"\u001b[0m\u001b[1;33m)\u001b[0m \u001b[1;32mfrom\u001b[0m \u001b[1;32mNone\u001b[0m\u001b[1;33m\u001b[0m\u001b[1;33m\u001b[0m\u001b[0m\n\u001b[0m\u001b[0;32m    905\u001b[0m             \u001b[1;32mexcept\u001b[0m \u001b[0mException\u001b[0m \u001b[1;32mas\u001b[0m \u001b[0me\u001b[0m\u001b[1;33m:\u001b[0m\u001b[1;33m\u001b[0m\u001b[1;33m\u001b[0m\u001b[0m\n\u001b[0;32m    906\u001b[0m                 \u001b[0mself\u001b[0m\u001b[1;33m.\u001b[0m\u001b[0mlog\u001b[0m\u001b[1;33m.\u001b[0m\u001b[0mwarning\u001b[0m\u001b[1;33m(\u001b[0m\u001b[1;34m\"Invalid Message:\"\u001b[0m\u001b[1;33m,\u001b[0m \u001b[0mexc_info\u001b[0m\u001b[1;33m=\u001b[0m\u001b[1;32mTrue\u001b[0m\u001b[1;33m)\u001b[0m\u001b[1;33m\u001b[0m\u001b[1;33m\u001b[0m\u001b[0m\n",
      "\u001b[1;31mKeyboardInterrupt\u001b[0m: Interrupted by user"
     ]
    }
   ],
   "source": [
    "base_func()"
   ]
  },
  {
   "cell_type": "code",
   "execution_count": 89,
   "id": "0b0717c6",
   "metadata": {
    "collapsed": true
   },
   "outputs": [
    {
     "name": "stdout",
     "output_type": "stream",
     "text": [
      "WELCOME TO TIC-TAC-TOE GAMES\n",
      "The rules of the game are as follows : \n",
      "   -When it's your turn enter postion where you want your character printed\n",
      "   -Wait for your turn\n",
      "   -NO TRYING TO OVERWRITE PREVIOULY USED POSITION\n",
      "The grid along with the positions are as follows : \n",
      "  1  |  2  |  3  \n",
      "_____|_____|_____\n",
      "  4  |  5  |  6  \n",
      "_____|_____|_____\n",
      "  7  |  8  |  9  \n",
      "     |     |     \n",
      "Enter position of x : 5\n"
     ]
    }
   ],
   "source": [
    "base_func()"
   ]
  },
  {
   "cell_type": "code",
   "execution_count": 90,
   "id": "679e79d9",
   "metadata": {
    "collapsed": true
   },
   "outputs": [
    {
     "name": "stdout",
     "output_type": "stream",
     "text": [
      "WELCOME TO TIC-TAC-TOE GAMES\n",
      "The rules of the game are as follows : \n",
      "   -When it's your turn enter postion where you want your character printed\n",
      "   -Wait for your turn\n",
      "   -NO TRYING TO OVERWRITE PREVIOULY USED POSITION\n",
      "The grid along with the positions are as follows : \n",
      "  1  |  2  |  3  \n",
      "_____|_____|_____\n",
      "  4  |  5  |  6  \n",
      "_____|_____|_____\n",
      "  7  |  8  |  9  \n",
      "     |     |     \n",
      "Enter position of x : 5\n",
      "Error : Overwrite attempt detected\n",
      "No Cheating!!\n",
      "Enter correct position for x : 4\n",
      "Error x\n",
      "Error : Overwrite attempt detected\n",
      "No Cheating!!\n"
     ]
    },
    {
     "ename": "KeyboardInterrupt",
     "evalue": "Interrupted by user",
     "output_type": "error",
     "traceback": [
      "\u001b[1;31m---------------------------------------------------------------------------\u001b[0m",
      "\u001b[1;31mKeyboardInterrupt\u001b[0m                         Traceback (most recent call last)",
      "\u001b[1;32m<ipython-input-90-72d2709f4e40>\u001b[0m in \u001b[0;36m<module>\u001b[1;34m\u001b[0m\n\u001b[1;32m----> 1\u001b[1;33m \u001b[0mbase_func\u001b[0m\u001b[1;33m(\u001b[0m\u001b[1;33m)\u001b[0m\u001b[1;33m\u001b[0m\u001b[1;33m\u001b[0m\u001b[0m\n\u001b[0m",
      "\u001b[1;32m<ipython-input-88-03b25e1964de>\u001b[0m in \u001b[0;36mbase_func\u001b[1;34m()\u001b[0m\n\u001b[0;32m      4\u001b[0m     \u001b[1;33m(\u001b[0m\u001b[0mc\u001b[0m\u001b[1;33m,\u001b[0m\u001b[0md\u001b[0m\u001b[1;33m)\u001b[0m\u001b[1;33m=\u001b[0m\u001b[1;33m(\u001b[0m\u001b[0moverwrite_check\u001b[0m\u001b[1;33m(\u001b[0m\u001b[0ma\u001b[0m\u001b[1;33m,\u001b[0m\u001b[0mb\u001b[0m\u001b[1;33m)\u001b[0m\u001b[1;33m)\u001b[0m\u001b[1;33m\u001b[0m\u001b[1;33m\u001b[0m\u001b[0m\n\u001b[0;32m      5\u001b[0m     \u001b[1;32mwhile\u001b[0m \u001b[0mc\u001b[0m\u001b[1;33m==\u001b[0m\u001b[1;34m\"Error\"\u001b[0m\u001b[1;33m:\u001b[0m\u001b[1;33m\u001b[0m\u001b[1;33m\u001b[0m\u001b[0m\n\u001b[1;32m----> 6\u001b[1;33m         \u001b[1;33m(\u001b[0m\u001b[0ma\u001b[0m\u001b[1;33m,\u001b[0m\u001b[0mb\u001b[0m\u001b[1;33m)\u001b[0m\u001b[1;33m=\u001b[0m\u001b[0minput_x\u001b[0m\u001b[1;33m(\u001b[0m\u001b[1;34m\"Error\"\u001b[0m\u001b[1;33m)\u001b[0m\u001b[1;33m\u001b[0m\u001b[1;33m\u001b[0m\u001b[0m\n\u001b[0m\u001b[0;32m      7\u001b[0m         \u001b[1;33m(\u001b[0m\u001b[0mc\u001b[0m\u001b[1;33m,\u001b[0m\u001b[0md\u001b[0m\u001b[1;33m)\u001b[0m\u001b[1;33m=\u001b[0m\u001b[1;33m(\u001b[0m\u001b[0moverwrite_check\u001b[0m\u001b[1;33m(\u001b[0m\u001b[0ma\u001b[0m\u001b[1;33m,\u001b[0m\u001b[0mb\u001b[0m\u001b[1;33m)\u001b[0m\u001b[1;33m)\u001b[0m\u001b[1;33m\u001b[0m\u001b[1;33m\u001b[0m\u001b[0m\n\u001b[0;32m      8\u001b[0m         \u001b[0mprint\u001b[0m\u001b[1;33m(\u001b[0m\u001b[0mc\u001b[0m\u001b[1;33m,\u001b[0m\u001b[0md\u001b[0m\u001b[1;33m)\u001b[0m\u001b[1;33m\u001b[0m\u001b[1;33m\u001b[0m\u001b[0m\n",
      "\u001b[1;32m<ipython-input-12-0ea08abc8fea>\u001b[0m in \u001b[0;36minput_x\u001b[1;34m(error)\u001b[0m\n\u001b[0;32m      3\u001b[0m         \u001b[0mprint\u001b[0m\u001b[1;33m(\u001b[0m\u001b[1;34m\"Error : Overwrite attempt detected\"\u001b[0m\u001b[1;33m)\u001b[0m\u001b[1;33m\u001b[0m\u001b[1;33m\u001b[0m\u001b[0m\n\u001b[0;32m      4\u001b[0m         \u001b[0mprint\u001b[0m\u001b[1;33m(\u001b[0m\u001b[1;34m\"No Cheating!!\"\u001b[0m\u001b[1;33m)\u001b[0m\u001b[1;33m\u001b[0m\u001b[1;33m\u001b[0m\u001b[0m\n\u001b[1;32m----> 5\u001b[1;33m         \u001b[0mpos_x\u001b[0m\u001b[1;33m=\u001b[0m\u001b[0mint\u001b[0m\u001b[1;33m(\u001b[0m\u001b[0minput\u001b[0m\u001b[1;33m(\u001b[0m\u001b[1;34m\"Enter correct position for x : \"\u001b[0m\u001b[1;33m)\u001b[0m\u001b[1;33m)\u001b[0m\u001b[1;33m\u001b[0m\u001b[1;33m\u001b[0m\u001b[0m\n\u001b[0m\u001b[0;32m      6\u001b[0m         \u001b[1;32mreturn\u001b[0m \u001b[1;33m(\u001b[0m\u001b[1;34m\"x\"\u001b[0m\u001b[1;33m,\u001b[0m\u001b[0mpos_x\u001b[0m\u001b[1;33m)\u001b[0m\u001b[1;33m\u001b[0m\u001b[1;33m\u001b[0m\u001b[0m\n\u001b[0;32m      7\u001b[0m     \u001b[1;32melse\u001b[0m\u001b[1;33m:\u001b[0m\u001b[1;33m\u001b[0m\u001b[1;33m\u001b[0m\u001b[0m\n",
      "\u001b[1;32m~\\anaconda3\\lib\\site-packages\\ipykernel\\kernelbase.py\u001b[0m in \u001b[0;36mraw_input\u001b[1;34m(self, prompt)\u001b[0m\n\u001b[0;32m    858\u001b[0m                 \u001b[1;34m\"raw_input was called, but this frontend does not support input requests.\"\u001b[0m\u001b[1;33m\u001b[0m\u001b[1;33m\u001b[0m\u001b[0m\n\u001b[0;32m    859\u001b[0m             )\n\u001b[1;32m--> 860\u001b[1;33m         return self._input_request(str(prompt),\n\u001b[0m\u001b[0;32m    861\u001b[0m             \u001b[0mself\u001b[0m\u001b[1;33m.\u001b[0m\u001b[0m_parent_ident\u001b[0m\u001b[1;33m,\u001b[0m\u001b[1;33m\u001b[0m\u001b[1;33m\u001b[0m\u001b[0m\n\u001b[0;32m    862\u001b[0m             \u001b[0mself\u001b[0m\u001b[1;33m.\u001b[0m\u001b[0m_parent_header\u001b[0m\u001b[1;33m,\u001b[0m\u001b[1;33m\u001b[0m\u001b[1;33m\u001b[0m\u001b[0m\n",
      "\u001b[1;32m~\\anaconda3\\lib\\site-packages\\ipykernel\\kernelbase.py\u001b[0m in \u001b[0;36m_input_request\u001b[1;34m(self, prompt, ident, parent, password)\u001b[0m\n\u001b[0;32m    902\u001b[0m             \u001b[1;32mexcept\u001b[0m \u001b[0mKeyboardInterrupt\u001b[0m\u001b[1;33m:\u001b[0m\u001b[1;33m\u001b[0m\u001b[1;33m\u001b[0m\u001b[0m\n\u001b[0;32m    903\u001b[0m                 \u001b[1;31m# re-raise KeyboardInterrupt, to truncate traceback\u001b[0m\u001b[1;33m\u001b[0m\u001b[1;33m\u001b[0m\u001b[1;33m\u001b[0m\u001b[0m\n\u001b[1;32m--> 904\u001b[1;33m                 \u001b[1;32mraise\u001b[0m \u001b[0mKeyboardInterrupt\u001b[0m\u001b[1;33m(\u001b[0m\u001b[1;34m\"Interrupted by user\"\u001b[0m\u001b[1;33m)\u001b[0m \u001b[1;32mfrom\u001b[0m \u001b[1;32mNone\u001b[0m\u001b[1;33m\u001b[0m\u001b[1;33m\u001b[0m\u001b[0m\n\u001b[0m\u001b[0;32m    905\u001b[0m             \u001b[1;32mexcept\u001b[0m \u001b[0mException\u001b[0m \u001b[1;32mas\u001b[0m \u001b[0me\u001b[0m\u001b[1;33m:\u001b[0m\u001b[1;33m\u001b[0m\u001b[1;33m\u001b[0m\u001b[0m\n\u001b[0;32m    906\u001b[0m                 \u001b[0mself\u001b[0m\u001b[1;33m.\u001b[0m\u001b[0mlog\u001b[0m\u001b[1;33m.\u001b[0m\u001b[0mwarning\u001b[0m\u001b[1;33m(\u001b[0m\u001b[1;34m\"Invalid Message:\"\u001b[0m\u001b[1;33m,\u001b[0m \u001b[0mexc_info\u001b[0m\u001b[1;33m=\u001b[0m\u001b[1;32mTrue\u001b[0m\u001b[1;33m)\u001b[0m\u001b[1;33m\u001b[0m\u001b[1;33m\u001b[0m\u001b[0m\n",
      "\u001b[1;31mKeyboardInterrupt\u001b[0m: Interrupted by user"
     ]
    }
   ],
   "source": [
    "base_func()"
   ]
  },
  {
   "cell_type": "code",
   "execution_count": 94,
   "id": "1db05feb",
   "metadata": {
    "collapsed": true
   },
   "outputs": [
    {
     "name": "stdout",
     "output_type": "stream",
     "text": [
      "WELCOME TO TIC-TAC-TOE GAMES\n",
      "The rules of the game are as follows : \n",
      "   -When it's your turn enter postion where you want your character printed\n",
      "   -Wait for your turn\n",
      "   -NO TRYING TO OVERWRITE PREVIOULY USED POSITION\n",
      "The grid along with the positions are as follows : \n",
      "  1  |  2  |  3  \n",
      "_____|_____|_____\n",
      "  4  |  5  |  6  \n",
      "_____|_____|_____\n",
      "  7  |  8  |  9  \n",
      "     |     |     \n",
      "Enter position of x : 5\n"
     ]
    }
   ],
   "source": [
    "base_func()"
   ]
  },
  {
   "cell_type": "code",
   "execution_count": 95,
   "id": "e0dff6f3",
   "metadata": {
    "collapsed": true
   },
   "outputs": [
    {
     "name": "stdout",
     "output_type": "stream",
     "text": [
      "WELCOME TO TIC-TAC-TOE GAMES\n",
      "The rules of the game are as follows : \n",
      "   -When it's your turn enter postion where you want your character printed\n",
      "   -Wait for your turn\n",
      "   -NO TRYING TO OVERWRITE PREVIOULY USED POSITION\n",
      "The grid along with the positions are as follows : \n",
      "  1  |  2  |  3  \n",
      "_____|_____|_____\n",
      "  4  |  5  |  6  \n",
      "_____|_____|_____\n",
      "  7  |  8  |  9  \n",
      "     |     |     \n",
      "Enter position of x : 5\n",
      "Error : Overwrite attempt detected\n",
      "No Cheating!!\n",
      "Enter correct position for x : 4\n",
      "Error x\n",
      "Error : Overwrite attempt detected\n",
      "No Cheating!!\n"
     ]
    },
    {
     "ename": "KeyboardInterrupt",
     "evalue": "Interrupted by user",
     "output_type": "error",
     "traceback": [
      "\u001b[1;31m---------------------------------------------------------------------------\u001b[0m",
      "\u001b[1;31mKeyboardInterrupt\u001b[0m                         Traceback (most recent call last)",
      "\u001b[1;32m<ipython-input-95-72d2709f4e40>\u001b[0m in \u001b[0;36m<module>\u001b[1;34m\u001b[0m\n\u001b[1;32m----> 1\u001b[1;33m \u001b[0mbase_func\u001b[0m\u001b[1;33m(\u001b[0m\u001b[1;33m)\u001b[0m\u001b[1;33m\u001b[0m\u001b[1;33m\u001b[0m\u001b[0m\n\u001b[0m",
      "\u001b[1;32m<ipython-input-93-e11a651905ad>\u001b[0m in \u001b[0;36mbase_func\u001b[1;34m()\u001b[0m\n\u001b[0;32m      4\u001b[0m     \u001b[1;33m(\u001b[0m\u001b[0mc\u001b[0m\u001b[1;33m,\u001b[0m\u001b[0md\u001b[0m\u001b[1;33m)\u001b[0m\u001b[1;33m=\u001b[0m\u001b[1;33m(\u001b[0m\u001b[0moverwrite_check\u001b[0m\u001b[1;33m(\u001b[0m\u001b[0ma\u001b[0m\u001b[1;33m,\u001b[0m\u001b[0mb\u001b[0m\u001b[1;33m)\u001b[0m\u001b[1;33m)\u001b[0m\u001b[1;33m\u001b[0m\u001b[1;33m\u001b[0m\u001b[0m\n\u001b[0;32m      5\u001b[0m     \u001b[1;32mwhile\u001b[0m \u001b[0mc\u001b[0m\u001b[1;33m==\u001b[0m\u001b[1;34m\"Error\"\u001b[0m\u001b[1;33m:\u001b[0m\u001b[1;33m\u001b[0m\u001b[1;33m\u001b[0m\u001b[0m\n\u001b[1;32m----> 6\u001b[1;33m         \u001b[1;33m(\u001b[0m\u001b[0ma\u001b[0m\u001b[1;33m,\u001b[0m\u001b[0mb\u001b[0m\u001b[1;33m)\u001b[0m\u001b[1;33m=\u001b[0m\u001b[0minput_x\u001b[0m\u001b[1;33m(\u001b[0m\u001b[0mc\u001b[0m\u001b[1;33m)\u001b[0m\u001b[1;33m\u001b[0m\u001b[1;33m\u001b[0m\u001b[0m\n\u001b[0m\u001b[0;32m      7\u001b[0m         \u001b[1;33m(\u001b[0m\u001b[0mc\u001b[0m\u001b[1;33m,\u001b[0m\u001b[0md\u001b[0m\u001b[1;33m)\u001b[0m\u001b[1;33m=\u001b[0m\u001b[1;33m(\u001b[0m\u001b[0moverwrite_check\u001b[0m\u001b[1;33m(\u001b[0m\u001b[0ma\u001b[0m\u001b[1;33m,\u001b[0m\u001b[0mb\u001b[0m\u001b[1;33m)\u001b[0m\u001b[1;33m)\u001b[0m\u001b[1;33m\u001b[0m\u001b[1;33m\u001b[0m\u001b[0m\n\u001b[0;32m      8\u001b[0m         \u001b[0mprint\u001b[0m\u001b[1;33m(\u001b[0m\u001b[0mc\u001b[0m\u001b[1;33m,\u001b[0m\u001b[0md\u001b[0m\u001b[1;33m)\u001b[0m\u001b[1;33m\u001b[0m\u001b[1;33m\u001b[0m\u001b[0m\n",
      "\u001b[1;32m<ipython-input-12-0ea08abc8fea>\u001b[0m in \u001b[0;36minput_x\u001b[1;34m(error)\u001b[0m\n\u001b[0;32m      3\u001b[0m         \u001b[0mprint\u001b[0m\u001b[1;33m(\u001b[0m\u001b[1;34m\"Error : Overwrite attempt detected\"\u001b[0m\u001b[1;33m)\u001b[0m\u001b[1;33m\u001b[0m\u001b[1;33m\u001b[0m\u001b[0m\n\u001b[0;32m      4\u001b[0m         \u001b[0mprint\u001b[0m\u001b[1;33m(\u001b[0m\u001b[1;34m\"No Cheating!!\"\u001b[0m\u001b[1;33m)\u001b[0m\u001b[1;33m\u001b[0m\u001b[1;33m\u001b[0m\u001b[0m\n\u001b[1;32m----> 5\u001b[1;33m         \u001b[0mpos_x\u001b[0m\u001b[1;33m=\u001b[0m\u001b[0mint\u001b[0m\u001b[1;33m(\u001b[0m\u001b[0minput\u001b[0m\u001b[1;33m(\u001b[0m\u001b[1;34m\"Enter correct position for x : \"\u001b[0m\u001b[1;33m)\u001b[0m\u001b[1;33m)\u001b[0m\u001b[1;33m\u001b[0m\u001b[1;33m\u001b[0m\u001b[0m\n\u001b[0m\u001b[0;32m      6\u001b[0m         \u001b[1;32mreturn\u001b[0m \u001b[1;33m(\u001b[0m\u001b[1;34m\"x\"\u001b[0m\u001b[1;33m,\u001b[0m\u001b[0mpos_x\u001b[0m\u001b[1;33m)\u001b[0m\u001b[1;33m\u001b[0m\u001b[1;33m\u001b[0m\u001b[0m\n\u001b[0;32m      7\u001b[0m     \u001b[1;32melse\u001b[0m\u001b[1;33m:\u001b[0m\u001b[1;33m\u001b[0m\u001b[1;33m\u001b[0m\u001b[0m\n",
      "\u001b[1;32m~\\anaconda3\\lib\\site-packages\\ipykernel\\kernelbase.py\u001b[0m in \u001b[0;36mraw_input\u001b[1;34m(self, prompt)\u001b[0m\n\u001b[0;32m    858\u001b[0m                 \u001b[1;34m\"raw_input was called, but this frontend does not support input requests.\"\u001b[0m\u001b[1;33m\u001b[0m\u001b[1;33m\u001b[0m\u001b[0m\n\u001b[0;32m    859\u001b[0m             )\n\u001b[1;32m--> 860\u001b[1;33m         return self._input_request(str(prompt),\n\u001b[0m\u001b[0;32m    861\u001b[0m             \u001b[0mself\u001b[0m\u001b[1;33m.\u001b[0m\u001b[0m_parent_ident\u001b[0m\u001b[1;33m,\u001b[0m\u001b[1;33m\u001b[0m\u001b[1;33m\u001b[0m\u001b[0m\n\u001b[0;32m    862\u001b[0m             \u001b[0mself\u001b[0m\u001b[1;33m.\u001b[0m\u001b[0m_parent_header\u001b[0m\u001b[1;33m,\u001b[0m\u001b[1;33m\u001b[0m\u001b[1;33m\u001b[0m\u001b[0m\n",
      "\u001b[1;32m~\\anaconda3\\lib\\site-packages\\ipykernel\\kernelbase.py\u001b[0m in \u001b[0;36m_input_request\u001b[1;34m(self, prompt, ident, parent, password)\u001b[0m\n\u001b[0;32m    902\u001b[0m             \u001b[1;32mexcept\u001b[0m \u001b[0mKeyboardInterrupt\u001b[0m\u001b[1;33m:\u001b[0m\u001b[1;33m\u001b[0m\u001b[1;33m\u001b[0m\u001b[0m\n\u001b[0;32m    903\u001b[0m                 \u001b[1;31m# re-raise KeyboardInterrupt, to truncate traceback\u001b[0m\u001b[1;33m\u001b[0m\u001b[1;33m\u001b[0m\u001b[1;33m\u001b[0m\u001b[0m\n\u001b[1;32m--> 904\u001b[1;33m                 \u001b[1;32mraise\u001b[0m \u001b[0mKeyboardInterrupt\u001b[0m\u001b[1;33m(\u001b[0m\u001b[1;34m\"Interrupted by user\"\u001b[0m\u001b[1;33m)\u001b[0m \u001b[1;32mfrom\u001b[0m \u001b[1;32mNone\u001b[0m\u001b[1;33m\u001b[0m\u001b[1;33m\u001b[0m\u001b[0m\n\u001b[0m\u001b[0;32m    905\u001b[0m             \u001b[1;32mexcept\u001b[0m \u001b[0mException\u001b[0m \u001b[1;32mas\u001b[0m \u001b[0me\u001b[0m\u001b[1;33m:\u001b[0m\u001b[1;33m\u001b[0m\u001b[1;33m\u001b[0m\u001b[0m\n\u001b[0;32m    906\u001b[0m                 \u001b[0mself\u001b[0m\u001b[1;33m.\u001b[0m\u001b[0mlog\u001b[0m\u001b[1;33m.\u001b[0m\u001b[0mwarning\u001b[0m\u001b[1;33m(\u001b[0m\u001b[1;34m\"Invalid Message:\"\u001b[0m\u001b[1;33m,\u001b[0m \u001b[0mexc_info\u001b[0m\u001b[1;33m=\u001b[0m\u001b[1;32mTrue\u001b[0m\u001b[1;33m)\u001b[0m\u001b[1;33m\u001b[0m\u001b[1;33m\u001b[0m\u001b[0m\n",
      "\u001b[1;31mKeyboardInterrupt\u001b[0m: Interrupted by user"
     ]
    }
   ],
   "source": [
    "base_func()"
   ]
  },
  {
   "cell_type": "code",
   "execution_count": 106,
   "id": "20a08f39",
   "metadata": {
    "collapsed": true
   },
   "outputs": [
    {
     "name": "stdout",
     "output_type": "stream",
     "text": [
      "WELCOME TO TIC-TAC-TOE GAMES\n",
      "The rules of the game are as follows : \n",
      "   -When it's your turn enter postion where you want your character printed\n",
      "   -Wait for your turn\n",
      "   -NO TRYING TO OVERWRITE PREVIOULY USED POSITION\n",
      "The grid along with the positions are as follows : \n",
      "  1  |  2  |  3  \n",
      "_____|_____|_____\n",
      "  4  |  5  |  6  \n",
      "_____|_____|_____\n",
      "  7  |  8  |  9  \n",
      "     |     |     \n",
      "Enter position of x : 5\n",
      "Error : Overwrite attempt detected\n",
      "No Cheating!!\n",
      "Enter correct position for x : 6\n",
      "Error x\n",
      "Error : Overwrite attempt detected\n",
      "No Cheating!!\n",
      "Enter correct position for x : 5\n",
      "Error x\n",
      "Error : Overwrite attempt detected\n",
      "No Cheating!!\n",
      "Enter correct position for x : 6\n",
      "Error x\n",
      "Error : Overwrite attempt detected\n",
      "No Cheating!!\n",
      "Enter correct position for x : 1\n",
      "Error x\n",
      "Error : Overwrite attempt detected\n",
      "No Cheating!!\n"
     ]
    },
    {
     "ename": "KeyboardInterrupt",
     "evalue": "Interrupted by user",
     "output_type": "error",
     "traceback": [
      "\u001b[1;31m---------------------------------------------------------------------------\u001b[0m",
      "\u001b[1;31mKeyboardInterrupt\u001b[0m                         Traceback (most recent call last)",
      "\u001b[1;32m<ipython-input-106-72d2709f4e40>\u001b[0m in \u001b[0;36m<module>\u001b[1;34m\u001b[0m\n\u001b[1;32m----> 1\u001b[1;33m \u001b[0mbase_func\u001b[0m\u001b[1;33m(\u001b[0m\u001b[1;33m)\u001b[0m\u001b[1;33m\u001b[0m\u001b[1;33m\u001b[0m\u001b[0m\n\u001b[0m",
      "\u001b[1;32m<ipython-input-104-ecd33905cc59>\u001b[0m in \u001b[0;36mbase_func\u001b[1;34m()\u001b[0m\n\u001b[0;32m      5\u001b[0m     \u001b[1;32mwhile\u001b[0m\u001b[1;33m(\u001b[0m\u001b[1;32mTrue\u001b[0m\u001b[1;33m)\u001b[0m\u001b[1;33m:\u001b[0m\u001b[1;33m\u001b[0m\u001b[1;33m\u001b[0m\u001b[0m\n\u001b[0;32m      6\u001b[0m         \u001b[1;32mif\u001b[0m \u001b[0mc\u001b[0m\u001b[1;33m==\u001b[0m\u001b[1;34m\"Error\"\u001b[0m\u001b[1;33m:\u001b[0m\u001b[1;33m\u001b[0m\u001b[1;33m\u001b[0m\u001b[0m\n\u001b[1;32m----> 7\u001b[1;33m             \u001b[1;33m(\u001b[0m\u001b[0ma\u001b[0m\u001b[1;33m,\u001b[0m\u001b[0mb\u001b[0m\u001b[1;33m)\u001b[0m\u001b[1;33m=\u001b[0m\u001b[0minput_x\u001b[0m\u001b[1;33m(\u001b[0m\u001b[0mc\u001b[0m\u001b[1;33m)\u001b[0m\u001b[1;33m\u001b[0m\u001b[1;33m\u001b[0m\u001b[0m\n\u001b[0m\u001b[0;32m      8\u001b[0m             \u001b[1;33m(\u001b[0m\u001b[0mc\u001b[0m\u001b[1;33m,\u001b[0m\u001b[0md\u001b[0m\u001b[1;33m)\u001b[0m\u001b[1;33m=\u001b[0m\u001b[1;33m(\u001b[0m\u001b[0moverwrite_check\u001b[0m\u001b[1;33m(\u001b[0m\u001b[0ma\u001b[0m\u001b[1;33m,\u001b[0m\u001b[0mb\u001b[0m\u001b[1;33m)\u001b[0m\u001b[1;33m)\u001b[0m\u001b[1;33m\u001b[0m\u001b[1;33m\u001b[0m\u001b[0m\n\u001b[0;32m      9\u001b[0m             \u001b[0mprint\u001b[0m\u001b[1;33m(\u001b[0m\u001b[0mc\u001b[0m\u001b[1;33m,\u001b[0m\u001b[0md\u001b[0m\u001b[1;33m)\u001b[0m\u001b[1;33m\u001b[0m\u001b[1;33m\u001b[0m\u001b[0m\n",
      "\u001b[1;32m<ipython-input-12-0ea08abc8fea>\u001b[0m in \u001b[0;36minput_x\u001b[1;34m(error)\u001b[0m\n\u001b[0;32m      3\u001b[0m         \u001b[0mprint\u001b[0m\u001b[1;33m(\u001b[0m\u001b[1;34m\"Error : Overwrite attempt detected\"\u001b[0m\u001b[1;33m)\u001b[0m\u001b[1;33m\u001b[0m\u001b[1;33m\u001b[0m\u001b[0m\n\u001b[0;32m      4\u001b[0m         \u001b[0mprint\u001b[0m\u001b[1;33m(\u001b[0m\u001b[1;34m\"No Cheating!!\"\u001b[0m\u001b[1;33m)\u001b[0m\u001b[1;33m\u001b[0m\u001b[1;33m\u001b[0m\u001b[0m\n\u001b[1;32m----> 5\u001b[1;33m         \u001b[0mpos_x\u001b[0m\u001b[1;33m=\u001b[0m\u001b[0mint\u001b[0m\u001b[1;33m(\u001b[0m\u001b[0minput\u001b[0m\u001b[1;33m(\u001b[0m\u001b[1;34m\"Enter correct position for x : \"\u001b[0m\u001b[1;33m)\u001b[0m\u001b[1;33m)\u001b[0m\u001b[1;33m\u001b[0m\u001b[1;33m\u001b[0m\u001b[0m\n\u001b[0m\u001b[0;32m      6\u001b[0m         \u001b[1;32mreturn\u001b[0m \u001b[1;33m(\u001b[0m\u001b[1;34m\"x\"\u001b[0m\u001b[1;33m,\u001b[0m\u001b[0mpos_x\u001b[0m\u001b[1;33m)\u001b[0m\u001b[1;33m\u001b[0m\u001b[1;33m\u001b[0m\u001b[0m\n\u001b[0;32m      7\u001b[0m     \u001b[1;32melse\u001b[0m\u001b[1;33m:\u001b[0m\u001b[1;33m\u001b[0m\u001b[1;33m\u001b[0m\u001b[0m\n",
      "\u001b[1;32m~\\anaconda3\\lib\\site-packages\\ipykernel\\kernelbase.py\u001b[0m in \u001b[0;36mraw_input\u001b[1;34m(self, prompt)\u001b[0m\n\u001b[0;32m    858\u001b[0m                 \u001b[1;34m\"raw_input was called, but this frontend does not support input requests.\"\u001b[0m\u001b[1;33m\u001b[0m\u001b[1;33m\u001b[0m\u001b[0m\n\u001b[0;32m    859\u001b[0m             )\n\u001b[1;32m--> 860\u001b[1;33m         return self._input_request(str(prompt),\n\u001b[0m\u001b[0;32m    861\u001b[0m             \u001b[0mself\u001b[0m\u001b[1;33m.\u001b[0m\u001b[0m_parent_ident\u001b[0m\u001b[1;33m,\u001b[0m\u001b[1;33m\u001b[0m\u001b[1;33m\u001b[0m\u001b[0m\n\u001b[0;32m    862\u001b[0m             \u001b[0mself\u001b[0m\u001b[1;33m.\u001b[0m\u001b[0m_parent_header\u001b[0m\u001b[1;33m,\u001b[0m\u001b[1;33m\u001b[0m\u001b[1;33m\u001b[0m\u001b[0m\n",
      "\u001b[1;32m~\\anaconda3\\lib\\site-packages\\ipykernel\\kernelbase.py\u001b[0m in \u001b[0;36m_input_request\u001b[1;34m(self, prompt, ident, parent, password)\u001b[0m\n\u001b[0;32m    902\u001b[0m             \u001b[1;32mexcept\u001b[0m \u001b[0mKeyboardInterrupt\u001b[0m\u001b[1;33m:\u001b[0m\u001b[1;33m\u001b[0m\u001b[1;33m\u001b[0m\u001b[0m\n\u001b[0;32m    903\u001b[0m                 \u001b[1;31m# re-raise KeyboardInterrupt, to truncate traceback\u001b[0m\u001b[1;33m\u001b[0m\u001b[1;33m\u001b[0m\u001b[1;33m\u001b[0m\u001b[0m\n\u001b[1;32m--> 904\u001b[1;33m                 \u001b[1;32mraise\u001b[0m \u001b[0mKeyboardInterrupt\u001b[0m\u001b[1;33m(\u001b[0m\u001b[1;34m\"Interrupted by user\"\u001b[0m\u001b[1;33m)\u001b[0m \u001b[1;32mfrom\u001b[0m \u001b[1;32mNone\u001b[0m\u001b[1;33m\u001b[0m\u001b[1;33m\u001b[0m\u001b[0m\n\u001b[0m\u001b[0;32m    905\u001b[0m             \u001b[1;32mexcept\u001b[0m \u001b[0mException\u001b[0m \u001b[1;32mas\u001b[0m \u001b[0me\u001b[0m\u001b[1;33m:\u001b[0m\u001b[1;33m\u001b[0m\u001b[1;33m\u001b[0m\u001b[0m\n\u001b[0;32m    906\u001b[0m                 \u001b[0mself\u001b[0m\u001b[1;33m.\u001b[0m\u001b[0mlog\u001b[0m\u001b[1;33m.\u001b[0m\u001b[0mwarning\u001b[0m\u001b[1;33m(\u001b[0m\u001b[1;34m\"Invalid Message:\"\u001b[0m\u001b[1;33m,\u001b[0m \u001b[0mexc_info\u001b[0m\u001b[1;33m=\u001b[0m\u001b[1;32mTrue\u001b[0m\u001b[1;33m)\u001b[0m\u001b[1;33m\u001b[0m\u001b[1;33m\u001b[0m\u001b[0m\n",
      "\u001b[1;31mKeyboardInterrupt\u001b[0m: Interrupted by user"
     ]
    }
   ],
   "source": [
    "base_func()"
   ]
  },
  {
   "cell_type": "code",
   "execution_count": null,
   "id": "a4d8256c",
   "metadata": {},
   "outputs": [],
   "source": [
    "def base_func():\n",
    "    rules_func()\n",
    "    (a,b)=input_x(\"No Error\")\n",
    "    (c,d)=(overwrite_check(a,b))\n",
    "    while c==\"Error\":\n",
    "        (a,b)=input_x(c)\n",
    "        (c,d)=(overwrite_check(a,b))\n",
    "        print(c,d)"
   ]
  },
  {
   "cell_type": "code",
   "execution_count": null,
   "id": "3097d3dd",
   "metadata": {},
   "outputs": [],
   "source": []
  },
  {
   "cell_type": "markdown",
   "id": "beb7237e",
   "metadata": {},
   "source": [
    "## Day 3"
   ]
  },
  {
   "cell_type": "code",
   "execution_count": 1,
   "id": "6778b352",
   "metadata": {},
   "outputs": [],
   "source": [
    "def base_func():\n",
    "    rules_func()\n",
    "    (a,b) = input_x(\"No Error\")\n",
    "    (c,d) = overwrite_check(a,b)"
   ]
  },
  {
   "cell_type": "code",
   "execution_count": 2,
   "id": "ac4fb8aa",
   "metadata": {
    "collapsed": true
   },
   "outputs": [
    {
     "ename": "NameError",
     "evalue": "name 'rules_func' is not defined",
     "output_type": "error",
     "traceback": [
      "\u001b[1;31m---------------------------------------------------------------------------\u001b[0m",
      "\u001b[1;31mNameError\u001b[0m                                 Traceback (most recent call last)",
      "\u001b[1;32m<ipython-input-2-72d2709f4e40>\u001b[0m in \u001b[0;36m<module>\u001b[1;34m\u001b[0m\n\u001b[1;32m----> 1\u001b[1;33m \u001b[0mbase_func\u001b[0m\u001b[1;33m(\u001b[0m\u001b[1;33m)\u001b[0m\u001b[1;33m\u001b[0m\u001b[1;33m\u001b[0m\u001b[0m\n\u001b[0m",
      "\u001b[1;32m<ipython-input-1-698b3be4ffdd>\u001b[0m in \u001b[0;36mbase_func\u001b[1;34m()\u001b[0m\n\u001b[0;32m      1\u001b[0m \u001b[1;32mdef\u001b[0m \u001b[0mbase_func\u001b[0m\u001b[1;33m(\u001b[0m\u001b[1;33m)\u001b[0m\u001b[1;33m:\u001b[0m\u001b[1;33m\u001b[0m\u001b[1;33m\u001b[0m\u001b[0m\n\u001b[1;32m----> 2\u001b[1;33m     \u001b[0mrules_func\u001b[0m\u001b[1;33m(\u001b[0m\u001b[1;33m)\u001b[0m\u001b[1;33m\u001b[0m\u001b[1;33m\u001b[0m\u001b[0m\n\u001b[0m\u001b[0;32m      3\u001b[0m     \u001b[1;33m(\u001b[0m\u001b[0ma\u001b[0m\u001b[1;33m,\u001b[0m\u001b[0mb\u001b[0m\u001b[1;33m)\u001b[0m \u001b[1;33m=\u001b[0m \u001b[0minput_x\u001b[0m\u001b[1;33m(\u001b[0m\u001b[1;34m\"No Error\"\u001b[0m\u001b[1;33m)\u001b[0m\u001b[1;33m\u001b[0m\u001b[1;33m\u001b[0m\u001b[0m\n\u001b[0;32m      4\u001b[0m     \u001b[1;33m(\u001b[0m\u001b[0mc\u001b[0m\u001b[1;33m,\u001b[0m\u001b[0md\u001b[0m\u001b[1;33m)\u001b[0m \u001b[1;33m=\u001b[0m \u001b[0moverwrite_check\u001b[0m\u001b[1;33m(\u001b[0m\u001b[0ma\u001b[0m\u001b[1;33m,\u001b[0m\u001b[0mb\u001b[0m\u001b[1;33m)\u001b[0m\u001b[1;33m\u001b[0m\u001b[1;33m\u001b[0m\u001b[0m\n",
      "\u001b[1;31mNameError\u001b[0m: name 'rules_func' is not defined"
     ]
    }
   ],
   "source": [
    "base_func()"
   ]
  },
  {
   "cell_type": "code",
   "execution_count": 3,
   "id": "52f9bad2",
   "metadata": {},
   "outputs": [],
   "source": [
    "def rules_func():\n",
    "    print(\"WELCOME TO TIC-TAC-TOE GAMES\")\n",
    "    print(\"The rules of the game are as follows : \")\n",
    "    print(\"   -When it's your turn enter postion where you want your character printed\")\n",
    "    print(\"   -Wait for your turn\")\n",
    "    print(\"   -NO TRYING TO OVERWRITE PREVIOULY USED POSITION\")\n",
    "    print(\"The grid along with the positions are as follows : \")\n",
    "    print(\"  {}  |  {}  |  {}  \" .format(1,2,3))\n",
    "    print(\"_____|_____|_____\")\n",
    "    print(\"  {}  |  {}  |  {}  \" .format(4,5,6))\n",
    "    print(\"_____|_____|_____\")\n",
    "    print(\"  {}  |  {}  |  {}  \" .format(7,8,9))\n",
    "    print(\"     |     |     \")"
   ]
  },
  {
   "cell_type": "code",
   "execution_count": 162,
   "id": "b6435ec5",
   "metadata": {},
   "outputs": [],
   "source": [
    "def input_o(error):\n",
    "    list1 = [1,2,3,4,5,6,7,8,9]\n",
    "    if error==\"Error\":\n",
    "        print(\"Error : Overwrite attempt detected\")\n",
    "        print(\"No Cheating!!\")\n",
    "        pos_o=int(input(\"Enter correct position for o : \"))\n",
    "        while pos_o not in list1:\n",
    "            print(\"Position out of range!!\")\n",
    "            pos_o=int(input(\"Enter position for o again : \"))\n",
    "            #return(\"o\",pos_o)\n",
    "        return(\"o\",pos_o)\n",
    "    else:\n",
    "        pos_o = int(input(\"Enter position of o : \"))\n",
    "        while pos_o not in list1:\n",
    "            print(\"Position out of range!!\")\n",
    "            pos_o=int(input(\"Enter position for o again : \"))\n",
    "            #return(\"o\",pos_o)\n",
    "        return(\"o\",pos_o)"
   ]
  },
  {
   "cell_type": "code",
   "execution_count": 161,
   "id": "2aef70d7",
   "metadata": {},
   "outputs": [],
   "source": [
    "def input_x(error):\n",
    "    list1 = [1,2,3,4,5,6,7,8,9]\n",
    "    if error==\"Error\":\n",
    "        print(\"Error : Overwrite attempt detected\")\n",
    "        print(\"No Cheating!!\")\n",
    "        pos_x=int(input(\"Enter correct position for x : \"))\n",
    "        while pos_x not in list1:\n",
    "            print(\"Position out of range!!\")\n",
    "            pos_x=int(input(\"Enter position for x again : \"))\n",
    "#             return (\"x\",pos_x)\n",
    "        return (\"x\",pos_x)\n",
    "    else:\n",
    "        pos_x = int(input(\"Enter position of x : \"))\n",
    "        while pos_x not in list1:\n",
    "            print(\"Position out of range!!\")\n",
    "            pos_x=int(input(\"Enter position for x again : \"))\n",
    "            #return(\"x\",pos_x)\n",
    "        return(\"x\",pos_x)"
   ]
  },
  {
   "cell_type": "code",
   "execution_count": 168,
   "id": "c65965a9",
   "metadata": {},
   "outputs": [],
   "source": [
    "# list_pos = []\n",
    "# list_x_o = [\" \",\" \",\" \",\" \",\" \",\" \",\" \",\" \",\" \",\" \"]"
   ]
  },
  {
   "cell_type": "code",
   "execution_count": 33,
   "id": "7263791e",
   "metadata": {},
   "outputs": [],
   "source": [
    "# # New and correct overwrite_check function\n",
    "# def overwrite_check(player,pos):\n",
    "#     list_pos.append(pos)\n",
    "#     set_pos=set(list_pos)\n",
    "#     list_set_pos=list(set_pos)\n",
    "#     if list_set_pos==list_pos:\n",
    "#         return(\"No Error\",player)\n",
    "#     else:\n",
    "#         list_pos.pop()\n",
    "#         return(\"Error\",player)"
   ]
  },
  {
   "cell_type": "code",
   "execution_count": 163,
   "id": "02ef4de9",
   "metadata": {},
   "outputs": [],
   "source": [
    "def output_display(player,position):\n",
    "        list_x_o[position-1]=(player)\n",
    "        print(\"  {}  |  {}  |  {}  \" .format(list_x_o[0],list_x_o[1],list_x_o[2]))\n",
    "        print(\"_____|_____|_____\")\n",
    "        print(\"  {}  |  {}  |  {}  \" .format(list_x_o[3],list_x_o[4],list_x_o[5]))\n",
    "        print(\"_____|_____|_____\")\n",
    "        print(\"  {}  |  {}  |  {}  \" .format(list_x_o[6],list_x_o[7],list_x_o[8]))\n",
    "        print(\"     |     |     \")\n",
    "#         if player==\"x\":\n",
    "#             return(\"Next Turn : o\")\n",
    "#         else:\n",
    "#             return(\"Next Turn : x\")"
   ]
  },
  {
   "cell_type": "code",
   "execution_count": 164,
   "id": "4f9fa5b3",
   "metadata": {},
   "outputs": [],
   "source": [
    "# New and correct overwrite_check function\n",
    "def overwrite_check(player,pos):\n",
    "    list_pos.append(pos)\n",
    "    set_pos=set(list_pos)\n",
    "    list_set_pos=list(set_pos)\n",
    "    list_pos.sort()\n",
    "    list_set_pos.sort()\n",
    "#     print(list_set_pos)\n",
    "#     print(list_pos)\n",
    "    if list_set_pos==list_pos:\n",
    "        return(\"No Error\",player)\n",
    "    else:\n",
    "        list_pos.pop()\n",
    "        return(\"Error\",player)"
   ]
  },
  {
   "cell_type": "code",
   "execution_count": 60,
   "id": "de8b362c",
   "metadata": {},
   "outputs": [],
   "source": [
    "# def base_func():\n",
    "#     rules_func()\n",
    "#     #While True:\n",
    "#     (a,b) = input_x(\"No Error\")\n",
    "#     (c,d) = overwrite_check(a,b)\n",
    "#     #print(c,d)\n",
    "#     if c == \"No Error\":\n",
    "#         print(output_display(d,b))\n",
    "#         q = True\n",
    "#     else:\n",
    "#         q = False\n",
    "#         #output_display()\n",
    "#     while q == False:\n",
    "#         (e,f) = input_x(c)\n",
    "#         (g,h) = overwrite_check(e,f)\n",
    "#         c=g\n",
    "#         if g==\"No Error\":\n",
    "#             q = True\n",
    "#             break\n",
    "#         else:\n",
    "#             continue"
   ]
  },
  {
   "cell_type": "code",
   "execution_count": 165,
   "id": "5fa982d8",
   "metadata": {},
   "outputs": [],
   "source": [
    "# Day 2 base_func()\n",
    "# WOW! IT WORKS!! IS'S SHORTER AS WELL\n",
    "def base_func():\n",
    "#     global list_pos\n",
    "#     list_pos = []\n",
    "#     global list_x_o\n",
    "#     list_x_o = [\" \",\" \",\" \",\" \",\" \",\" \",\" \",\" \",\" \",\" \"]\n",
    "    rules_func()\n",
    "    while True:\n",
    "        (a,b)=input_x(\"No Error\")\n",
    "        (c,d)=overwrite_check(a,b)\n",
    "        while c==\"Error\":\n",
    "            (a,b)=input_x(c)\n",
    "            (c,d)=(overwrite_check(a,b))\n",
    "#             print(c,d)\n",
    "        output_display(d,b)\n",
    "        m=check_result_func(list_x_o)\n",
    "        if m == \"Have a Winner\":\n",
    "            break\n",
    "        else:\n",
    "            pass\n",
    "        (e,f)=input_o(\"No Error\")\n",
    "        (g,h)=overwrite_check(e,f)\n",
    "        while g==\"Error\":\n",
    "            (e,f)=input_o(g)\n",
    "            (g,h)=overwrite_check(e,f)\n",
    "#             print(g,h)\n",
    "        output_display(h,f)\n",
    "        n = check_result_func(list_x_o)\n",
    "        if m == \"Have a Winner\":\n",
    "            break\n",
    "        else:\n",
    "            pass\n",
    "        list_check = [1,2,3,4,5,6,7,8,9]\n",
    "        if list_pos==list_check:\n",
    "            print(\"It was a 'DRAW' \")\n",
    "            break\n",
    "        else:\n",
    "            pass"
   ]
  },
  {
   "cell_type": "code",
   "execution_count": 166,
   "id": "2983303a",
   "metadata": {},
   "outputs": [],
   "source": [
    "def check_result_func(lst):\n",
    "    if (lst[0]==lst[1]==lst[2]==\"x\") or (lst[0]==lst[1]==lst[2]==\"o\") :\n",
    "        print(\"Winner is {}\".format(lst[1]))\n",
    "        return(\"Have a Winner\")\n",
    "    elif (lst[3]==lst[4]==lst[5]==\"x\") or (lst[3]==lst[4]==lst[5]==\"o\"):\n",
    "        print(\"Winner is {}\".format(lst[4]))\n",
    "        return(\"Have a Winner\")\n",
    "    elif (lst[6]==lst[7]==lst[8]==\"x\") or (lst[6]==lst[7]==lst[8]==\"o\"):\n",
    "        print(\"Winner is {}\".format(lst[7]))\n",
    "        return(\"Have a Winner\")\n",
    "    elif (lst[0]==lst[3]==lst[6]==\"x\") or (lst[0]==lst[3]==lst[6]==\"o\"):\n",
    "        print(\"Winner is {}\".format(lst[3]))\n",
    "        return(\"Have a Winner\")\n",
    "    elif (lst[1]==lst[4]==lst[7]==\"x\") or (lst[1]==lst[4]==lst[7]==\"o\"):\n",
    "        print(\"Winner is {}\".format(lst[4]))\n",
    "        return(\"Have a Winner\")\n",
    "    elif (lst[2]==lst[5]==lst[8]==\"x\") or (lst[2]==lst[5]==lst[8]==\"o\"):\n",
    "        print(\"Winner is {}\".format(lst[5]))\n",
    "        return(\"Have a Winner\")\n",
    "    elif (lst[0]==lst[4]==lst[8]==\"x\") or (lst[0]==lst[4]==lst[8]==\"o\"):\n",
    "        print(\"Winner is {}\".format(lst[4]))\n",
    "        return(\"Have a Winner\")\n",
    "    elif (lst[2]==lst[4]==lst[6]==\"x\") or (lst[2]==lst[4]==lst[6]==\"o\"):\n",
    "        print(\"Winner is {}\".format(lst[4]))\n",
    "        return(\"Have a Winner\")\n",
    "    else:\n",
    "        pass"
   ]
  },
  {
   "cell_type": "code",
   "execution_count": 172,
   "id": "ea43ac0f",
   "metadata": {},
   "outputs": [],
   "source": [
    "list_pos = []\n",
    "list_x_o = [\" \",\" \",\" \",\" \",\" \",\" \",\" \",\" \",\" \",\" \"]"
   ]
  },
  {
   "cell_type": "code",
   "execution_count": 171,
   "id": "dc1b7fd6",
   "metadata": {
    "collapsed": true
   },
   "outputs": [
    {
     "name": "stdout",
     "output_type": "stream",
     "text": [
      "WELCOME TO TIC-TAC-TOE GAMES\n",
      "The rules of the game are as follows : \n",
      "   -When it's your turn enter postion where you want your character printed\n",
      "   -Wait for your turn\n",
      "   -NO TRYING TO OVERWRITE PREVIOULY USED POSITION\n",
      "The grid along with the positions are as follows : \n",
      "  1  |  2  |  3  \n",
      "_____|_____|_____\n",
      "  4  |  5  |  6  \n",
      "_____|_____|_____\n",
      "  7  |  8  |  9  \n",
      "     |     |     \n",
      "Enter position of x : 567\n",
      "Position out of range!!\n",
      "Enter position for x again : 0\n",
      "Position out of range!!\n",
      "Enter position for x again : 1\n",
      "  x  |     |     \n",
      "_____|_____|_____\n",
      "     |     |     \n",
      "_____|_____|_____\n",
      "     |     |     \n",
      "     |     |     \n",
      "Enter position of o : 2\n",
      "  x  |  o  |     \n",
      "_____|_____|_____\n",
      "     |     |     \n",
      "_____|_____|_____\n",
      "     |     |     \n",
      "     |     |     \n",
      "Enter position of x : 3\n",
      "  x  |  o  |  x  \n",
      "_____|_____|_____\n",
      "     |     |     \n",
      "_____|_____|_____\n",
      "     |     |     \n",
      "     |     |     \n",
      "Enter position of o : 4\n",
      "  x  |  o  |  x  \n",
      "_____|_____|_____\n",
      "  o  |     |     \n",
      "_____|_____|_____\n",
      "     |     |     \n",
      "     |     |     \n",
      "Enter position of x : 5\n",
      "  x  |  o  |  x  \n",
      "_____|_____|_____\n",
      "  o  |  x  |     \n",
      "_____|_____|_____\n",
      "     |     |     \n",
      "     |     |     \n",
      "Enter position of o : 6\n",
      "  x  |  o  |  x  \n",
      "_____|_____|_____\n",
      "  o  |  x  |  o  \n",
      "_____|_____|_____\n",
      "     |     |     \n",
      "     |     |     \n",
      "Enter position of x : 8\n",
      "  x  |  o  |  x  \n",
      "_____|_____|_____\n",
      "  o  |  x  |  o  \n",
      "_____|_____|_____\n",
      "     |  x  |     \n",
      "     |     |     \n",
      "Enter position of o : 1\n",
      "Error : Overwrite attempt detected\n",
      "No Cheating!!\n",
      "Enter correct position for o : 2\n",
      "Error o\n",
      "Error : Overwrite attempt detected\n",
      "No Cheating!!\n",
      "Enter correct position for o : 3\n",
      "Error o\n",
      "Error : Overwrite attempt detected\n",
      "No Cheating!!\n",
      "Enter correct position for o : 4\n",
      "Error o\n",
      "Error : Overwrite attempt detected\n",
      "No Cheating!!\n",
      "Enter correct position for o : 5\n",
      "Error o\n",
      "Error : Overwrite attempt detected\n",
      "No Cheating!!\n",
      "Enter correct position for o : 6\n",
      "Error o\n",
      "Error : Overwrite attempt detected\n",
      "No Cheating!!\n",
      "Enter correct position for o : 7\n",
      "Error o\n",
      "Error : Overwrite attempt detected\n",
      "No Cheating!!\n",
      "Enter correct position for o : 7\n",
      "Error o\n",
      "Error : Overwrite attempt detected\n",
      "No Cheating!!\n",
      "Enter correct position for o : 7\n",
      "Error o\n",
      "Error : Overwrite attempt detected\n",
      "No Cheating!!\n",
      "Enter correct position for o : 7\n",
      "Error o\n",
      "Error : Overwrite attempt detected\n",
      "No Cheating!!\n",
      "Enter correct position for o : 8\n",
      "Error o\n",
      "Error : Overwrite attempt detected\n",
      "No Cheating!!\n",
      "Enter correct position for o : 9\n",
      "Error o\n",
      "Error : Overwrite attempt detected\n",
      "No Cheating!!\n"
     ]
    },
    {
     "ename": "KeyboardInterrupt",
     "evalue": "Interrupted by user",
     "output_type": "error",
     "traceback": [
      "\u001b[1;31m---------------------------------------------------------------------------\u001b[0m",
      "\u001b[1;31mKeyboardInterrupt\u001b[0m                         Traceback (most recent call last)",
      "\u001b[1;32m<ipython-input-171-72d2709f4e40>\u001b[0m in \u001b[0;36m<module>\u001b[1;34m\u001b[0m\n\u001b[1;32m----> 1\u001b[1;33m \u001b[0mbase_func\u001b[0m\u001b[1;33m(\u001b[0m\u001b[1;33m)\u001b[0m\u001b[1;33m\u001b[0m\u001b[1;33m\u001b[0m\u001b[0m\n\u001b[0m",
      "\u001b[1;32m<ipython-input-165-b0ab2d340d9c>\u001b[0m in \u001b[0;36mbase_func\u001b[1;34m()\u001b[0m\n\u001b[0;32m     23\u001b[0m         \u001b[1;33m(\u001b[0m\u001b[0mg\u001b[0m\u001b[1;33m,\u001b[0m\u001b[0mh\u001b[0m\u001b[1;33m)\u001b[0m\u001b[1;33m=\u001b[0m\u001b[0moverwrite_check\u001b[0m\u001b[1;33m(\u001b[0m\u001b[0me\u001b[0m\u001b[1;33m,\u001b[0m\u001b[0mf\u001b[0m\u001b[1;33m)\u001b[0m\u001b[1;33m\u001b[0m\u001b[1;33m\u001b[0m\u001b[0m\n\u001b[0;32m     24\u001b[0m         \u001b[1;32mwhile\u001b[0m \u001b[0mg\u001b[0m\u001b[1;33m==\u001b[0m\u001b[1;34m\"Error\"\u001b[0m\u001b[1;33m:\u001b[0m\u001b[1;33m\u001b[0m\u001b[1;33m\u001b[0m\u001b[0m\n\u001b[1;32m---> 25\u001b[1;33m             \u001b[1;33m(\u001b[0m\u001b[0me\u001b[0m\u001b[1;33m,\u001b[0m\u001b[0mf\u001b[0m\u001b[1;33m)\u001b[0m\u001b[1;33m=\u001b[0m\u001b[0minput_o\u001b[0m\u001b[1;33m(\u001b[0m\u001b[0mg\u001b[0m\u001b[1;33m)\u001b[0m\u001b[1;33m\u001b[0m\u001b[1;33m\u001b[0m\u001b[0m\n\u001b[0m\u001b[0;32m     26\u001b[0m             \u001b[1;33m(\u001b[0m\u001b[0mg\u001b[0m\u001b[1;33m,\u001b[0m\u001b[0mh\u001b[0m\u001b[1;33m)\u001b[0m\u001b[1;33m=\u001b[0m\u001b[0moverwrite_check\u001b[0m\u001b[1;33m(\u001b[0m\u001b[0me\u001b[0m\u001b[1;33m,\u001b[0m\u001b[0mf\u001b[0m\u001b[1;33m)\u001b[0m\u001b[1;33m\u001b[0m\u001b[1;33m\u001b[0m\u001b[0m\n\u001b[0;32m     27\u001b[0m             \u001b[0mprint\u001b[0m\u001b[1;33m(\u001b[0m\u001b[0mg\u001b[0m\u001b[1;33m,\u001b[0m\u001b[0mh\u001b[0m\u001b[1;33m)\u001b[0m\u001b[1;33m\u001b[0m\u001b[1;33m\u001b[0m\u001b[0m\n",
      "\u001b[1;32m<ipython-input-162-488b1792c7b1>\u001b[0m in \u001b[0;36minput_o\u001b[1;34m(error)\u001b[0m\n\u001b[0;32m      4\u001b[0m         \u001b[0mprint\u001b[0m\u001b[1;33m(\u001b[0m\u001b[1;34m\"Error : Overwrite attempt detected\"\u001b[0m\u001b[1;33m)\u001b[0m\u001b[1;33m\u001b[0m\u001b[1;33m\u001b[0m\u001b[0m\n\u001b[0;32m      5\u001b[0m         \u001b[0mprint\u001b[0m\u001b[1;33m(\u001b[0m\u001b[1;34m\"No Cheating!!\"\u001b[0m\u001b[1;33m)\u001b[0m\u001b[1;33m\u001b[0m\u001b[1;33m\u001b[0m\u001b[0m\n\u001b[1;32m----> 6\u001b[1;33m         \u001b[0mpos_o\u001b[0m\u001b[1;33m=\u001b[0m\u001b[0mint\u001b[0m\u001b[1;33m(\u001b[0m\u001b[0minput\u001b[0m\u001b[1;33m(\u001b[0m\u001b[1;34m\"Enter correct position for o : \"\u001b[0m\u001b[1;33m)\u001b[0m\u001b[1;33m)\u001b[0m\u001b[1;33m\u001b[0m\u001b[1;33m\u001b[0m\u001b[0m\n\u001b[0m\u001b[0;32m      7\u001b[0m         \u001b[1;32mwhile\u001b[0m \u001b[0mpos_o\u001b[0m \u001b[1;32mnot\u001b[0m \u001b[1;32min\u001b[0m \u001b[0mlist1\u001b[0m\u001b[1;33m:\u001b[0m\u001b[1;33m\u001b[0m\u001b[1;33m\u001b[0m\u001b[0m\n\u001b[0;32m      8\u001b[0m             \u001b[0mprint\u001b[0m\u001b[1;33m(\u001b[0m\u001b[1;34m\"Position out of range!!\"\u001b[0m\u001b[1;33m)\u001b[0m\u001b[1;33m\u001b[0m\u001b[1;33m\u001b[0m\u001b[0m\n",
      "\u001b[1;32m~\\anaconda3\\lib\\site-packages\\ipykernel\\kernelbase.py\u001b[0m in \u001b[0;36mraw_input\u001b[1;34m(self, prompt)\u001b[0m\n\u001b[0;32m    858\u001b[0m                 \u001b[1;34m\"raw_input was called, but this frontend does not support input requests.\"\u001b[0m\u001b[1;33m\u001b[0m\u001b[1;33m\u001b[0m\u001b[0m\n\u001b[0;32m    859\u001b[0m             )\n\u001b[1;32m--> 860\u001b[1;33m         return self._input_request(str(prompt),\n\u001b[0m\u001b[0;32m    861\u001b[0m             \u001b[0mself\u001b[0m\u001b[1;33m.\u001b[0m\u001b[0m_parent_ident\u001b[0m\u001b[1;33m,\u001b[0m\u001b[1;33m\u001b[0m\u001b[1;33m\u001b[0m\u001b[0m\n\u001b[0;32m    862\u001b[0m             \u001b[0mself\u001b[0m\u001b[1;33m.\u001b[0m\u001b[0m_parent_header\u001b[0m\u001b[1;33m,\u001b[0m\u001b[1;33m\u001b[0m\u001b[1;33m\u001b[0m\u001b[0m\n",
      "\u001b[1;32m~\\anaconda3\\lib\\site-packages\\ipykernel\\kernelbase.py\u001b[0m in \u001b[0;36m_input_request\u001b[1;34m(self, prompt, ident, parent, password)\u001b[0m\n\u001b[0;32m    902\u001b[0m             \u001b[1;32mexcept\u001b[0m \u001b[0mKeyboardInterrupt\u001b[0m\u001b[1;33m:\u001b[0m\u001b[1;33m\u001b[0m\u001b[1;33m\u001b[0m\u001b[0m\n\u001b[0;32m    903\u001b[0m                 \u001b[1;31m# re-raise KeyboardInterrupt, to truncate traceback\u001b[0m\u001b[1;33m\u001b[0m\u001b[1;33m\u001b[0m\u001b[1;33m\u001b[0m\u001b[0m\n\u001b[1;32m--> 904\u001b[1;33m                 \u001b[1;32mraise\u001b[0m \u001b[0mKeyboardInterrupt\u001b[0m\u001b[1;33m(\u001b[0m\u001b[1;34m\"Interrupted by user\"\u001b[0m\u001b[1;33m)\u001b[0m \u001b[1;32mfrom\u001b[0m \u001b[1;32mNone\u001b[0m\u001b[1;33m\u001b[0m\u001b[1;33m\u001b[0m\u001b[0m\n\u001b[0m\u001b[0;32m    905\u001b[0m             \u001b[1;32mexcept\u001b[0m \u001b[0mException\u001b[0m \u001b[1;32mas\u001b[0m \u001b[0me\u001b[0m\u001b[1;33m:\u001b[0m\u001b[1;33m\u001b[0m\u001b[1;33m\u001b[0m\u001b[0m\n\u001b[0;32m    906\u001b[0m                 \u001b[0mself\u001b[0m\u001b[1;33m.\u001b[0m\u001b[0mlog\u001b[0m\u001b[1;33m.\u001b[0m\u001b[0mwarning\u001b[0m\u001b[1;33m(\u001b[0m\u001b[1;34m\"Invalid Message:\"\u001b[0m\u001b[1;33m,\u001b[0m \u001b[0mexc_info\u001b[0m\u001b[1;33m=\u001b[0m\u001b[1;32mTrue\u001b[0m\u001b[1;33m)\u001b[0m\u001b[1;33m\u001b[0m\u001b[1;33m\u001b[0m\u001b[0m\n",
      "\u001b[1;31mKeyboardInterrupt\u001b[0m: Interrupted by user"
     ]
    }
   ],
   "source": [
    "base_func()"
   ]
  },
  {
   "cell_type": "code",
   "execution_count": 158,
   "id": "407ea45b",
   "metadata": {},
   "outputs": [
    {
     "data": {
      "text/plain": [
       "[' ', ' ', ' ', ' ', ' ', ' ', ' ', 'x', ' ', ' ']"
      ]
     },
     "execution_count": 158,
     "metadata": {},
     "output_type": "execute_result"
    }
   ],
   "source": [
    "list_x_o"
   ]
  },
  {
   "cell_type": "code",
   "execution_count": 173,
   "id": "b2f25c4b",
   "metadata": {},
   "outputs": [
    {
     "name": "stdout",
     "output_type": "stream",
     "text": [
      "WELCOME TO TIC-TAC-TOE GAMES\n",
      "The rules of the game are as follows : \n",
      "   -When it's your turn enter postion where you want your character printed\n",
      "   -Wait for your turn\n",
      "   -NO TRYING TO OVERWRITE PREVIOULY USED POSITION\n",
      "The grid along with the positions are as follows : \n",
      "  1  |  2  |  3  \n",
      "_____|_____|_____\n",
      "  4  |  5  |  6  \n",
      "_____|_____|_____\n",
      "  7  |  8  |  9  \n",
      "     |     |     \n",
      "Enter position of x : 0\n",
      "Position out of range!!\n",
      "Enter position for x again : 1\n",
      "  x  |     |     \n",
      "_____|_____|_____\n",
      "     |     |     \n",
      "_____|_____|_____\n",
      "     |     |     \n",
      "     |     |     \n",
      "Enter position of o : 7\n",
      "  x  |     |     \n",
      "_____|_____|_____\n",
      "     |     |     \n",
      "_____|_____|_____\n",
      "  o  |     |     \n",
      "     |     |     \n",
      "Enter position of x : 1\n",
      "Error : Overwrite attempt detected\n",
      "No Cheating!!\n",
      "Enter correct position for x : 2\n",
      "Error x\n",
      "Error : Overwrite attempt detected\n",
      "No Cheating!!\n",
      "Enter correct position for x : 2\n",
      "Error x\n",
      "Error : Overwrite attempt detected\n",
      "No Cheating!!\n",
      "Enter correct position for x : 3\n",
      "Error x\n",
      "Error : Overwrite attempt detected\n",
      "No Cheating!!\n",
      "Enter correct position for x : 4\n",
      "Error x\n",
      "Error : Overwrite attempt detected\n",
      "No Cheating!!\n",
      "Enter correct position for x : 5\n",
      "Error x\n",
      "Error : Overwrite attempt detected\n",
      "No Cheating!!\n",
      "Enter correct position for x : 5\n",
      "Error x\n",
      "Error : Overwrite attempt detected\n",
      "No Cheating!!\n"
     ]
    },
    {
     "ename": "KeyboardInterrupt",
     "evalue": "Interrupted by user",
     "output_type": "error",
     "traceback": [
      "\u001b[1;31m---------------------------------------------------------------------------\u001b[0m",
      "\u001b[1;31mKeyboardInterrupt\u001b[0m                         Traceback (most recent call last)",
      "\u001b[1;32m<ipython-input-173-72d2709f4e40>\u001b[0m in \u001b[0;36m<module>\u001b[1;34m\u001b[0m\n\u001b[1;32m----> 1\u001b[1;33m \u001b[0mbase_func\u001b[0m\u001b[1;33m(\u001b[0m\u001b[1;33m)\u001b[0m\u001b[1;33m\u001b[0m\u001b[1;33m\u001b[0m\u001b[0m\n\u001b[0m",
      "\u001b[1;32m<ipython-input-165-b0ab2d340d9c>\u001b[0m in \u001b[0;36mbase_func\u001b[1;34m()\u001b[0m\n\u001b[0;32m     11\u001b[0m         \u001b[1;33m(\u001b[0m\u001b[0mc\u001b[0m\u001b[1;33m,\u001b[0m\u001b[0md\u001b[0m\u001b[1;33m)\u001b[0m\u001b[1;33m=\u001b[0m\u001b[0moverwrite_check\u001b[0m\u001b[1;33m(\u001b[0m\u001b[0ma\u001b[0m\u001b[1;33m,\u001b[0m\u001b[0mb\u001b[0m\u001b[1;33m)\u001b[0m\u001b[1;33m\u001b[0m\u001b[1;33m\u001b[0m\u001b[0m\n\u001b[0;32m     12\u001b[0m         \u001b[1;32mwhile\u001b[0m \u001b[0mc\u001b[0m\u001b[1;33m==\u001b[0m\u001b[1;34m\"Error\"\u001b[0m\u001b[1;33m:\u001b[0m\u001b[1;33m\u001b[0m\u001b[1;33m\u001b[0m\u001b[0m\n\u001b[1;32m---> 13\u001b[1;33m             \u001b[1;33m(\u001b[0m\u001b[0ma\u001b[0m\u001b[1;33m,\u001b[0m\u001b[0mb\u001b[0m\u001b[1;33m)\u001b[0m\u001b[1;33m=\u001b[0m\u001b[0minput_x\u001b[0m\u001b[1;33m(\u001b[0m\u001b[0mc\u001b[0m\u001b[1;33m)\u001b[0m\u001b[1;33m\u001b[0m\u001b[1;33m\u001b[0m\u001b[0m\n\u001b[0m\u001b[0;32m     14\u001b[0m             \u001b[1;33m(\u001b[0m\u001b[0mc\u001b[0m\u001b[1;33m,\u001b[0m\u001b[0md\u001b[0m\u001b[1;33m)\u001b[0m\u001b[1;33m=\u001b[0m\u001b[1;33m(\u001b[0m\u001b[0moverwrite_check\u001b[0m\u001b[1;33m(\u001b[0m\u001b[0ma\u001b[0m\u001b[1;33m,\u001b[0m\u001b[0mb\u001b[0m\u001b[1;33m)\u001b[0m\u001b[1;33m)\u001b[0m\u001b[1;33m\u001b[0m\u001b[1;33m\u001b[0m\u001b[0m\n\u001b[0;32m     15\u001b[0m             \u001b[0mprint\u001b[0m\u001b[1;33m(\u001b[0m\u001b[0mc\u001b[0m\u001b[1;33m,\u001b[0m\u001b[0md\u001b[0m\u001b[1;33m)\u001b[0m\u001b[1;33m\u001b[0m\u001b[1;33m\u001b[0m\u001b[0m\n",
      "\u001b[1;32m<ipython-input-161-0d18e1756678>\u001b[0m in \u001b[0;36minput_x\u001b[1;34m(error)\u001b[0m\n\u001b[0;32m      4\u001b[0m         \u001b[0mprint\u001b[0m\u001b[1;33m(\u001b[0m\u001b[1;34m\"Error : Overwrite attempt detected\"\u001b[0m\u001b[1;33m)\u001b[0m\u001b[1;33m\u001b[0m\u001b[1;33m\u001b[0m\u001b[0m\n\u001b[0;32m      5\u001b[0m         \u001b[0mprint\u001b[0m\u001b[1;33m(\u001b[0m\u001b[1;34m\"No Cheating!!\"\u001b[0m\u001b[1;33m)\u001b[0m\u001b[1;33m\u001b[0m\u001b[1;33m\u001b[0m\u001b[0m\n\u001b[1;32m----> 6\u001b[1;33m         \u001b[0mpos_x\u001b[0m\u001b[1;33m=\u001b[0m\u001b[0mint\u001b[0m\u001b[1;33m(\u001b[0m\u001b[0minput\u001b[0m\u001b[1;33m(\u001b[0m\u001b[1;34m\"Enter correct position for x : \"\u001b[0m\u001b[1;33m)\u001b[0m\u001b[1;33m)\u001b[0m\u001b[1;33m\u001b[0m\u001b[1;33m\u001b[0m\u001b[0m\n\u001b[0m\u001b[0;32m      7\u001b[0m         \u001b[1;32mwhile\u001b[0m \u001b[0mpos_x\u001b[0m \u001b[1;32mnot\u001b[0m \u001b[1;32min\u001b[0m \u001b[0mlist1\u001b[0m\u001b[1;33m:\u001b[0m\u001b[1;33m\u001b[0m\u001b[1;33m\u001b[0m\u001b[0m\n\u001b[0;32m      8\u001b[0m             \u001b[0mprint\u001b[0m\u001b[1;33m(\u001b[0m\u001b[1;34m\"Position out of range!!\"\u001b[0m\u001b[1;33m)\u001b[0m\u001b[1;33m\u001b[0m\u001b[1;33m\u001b[0m\u001b[0m\n",
      "\u001b[1;32m~\\anaconda3\\lib\\site-packages\\ipykernel\\kernelbase.py\u001b[0m in \u001b[0;36mraw_input\u001b[1;34m(self, prompt)\u001b[0m\n\u001b[0;32m    858\u001b[0m                 \u001b[1;34m\"raw_input was called, but this frontend does not support input requests.\"\u001b[0m\u001b[1;33m\u001b[0m\u001b[1;33m\u001b[0m\u001b[0m\n\u001b[0;32m    859\u001b[0m             )\n\u001b[1;32m--> 860\u001b[1;33m         return self._input_request(str(prompt),\n\u001b[0m\u001b[0;32m    861\u001b[0m             \u001b[0mself\u001b[0m\u001b[1;33m.\u001b[0m\u001b[0m_parent_ident\u001b[0m\u001b[1;33m,\u001b[0m\u001b[1;33m\u001b[0m\u001b[1;33m\u001b[0m\u001b[0m\n\u001b[0;32m    862\u001b[0m             \u001b[0mself\u001b[0m\u001b[1;33m.\u001b[0m\u001b[0m_parent_header\u001b[0m\u001b[1;33m,\u001b[0m\u001b[1;33m\u001b[0m\u001b[1;33m\u001b[0m\u001b[0m\n",
      "\u001b[1;32m~\\anaconda3\\lib\\site-packages\\ipykernel\\kernelbase.py\u001b[0m in \u001b[0;36m_input_request\u001b[1;34m(self, prompt, ident, parent, password)\u001b[0m\n\u001b[0;32m    902\u001b[0m             \u001b[1;32mexcept\u001b[0m \u001b[0mKeyboardInterrupt\u001b[0m\u001b[1;33m:\u001b[0m\u001b[1;33m\u001b[0m\u001b[1;33m\u001b[0m\u001b[0m\n\u001b[0;32m    903\u001b[0m                 \u001b[1;31m# re-raise KeyboardInterrupt, to truncate traceback\u001b[0m\u001b[1;33m\u001b[0m\u001b[1;33m\u001b[0m\u001b[1;33m\u001b[0m\u001b[0m\n\u001b[1;32m--> 904\u001b[1;33m                 \u001b[1;32mraise\u001b[0m \u001b[0mKeyboardInterrupt\u001b[0m\u001b[1;33m(\u001b[0m\u001b[1;34m\"Interrupted by user\"\u001b[0m\u001b[1;33m)\u001b[0m \u001b[1;32mfrom\u001b[0m \u001b[1;32mNone\u001b[0m\u001b[1;33m\u001b[0m\u001b[1;33m\u001b[0m\u001b[0m\n\u001b[0m\u001b[0;32m    905\u001b[0m             \u001b[1;32mexcept\u001b[0m \u001b[0mException\u001b[0m \u001b[1;32mas\u001b[0m \u001b[0me\u001b[0m\u001b[1;33m:\u001b[0m\u001b[1;33m\u001b[0m\u001b[1;33m\u001b[0m\u001b[0m\n\u001b[0;32m    906\u001b[0m                 \u001b[0mself\u001b[0m\u001b[1;33m.\u001b[0m\u001b[0mlog\u001b[0m\u001b[1;33m.\u001b[0m\u001b[0mwarning\u001b[0m\u001b[1;33m(\u001b[0m\u001b[1;34m\"Invalid Message:\"\u001b[0m\u001b[1;33m,\u001b[0m \u001b[0mexc_info\u001b[0m\u001b[1;33m=\u001b[0m\u001b[1;32mTrue\u001b[0m\u001b[1;33m)\u001b[0m\u001b[1;33m\u001b[0m\u001b[1;33m\u001b[0m\u001b[0m\n",
      "\u001b[1;31mKeyboardInterrupt\u001b[0m: Interrupted by user"
     ]
    }
   ],
   "source": [
    "base_func()"
   ]
  },
  {
   "cell_type": "code",
   "execution_count": null,
   "id": "e2aac1e6",
   "metadata": {},
   "outputs": [],
   "source": [
    "# New and correct overwrite_check function\n",
    "def overwrite_check(player,pos):\n",
    "    list_pos.append(pos)\n",
    "    list_pos_2=list_pos\n",
    "    set_pos=set(list_pos)\n",
    "    list_set_pos=list(set_pos)\n",
    "    list_pos_2.sort()\n",
    "    list_set_pos.sort()\n",
    "    print(list_set_pos)\n",
    "    print(list_pos)\n",
    "    if list_set_pos==list_pos_2:\n",
    "        return(\"No Error\",player)\n",
    "    else:\n",
    "        list_pos.pop()\n",
    "        list_pos_2=list(set(list_pos_2))\n",
    "        return(\"Error\",player)"
   ]
  },
  {
   "cell_type": "code",
   "execution_count": 1,
   "id": "f907f57c",
   "metadata": {},
   "outputs": [
    {
     "name": "stdout",
     "output_type": "stream",
     "text": [
      "{1, 2, 3, 4, 5, 6, 9}\n"
     ]
    }
   ],
   "source": [
    "list1 = [1,4,5,6,3,4,2,9]\n",
    "print(set(list1))"
   ]
  },
  {
   "cell_type": "code",
   "execution_count": 2,
   "id": "61c8d8f4",
   "metadata": {},
   "outputs": [],
   "source": [
    "list2 = []"
   ]
  },
  {
   "cell_type": "code",
   "execution_count": 3,
   "id": "a15cb3e9",
   "metadata": {},
   "outputs": [],
   "source": [
    "list2.append(1)"
   ]
  },
  {
   "cell_type": "code",
   "execution_count": 4,
   "id": "f7405d26",
   "metadata": {},
   "outputs": [
    {
     "data": {
      "text/plain": [
       "[1]"
      ]
     },
     "execution_count": 4,
     "metadata": {},
     "output_type": "execute_result"
    }
   ],
   "source": [
    "list2"
   ]
  },
  {
   "cell_type": "code",
   "execution_count": 5,
   "id": "e7250ff3",
   "metadata": {},
   "outputs": [],
   "source": [
    "list2.append(7)"
   ]
  },
  {
   "cell_type": "code",
   "execution_count": 6,
   "id": "d4584b5c",
   "metadata": {},
   "outputs": [
    {
     "data": {
      "text/plain": [
       "[1, 7]"
      ]
     },
     "execution_count": 6,
     "metadata": {},
     "output_type": "execute_result"
    }
   ],
   "source": [
    "list2"
   ]
  },
  {
   "cell_type": "code",
   "execution_count": 7,
   "id": "2ea2c931",
   "metadata": {},
   "outputs": [],
   "source": [
    "list2.append(1)"
   ]
  },
  {
   "cell_type": "code",
   "execution_count": 8,
   "id": "6db16c90",
   "metadata": {},
   "outputs": [
    {
     "data": {
      "text/plain": [
       "[1, 7, 1]"
      ]
     },
     "execution_count": 8,
     "metadata": {},
     "output_type": "execute_result"
    }
   ],
   "source": [
    "list2"
   ]
  },
  {
   "cell_type": "code",
   "execution_count": null,
   "id": "dd6fa91d",
   "metadata": {},
   "outputs": [],
   "source": [
    "def compare_list(list2,lst3):\n",
    "    set_list3 = set(lst3)\n",
    "    list3 = list(set_list3)\n",
    "    list2.sort()\n",
    "    if list2 == list3:\n",
    "        return True\n",
    "    else:\n",
    "        return False"
   ]
  },
  {
   "cell_type": "code",
   "execution_count": null,
   "id": "d666375c",
   "metadata": {},
   "outputs": [],
   "source": [
    "def input_x(error):\n",
    "    list1 = [1,2,3,4,5,6,7,8,9]\n",
    "    if error==\"Error\":\n",
    "        print(\"Error : Overwrite attempt detected\")\n",
    "        print(\"No Cheating!!\")\n",
    "        pos_x=int(input(\"Enter correct position for x : \"))\n",
    "        while pos_x not in list1:\n",
    "            print(\"Position out of range!!\")\n",
    "            pos_x=int(input(\"Enter position for x again : \"))\n",
    "#             return (\"x\",pos_x)\n",
    "        return (\"x\",pos_x)\n",
    "    else:\n",
    "        pos_x = int(input(\"Enter position of x : \"))\n",
    "        while pos_x not in list1:\n",
    "            print(\"Position out of range!!\")\n",
    "            pos_x=int(input(\"Enter position for x again : \"))\n",
    "            #return(\"x\",pos_x)\n",
    "        return(\"x\",pos_x)"
   ]
  },
  {
   "cell_type": "code",
   "execution_count": 9,
   "id": "d857078e",
   "metadata": {},
   "outputs": [],
   "source": [
    "def dummy():\n",
    "    a=input(\"Enter : \")\n",
    "    print(type(a))\n",
    "    b=[\"2\"]"
   ]
  },
  {
   "cell_type": "code",
   "execution_count": 10,
   "id": "65b4efab",
   "metadata": {},
   "outputs": [
    {
     "name": "stdout",
     "output_type": "stream",
     "text": [
      "Enter : 2\n",
      "<class 'str'>\n"
     ]
    }
   ],
   "source": [
    "dummy()"
   ]
  },
  {
   "cell_type": "code",
   "execution_count": 22,
   "id": "a3b05106",
   "metadata": {},
   "outputs": [],
   "source": [
    "def dummy():\n",
    "    a=input(\"Enter : \")\n",
    "    print(type(a))\n",
    "    b=[\"2\"]\n",
    "    if a==b:\n",
    "        k=int(a)\n",
    "        print(True)\n",
    "        return k\n",
    "    else:\n",
    "        print(False)"
   ]
  },
  {
   "cell_type": "code",
   "execution_count": 23,
   "id": "6e98edba",
   "metadata": {},
   "outputs": [
    {
     "name": "stdout",
     "output_type": "stream",
     "text": [
      "Enter : 2\n",
      "<class 'str'>\n",
      "False\n"
     ]
    }
   ],
   "source": [
    "c=(dummy())"
   ]
  },
  {
   "cell_type": "code",
   "execution_count": 19,
   "id": "5c1d8ac1",
   "metadata": {},
   "outputs": [
    {
     "name": "stdout",
     "output_type": "stream",
     "text": [
      "None\n"
     ]
    }
   ],
   "source": [
    "print(c)"
   ]
  },
  {
   "cell_type": "code",
   "execution_count": 24,
   "id": "cfe8ca72",
   "metadata": {},
   "outputs": [],
   "source": [
    "def dummy():\n",
    "    a=[]\n",
    "    a=input(\"Enter : \")\n",
    "    print(type(a))\n",
    "    b=[\"2\"]\n",
    "    if a==b:\n",
    "        k=int(a)\n",
    "        print(True)\n",
    "        return k\n",
    "    else:\n",
    "        print(False)"
   ]
  },
  {
   "cell_type": "code",
   "execution_count": 25,
   "id": "f82eeb96",
   "metadata": {},
   "outputs": [
    {
     "name": "stdout",
     "output_type": "stream",
     "text": [
      "Enter : 2\n",
      "<class 'str'>\n",
      "False\n"
     ]
    }
   ],
   "source": [
    "dummy()"
   ]
  },
  {
   "cell_type": "code",
   "execution_count": 26,
   "id": "71f925cb",
   "metadata": {},
   "outputs": [],
   "source": [
    "def dummy():\n",
    "    a=input(\"Enter : \")\n",
    "    print(type(a))\n",
    "    b=\"2\"\n",
    "    if a==b:\n",
    "        k=int(a)\n",
    "        print(True)\n",
    "        return k\n",
    "    else:\n",
    "        print(False)"
   ]
  },
  {
   "cell_type": "code",
   "execution_count": 27,
   "id": "517e8cbc",
   "metadata": {},
   "outputs": [
    {
     "name": "stdout",
     "output_type": "stream",
     "text": [
      "Enter : 2\n",
      "<class 'str'>\n",
      "True\n"
     ]
    },
    {
     "data": {
      "text/plain": [
       "2"
      ]
     },
     "execution_count": 27,
     "metadata": {},
     "output_type": "execute_result"
    }
   ],
   "source": [
    "dummy()"
   ]
  },
  {
   "cell_type": "code",
   "execution_count": null,
   "id": "d7f9d233",
   "metadata": {},
   "outputs": [],
   "source": [
    "def check_input():\n",
    "    "
   ]
  }
 ],
 "metadata": {
  "kernelspec": {
   "display_name": "Python 3",
   "language": "python",
   "name": "python3"
  },
  "language_info": {
   "codemirror_mode": {
    "name": "ipython",
    "version": 3
   },
   "file_extension": ".py",
   "mimetype": "text/x-python",
   "name": "python",
   "nbconvert_exporter": "python",
   "pygments_lexer": "ipython3",
   "version": "3.8.8"
  }
 },
 "nbformat": 4,
 "nbformat_minor": 5
}
