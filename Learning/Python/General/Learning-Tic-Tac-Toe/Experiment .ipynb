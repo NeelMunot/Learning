{
 "cells": [
  {
   "cell_type": "code",
   "execution_count": 1,
   "id": "25711114",
   "metadata": {},
   "outputs": [
    {
     "name": "stdout",
     "output_type": "stream",
     "text": [
      "Enter pos_x12\n"
     ]
    },
    {
     "ename": "NameError",
     "evalue": "name 'set_x' is not defined",
     "output_type": "error",
     "traceback": [
      "\u001b[1;31m---------------------------------------------------------------------------\u001b[0m",
      "\u001b[1;31mNameError\u001b[0m                                 Traceback (most recent call last)",
      "\u001b[1;32m<ipython-input-1-9a43fcd5c1a9>\u001b[0m in \u001b[0;36m<module>\u001b[1;34m\u001b[0m\n\u001b[0;32m      2\u001b[0m \u001b[1;32mwhile\u001b[0m \u001b[0ma\u001b[0m\u001b[1;33m==\u001b[0m\u001b[1;32mTrue\u001b[0m\u001b[1;33m:\u001b[0m\u001b[1;33m\u001b[0m\u001b[1;33m\u001b[0m\u001b[0m\n\u001b[0;32m      3\u001b[0m     \u001b[0mpos_x\u001b[0m\u001b[1;33m=\u001b[0m\u001b[0mint\u001b[0m\u001b[1;33m(\u001b[0m\u001b[0minput\u001b[0m\u001b[1;33m(\u001b[0m\u001b[1;34m\"Enter pos_x\"\u001b[0m\u001b[1;33m)\u001b[0m\u001b[1;33m.\u001b[0m\u001b[0mstrip\u001b[0m\u001b[1;33m(\u001b[0m\u001b[1;33m)\u001b[0m\u001b[1;33m)\u001b[0m\u001b[1;33m\u001b[0m\u001b[1;33m\u001b[0m\u001b[0m\n\u001b[1;32m----> 4\u001b[1;33m     \u001b[1;32mfor\u001b[0m \u001b[0mitem\u001b[0m \u001b[1;32min\u001b[0m \u001b[0mset_x\u001b[0m\u001b[1;33m:\u001b[0m\u001b[1;33m\u001b[0m\u001b[1;33m\u001b[0m\u001b[0m\n\u001b[0m\u001b[0;32m      5\u001b[0m         \u001b[1;32mif\u001b[0m \u001b[0mpos_x\u001b[0m\u001b[1;33m==\u001b[0m\u001b[0mitem\u001b[0m\u001b[1;33m:\u001b[0m\u001b[1;33m\u001b[0m\u001b[1;33m\u001b[0m\u001b[0m\n\u001b[0;32m      6\u001b[0m             \u001b[0mprint\u001b[0m\u001b[1;33m(\u001b[0m\u001b[1;34m\"No Cheating\"\u001b[0m\u001b[1;33m)\u001b[0m\u001b[1;33m\u001b[0m\u001b[1;33m\u001b[0m\u001b[0m\n",
      "\u001b[1;31mNameError\u001b[0m: name 'set_x' is not defined"
     ]
    }
   ],
   "source": [
    "# a=True\n",
    "# while a==True:\n",
    "#     pos_x=int(input(\"Enter pos_x\").strip())\n",
    "#     for item in set_x:\n",
    "#         if pos_x==item:\n",
    "#             print(\"No Cheating\")\n",
    "#         else:\n",
    "#             pass\n",
    "#     #a=False\n",
    "#     break"
   ]
  },
  {
   "cell_type": "code",
   "execution_count": 2,
   "id": "9a14d052",
   "metadata": {},
   "outputs": [],
   "source": [
    "set_x={1, 3, 4, 5, 6, 23}"
   ]
  },
  {
   "cell_type": "code",
   "execution_count": 3,
   "id": "9d3a60f4",
   "metadata": {},
   "outputs": [
    {
     "name": "stdout",
     "output_type": "stream",
     "text": [
      "Enter pos_x3\n",
      "No Cheating\n"
     ]
    }
   ],
   "source": [
    "# a=True\n",
    "# while a==True:\n",
    "#     pos_x=int(input(\"Enter pos_x\").strip())\n",
    "#     for item in set_x:\n",
    "#         if pos_x==item:\n",
    "#             print(\"No Cheating\")\n",
    "#         else:\n",
    "#             pass\n",
    "#     #a=False\n",
    "#     break"
   ]
  },
  {
   "cell_type": "code",
   "execution_count": 5,
   "id": "f60b8b26",
   "metadata": {},
   "outputs": [
    {
     "name": "stdout",
     "output_type": "stream",
     "text": [
      "Enter pos_x23\n",
      "No Cheating\n",
      "Enter pos_x4\n",
      "No Cheating\n",
      "Enter pos_x7\n"
     ]
    },
    {
     "ename": "KeyboardInterrupt",
     "evalue": "Interrupted by user",
     "output_type": "error",
     "traceback": [
      "\u001b[1;31m---------------------------------------------------------------------------\u001b[0m",
      "\u001b[1;31mKeyboardInterrupt\u001b[0m                         Traceback (most recent call last)",
      "\u001b[1;32m<ipython-input-5-36475b6e00b0>\u001b[0m in \u001b[0;36m<module>\u001b[1;34m\u001b[0m\n\u001b[0;32m      1\u001b[0m \u001b[0ma\u001b[0m\u001b[1;33m=\u001b[0m\u001b[1;32mTrue\u001b[0m\u001b[1;33m\u001b[0m\u001b[1;33m\u001b[0m\u001b[0m\n\u001b[0;32m      2\u001b[0m \u001b[1;32mwhile\u001b[0m \u001b[0ma\u001b[0m\u001b[1;33m==\u001b[0m\u001b[1;32mTrue\u001b[0m\u001b[1;33m:\u001b[0m\u001b[1;33m\u001b[0m\u001b[1;33m\u001b[0m\u001b[0m\n\u001b[1;32m----> 3\u001b[1;33m     \u001b[0mpos_x\u001b[0m\u001b[1;33m=\u001b[0m\u001b[0mint\u001b[0m\u001b[1;33m(\u001b[0m\u001b[0minput\u001b[0m\u001b[1;33m(\u001b[0m\u001b[1;34m\"Enter pos_x\"\u001b[0m\u001b[1;33m)\u001b[0m\u001b[1;33m.\u001b[0m\u001b[0mstrip\u001b[0m\u001b[1;33m(\u001b[0m\u001b[1;33m)\u001b[0m\u001b[1;33m)\u001b[0m\u001b[1;33m\u001b[0m\u001b[1;33m\u001b[0m\u001b[0m\n\u001b[0m\u001b[0;32m      4\u001b[0m     \u001b[1;32mfor\u001b[0m \u001b[0mitem\u001b[0m \u001b[1;32min\u001b[0m \u001b[0mset_x\u001b[0m\u001b[1;33m:\u001b[0m\u001b[1;33m\u001b[0m\u001b[1;33m\u001b[0m\u001b[0m\n\u001b[0;32m      5\u001b[0m         \u001b[1;32mif\u001b[0m \u001b[0mpos_x\u001b[0m\u001b[1;33m==\u001b[0m\u001b[0mitem\u001b[0m\u001b[1;33m:\u001b[0m\u001b[1;33m\u001b[0m\u001b[1;33m\u001b[0m\u001b[0m\n",
      "\u001b[1;32m~\\anaconda3\\lib\\site-packages\\ipykernel\\kernelbase.py\u001b[0m in \u001b[0;36mraw_input\u001b[1;34m(self, prompt)\u001b[0m\n\u001b[0;32m    858\u001b[0m                 \u001b[1;34m\"raw_input was called, but this frontend does not support input requests.\"\u001b[0m\u001b[1;33m\u001b[0m\u001b[1;33m\u001b[0m\u001b[0m\n\u001b[0;32m    859\u001b[0m             )\n\u001b[1;32m--> 860\u001b[1;33m         return self._input_request(str(prompt),\n\u001b[0m\u001b[0;32m    861\u001b[0m             \u001b[0mself\u001b[0m\u001b[1;33m.\u001b[0m\u001b[0m_parent_ident\u001b[0m\u001b[1;33m,\u001b[0m\u001b[1;33m\u001b[0m\u001b[1;33m\u001b[0m\u001b[0m\n\u001b[0;32m    862\u001b[0m             \u001b[0mself\u001b[0m\u001b[1;33m.\u001b[0m\u001b[0m_parent_header\u001b[0m\u001b[1;33m,\u001b[0m\u001b[1;33m\u001b[0m\u001b[1;33m\u001b[0m\u001b[0m\n",
      "\u001b[1;32m~\\anaconda3\\lib\\site-packages\\ipykernel\\kernelbase.py\u001b[0m in \u001b[0;36m_input_request\u001b[1;34m(self, prompt, ident, parent, password)\u001b[0m\n\u001b[0;32m    902\u001b[0m             \u001b[1;32mexcept\u001b[0m \u001b[0mKeyboardInterrupt\u001b[0m\u001b[1;33m:\u001b[0m\u001b[1;33m\u001b[0m\u001b[1;33m\u001b[0m\u001b[0m\n\u001b[0;32m    903\u001b[0m                 \u001b[1;31m# re-raise KeyboardInterrupt, to truncate traceback\u001b[0m\u001b[1;33m\u001b[0m\u001b[1;33m\u001b[0m\u001b[1;33m\u001b[0m\u001b[0m\n\u001b[1;32m--> 904\u001b[1;33m                 \u001b[1;32mraise\u001b[0m \u001b[0mKeyboardInterrupt\u001b[0m\u001b[1;33m(\u001b[0m\u001b[1;34m\"Interrupted by user\"\u001b[0m\u001b[1;33m)\u001b[0m \u001b[1;32mfrom\u001b[0m \u001b[1;32mNone\u001b[0m\u001b[1;33m\u001b[0m\u001b[1;33m\u001b[0m\u001b[0m\n\u001b[0m\u001b[0;32m    905\u001b[0m             \u001b[1;32mexcept\u001b[0m \u001b[0mException\u001b[0m \u001b[1;32mas\u001b[0m \u001b[0me\u001b[0m\u001b[1;33m:\u001b[0m\u001b[1;33m\u001b[0m\u001b[1;33m\u001b[0m\u001b[0m\n\u001b[0;32m    906\u001b[0m                 \u001b[0mself\u001b[0m\u001b[1;33m.\u001b[0m\u001b[0mlog\u001b[0m\u001b[1;33m.\u001b[0m\u001b[0mwarning\u001b[0m\u001b[1;33m(\u001b[0m\u001b[1;34m\"Invalid Message:\"\u001b[0m\u001b[1;33m,\u001b[0m \u001b[0mexc_info\u001b[0m\u001b[1;33m=\u001b[0m\u001b[1;32mTrue\u001b[0m\u001b[1;33m)\u001b[0m\u001b[1;33m\u001b[0m\u001b[1;33m\u001b[0m\u001b[0m\n",
      "\u001b[1;31mKeyboardInterrupt\u001b[0m: Interrupted by user"
     ]
    }
   ],
   "source": [
    "a=True\n",
    "while a==True:\n",
    "    pos_x=int(input(\"Enter pos_x\").strip())\n",
    "    for item in set_x:\n",
    "        if pos_x==item:\n",
    "            print(\"No Cheating\")\n",
    "        else:\n",
    "            pass\n",
    "    #a=False\n",
    "    continue"
   ]
  },
  {
   "cell_type": "code",
   "execution_count": 8,
   "id": "d902775d",
   "metadata": {},
   "outputs": [
    {
     "name": "stdout",
     "output_type": "stream",
     "text": [
      "Enter pos_x3\n",
      "No Cheating\n",
      "3\n",
      "Enter pos_x12\n",
      "12\n"
     ]
    },
    {
     "ename": "KeyboardInterrupt",
     "evalue": "Interrupted by user",
     "output_type": "error",
     "traceback": [
      "\u001b[1;31m---------------------------------------------------------------------------\u001b[0m",
      "\u001b[1;31mKeyboardInterrupt\u001b[0m                         Traceback (most recent call last)",
      "\u001b[1;32m<ipython-input-8-277071f7a5c6>\u001b[0m in \u001b[0;36m<module>\u001b[1;34m\u001b[0m\n\u001b[0;32m      1\u001b[0m \u001b[0ma\u001b[0m\u001b[1;33m=\u001b[0m\u001b[1;32mTrue\u001b[0m\u001b[1;33m\u001b[0m\u001b[1;33m\u001b[0m\u001b[0m\n\u001b[0;32m      2\u001b[0m \u001b[1;32mwhile\u001b[0m \u001b[0ma\u001b[0m\u001b[1;33m==\u001b[0m\u001b[1;32mTrue\u001b[0m\u001b[1;33m:\u001b[0m\u001b[1;33m\u001b[0m\u001b[1;33m\u001b[0m\u001b[0m\n\u001b[1;32m----> 3\u001b[1;33m     \u001b[0mpos_x\u001b[0m\u001b[1;33m=\u001b[0m\u001b[0mint\u001b[0m\u001b[1;33m(\u001b[0m\u001b[0minput\u001b[0m\u001b[1;33m(\u001b[0m\u001b[1;34m\"Enter pos_x\"\u001b[0m\u001b[1;33m)\u001b[0m\u001b[1;33m.\u001b[0m\u001b[0mstrip\u001b[0m\u001b[1;33m(\u001b[0m\u001b[1;33m)\u001b[0m\u001b[1;33m)\u001b[0m\u001b[1;33m\u001b[0m\u001b[1;33m\u001b[0m\u001b[0m\n\u001b[0m\u001b[0;32m      4\u001b[0m     \u001b[1;32mfor\u001b[0m \u001b[0mitem\u001b[0m \u001b[1;32min\u001b[0m \u001b[0mset_x\u001b[0m\u001b[1;33m:\u001b[0m\u001b[1;33m\u001b[0m\u001b[1;33m\u001b[0m\u001b[0m\n\u001b[0;32m      5\u001b[0m         \u001b[1;32mif\u001b[0m \u001b[0mpos_x\u001b[0m\u001b[1;33m!=\u001b[0m\u001b[0mitem\u001b[0m\u001b[1;33m:\u001b[0m\u001b[1;33m\u001b[0m\u001b[1;33m\u001b[0m\u001b[0m\n",
      "\u001b[1;32m~\\anaconda3\\lib\\site-packages\\ipykernel\\kernelbase.py\u001b[0m in \u001b[0;36mraw_input\u001b[1;34m(self, prompt)\u001b[0m\n\u001b[0;32m    858\u001b[0m                 \u001b[1;34m\"raw_input was called, but this frontend does not support input requests.\"\u001b[0m\u001b[1;33m\u001b[0m\u001b[1;33m\u001b[0m\u001b[0m\n\u001b[0;32m    859\u001b[0m             )\n\u001b[1;32m--> 860\u001b[1;33m         return self._input_request(str(prompt),\n\u001b[0m\u001b[0;32m    861\u001b[0m             \u001b[0mself\u001b[0m\u001b[1;33m.\u001b[0m\u001b[0m_parent_ident\u001b[0m\u001b[1;33m,\u001b[0m\u001b[1;33m\u001b[0m\u001b[1;33m\u001b[0m\u001b[0m\n\u001b[0;32m    862\u001b[0m             \u001b[0mself\u001b[0m\u001b[1;33m.\u001b[0m\u001b[0m_parent_header\u001b[0m\u001b[1;33m,\u001b[0m\u001b[1;33m\u001b[0m\u001b[1;33m\u001b[0m\u001b[0m\n",
      "\u001b[1;32m~\\anaconda3\\lib\\site-packages\\ipykernel\\kernelbase.py\u001b[0m in \u001b[0;36m_input_request\u001b[1;34m(self, prompt, ident, parent, password)\u001b[0m\n\u001b[0;32m    902\u001b[0m             \u001b[1;32mexcept\u001b[0m \u001b[0mKeyboardInterrupt\u001b[0m\u001b[1;33m:\u001b[0m\u001b[1;33m\u001b[0m\u001b[1;33m\u001b[0m\u001b[0m\n\u001b[0;32m    903\u001b[0m                 \u001b[1;31m# re-raise KeyboardInterrupt, to truncate traceback\u001b[0m\u001b[1;33m\u001b[0m\u001b[1;33m\u001b[0m\u001b[1;33m\u001b[0m\u001b[0m\n\u001b[1;32m--> 904\u001b[1;33m                 \u001b[1;32mraise\u001b[0m \u001b[0mKeyboardInterrupt\u001b[0m\u001b[1;33m(\u001b[0m\u001b[1;34m\"Interrupted by user\"\u001b[0m\u001b[1;33m)\u001b[0m \u001b[1;32mfrom\u001b[0m \u001b[1;32mNone\u001b[0m\u001b[1;33m\u001b[0m\u001b[1;33m\u001b[0m\u001b[0m\n\u001b[0m\u001b[0;32m    905\u001b[0m             \u001b[1;32mexcept\u001b[0m \u001b[0mException\u001b[0m \u001b[1;32mas\u001b[0m \u001b[0me\u001b[0m\u001b[1;33m:\u001b[0m\u001b[1;33m\u001b[0m\u001b[1;33m\u001b[0m\u001b[0m\n\u001b[0;32m    906\u001b[0m                 \u001b[0mself\u001b[0m\u001b[1;33m.\u001b[0m\u001b[0mlog\u001b[0m\u001b[1;33m.\u001b[0m\u001b[0mwarning\u001b[0m\u001b[1;33m(\u001b[0m\u001b[1;34m\"Invalid Message:\"\u001b[0m\u001b[1;33m,\u001b[0m \u001b[0mexc_info\u001b[0m\u001b[1;33m=\u001b[0m\u001b[1;32mTrue\u001b[0m\u001b[1;33m)\u001b[0m\u001b[1;33m\u001b[0m\u001b[1;33m\u001b[0m\u001b[0m\n",
      "\u001b[1;31mKeyboardInterrupt\u001b[0m: Interrupted by user"
     ]
    }
   ],
   "source": [
    "a=True\n",
    "while a==True:\n",
    "    pos_x=int(input(\"Enter pos_x\").strip())\n",
    "    for item in set_x:\n",
    "        if pos_x!=item:\n",
    "            continue\n",
    "        else:\n",
    "            print(\"No Cheating\")\n",
    "            b=False\n",
    "    #a=False\n",
    "    b=True\n",
    "    if b==True:\n",
    "        print(pos_x)\n",
    "    else:\n",
    "        continue"
   ]
  },
  {
   "cell_type": "code",
   "execution_count": 13,
   "id": "886f7593",
   "metadata": {},
   "outputs": [
    {
     "name": "stdout",
     "output_type": "stream",
     "text": [
      "Enter pos_x3\n",
      "No Cheating\n",
      "Enter pos_x4\n",
      "No Cheating\n",
      "Enter pos_x23\n",
      "No Cheating\n",
      "Enter pos_x12\n"
     ]
    },
    {
     "ename": "KeyboardInterrupt",
     "evalue": "Interrupted by user",
     "output_type": "error",
     "traceback": [
      "\u001b[1;31m---------------------------------------------------------------------------\u001b[0m",
      "\u001b[1;31mKeyboardInterrupt\u001b[0m                         Traceback (most recent call last)",
      "\u001b[1;32m<ipython-input-13-e4a0878ac266>\u001b[0m in \u001b[0;36m<module>\u001b[1;34m\u001b[0m\n\u001b[0;32m      2\u001b[0m \u001b[0mb\u001b[0m\u001b[1;33m=\u001b[0m\u001b[1;34m''\u001b[0m\u001b[1;33m\u001b[0m\u001b[1;33m\u001b[0m\u001b[0m\n\u001b[0;32m      3\u001b[0m \u001b[1;32mwhile\u001b[0m \u001b[0ma\u001b[0m\u001b[1;33m==\u001b[0m\u001b[1;32mTrue\u001b[0m\u001b[1;33m:\u001b[0m\u001b[1;33m\u001b[0m\u001b[1;33m\u001b[0m\u001b[0m\n\u001b[1;32m----> 4\u001b[1;33m     \u001b[0mpos_x\u001b[0m\u001b[1;33m=\u001b[0m\u001b[0mint\u001b[0m\u001b[1;33m(\u001b[0m\u001b[0minput\u001b[0m\u001b[1;33m(\u001b[0m\u001b[1;34m\"Enter pos_x\"\u001b[0m\u001b[1;33m)\u001b[0m\u001b[1;33m.\u001b[0m\u001b[0mstrip\u001b[0m\u001b[1;33m(\u001b[0m\u001b[1;33m)\u001b[0m\u001b[1;33m)\u001b[0m\u001b[1;33m\u001b[0m\u001b[1;33m\u001b[0m\u001b[0m\n\u001b[0m\u001b[0;32m      5\u001b[0m     \u001b[1;32mfor\u001b[0m \u001b[0mitem\u001b[0m \u001b[1;32min\u001b[0m \u001b[0mset_x\u001b[0m\u001b[1;33m:\u001b[0m\u001b[1;33m\u001b[0m\u001b[1;33m\u001b[0m\u001b[0m\n\u001b[0;32m      6\u001b[0m         \u001b[1;32mif\u001b[0m \u001b[0mpos_x\u001b[0m\u001b[1;33m!=\u001b[0m\u001b[0mitem\u001b[0m\u001b[1;33m:\u001b[0m\u001b[1;33m\u001b[0m\u001b[1;33m\u001b[0m\u001b[0m\n",
      "\u001b[1;32m~\\anaconda3\\lib\\site-packages\\ipykernel\\kernelbase.py\u001b[0m in \u001b[0;36mraw_input\u001b[1;34m(self, prompt)\u001b[0m\n\u001b[0;32m    858\u001b[0m                 \u001b[1;34m\"raw_input was called, but this frontend does not support input requests.\"\u001b[0m\u001b[1;33m\u001b[0m\u001b[1;33m\u001b[0m\u001b[0m\n\u001b[0;32m    859\u001b[0m             )\n\u001b[1;32m--> 860\u001b[1;33m         return self._input_request(str(prompt),\n\u001b[0m\u001b[0;32m    861\u001b[0m             \u001b[0mself\u001b[0m\u001b[1;33m.\u001b[0m\u001b[0m_parent_ident\u001b[0m\u001b[1;33m,\u001b[0m\u001b[1;33m\u001b[0m\u001b[1;33m\u001b[0m\u001b[0m\n\u001b[0;32m    862\u001b[0m             \u001b[0mself\u001b[0m\u001b[1;33m.\u001b[0m\u001b[0m_parent_header\u001b[0m\u001b[1;33m,\u001b[0m\u001b[1;33m\u001b[0m\u001b[1;33m\u001b[0m\u001b[0m\n",
      "\u001b[1;32m~\\anaconda3\\lib\\site-packages\\ipykernel\\kernelbase.py\u001b[0m in \u001b[0;36m_input_request\u001b[1;34m(self, prompt, ident, parent, password)\u001b[0m\n\u001b[0;32m    902\u001b[0m             \u001b[1;32mexcept\u001b[0m \u001b[0mKeyboardInterrupt\u001b[0m\u001b[1;33m:\u001b[0m\u001b[1;33m\u001b[0m\u001b[1;33m\u001b[0m\u001b[0m\n\u001b[0;32m    903\u001b[0m                 \u001b[1;31m# re-raise KeyboardInterrupt, to truncate traceback\u001b[0m\u001b[1;33m\u001b[0m\u001b[1;33m\u001b[0m\u001b[1;33m\u001b[0m\u001b[0m\n\u001b[1;32m--> 904\u001b[1;33m                 \u001b[1;32mraise\u001b[0m \u001b[0mKeyboardInterrupt\u001b[0m\u001b[1;33m(\u001b[0m\u001b[1;34m\"Interrupted by user\"\u001b[0m\u001b[1;33m)\u001b[0m \u001b[1;32mfrom\u001b[0m \u001b[1;32mNone\u001b[0m\u001b[1;33m\u001b[0m\u001b[1;33m\u001b[0m\u001b[0m\n\u001b[0m\u001b[0;32m    905\u001b[0m             \u001b[1;32mexcept\u001b[0m \u001b[0mException\u001b[0m \u001b[1;32mas\u001b[0m \u001b[0me\u001b[0m\u001b[1;33m:\u001b[0m\u001b[1;33m\u001b[0m\u001b[1;33m\u001b[0m\u001b[0m\n\u001b[0;32m    906\u001b[0m                 \u001b[0mself\u001b[0m\u001b[1;33m.\u001b[0m\u001b[0mlog\u001b[0m\u001b[1;33m.\u001b[0m\u001b[0mwarning\u001b[0m\u001b[1;33m(\u001b[0m\u001b[1;34m\"Invalid Message:\"\u001b[0m\u001b[1;33m,\u001b[0m \u001b[0mexc_info\u001b[0m\u001b[1;33m=\u001b[0m\u001b[1;32mTrue\u001b[0m\u001b[1;33m)\u001b[0m\u001b[1;33m\u001b[0m\u001b[1;33m\u001b[0m\u001b[0m\n",
      "\u001b[1;31mKeyboardInterrupt\u001b[0m: Interrupted by user"
     ]
    }
   ],
   "source": [
    "a=True\n",
    "b=''\n",
    "while a==True:\n",
    "    pos_x=int(input(\"Enter pos_x\").strip())\n",
    "    for item in set_x:\n",
    "        if pos_x!=item:\n",
    "            continue\n",
    "        else:\n",
    "            print(\"No Cheating\")\n",
    "            b=False\n",
    "    #a=False\n",
    "    if b==False:\n",
    "        continue\n",
    "    else:\n",
    "        print(pos_x)\n",
    "        break\n",
    "#First time if we put value different than in the set then no issues\n",
    "#Else issues"
   ]
  },
  {
   "cell_type": "code",
   "execution_count": 14,
   "id": "8fa29d1c",
   "metadata": {},
   "outputs": [],
   "source": [
    "# a=True\n",
    "# b=''\n",
    "# while a==True:\n",
    "#     pos_x=int(input(\"Enter pos_x\").strip())\n",
    "#     for item in set_x:\n",
    "#         if pos_x!=item:\n",
    "#             continue\n",
    "#         else:\n",
    "#             print(\"No Cheating\")\n",
    "            \n",
    "#     #a=False\n",
    "#     if b==False:\n",
    "#         continue\n",
    "#     else:\n",
    "#         print(pos_x)\n",
    "#         break"
   ]
  },
  {
   "cell_type": "markdown",
   "id": "b1f672ef",
   "metadata": {},
   "source": [
    "Checking if we can enter a tuple in a list"
   ]
  },
  {
   "cell_type": "code",
   "execution_count": 15,
   "id": "084dbae0",
   "metadata": {},
   "outputs": [],
   "source": [
    "lst_t = [\" \",\" \",\" \",\" \",\" \",\" \",\" \",\" \",\" \",\" \"]"
   ]
  },
  {
   "cell_type": "code",
   "execution_count": 18,
   "id": "23145947",
   "metadata": {},
   "outputs": [],
   "source": [
    "lst_t[4] = (\"x\")"
   ]
  },
  {
   "cell_type": "code",
   "execution_count": 19,
   "id": "449acc38",
   "metadata": {},
   "outputs": [
    {
     "data": {
      "text/plain": [
       "[' ', ' ', ' ', ' ', 'x', ' ', ' ', ' ', ' ', ' ']"
      ]
     },
     "execution_count": 19,
     "metadata": {},
     "output_type": "execute_result"
    }
   ],
   "source": [
    "lst_t"
   ]
  },
  {
   "cell_type": "code",
   "execution_count": 20,
   "id": "0cdd7d97",
   "metadata": {},
   "outputs": [],
   "source": [
    "lst_t[4] = (\"(x)\")"
   ]
  },
  {
   "cell_type": "code",
   "execution_count": 21,
   "id": "8c09e994",
   "metadata": {},
   "outputs": [
    {
     "data": {
      "text/plain": [
       "[' ', ' ', ' ', ' ', '(x)', ' ', ' ', ' ', ' ', ' ']"
      ]
     },
     "execution_count": 21,
     "metadata": {},
     "output_type": "execute_result"
    }
   ],
   "source": [
    "lst_t"
   ]
  },
  {
   "cell_type": "code",
   "execution_count": 22,
   "id": "18b5c24e",
   "metadata": {},
   "outputs": [],
   "source": [
    "lst_t[4] = (\"(4)\")"
   ]
  },
  {
   "cell_type": "code",
   "execution_count": 23,
   "id": "66cfc29f",
   "metadata": {},
   "outputs": [
    {
     "data": {
      "text/plain": [
       "[' ', ' ', ' ', ' ', '(4)', ' ', ' ', ' ', ' ', ' ']"
      ]
     },
     "execution_count": 23,
     "metadata": {},
     "output_type": "execute_result"
    }
   ],
   "source": [
    "lst_t"
   ]
  },
  {
   "cell_type": "code",
   "execution_count": 24,
   "id": "4ea3a41e",
   "metadata": {},
   "outputs": [],
   "source": [
    "lst_t.append((\"x\"))"
   ]
  },
  {
   "cell_type": "code",
   "execution_count": 25,
   "id": "1318d87e",
   "metadata": {},
   "outputs": [
    {
     "data": {
      "text/plain": [
       "[' ', ' ', ' ', ' ', '(4)', ' ', ' ', ' ', ' ', ' ', 'x']"
      ]
     },
     "execution_count": 25,
     "metadata": {},
     "output_type": "execute_result"
    }
   ],
   "source": [
    "lst_t"
   ]
  },
  {
   "cell_type": "code",
   "execution_count": 26,
   "id": "92ecfecd",
   "metadata": {},
   "outputs": [],
   "source": [
    "lst_t[3]=tuple(\"x\")"
   ]
  },
  {
   "cell_type": "code",
   "execution_count": 27,
   "id": "81f13edd",
   "metadata": {},
   "outputs": [
    {
     "data": {
      "text/plain": [
       "[' ', ' ', ' ', ('x',), '(4)', ' ', ' ', ' ', ' ', ' ', 'x']"
      ]
     },
     "execution_count": 27,
     "metadata": {},
     "output_type": "execute_result"
    }
   ],
   "source": [
    "lst_t"
   ]
  },
  {
   "cell_type": "code",
   "execution_count": 28,
   "id": "6b5ad5ea",
   "metadata": {},
   "outputs": [],
   "source": [
    "lst_t[3]=tuple(\"3\")"
   ]
  },
  {
   "cell_type": "code",
   "execution_count": 29,
   "id": "ccbfcbd4",
   "metadata": {},
   "outputs": [
    {
     "data": {
      "text/plain": [
       "[' ', ' ', ' ', ('3',), '(4)', ' ', ' ', ' ', ' ', ' ', 'x']"
      ]
     },
     "execution_count": 29,
     "metadata": {},
     "output_type": "execute_result"
    }
   ],
   "source": [
    "lst_t"
   ]
  },
  {
   "cell_type": "code",
   "execution_count": 30,
   "id": "2adbbe18",
   "metadata": {},
   "outputs": [],
   "source": [
    "lst_t[3]=4"
   ]
  },
  {
   "cell_type": "code",
   "execution_count": 31,
   "id": "424633d3",
   "metadata": {},
   "outputs": [
    {
     "data": {
      "text/plain": [
       "[' ', ' ', ' ', 4, '(4)', ' ', ' ', ' ', ' ', ' ', 'x']"
      ]
     },
     "execution_count": 31,
     "metadata": {},
     "output_type": "execute_result"
    }
   ],
   "source": [
    "lst_t"
   ]
  },
  {
   "cell_type": "code",
   "execution_count": 45,
   "id": "42edeb4d",
   "metadata": {},
   "outputs": [],
   "source": [
    "list_pos = []"
   ]
  },
  {
   "cell_type": "code",
   "execution_count": 46,
   "id": "19f1dde3",
   "metadata": {},
   "outputs": [],
   "source": [
    "# def overwrite_check(player,pos):\n",
    "#     set_list_pos=[]\n",
    "#     list_pos.append(pos)\n",
    "#     set_pos=set(list_pos)\n",
    "#     set_list_pos=set_pos\n",
    "#     print(list_pos)\n",
    "#     print(set_pos)\n",
    "#     print(set_list_pos)\n",
    "#     if set_list_pos==list_pos:\n",
    "#         return(\"No Error\",player)\n",
    "#     else:\n",
    "#         return(\"Error\",player)"
   ]
  },
  {
   "cell_type": "code",
   "execution_count": 47,
   "id": "ae579a9a",
   "metadata": {},
   "outputs": [
    {
     "name": "stdout",
     "output_type": "stream",
     "text": [
      "[5]\n",
      "{5}\n",
      "{5}\n"
     ]
    },
    {
     "data": {
      "text/plain": [
       "('Error', 'x')"
      ]
     },
     "execution_count": 47,
     "metadata": {},
     "output_type": "execute_result"
    }
   ],
   "source": [
    "overwrite_check(\"x\",5)"
   ]
  },
  {
   "cell_type": "code",
   "execution_count": 51,
   "id": "d4f79e70",
   "metadata": {},
   "outputs": [],
   "source": [
    "list_pos = []"
   ]
  },
  {
   "cell_type": "code",
   "execution_count": 52,
   "id": "e71cea25",
   "metadata": {},
   "outputs": [],
   "source": [
    "def overwrite_check(player,pos):\n",
    "    list_pos.append(pos)\n",
    "    set_pos=set(list_pos)\n",
    "    list_set_pos=list(set_pos)\n",
    "    if list_set_pos==list_pos:\n",
    "        return(\"No Error\",player)\n",
    "    else:\n",
    "        return(\"Error\",player)"
   ]
  },
  {
   "cell_type": "code",
   "execution_count": 53,
   "id": "913d00b5",
   "metadata": {},
   "outputs": [
    {
     "data": {
      "text/plain": [
       "('No Error', 'x')"
      ]
     },
     "execution_count": 53,
     "metadata": {},
     "output_type": "execute_result"
    }
   ],
   "source": [
    "overwrite_check(\"x\",5)"
   ]
  },
  {
   "cell_type": "code",
   "execution_count": 16,
   "id": "d15a3703",
   "metadata": {},
   "outputs": [],
   "source": [
    "list_pos=[]"
   ]
  },
  {
   "cell_type": "code",
   "execution_count": 15,
   "id": "1788c1c1",
   "metadata": {},
   "outputs": [],
   "source": [
    "# New and correct overwrite_check function\n",
    "def overwrite_check(player,pos):\n",
    "    list_pos.append(pos)\n",
    "    set_pos=set(list_pos)\n",
    "    list_set_pos=list(set_pos)\n",
    "    list_pos.sort()\n",
    "    list_set_pos.sort()\n",
    "#     print(list_set_pos)\n",
    "#     print(list_pos)\n",
    "    if list_set_pos==list_pos:\n",
    "        return(\"No Error\",player)\n",
    "    else:\n",
    "        list_pos.pop()\n",
    "        return(\"Error\",player)"
   ]
  },
  {
   "cell_type": "code",
   "execution_count": 17,
   "id": "ec592933",
   "metadata": {},
   "outputs": [
    {
     "name": "stdout",
     "output_type": "stream",
     "text": [
      "('No Error', 'x')\n"
     ]
    }
   ],
   "source": [
    "print(overwrite_check(\"x\",5))"
   ]
  },
  {
   "cell_type": "code",
   "execution_count": 18,
   "id": "9d6ee888",
   "metadata": {},
   "outputs": [
    {
     "data": {
      "text/plain": [
       "[5]"
      ]
     },
     "execution_count": 18,
     "metadata": {},
     "output_type": "execute_result"
    }
   ],
   "source": [
    "list_pos"
   ]
  },
  {
   "cell_type": "code",
   "execution_count": 19,
   "id": "c186dea3",
   "metadata": {},
   "outputs": [
    {
     "name": "stdout",
     "output_type": "stream",
     "text": [
      "('Error', 'x')\n"
     ]
    }
   ],
   "source": [
    "print(overwrite_check(\"x\",5))"
   ]
  },
  {
   "cell_type": "code",
   "execution_count": 20,
   "id": "0759b103",
   "metadata": {},
   "outputs": [
    {
     "data": {
      "text/plain": [
       "[5]"
      ]
     },
     "execution_count": 20,
     "metadata": {},
     "output_type": "execute_result"
    }
   ],
   "source": [
    "list_pos"
   ]
  },
  {
   "cell_type": "code",
   "execution_count": 21,
   "id": "242b4c35",
   "metadata": {},
   "outputs": [
    {
     "name": "stdout",
     "output_type": "stream",
     "text": [
      "('No Error', 'x')\n"
     ]
    }
   ],
   "source": [
    "print(overwrite_check(\"x\",4))"
   ]
  },
  {
   "cell_type": "code",
   "execution_count": 8,
   "id": "63547bc5",
   "metadata": {},
   "outputs": [
    {
     "data": {
      "text/plain": [
       "[5]"
      ]
     },
     "execution_count": 8,
     "metadata": {},
     "output_type": "execute_result"
    }
   ],
   "source": [
    "list_pos"
   ]
  },
  {
   "cell_type": "code",
   "execution_count": 22,
   "id": "743232d8",
   "metadata": {},
   "outputs": [
    {
     "name": "stdout",
     "output_type": "stream",
     "text": [
      "1\n",
      "2\n",
      "3\n",
      "4\n",
      "5\n",
      "6\n",
      "7\n",
      "8\n"
     ]
    }
   ],
   "source": [
    "for item in range(1,9):\n",
    "    print(item)"
   ]
  },
  {
   "cell_type": "code",
   "execution_count": 24,
   "id": "8bc88986",
   "metadata": {},
   "outputs": [],
   "source": [
    "list_pos = []\n",
    "global list_pos"
   ]
  },
  {
   "cell_type": "code",
   "execution_count": 25,
   "id": "a38d8183",
   "metadata": {},
   "outputs": [
    {
     "ename": "TypeError",
     "evalue": "'type' object is not subscriptable",
     "output_type": "error",
     "traceback": [
      "\u001b[1;31m---------------------------------------------------------------------------\u001b[0m",
      "\u001b[1;31mTypeError\u001b[0m                                 Traceback (most recent call last)",
      "\u001b[1;32m<ipython-input-25-cc4fe394da7b>\u001b[0m in \u001b[0;36m<module>\u001b[1;34m\u001b[0m\n\u001b[1;32m----> 1\u001b[1;33m \u001b[1;32mfor\u001b[0m \u001b[0mitem\u001b[0m \u001b[1;32min\u001b[0m \u001b[0mrange\u001b[0m\u001b[1;33m[\u001b[0m\u001b[1;36m1\u001b[0m\u001b[1;33m,\u001b[0m\u001b[1;36m9\u001b[0m\u001b[1;33m]\u001b[0m\u001b[1;33m:\u001b[0m\u001b[1;33m\u001b[0m\u001b[1;33m\u001b[0m\u001b[0m\n\u001b[0m\u001b[0;32m      2\u001b[0m     \u001b[0mprint\u001b[0m\u001b[1;33m(\u001b[0m\u001b[0mitem\u001b[0m\u001b[1;33m)\u001b[0m\u001b[1;33m\u001b[0m\u001b[1;33m\u001b[0m\u001b[0m\n",
      "\u001b[1;31mTypeError\u001b[0m: 'type' object is not subscriptable"
     ]
    }
   ],
   "source": [
    "for item in range[1,9]:\n",
    "    print(item)"
   ]
  },
  {
   "cell_type": "code",
   "execution_count": 2,
   "id": "b8e53920",
   "metadata": {},
   "outputs": [
    {
     "name": "stdout",
     "output_type": "stream",
     "text": [
      "Enter : 6\n",
      "Ok\n"
     ]
    }
   ],
   "source": [
    "list1=[\"1\",\"2\",\"3\",\"4\",\"5\",\"6\",\"7\",\"8\",\"9\",]\n",
    "item = input(\"Enter : \")\n",
    "if item in list1:\n",
    "    print(\"Ok\")\n",
    "else:\n",
    "    print(\"GO\")"
   ]
  },
  {
   "cell_type": "code",
   "execution_count": 5,
   "id": "7a70761e",
   "metadata": {},
   "outputs": [],
   "source": [
    "def input_x(error):\n",
    "    list1 = [\"1\",\"2\",\"3\",\"4\",\"5\",\"6\",\"7\",\"8\",\"9\"]\n",
    "    if error==\"Error\":\n",
    "        print(\"Error : Overwrite attempt detected\")\n",
    "        print(\"No Cheating!!\")\n",
    "        pos_x=(input(\"Enter correct position for x : \"))\n",
    "        while pos_x not in list1:\n",
    "            print(\"Position out of range!!\")\n",
    "            pos_x=(input(\"Enter position for x again : \"))\n",
    "#             return (\"x\",pos_x)\n",
    "        return (\"x\",int(pos_x))\n",
    "    else:\n",
    "        pos_x = (input(\"Enter position of x : \"))\n",
    "        while pos_x not in list1:\n",
    "            print(\"Position out of range!!\")\n",
    "            pos_x=(input(\"Enter position for x again : \"))\n",
    "            #return(\"x\",pos_x)\n",
    "        return(\"x\",int(pos_x))"
   ]
  },
  {
   "cell_type": "code",
   "execution_count": 7,
   "id": "1d87821c",
   "metadata": {},
   "outputs": [
    {
     "name": "stdout",
     "output_type": "stream",
     "text": [
      "Enter position of x : str\n",
      "Position out of range!!\n",
      "Enter position for x again : 5\n"
     ]
    }
   ],
   "source": [
    "a,b=input_x(\"No Error\")"
   ]
  },
  {
   "cell_type": "code",
   "execution_count": 8,
   "id": "d8a3935c",
   "metadata": {},
   "outputs": [
    {
     "data": {
      "text/plain": [
       "int"
      ]
     },
     "execution_count": 8,
     "metadata": {},
     "output_type": "execute_result"
    }
   ],
   "source": [
    "type(b)"
   ]
  },
  {
   "cell_type": "code",
   "execution_count": 20,
   "id": "a8e8c282",
   "metadata": {},
   "outputs": [],
   "source": [
    "list1=[9,8,7,4,5,6,3,2,1]"
   ]
  },
  {
   "cell_type": "code",
   "execution_count": 21,
   "id": "bd775b0c",
   "metadata": {},
   "outputs": [],
   "source": [
    "list2=set(list1)"
   ]
  },
  {
   "cell_type": "code",
   "execution_count": 22,
   "id": "adbae160",
   "metadata": {},
   "outputs": [
    {
     "data": {
      "text/plain": [
       "{1, 2, 3, 4, 5, 6, 7, 8, 9}"
      ]
     },
     "execution_count": 22,
     "metadata": {},
     "output_type": "execute_result"
    }
   ],
   "source": [
    "list2"
   ]
  },
  {
   "cell_type": "code",
   "execution_count": 23,
   "id": "fbaba346",
   "metadata": {},
   "outputs": [],
   "source": [
    "list3=list(list2)"
   ]
  },
  {
   "cell_type": "code",
   "execution_count": 24,
   "id": "29078f6b",
   "metadata": {},
   "outputs": [
    {
     "data": {
      "text/plain": [
       "[1, 2, 3, 4, 5, 6, 7, 8, 9]"
      ]
     },
     "execution_count": 24,
     "metadata": {},
     "output_type": "execute_result"
    }
   ],
   "source": [
    "list3"
   ]
  },
  {
   "cell_type": "code",
   "execution_count": null,
   "id": "6a2f88f6",
   "metadata": {},
   "outputs": [],
   "source": []
  }
 ],
 "metadata": {
  "kernelspec": {
   "display_name": "Python 3",
   "language": "python",
   "name": "python3"
  },
  "language_info": {
   "codemirror_mode": {
    "name": "ipython",
    "version": 3
   },
   "file_extension": ".py",
   "mimetype": "text/x-python",
   "name": "python",
   "nbconvert_exporter": "python",
   "pygments_lexer": "ipython3",
   "version": "3.8.8"
  }
 },
 "nbformat": 4,
 "nbformat_minor": 5
}
