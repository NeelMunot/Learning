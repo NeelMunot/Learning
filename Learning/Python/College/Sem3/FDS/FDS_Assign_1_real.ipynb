{
 "cells": [
  {
   "cell_type": "code",
   "execution_count": 10,
   "id": "75dc393c",
   "metadata": {},
   "outputs": [],
   "source": [
    "def get_data():\n",
    "    num_std = int(input(\"Enter Number of students in class : \"))\n",
    "    out_mks = int(input(\"Enter the marks out of : \"))\n",
    "    std_mks = [int(x) for x in input(\"Enter student marks serially by roll number : \").split()]\n",
    "    fin_std_mks = check_data(std_mks,out_mks,num_std)\n",
    "#     print(std_mks)\n",
    "#     print(len(std_mks))\n",
    "    psnt_std_mks = []\n",
    "    noas = 0\n",
    "    for item in fin_std_mks:\n",
    "        if item>(-1):\n",
    "            psnt_std_mks.append(item)\n",
    "        else:\n",
    "            noas = noas + 1\n",
    "#     process_data(psnt_std_mks,noas)\n",
    "#     print(psnt_std_mks)\n",
    "    print(\"The number of abent students is : \",noas)\n",
    "    process_data(psnt_std_mks,len(std_mks))"
   ]
  },
  {
   "cell_type": "code",
   "execution_count": 50,
   "id": "90caedba",
   "metadata": {
    "collapsed": true
   },
   "outputs": [
    {
     "ename": "SyntaxError",
     "evalue": "invalid syntax (3742027696.py, line 11)",
     "output_type": "error",
     "traceback": [
      "\u001b[0;36m  Input \u001b[0;32mIn [50]\u001b[0;36m\u001b[0m\n\u001b[0;31m    elif (hmks < max(list2)) and (min(list2)>= -1) :\u001b[0m\n\u001b[0m    ^\u001b[0m\n\u001b[0;31mSyntaxError\u001b[0m\u001b[0;31m:\u001b[0m invalid syntax\n"
     ]
    }
   ],
   "source": [
    "# def check_data(list2,hmks,nmos):\n",
    "#     i=0\n",
    "#     while (i==0):\n",
    "#         if (nmos == len(list2)) and (hmks >= max(list2)):\n",
    "#             return list2\n",
    "#         else:\n",
    "#             if (nmos != len(list2)):\n",
    "#                 print(\"Invalid !!\")\n",
    "#                 print(\"The number of students and length of list don't match!!\")\n",
    "#                 list3 = [int(x) for x in input(\"Enter student marks serially by roll number AGAIN : \").split()]\n",
    "#                 list4 = list3\n",
    "#                 check_data(list4,hmks,nmos)\n",
    "#             elif (hmks < max(list2)) and (min(list2)>= -1) :\n",
    "#                 n = 0\n",
    "#                 for n in range (0,nmos):\n",
    "#                     if list2[n] > hmks:\n",
    "#                         print(\"Invalid mrks for roll number \",(n+1))\n",
    "#                         k = 0\n",
    "#                         while (k == 0):\n",
    "#                             mks = int(input(\"Enter marks again : \"))\n",
    "#                             if mks<=hmks:\n",
    "#                                 list2[n] = mks\n",
    "#                                 k=1\n",
    "#                             else:\n",
    "#                                 continue\n",
    "#                         continue\n",
    "#                     continue\n",
    "#                 return list2"
   ]
  },
  {
   "cell_type": "code",
   "execution_count": 2,
   "id": "a6421f74",
   "metadata": {},
   "outputs": [],
   "source": [
    "def samplefun(num1,num2):\n",
    "    return num1+num2"
   ]
  },
  {
   "cell_type": "code",
   "execution_count": 11,
   "id": "28e982fd",
   "metadata": {},
   "outputs": [],
   "source": [
    "def check_data(list2,hmks,nmos):\n",
    "    i=0\n",
    "    while (i==0):\n",
    "        if (nmos == len(list2)) and (hmks >= max(list2)):\n",
    "            return list2\n",
    "        else:\n",
    "            while (nmos != len(list2)):\n",
    "                print(\"Invalid !!\")\n",
    "                print(\"The number of students and length of list don't match!!\")\n",
    "                list2 = [int(x) for x in input(\"Enter student marks serially by roll number AGAIN : \").split()]\n",
    "            if (hmks < max(list2)) and (min(list2)>= -1) :\n",
    "                n = 0\n",
    "                for n in range (0,nmos):\n",
    "                    if list2[n] > hmks:\n",
    "                        print(\"Invalid mrks for roll number \",(n+1))\n",
    "                        k = 0\n",
    "                        while (k == 0):\n",
    "                            mks = int(input(\"Enter marks again : \"))\n",
    "                            if mks<=hmks:\n",
    "                                list2[n] = mks\n",
    "                                k=1\n",
    "                            else:\n",
    "                                continue\n",
    "                        continue\n",
    "                    continue\n",
    "                return list2"
   ]
  },
  {
   "cell_type": "code",
   "execution_count": 10,
   "id": "d5caa36b",
   "metadata": {
    "collapsed": true
   },
   "outputs": [
    {
     "name": "stdout",
     "output_type": "stream",
     "text": [
      "0\n",
      "1\n",
      "2\n",
      "3\n",
      "4\n",
      "5\n",
      "6\n",
      "7\n",
      "8\n",
      "9\n",
      "10\n"
     ]
    }
   ],
   "source": [
    "for item in range (0,11):\n",
    "    print(item)"
   ]
  },
  {
   "cell_type": "code",
   "execution_count": 68,
   "id": "1cdfa4fa",
   "metadata": {},
   "outputs": [
    {
     "name": "stdout",
     "output_type": "stream",
     "text": [
      "Enter Number of students in class : 5\n",
      "Enter the marks out of : 10\n",
      "Enter student marks serially by roll number : 0 -1 -1 0 -1 9 \n",
      "Invalid !!\n",
      "The number of students and length of list don't match!!\n",
      "Enter student marks serially by roll number AGAIN : 11 0 9 8 7\n",
      "Invalid mrks for roll number  1\n",
      "Enter marks again : 10\n",
      "The number of abent students is :  0\n"
     ]
    }
   ],
   "source": [
    "get_data()"
   ]
  },
  {
   "cell_type": "code",
   "execution_count": 12,
   "id": "20d22d81",
   "metadata": {},
   "outputs": [],
   "source": [
    "def process_data(std_mks2,tsds):\n",
    "    get_avg(std_mks2,tsds)\n",
    "    print(\"The max marks obtained by any student : \",max(std_mks2))\n",
    "    print(\"The min marks obtained by any student : \",min(std_mks2))\n",
    "    highest_frequency(std_mks2)"
   ]
  },
  {
   "cell_type": "code",
   "execution_count": 13,
   "id": "6f8cf644",
   "metadata": {},
   "outputs": [],
   "source": [
    "def get_avg(std_mks3,n):\n",
    "    s = 0\n",
    "    for item in std_mks3:\n",
    "        s = s+item\n",
    "    print(\"The average marks of \",n,\"students is \",int(s/n))"
   ]
  },
  {
   "cell_type": "code",
   "execution_count": 14,
   "id": "c0565a68",
   "metadata": {},
   "outputs": [],
   "source": [
    "def highest_frequency(list3):\n",
    "    dictionary = {}\n",
    "    for item in list3:\n",
    "        dictionary[list3.count(item)] = item\n",
    "#     print(dictionary)\n",
    "    key_list = list(dictionary.keys())\n",
    "    if len(key_list) == 1:\n",
    "        print(\"All marks occur\",key_list[0],\"times.\")\n",
    "    elif len(key_list) > 1:\n",
    "        multi_high_freq(max(key_list),list3)"
   ]
  },
  {
   "cell_type": "code",
   "execution_count": 113,
   "id": "401970ff",
   "metadata": {},
   "outputs": [
    {
     "name": "stdout",
     "output_type": "stream",
     "text": [
      "Enter Number of students in class : 6\n",
      "Enter the marks out of : 10\n",
      "Enter student marks serially by roll number : 6 10 6 10 5 4\n",
      "The number of abent students is :  0\n",
      "The average marks of  6 students is  6\n",
      "The max marks obtained by any student :  10\n",
      "The min marks obtained by any student :  4\n",
      "Multiple Marks occur highest!!\n",
      "{10, 6}\n",
      "The above set of marks occur 2 times\n"
     ]
    }
   ],
   "source": [
    "get_data()"
   ]
  },
  {
   "cell_type": "code",
   "execution_count": 93,
   "id": "76be39a6",
   "metadata": {},
   "outputs": [],
   "source": [
    "l2 = [1,2,3,45,5,6,7]\n",
    "#highest_frequency(l2)"
   ]
  },
  {
   "cell_type": "code",
   "execution_count": 94,
   "id": "11449cd7",
   "metadata": {},
   "outputs": [
    {
     "data": {
      "text/plain": [
       "7"
      ]
     },
     "execution_count": 94,
     "metadata": {},
     "output_type": "execute_result"
    }
   ],
   "source": [
    "l2[-1]"
   ]
  },
  {
   "cell_type": "code",
   "execution_count": 15,
   "id": "59ad6c7b",
   "metadata": {},
   "outputs": [],
   "source": [
    "def multi_high_freq(m,lst3):\n",
    "    lst2 = []\n",
    "    for item in lst3:\n",
    "        if lst3.count(item) == m:\n",
    "            lst2.append(item)\n",
    "        continue\n",
    "    if len(lst2) == 1:\n",
    "        print(\"The highest frequeny of marks is\",lst2[0],\"and it occurs\",m,\"times\")\n",
    "    elif len(lst2) > 1:\n",
    "        print(\"Multiple Marks occur highest!!\")\n",
    "        print(set(lst2))\n",
    "        print(\"The above set of marks occur\",m,\"times\")"
   ]
  },
  {
   "cell_type": "code",
   "execution_count": 19,
   "id": "af36a82e",
   "metadata": {},
   "outputs": [
    {
     "name": "stdout",
     "output_type": "stream",
     "text": [
      "Enter Number of students in class : 10\n",
      "Enter the marks out of : 20\n",
      "Enter student marks serially by roll number : 1 2 2 2 2 5 7 10 10 10\n",
      "The number of abent students is :  0\n",
      "The average marks of  10 students is  5\n",
      "The max marks obtained by any student :  10\n",
      "The min marks obtained by any student :  1\n",
      "Multiple Marks occur highest!!\n",
      "{2}\n",
      "The above set of marks occur 4 times\n"
     ]
    }
   ],
   "source": [
    "get_data()"
   ]
  },
  {
   "cell_type": "code",
   "execution_count": null,
   "id": "143af117",
   "metadata": {},
   "outputs": [],
   "source": []
  }
 ],
 "metadata": {
  "kernelspec": {
   "display_name": "Python 3 (ipykernel)",
   "language": "python",
   "name": "python3"
  },
  "language_info": {
   "codemirror_mode": {
    "name": "ipython",
    "version": 3
   },
   "file_extension": ".py",
   "mimetype": "text/x-python",
   "name": "python",
   "nbconvert_exporter": "python",
   "pygments_lexer": "ipython3",
   "version": "3.8.10"
  }
 },
 "nbformat": 4,
 "nbformat_minor": 5
}
