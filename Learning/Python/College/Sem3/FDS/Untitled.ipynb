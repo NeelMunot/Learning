{
 "cells": [
  {
   "cell_type": "code",
   "execution_count": 3,
   "id": "036ad45f",
   "metadata": {},
   "outputs": [],
   "source": [
    "def create_matrix():\n",
    "    m = int(input(\"Enter Number of Rows in a Matrix : \"))\n",
    "    n = int(input(\"Enter Number of Columns in a Matrix : \"))\n",
    "    mat_c = [None] * n\n",
    "    mat_f = [mat_c] * m\n",
    "    return mat_f"
   ]
  },
  {
   "cell_type": "code",
   "execution_count": 4,
   "id": "ddf54e89",
   "metadata": {},
   "outputs": [
    {
     "name": "stdout",
     "output_type": "stream",
     "text": [
      "Enter Number of Rows in a Matrix : 3\n",
      "Enter Number of Columns in a Matrix : 3\n"
     ]
    },
    {
     "data": {
      "text/plain": [
       "[[None, None, None], [None, None, None], [None, None, None]]"
      ]
     },
     "execution_count": 4,
     "metadata": {},
     "output_type": "execute_result"
    }
   ],
   "source": [
    "create_matrix()"
   ]
  },
  {
   "cell_type": "code",
   "execution_count": null,
   "id": "cd443630",
   "metadata": {},
   "outputs": [],
   "source": [
    "def get_matrix(mat,m,n):\n",
    "    for row in range(m):\n",
    "        for column in range(n):\n",
    "            "
   ]
  }
 ],
 "metadata": {
  "kernelspec": {
   "display_name": "Python 3 (ipykernel)",
   "language": "python",
   "name": "python3"
  },
  "language_info": {
   "codemirror_mode": {
    "name": "ipython",
    "version": 3
   },
   "file_extension": ".py",
   "mimetype": "text/x-python",
   "name": "python",
   "nbconvert_exporter": "python",
   "pygments_lexer": "ipython3",
   "version": "3.10.6"
  }
 },
 "nbformat": 4,
 "nbformat_minor": 5
}
