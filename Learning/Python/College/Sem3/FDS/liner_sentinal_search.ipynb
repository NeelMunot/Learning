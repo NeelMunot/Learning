{
 "cells": [
  {
   "cell_type": "code",
   "execution_count": 15,
   "id": "abb7f01c",
   "metadata": {},
   "outputs": [
    {
     "name": "stdout",
     "output_type": "stream",
     "text": [
      "Enter marks :5 6 7\n",
      "[5, 6, 7]\n",
      "<class 'int'>\n",
      "<class 'int'>\n",
      "<class 'int'>\n"
     ]
    }
   ],
   "source": [
    "lst = [int(x) for x in input(\"Enter marks :\").split()]\n",
    "print(lst)\n",
    "for item in lst:\n",
    "    print(type(item))"
   ]
  },
  {
   "cell_type": "code",
   "execution_count": 8,
   "id": "4c0142ff",
   "metadata": {},
   "outputs": [
    {
     "name": "stdout",
     "output_type": "stream",
     "text": [
      "Enter student marks serially by roll number : 3 4 5 6 7\n"
     ]
    }
   ],
   "source": [
    "std_mks = [int(x) for x in input(\"Enter student marks serially by roll number : \").split()]"
   ]
  },
  {
   "cell_type": "code",
   "execution_count": 9,
   "id": "723b1e80",
   "metadata": {},
   "outputs": [
    {
     "data": {
      "text/plain": [
       "[3, 4, 5, 6, 7]"
      ]
     },
     "execution_count": 9,
     "metadata": {},
     "output_type": "execute_result"
    }
   ],
   "source": [
    "std_mks"
   ]
  },
  {
   "cell_type": "code",
   "execution_count": 32,
   "id": "ba60b223",
   "metadata": {},
   "outputs": [],
   "source": [
    "def liner_search(lst,rn):\n",
    "    print(\"Linear Search \")\n",
    "#     lst = [int(x) for x in input(\"Enter marks of students attending training program :\").split()]\n",
    "#     rn = int(input(\"Enter roll numer of student : \"))\n",
    "    loc = -1\n",
    "    for i in range (0,len(lst)) :\n",
    "        if lst[i] == rn :\n",
    "            print(\"Student attended the traing program.\")\n",
    "            loc = i\n",
    "            print(\"Location of roll no in list is \",i,\"consideering first element is 0th.\")\n",
    "        else:\n",
    "            continue\n",
    "#             print(\"Student did not attend the traing program.\")\n",
    "    if loc == -1:\n",
    "        print(\"Student did not attend the traing program.\")"
   ]
  },
  {
   "cell_type": "code",
   "execution_count": 16,
   "id": "458df514",
   "metadata": {},
   "outputs": [
    {
     "name": "stdout",
     "output_type": "stream",
     "text": [
      "0\n",
      "1\n",
      "2\n",
      "3\n",
      "4\n"
     ]
    }
   ],
   "source": [
    "for i in range (0,5):\n",
    "    print(i)"
   ]
  },
  {
   "cell_type": "code",
   "execution_count": 18,
   "id": "8c57dfc1",
   "metadata": {},
   "outputs": [
    {
     "data": {
      "text/plain": [
       "6"
      ]
     },
     "execution_count": 18,
     "metadata": {},
     "output_type": "execute_result"
    }
   ],
   "source": [
    "lst1 = [1 , 3 ,5 ,6]\n",
    "lst1[3]"
   ]
  },
  {
   "cell_type": "code",
   "execution_count": 29,
   "id": "89737101",
   "metadata": {},
   "outputs": [
    {
     "name": "stdout",
     "output_type": "stream",
     "text": [
      "Enter marks of students attending training program :1 2 3 4 5 6 7 8 9\n",
      "Enter roll numer of student : 8\n",
      "Student attended the traing program.\n",
      "Location of roll no in list is  7 consideering first element is 0th.\n"
     ]
    }
   ],
   "source": [
    "liner_search()"
   ]
  },
  {
   "cell_type": "code",
   "execution_count": 33,
   "id": "d3684cf1",
   "metadata": {},
   "outputs": [],
   "source": [
    "def sentinel_search(lst,rn):\n",
    "#     lst = [int(x) for x in input(\"Enter marks of students attending training program :\").split()]\n",
    "#     rn = int(input(\"Enter roll numer of student : \"))\n",
    "    print(\"Sentinel Search\")\n",
    "    loc = -1\n",
    "    lst.append(rn)\n",
    "    for i in range (0,len(lst)) :\n",
    "        if lst[i] == rn and i!=(len(lst)-1):\n",
    "            print(\"Student attended the traing program.\")\n",
    "            loc = i\n",
    "            print(\"Location of roll no in list is \",i,\"consideering first element is 0th.\")\n",
    "        else:\n",
    "            continue\n",
    "#             print(\"Student did not attend the traing program.\")\n",
    "    if loc == -1:\n",
    "        print(\"Student did not attend the traing program.\")"
   ]
  },
  {
   "cell_type": "code",
   "execution_count": 31,
   "id": "b4160a19",
   "metadata": {},
   "outputs": [
    {
     "name": "stdout",
     "output_type": "stream",
     "text": [
      "Enter marks of students attending training program :1 2 3 4 5 6 7\n",
      "Enter roll numer of student : 6\n",
      "Student attended the traing program.\n",
      "Location of roll no in list is  5 consideering first element is 0th.\n"
     ]
    }
   ],
   "source": [
    "sentinel_search()"
   ]
  },
  {
   "cell_type": "code",
   "execution_count": 38,
   "id": "c33eaba1",
   "metadata": {},
   "outputs": [],
   "source": [
    "def getdata():\n",
    "    lst = [int(x) for x in input(\"Enter marks of students attending training program :\").split()]\n",
    "    rn = int(input(\"Enter roll numer of student : \"))\n",
    "    choice = input(\"Enter choice - 'linear' or 'sentinel' :\")\n",
    "    if choice == 'linear':\n",
    "        liner_search(lst,rn)\n",
    "    elif choice == 'sentinel':\n",
    "        sentinel_search(lst,rn)\n",
    "    else :\n",
    "        print(\"Error!!\")"
   ]
  },
  {
   "cell_type": "code",
   "execution_count": 39,
   "id": "ee2ea0db",
   "metadata": {},
   "outputs": [
    {
     "name": "stdout",
     "output_type": "stream",
     "text": [
      "Enter marks of students attending training program :1 2 3 4 5 6 7 8 9\n",
      "Enter roll numer of student : 8\n",
      "Enter choice - 'linear' or 'sentinel' :linear\n",
      "Linear Search \n",
      "Student attended the traing program.\n",
      "Location of roll no in list is  7 consideering first element is 0th.\n"
     ]
    }
   ],
   "source": [
    "getdata()"
   ]
  },
  {
   "cell_type": "code",
   "execution_count": null,
   "id": "8fb86ed1",
   "metadata": {},
   "outputs": [],
   "source": []
  }
 ],
 "metadata": {
  "kernelspec": {
   "display_name": "Python 3 (ipykernel)",
   "language": "python",
   "name": "python3"
  },
  "language_info": {
   "codemirror_mode": {
    "name": "ipython",
    "version": 3
   },
   "file_extension": ".py",
   "mimetype": "text/x-python",
   "name": "python",
   "nbconvert_exporter": "python",
   "pygments_lexer": "ipython3",
   "version": "3.8.10"
  }
 },
 "nbformat": 4,
 "nbformat_minor": 5
}
