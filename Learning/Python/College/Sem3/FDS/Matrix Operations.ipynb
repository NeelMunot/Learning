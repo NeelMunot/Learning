{
 "cells": [
  {
   "cell_type": "code",
   "execution_count": 25,
   "id": "036ad45f",
   "metadata": {},
   "outputs": [],
   "source": [
    "def create_matrix():\n",
    "    m = int(input(\"Enter Number of Rows in a Matrix : \"))\n",
    "    n = int(input(\"Enter Number of Columns in a Matrix : \"))\n",
    "    mat_f = [[None for col in range(n)] for row in range(m) ]\n",
    "#     mat_c = [None] * n\n",
    "#     mat_f = [mat_c] * m\n",
    "    return mat_f,m,n"
   ]
  },
  {
   "cell_type": "code",
   "execution_count": 5,
   "id": "b3cf23d1",
   "metadata": {},
   "outputs": [
    {
     "name": "stdout",
     "output_type": "stream",
     "text": [
      "Enter Number of Rows in a Matrix : 3\n",
      "Enter Number of Columns in a Matrix : 3\n"
     ]
    },
    {
     "data": {
      "text/plain": [
       "[[None, None, None], [None, None, None], [None, None, None]]"
      ]
     },
     "execution_count": 5,
     "metadata": {},
     "output_type": "execute_result"
    }
   ],
   "source": [
    "create_matrix()"
   ]
  },
  {
   "cell_type": "code",
   "execution_count": 13,
   "id": "d1fb4f47",
   "metadata": {},
   "outputs": [],
   "source": [
    "def get_matrix(mat,m,n):\n",
    "    for row in range(m):\n",
    "        for column in range(n):\n",
    "            print(\"Enter \",row,\" \",column,\" of matrix : \")\n",
    "            mat[row][column] = int(input())\n",
    "    print(mat)\n",
    "    return(mat)"
   ]
  },
  {
   "cell_type": "code",
   "execution_count": 13,
   "id": "1cbb89dd",
   "metadata": {
    "collapsed": true
   },
   "outputs": [
    {
     "name": "stdout",
     "output_type": "stream",
     "text": [
      "Enter  0   0  of matrix : \n",
      "1\n",
      "Enter  0   1  of matrix : \n",
      "2\n",
      "Enter  0   2  of matrix : \n",
      "3\n",
      "Enter  1   0  of matrix : \n",
      "4\n",
      "Enter  1   1  of matrix : \n",
      "5\n",
      "Enter  1   2  of matrix : \n",
      "6\n",
      "Enter  2   0  of matrix : \n",
      "7\n",
      "Enter  2   1  of matrix : \n",
      "8\n",
      "Enter  2   2  of matrix : \n",
      "9\n",
      "[[1, 2, 3], [4, 5, 6], [7, 8, 9]]\n"
     ]
    }
   ],
   "source": [
    "k = [[None, None, None], [None, None, None], [None, None, None]]\n",
    "get_matrix(k,3,3)"
   ]
  },
  {
   "cell_type": "code",
   "execution_count": 14,
   "id": "b18322e4",
   "metadata": {},
   "outputs": [],
   "source": [
    "#if both matrix have same dimentions only then will the addition function be called.\n",
    "#if want to check inside this function for dimensions then will have to take 4 parameters - mat1,mat2,m1,m1,n1,n2\n",
    "def add_matrix(mat1,mat2,m,n):\n",
    "    mat_f = [[None for col in range(n)] for row in range(m) ]\n",
    "    for row in range(m):\n",
    "        for column in range(n):\n",
    "            mat_f[row][column] = mat1[row][column] + mat2[row][column]\n",
    "    return mat_fx"
   ]
  },
  {
   "cell_type": "code",
   "execution_count": 3,
   "id": "cc4d8ad9",
   "metadata": {},
   "outputs": [],
   "source": [
    "a = [[1,2,3],[4,5,6],[7,8,9]]\n",
    "b = [[1,1,1],[2,2,2],[3,3,4]]"
   ]
  },
  {
   "cell_type": "code",
   "execution_count": 24,
   "id": "c48f085c",
   "metadata": {},
   "outputs": [
    {
     "data": {
      "text/plain": [
       "[[1, 2, 3], [1, 2, 3], [1, 2, 3]]"
      ]
     },
     "execution_count": 24,
     "metadata": {},
     "output_type": "execute_result"
    }
   ],
   "source": [
    "add_matrix(a,b,3,3)"
   ]
  },
  {
   "cell_type": "code",
   "execution_count": 11,
   "id": "5b4941b7",
   "metadata": {},
   "outputs": [],
   "source": [
    "def multiply_matrix(mat1,mat2):\n",
    "    if (len(mat1[0]) == len(mat2)):\n",
    "        result_1 = [[0 for col in range(len(mat2))] for row in range(len(mat1[0])) ]\n",
    "        print(\"Matrix Multipliation is possible.\")\n",
    "        for i in range(len(mat1)): #rows of matrix1\n",
    "            for j in range(len(mat2[0])): #columns of matrix2 \n",
    "                for k in range(len(mat2)): #rows of matrix1\n",
    "                    result_1[i][j] += (mat1[i][k] * mat2[k][j])\n",
    "        print(\"Final Matrix is  : \")\n",
    "        print(result_1)"
   ]
  },
  {
   "cell_type": "code",
   "execution_count": 12,
   "id": "3dd4e4e5",
   "metadata": {},
   "outputs": [
    {
     "name": "stdout",
     "output_type": "stream",
     "text": [
      "Matrix Multipliation is possible.\n",
      "Final Matrix is  : \n",
      "[[14, 14, 17], [32, 32, 38], [50, 50, 59]]\n"
     ]
    }
   ],
   "source": [
    "multiply_matrix(a,b)"
   ]
  },
  {
   "cell_type": "code",
   "execution_count": 15,
   "id": "ac62a4cc",
   "metadata": {},
   "outputs": [],
   "source": [
    "def transpose_matrix(mat1):\n",
    "    result_1 = [[0 for col in range(len(mat1))] for row in range(len(mat1[0]))]\n",
    "    for i in range(len(mat1)):\n",
    "        for j in range(len(mat1[0])):\n",
    "            result_1[j][i] = mat1[i][j]\n",
    "    return result_1"
   ]
  },
  {
   "cell_type": "code",
   "execution_count": 16,
   "id": "6d0bdec5",
   "metadata": {},
   "outputs": [
    {
     "data": {
      "text/plain": [
       "[[1, 2, 3], [1, 2, 3], [1, 2, 4]]"
      ]
     },
     "execution_count": 16,
     "metadata": {},
     "output_type": "execute_result"
    }
   ],
   "source": [
    "transpose_matrix(b)"
   ]
  },
  {
   "cell_type": "code",
   "execution_count": null,
   "id": "cb260ac9",
   "metadata": {},
   "outputs": [],
   "source": []
  }
 ],
 "metadata": {
  "kernelspec": {
   "display_name": "Python 3.10.6 64-bit",
   "language": "python",
   "name": "python3"
  },
  "language_info": {
   "codemirror_mode": {
    "name": "ipython",
    "version": 3
   },
   "file_extension": ".py",
   "mimetype": "text/x-python",
   "name": "python",
   "nbconvert_exporter": "python",
   "pygments_lexer": "ipython3",
   "version": "3.10.6"
  },
  "vscode": {
   "interpreter": {
    "hash": "916dbcbb3f70747c44a77c7bcd40155683ae19c65e1c03b4aa3499c5328201f1"
   }
  }
 },
 "nbformat": 4,
 "nbformat_minor": 5
}
