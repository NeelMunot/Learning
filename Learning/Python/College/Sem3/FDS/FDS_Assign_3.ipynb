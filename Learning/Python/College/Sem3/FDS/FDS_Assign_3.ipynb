{
 "cells": [
  {
   "cell_type": "code",
   "execution_count": 9,
   "id": "32335670",
   "metadata": {},
   "outputs": [],
   "source": [
    "def longest_string():\n",
    "    a = input(\"Enter a Sentence : \")\n",
    "    lst =  a.split()\n",
    "    max_val = lst[0]\n",
    "    for item in lst:\n",
    "        if item > max_val:\n",
    "            max_val = item\n",
    "    print(\"The longest string is \",max_val)"
   ]
  },
  {
   "cell_type": "code",
   "execution_count": 18,
   "id": "59ab5a4e",
   "metadata": {},
   "outputs": [
    {
     "name": "stdout",
     "output_type": "stream",
     "text": [
      "Enter a Sentence : To validate our above defined functions \n",
      "<class 'str'>\n",
      "['To', 'validate', 'our', 'above', 'defined', 'functions']\n"
     ]
    }
   ],
   "source": [
    "a = input(\"Enter a Sentence : \")\n",
    "print(type(a))\n",
    "len(a)\n",
    "lst =  a.split()\n",
    "print(lst)"
   ]
  },
  {
   "cell_type": "code",
   "execution_count": 6,
   "id": "f716c8b5",
   "metadata": {},
   "outputs": [
    {
     "data": {
      "text/plain": [
       "list"
      ]
     },
     "execution_count": 6,
     "metadata": {},
     "output_type": "execute_result"
    }
   ],
   "source": [
    "type(lst)"
   ]
  },
  {
   "cell_type": "code",
   "execution_count": 19,
   "id": "49ddf888",
   "metadata": {},
   "outputs": [
    {
     "name": "stdout",
     "output_type": "stream",
     "text": [
      "validate\n"
     ]
    }
   ],
   "source": [
    "b = max(lst)\n",
    "print(b)"
   ]
  },
  {
   "cell_type": "code",
   "execution_count": 8,
   "id": "664e6951",
   "metadata": {},
   "outputs": [
    {
     "name": "stdout",
     "output_type": "stream",
     "text": [
      "name\n"
     ]
    }
   ],
   "source": [
    "max_val = lst[0]\n",
    "for item in lst:\n",
    "    if item > max_val:\n",
    "        max_val = item\n",
    "print(max_val)"
   ]
  },
  {
   "cell_type": "code",
   "execution_count": 20,
   "id": "1a75c2c5",
   "metadata": {},
   "outputs": [
    {
     "name": "stdout",
     "output_type": "stream",
     "text": [
      "Enter a Sentence : a ab abc abcd\n",
      "The longest string is  abcd\n"
     ]
    }
   ],
   "source": [
    "longest_string()"
   ]
  },
  {
   "cell_type": "code",
   "execution_count": null,
   "id": "af5d22e3",
   "metadata": {},
   "outputs": [],
   "source": []
  }
 ],
 "metadata": {
  "kernelspec": {
   "display_name": "Python 3 (ipykernel)",
   "language": "python",
   "name": "python3"
  },
  "language_info": {
   "codemirror_mode": {
    "name": "ipython",
    "version": 3
   },
   "file_extension": ".py",
   "mimetype": "text/x-python",
   "name": "python",
   "nbconvert_exporter": "python",
   "pygments_lexer": "ipython3",
   "version": "3.8.10"
  }
 },
 "nbformat": 4,
 "nbformat_minor": 5
}
