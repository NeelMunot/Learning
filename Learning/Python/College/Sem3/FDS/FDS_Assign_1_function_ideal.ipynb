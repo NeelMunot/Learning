{
 "cells": [
  {
   "cell_type": "markdown",
   "id": "5bdca7fa",
   "metadata": {},
   "source": [
    "## FDS Addignment Using Functions taking ideal inputs\n",
    "\n"
   ]
  },
  {
   "cell_type": "code",
   "execution_count": 11,
   "id": "f18e1aa0",
   "metadata": {},
   "outputs": [],
   "source": [
    "# def get_data():\n",
    "#     std_mks = [int(x) for x in input(\"Enter student marks serially by roll number : \").split()]\n",
    "#     print(std_mks)\n",
    "# #     print(len(std_mks))\n",
    "#     psnt_std_mks = []\n",
    "#     noas = 0\n",
    "#     for item in std_mks:\n",
    "#         if item<-1:\n",
    "#             psnt_std_mks.append(item)\n",
    "#         else:\n",
    "#             noas = noas + 1\n",
    "# #     process_data(psnt_std_mks,noas)\n",
    "#     print(psnt_std_mks)\n",
    "#     print(\"The number of abent students is : \",noas)\n",
    "#     process_data(psnt_std_mks,len(std_mks))"
   ]
  },
  {
   "cell_type": "code",
   "execution_count": 16,
   "id": "c7a444cc",
   "metadata": {},
   "outputs": [],
   "source": [
    "def get_data():\n",
    "#     num_std = int(input(\"Enter Number of students in class : \"))\n",
    "#     out_mks = int(input(\"Enter the marks out of : \"))\n",
    "    std_mks = [int(x) for x in input(\"Enter student marks serially by roll number : \").split()]\n",
    "#     fin_std_mks = check_data(std_mks,out_mks,num_std)\n",
    "#     print(std_mks)\n",
    "#     print(len(std_mks))\n",
    "    psnt_std_mks = []\n",
    "    noas = 0\n",
    "    for item in std_mks:\n",
    "        if item>(-1):\n",
    "            psnt_std_mks.append(item)\n",
    "        else:\n",
    "            noas = noas + 1\n",
    "#     process_data(psnt_std_mks,noas)\n",
    "#     print(psnt_std_mks)\n",
    "    print(\"The number of abent students is : \",noas)\n",
    "    process_data(psnt_std_mks,len(std_mks))"
   ]
  },
  {
   "cell_type": "code",
   "execution_count": 30,
   "id": "c699fd57",
   "metadata": {},
   "outputs": [
    {
     "name": "stdout",
     "output_type": "stream",
     "text": [
      "9 8 88\n",
      "array: [9, 8, 88]\n"
     ]
    }
   ],
   "source": [
    "# # # take multiple inputs in array\n",
    "# # input_str_array = input().split()\n",
    "\n",
    "# # print(\"array:\", input_str_array)\n",
    "\n",
    "# # take multiple inputs in array\n",
    "# input_int_array = [int(x) for x in input().split()]\n",
    "\n",
    "# print(\"array:\", input_int_array)\n"
   ]
  },
  {
   "cell_type": "code",
   "execution_count": 10,
   "id": "e2724784",
   "metadata": {
    "collapsed": true
   },
   "outputs": [
    {
     "ename": "TypeError",
     "evalue": "unsupported operand type(s) for +: 'int' and 'str'",
     "output_type": "error",
     "traceback": [
      "\u001b[1;31m---------------------------------------------------------------------------\u001b[0m",
      "\u001b[1;31mTypeError\u001b[0m                                 Traceback (most recent call last)",
      "Input \u001b[1;32mIn [10]\u001b[0m, in \u001b[0;36m<cell line: 3>\u001b[1;34m()\u001b[0m\n\u001b[0;32m      2\u001b[0m s \u001b[38;5;241m=\u001b[39m \u001b[38;5;241m0\u001b[39m\n\u001b[0;32m      3\u001b[0m \u001b[38;5;28;01mfor\u001b[39;00m item \u001b[38;5;129;01min\u001b[39;00m list1:\n\u001b[1;32m----> 4\u001b[0m     s \u001b[38;5;241m=\u001b[39m \u001b[43ms\u001b[49m\u001b[43m \u001b[49m\u001b[38;5;241;43m+\u001b[39;49m\u001b[43m \u001b[49m\u001b[43mitem\u001b[49m\n\u001b[0;32m      5\u001b[0m \u001b[38;5;28mprint\u001b[39m(list1)\n\u001b[0;32m      6\u001b[0m \u001b[38;5;28mprint\u001b[39m(s)\n",
      "\u001b[1;31mTypeError\u001b[0m: unsupported operand type(s) for +: 'int' and 'str'"
     ]
    }
   ],
   "source": [
    "# list1 = [1 ,2 , 3, 5,7]\n",
    "# s = 0\n",
    "# for item in list1:\n",
    "#     s = s + item\n",
    "# print(list1)\n",
    "# print(s)\n",
    "# avg = s/len(list1)\n",
    "# print(avg)"
   ]
  },
  {
   "cell_type": "code",
   "execution_count": 3,
   "id": "541a3aed",
   "metadata": {},
   "outputs": [],
   "source": [
    "def process_data(std_mks2,tsds):\n",
    "    get_avg(std_mks2,tsds)\n",
    "    print(\"The max marks obtained by any student : \",max(std_mks2))\n",
    "    print(\"The min marks obtained by any student : \",min(std_mks2))\n",
    "    highest_frequency(std_mks2)"
   ]
  },
  {
   "cell_type": "code",
   "execution_count": 4,
   "id": "6c089c1f",
   "metadata": {},
   "outputs": [],
   "source": [
    "def get_avg(std_mks3,n):\n",
    "    s = 0\n",
    "    for item in std_mks3:\n",
    "        s = s+item\n",
    "    print(\"The average marks of \",n,\"students is \",int(s/n))"
   ]
  },
  {
   "cell_type": "code",
   "execution_count": 32,
   "id": "73988158",
   "metadata": {},
   "outputs": [],
   "source": [
    "sample_list = [8 ,3 ,3 ,5 ,3 ,10 ,8 ,1 ,10 ,2 ,9 ,8 ,9 ,2 ,4 ,6 ,5 ,3 ,4 ,3 ]"
   ]
  },
  {
   "cell_type": "code",
   "execution_count": 7,
   "id": "dfc87562",
   "metadata": {},
   "outputs": [],
   "source": [
    "# def highest_frequency(list3):\n",
    "#     dictionary = {}\n",
    "#     for item in list3:\n",
    "#         dictionary[item] = list3.count(item)\n",
    "#     print(dictionary)"
   ]
  },
  {
   "cell_type": "code",
   "execution_count": 8,
   "id": "6c3ce8ef",
   "metadata": {},
   "outputs": [
    {
     "name": "stdout",
     "output_type": "stream",
     "text": [
      "{28: 2, 41: 2, 66: 1, 42: 3, 79: 1, 59: 1, 31: 2, 52: 2, 53: 1, 1: 2, 60: 2, 57: 1, 7: 1, 3: 1, 9: 1, 80: 1, 23: 2, 69: 1, 86: 2, 4: 2, 18: 1, 22: 2, 92: 1, 8: 1, 49: 1, 46: 2, 38: 1, 99: 1, 10: 1, 72: 1, 83: 2, 12: 1, 67: 1, 74: 1, 71: 1, 55: 1, 51: 1, 90: 1, 44: 2, 73: 1, 58: 1, 62: 1, 14: 1, 100: 1, 93: 1, 54: 1}\n"
     ]
    }
   ],
   "source": [
    "highest_frequency(sample_list)"
   ]
  },
  {
   "cell_type": "code",
   "execution_count": 5,
   "id": "b6c404e3",
   "metadata": {},
   "outputs": [],
   "source": [
    "def highest_frequency(list3):\n",
    "    dictionary = {}\n",
    "    for item in list3:\n",
    "        dictionary[list3.count(item)] = item\n",
    "    print(dictionary)\n",
    "    key_list = dictionary.keys()\n",
    "    print(\"The highest frequeny of marks is \",dictionary[max(key_list)],\"and it occurs\",max(key_list),\"times\")"
   ]
  },
  {
   "cell_type": "code",
   "execution_count": 35,
   "id": "6c74904f",
   "metadata": {},
   "outputs": [
    {
     "name": "stdout",
     "output_type": "stream",
     "text": [
      "{3: 8, 5: 3, 2: 4, 1: 6}\n",
      "The highest frequeny of marks is  3 and it occurs 5 times\n"
     ]
    }
   ],
   "source": [
    "highest_frequency(sample_list)"
   ]
  },
  {
   "cell_type": "code",
   "execution_count": 30,
   "id": "6b8ab9a8",
   "metadata": {},
   "outputs": [
    {
     "name": "stdout",
     "output_type": "stream",
     "text": [
      "Enter student marks serially by roll number : 30 93 99 80 95 57 93 56 26 15 22 93 100 13 7 74 18 51 6 29 28 0 17 45 21 41 52 61 74 75 71 26 27 0 24 59 60 26 79 81 61 48 35 49 30 11 3 55 49 20 53 66 50 24 94 57 90 25 90 92\n",
      "The number of abent students is :  0\n",
      "The average marks of  60 students is  48\n",
      "The max marks obtained by any student :  100\n",
      "The min marks obtained by any student :  0\n",
      "The highest frequeny of marks is  26 and it occurs 3 times\n"
     ]
    }
   ],
   "source": [
    "get_data()"
   ]
  },
  {
   "cell_type": "code",
   "execution_count": 17,
   "id": "81e33e3d",
   "metadata": {},
   "outputs": [
    {
     "name": "stdout",
     "output_type": "stream",
     "text": [
      "Enter student marks serially by roll number : 4 5 6\n",
      "The number of abent students is :  0\n",
      "The average marks of  3 students is  5\n",
      "The max marks obtained by any student :  6\n",
      "The min marks obtained by any student :  4\n",
      "{1: 6}\n",
      "The highest frequeny of marks is  6 and it occurs 1 times\n"
     ]
    }
   ],
   "source": [
    "get_data()"
   ]
  },
  {
   "cell_type": "code",
   "execution_count": null,
   "id": "5ea09565",
   "metadata": {},
   "outputs": [],
   "source": []
  }
 ],
 "metadata": {
  "kernelspec": {
   "display_name": "Python 3 (ipykernel)",
   "language": "python",
   "name": "python3"
  },
  "language_info": {
   "codemirror_mode": {
    "name": "ipython",
    "version": 3
   },
   "file_extension": ".py",
   "mimetype": "text/x-python",
   "name": "python",
   "nbconvert_exporter": "python",
   "pygments_lexer": "ipython3",
   "version": "3.8.10"
  }
 },
 "nbformat": 4,
 "nbformat_minor": 5
}
