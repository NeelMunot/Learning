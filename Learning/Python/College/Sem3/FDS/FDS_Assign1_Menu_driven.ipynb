{
 "cells": [
  {
   "cell_type": "code",
   "execution_count": 1,
   "id": "78293ce0",
   "metadata": {},
   "outputs": [],
   "source": [
    "def get_data():\n",
    "    num_std = int(input(\"Enter Number of students in class : \"))\n",
    "    out_mks = int(input(\"Enter the marks out of : \"))\n",
    "    std_mks = [int(x) for x in input(\"Enter student marks serially by roll number : \").split()]\n",
    "    fin_std_mks = check_data(std_mks,out_mks,num_std)\n",
    "#     print(std_mks)\n",
    "#     print(len(std_mks))\n",
    "    psnt_std_mks = []\n",
    "    noas = 0\n",
    "    for item in fin_std_mks:\n",
    "        if item>(-1):\n",
    "            psnt_std_mks.append(item)\n",
    "        else:\n",
    "            noas = noas + 1\n",
    "    return (psnt_std_mks,noas)\n",
    "#     process_data(psnt_std_mks,noas)\n",
    "#     print(psnt_std_mks)\n",
    "#     print(\"The number of abent students is : \",noas)\n",
    "#     process_data(psnt_std_mks,len(std_mks))"
   ]
  },
  {
   "cell_type": "code",
   "execution_count": 2,
   "id": "8f69c29b",
   "metadata": {},
   "outputs": [],
   "source": [
    "def check_data(list2,hmks,nmos):\n",
    "    i=0\n",
    "    while (i==0):\n",
    "        if (nmos == len(list2)) and (hmks >= max(list2)):\n",
    "            return list2\n",
    "        else:\n",
    "            while (nmos != len(list2)):\n",
    "                print(\"Invalid !!\")\n",
    "                print(\"The number of students and length of list don't match!!\")\n",
    "                list2 = [int(x) for x in input(\"Enter student marks serially by roll number AGAIN : \").split()]\n",
    "            if (hmks < max(list2)) and (min(list2)>= -1) :\n",
    "                n = 0\n",
    "                for n in range (0,nmos):\n",
    "                    if list2[n] > hmks:\n",
    "                        print(\"Invalid mrks for roll number \",(n+1))\n",
    "                        k = 0\n",
    "                        while (k == 0):\n",
    "                            mks = int(input(\"Enter marks again for roll number: \"))\n",
    "                            if mks<=hmks:\n",
    "                                list2[n] = mks\n",
    "                                k=1\n",
    "                            else:\n",
    "                                continue\n",
    "                        continue\n",
    "                    continue\n",
    "                return list2"
   ]
  },
  {
   "cell_type": "code",
   "execution_count": 3,
   "id": "3611050f",
   "metadata": {},
   "outputs": [],
   "source": [
    "# def process_data(std_mks2,tsds):\n",
    "#     get_avg(std_mks2,tsds)\n",
    "#     print(\"The max marks obtained by any student : \",max(std_mks2))\n",
    "#     print(\"The min marks obtained by any student : \",min(std_mks2))\n",
    "#     highest_frequency(std_mks2)"
   ]
  },
  {
   "cell_type": "code",
   "execution_count": 3,
   "id": "e1d036b4",
   "metadata": {},
   "outputs": [],
   "source": [
    "def get_avg(std_mks3):\n",
    "    s = 0\n",
    "    for item in std_mks3:\n",
    "        s = s+item\n",
    "    print(\"The average marks of \",len(std_mks3),\" present students is \",int(s/len(std_mks3)))"
   ]
  },
  {
   "cell_type": "code",
   "execution_count": 4,
   "id": "b82aec9c",
   "metadata": {},
   "outputs": [],
   "source": [
    "def highest_frequency(list3):\n",
    "    dictionary = {}\n",
    "    for item in list3:\n",
    "        dictionary[list3.count(item)] = item\n",
    "#     print(dictionary)\n",
    "    key_list = list(dictionary.keys())\n",
    "    print(key_list)\n",
    "    if len(key_list) == 1:\n",
    "        print(\"All marks occur\",key_list[0],\"times.\")\n",
    "    elif len(key_list) > 1:\n",
    "        multi_high_freq(max(key_list),list3)"
   ]
  },
  {
   "cell_type": "code",
   "execution_count": 5,
   "id": "f76beebb",
   "metadata": {},
   "outputs": [],
   "source": [
    "def multi_high_freq(m,lst3):\n",
    "    lst2 = []\n",
    "    for item in lst3:\n",
    "        if lst3.count(item) == m:\n",
    "            lst2.append(item)\n",
    "        continue\n",
    "    print(lst2)\n",
    "    st1 = set(lst2)\n",
    "    if len(st1) == 1:\n",
    "        print(\"The highest frequeny of marks is\",lst2[0],\"and it occurs\",m,\"times\")\n",
    "    elif len(lst2) > 1:\n",
    "        print(\"Multiple Marks occur highest!!\")\n",
    "        print(st1)\n",
    "        print(\"The above set of marks occur\",m,\"times\")"
   ]
  },
  {
   "cell_type": "code",
   "execution_count": 6,
   "id": "24c0f8a4",
   "metadata": {},
   "outputs": [],
   "source": [
    "def abs_std (noabs):\n",
    "    print(\"The number of absent students is : \",noabs)"
   ]
  },
  {
   "cell_type": "code",
   "execution_count": 7,
   "id": "69ce78f7",
   "metadata": {},
   "outputs": [],
   "source": [
    "def max_mks(lst):\n",
    "    print(\"The max marks obtained by any student : \",max(lst))"
   ]
  },
  {
   "cell_type": "code",
   "execution_count": 8,
   "id": "32fd3d02",
   "metadata": {},
   "outputs": [],
   "source": [
    "def min_mks(lst):\n",
    "    print(\"The Min marks obtained by any student : \",min(lst))"
   ]
  },
  {
   "cell_type": "code",
   "execution_count": 9,
   "id": "a1cb1bfe",
   "metadata": {},
   "outputs": [],
   "source": [
    "def menu():\n",
    "    i = 0\n",
    "    print(\"Instructions : \")\n",
    "    print(\"For Number of absent students enter 1 \")\n",
    "    print(\"For Average enter 2 \")\n",
    "    print(\"For Maximum marks enter 3 \")\n",
    "    print(\"For Minumum marks enter 4 \")\n",
    "    print(\"For Highest Frequency enter 5 \")\n",
    "    print(\"For performing all operation enter 'all'\")\n",
    "    print(\"For Quiting enter 'quit' \")\n",
    "    pst_mks_std,noas = get_data()\n",
    "    while i==0:\n",
    "        code = input(\"Enter Code : \")\n",
    "        if code == 'all':\n",
    "            abs_std(noas)\n",
    "            get_avg(pst_mks_std)\n",
    "            max_mks(pst_mks_std)\n",
    "            min_mks(pst_mks_std)\n",
    "            highest_frequency(pst_mks_std)\n",
    "            i = 1\n",
    "        elif code == '1':\n",
    "            abs_std(noas)\n",
    "        elif code == '2':\n",
    "            get_avg(pst_mks_std)\n",
    "        elif code == '3' :\n",
    "            max_mks(pst_mks_std)\n",
    "        elif code == '4' :\n",
    "            min_mks(pst_mks_std)\n",
    "        elif code == '5' :\n",
    "            highest_frequency(pst_mks_std)\n",
    "        elif code == 'quit':\n",
    "            i = 1\n",
    "        else:\n",
    "            print(\"Enter valid code !!\")"
   ]
  },
  {
   "cell_type": "code",
   "execution_count": 11,
   "id": "08bdb73f",
   "metadata": {},
   "outputs": [
    {
     "name": "stdout",
     "output_type": "stream",
     "text": [
      "Instructions : \n",
      "For Number of absent students enter 1 \n",
      "For Average enter 2 \n",
      "For Maximum marks enter 3 \n",
      "For Minumum marks enter 4 \n",
      "For Highest Frequency enter 5 \n",
      "For performing all operation enter 'all'\n",
      "For Quiting enter 'quit' \n",
      "Enter Number of students in class : 10\n",
      "Enter the marks out of : 20\n",
      "Enter student marks serially by roll number : 1 2 2 2 6 5 7 10 10 10 \n",
      "Enter Code : all\n",
      "The number of absent students is :  0\n",
      "The average marks of  10  present students is  5\n",
      "The max marks obtained by any student :  10\n",
      "The Min marks obtained by any student :  1\n",
      "[1, 3]\n",
      "[2, 2, 2, 10, 10, 10]\n",
      "Multiple Marks occur highest!!\n",
      "{2, 10}\n",
      "The above set of marks occur 3 times\n"
     ]
    }
   ],
   "source": [
    "menu()"
   ]
  },
  {
   "cell_type": "code",
   "execution_count": null,
   "id": "684fa20a",
   "metadata": {},
   "outputs": [],
   "source": []
  }
 ],
 "metadata": {
  "kernelspec": {
   "display_name": "Python 3 (ipykernel)",
   "language": "python",
   "name": "python3"
  },
  "language_info": {
   "codemirror_mode": {
    "name": "ipython",
    "version": 3
   },
   "file_extension": ".py",
   "mimetype": "text/x-python",
   "name": "python",
   "nbconvert_exporter": "python",
   "pygments_lexer": "ipython3",
   "version": "3.8.10"
  }
 },
 "nbformat": 4,
 "nbformat_minor": 5
}
