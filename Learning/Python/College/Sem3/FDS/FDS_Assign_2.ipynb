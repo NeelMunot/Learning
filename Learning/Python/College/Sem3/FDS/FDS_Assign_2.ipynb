{
 "cells": [
  {
   "cell_type": "code",
   "execution_count": 13,
   "id": "2638a766",
   "metadata": {},
   "outputs": [],
   "source": [
    "lst1 = [1,2]\n",
    "lst2 = [1,2]\n",
    "matrix1 = [lst1,lst2]"
   ]
  },
  {
   "cell_type": "code",
   "execution_count": 14,
   "id": "c5592bde",
   "metadata": {},
   "outputs": [
    {
     "data": {
      "text/plain": [
       "[[1, 2], [1, 2]]"
      ]
     },
     "execution_count": 14,
     "metadata": {},
     "output_type": "execute_result"
    }
   ],
   "source": [
    "matrix1"
   ]
  },
  {
   "cell_type": "code",
   "execution_count": 15,
   "id": "91080999",
   "metadata": {},
   "outputs": [
    {
     "name": "stdout",
     "output_type": "stream",
     "text": [
      "[1, 2]\n",
      "[1, 2]\n"
     ]
    }
   ],
   "source": [
    "for item in matrix1:\n",
    "    print(item)"
   ]
  },
  {
   "cell_type": "code",
   "execution_count": 17,
   "id": "7d7a5887",
   "metadata": {},
   "outputs": [],
   "source": [
    "lst4 = [1,2]\n",
    "lst5 = [1,2]\n",
    "matrix2 = [lst1,lst2]"
   ]
  },
  {
   "cell_type": "code",
   "execution_count": 18,
   "id": "b9caf90e",
   "metadata": {},
   "outputs": [
    {
     "name": "stdout",
     "output_type": "stream",
     "text": [
      "[1, 2]\n",
      "[1, 2]\n"
     ]
    }
   ],
   "source": [
    "for item in matrix2:\n",
    "    print(item)"
   ]
  },
  {
   "cell_type": "code",
   "execution_count": 7,
   "id": "7d0e53aa",
   "metadata": {},
   "outputs": [
    {
     "data": {
      "text/plain": [
       "3"
      ]
     },
     "execution_count": 7,
     "metadata": {},
     "output_type": "execute_result"
    }
   ],
   "source": [
    "len(matrix1)"
   ]
  },
  {
   "cell_type": "code",
   "execution_count": 29,
   "id": "e8ab1cd5",
   "metadata": {},
   "outputs": [],
   "source": [
    "def add_matrix():\n",
    "    matrix3 = [[0,0],[0,0]]\n",
    "    i = 0\n",
    "    while i < 2:\n",
    "        j=0\n",
    "        while j < 2:\n",
    "            matrix3[i][j] = matrix1[i][j]+matrix1[i][j]\n",
    "            j = j + 1 \n",
    "        i = i + 1"
   ]
  },
  {
   "cell_type": "code",
   "execution_count": 28,
   "id": "29e50736",
   "metadata": {},
   "outputs": [],
   "source": [
    "def disp_matrix(lst):\n",
    "    for item in matrix3:\n",
    "        print(item)"
   ]
  },
  {
   "cell_type": "code",
   "execution_count": null,
   "id": "f4fc2ba7",
   "metadata": {},
   "outputs": [],
   "source": []
  }
 ],
 "metadata": {
  "kernelspec": {
   "display_name": "Python 3 (ipykernel)",
   "language": "python",
   "name": "python3"
  },
  "language_info": {
   "codemirror_mode": {
    "name": "ipython",
    "version": 3
   },
   "file_extension": ".py",
   "mimetype": "text/x-python",
   "name": "python",
   "nbconvert_exporter": "python",
   "pygments_lexer": "ipython3",
   "version": "3.8.10"
  }
 },
 "nbformat": 4,
 "nbformat_minor": 5
}
