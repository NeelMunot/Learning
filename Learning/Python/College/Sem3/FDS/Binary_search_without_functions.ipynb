{
 "cells": [
  {
   "cell_type": "code",
   "execution_count": 14,
   "id": "842ba755",
   "metadata": {},
   "outputs": [
    {
     "name": "stdout",
     "output_type": "stream",
     "text": [
      "Enter marks of students attending training program :1 2 3 5 7 9 11 13 17 21\n",
      "Enter roll numer of student : 14\n",
      "Student did not attend training program.\n",
      "-1\n"
     ]
    }
   ],
   "source": [
    "lst = [int(x) for x in input(\"Enter marks of students attending training program :\").split()]\n",
    "rn = int(input(\"Enter roll numer of student : \"))\n",
    "\n",
    "lenght = len(lst)\n",
    "loc = -1\n",
    "beg = 0\n",
    "end = lenght-1\n",
    "mid = int((beg + end)/2)\n",
    "if lst[mid] == rn:\n",
    "    print(\"Student attended the traing program\")\n",
    "    loc = mid\n",
    "    print(\"Location of roll no in list is \",i,\"consideering first element is 0th.\")\n",
    "elif (rn<lst[mid+1] and rn>lst[mid-1] and loc == -1):\n",
    "    print(\"Student did not attend training program.\")\n",
    "elif (rn<lst[mid]):\n",
    "    for i in range (beg,mid):\n",
    "        if lst[i] == rn:\n",
    "            print(\"Student attended the traing program\")\n",
    "            loc = i\n",
    "            print(\"Location of roll no in list is \",i,\"consideering first element is 0th.\")\n",
    "elif (lst[mid]<rn):\n",
    "    for i in range (mid+1,end+1):\n",
    "        if lst[i] == rn:\n",
    "            print(\"Student attended the traing program\")\n",
    "            loc = i\n",
    "            print(\"Location of roll no in list is \",i,\"consideering first element is 0th.\")\n",
    "# elif (loc == -1):\n",
    "#     print(\"Student did not attend training program.\")\n",
    "# print(loc)\n",
    "if (loc == -1):\n",
    "    print(\"Student did not attend training program.\")\n",
    "print(loc)"
   ]
  },
  {
   "cell_type": "code",
   "execution_count": 1,
   "id": "96399046",
   "metadata": {},
   "outputs": [
    {
     "name": "stdout",
     "output_type": "stream",
     "text": [
      "5\n",
      "2\n"
     ]
    }
   ],
   "source": [
    "lenght = int(input())\n",
    "beg = 0\n",
    "end = lenght-1\n",
    "mid = int((beg + end)/2)\n",
    "print(mid)"
   ]
  },
  {
   "cell_type": "code",
   "execution_count": 3,
   "id": "738254c6",
   "metadata": {},
   "outputs": [
    {
     "name": "stdout",
     "output_type": "stream",
     "text": [
      "0\n",
      "1\n",
      "2\n",
      "3\n",
      "4\n",
      "5\n"
     ]
    }
   ],
   "source": [
    "for i in range (0,6):\n",
    "    print(i)"
   ]
  },
  {
   "cell_type": "code",
   "execution_count": null,
   "id": "180082b9",
   "metadata": {},
   "outputs": [],
   "source": []
  }
 ],
 "metadata": {
  "kernelspec": {
   "display_name": "Python 3 (ipykernel)",
   "language": "python",
   "name": "python3"
  },
  "language_info": {
   "codemirror_mode": {
    "name": "ipython",
    "version": 3
   },
   "file_extension": ".py",
   "mimetype": "text/x-python",
   "name": "python",
   "nbconvert_exporter": "python",
   "pygments_lexer": "ipython3",
   "version": "3.8.10"
  }
 },
 "nbformat": 4,
 "nbformat_minor": 5
}
