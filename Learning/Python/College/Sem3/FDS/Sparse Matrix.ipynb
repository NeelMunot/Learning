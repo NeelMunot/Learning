{
 "cells": [
  {
   "cell_type": "code",
   "execution_count": 15,
   "id": "e5f0bec4",
   "metadata": {},
   "outputs": [],
   "source": [
    "def direct_sparse():\n",
    "    row_mat = [0] * 3\n",
    "    a = int(input(\"Enter number of Rows of matrix :\"))\n",
    "    b = int(input(\"Enter number of Columns of matrix :\"))\n",
    "    c = int(input(\"Enter Number of non zero elements in sparse Matrix :\"))\n",
    "    sm = [row_mat] * (c+1)\n",
    "    for i in range(1,c+1):\n",
    "        sm[i][0] = int(input(\"Enter Row Index of matrix :\"))\n",
    "        sm[i][1] = int(input(\"Enter Column Index of matrix :\"))\n",
    "        sm[i][2] = int(input(\"Enter Non-Zero element in above Index :\"))\n",
    "    print(sm)"
   ]
  },
  {
   "cell_type": "code",
   "execution_count": 16,
   "id": "233b3cd5",
   "metadata": {},
   "outputs": [
    {
     "name": "stdout",
     "output_type": "stream",
     "text": [
      "Enter number of Rows of matrix :3\n",
      "Enter number of Columns of matrix :4\n",
      "Enter Number of non zero elements in sparse Matrix :1\n",
      "Enter Row Index of matrix :0\n",
      "Enter Column Index of matrix :0\n",
      "Enter Non-Zero element in above Index :1\n",
      "[[0, 0, 1], [0, 0, 1]]\n"
     ]
    }
   ],
   "source": [
    "direct_sparse()"
   ]
  },
  {
   "cell_type": "code",
   "execution_count": null,
   "id": "84a48b10",
   "metadata": {},
   "outputs": [],
   "source": []
  }
 ],
 "metadata": {
  "kernelspec": {
   "display_name": "Python 3 (ipykernel)",
   "language": "python",
   "name": "python3"
  },
  "language_info": {
   "codemirror_mode": {
    "name": "ipython",
    "version": 3
   },
   "file_extension": ".py",
   "mimetype": "text/x-python",
   "name": "python",
   "nbconvert_exporter": "python",
   "pygments_lexer": "ipython3",
   "version": "3.10.6"
  }
 },
 "nbformat": 4,
 "nbformat_minor": 5
}
