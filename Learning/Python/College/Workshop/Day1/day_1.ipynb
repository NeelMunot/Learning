{
 "cells": [
  {
   "cell_type": "code",
   "execution_count": 2,
   "id": "f55da31b",
   "metadata": {},
   "outputs": [
    {
     "name": "stdout",
     "output_type": "stream",
     "text": [
      "Hello World\n",
      "30\n",
      "[89, 7, 6, 5, 3, 2, 1]\n",
      "[1, 2, 3, 5, 6, 7, 89]\n"
     ]
    }
   ],
   "source": [
    "print(\"Hello World\")\n",
    "a = 10\n",
    "b = 20\n",
    "print(a+b)\n",
    "l = [1,2,3,5,6,7,89]\n",
    "print(l[::-1])\n",
    "print(l)"
   ]
  },
  {
   "cell_type": "code",
   "execution_count": 1,
   "id": "2d1d890c",
   "metadata": {},
   "outputs": [
    {
     "ename": "ModuleNotFoundError",
     "evalue": "No module named 'mathmodule'",
     "output_type": "error",
     "traceback": [
      "\u001b[0;31m---------------------------------------------------------------------------\u001b[0m",
      "\u001b[0;31mModuleNotFoundError\u001b[0m                       Traceback (most recent call last)",
      "Input \u001b[0;32mIn [1]\u001b[0m, in \u001b[0;36m<module>\u001b[0;34m\u001b[0m\n\u001b[0;32m----> 1\u001b[0m \u001b[38;5;28;01mfrom\u001b[39;00m \u001b[38;5;21;01mmathmodule\u001b[39;00m \u001b[38;5;28;01mimport\u001b[39;00m add,sub\n\u001b[1;32m      3\u001b[0m \u001b[38;5;28mprint\u001b[39m(add(\u001b[38;5;241m10\u001b[39m,\u001b[38;5;241m20\u001b[39m))\n\u001b[1;32m      4\u001b[0m \u001b[38;5;28mprint\u001b[39m(sub(\u001b[38;5;241m10\u001b[39m,\u001b[38;5;241m20\u001b[39m))\n",
      "\u001b[0;31mModuleNotFoundError\u001b[0m: No module named 'mathmodule'"
     ]
    }
   ],
   "source": [
    "from mathmodule import add,sub\n",
    "\n",
    "print(add(10,20))\n",
    "print(sub(10,20))"
   ]
  },
  {
   "cell_type": "code",
   "execution_count": 4,
   "id": "82bc082f",
   "metadata": {},
   "outputs": [
    {
     "name": "stdout",
     "output_type": "stream",
     "text": [
      "\u001b[31mERROR: Could not find a version that satisfies the requirement mathmodule (from versions: none)\u001b[0m\n",
      "\u001b[31mERROR: No matching distribution found for mathmodule\u001b[0m\n",
      "Note: you may need to restart the kernel to use updated packages.\n"
     ]
    }
   ],
   "source": [
    "pip install mathmodule"
   ]
  },
  {
   "cell_type": "code",
   "execution_count": null,
   "id": "ebc48fc6",
   "metadata": {},
   "outputs": [],
   "source": []
  }
 ],
 "metadata": {
  "kernelspec": {
   "display_name": "Python 3 (ipykernel)",
   "language": "python",
   "name": "python3"
  },
  "language_info": {
   "codemirror_mode": {
    "name": "ipython",
    "version": 3
   },
   "file_extension": ".py",
   "mimetype": "text/x-python",
   "name": "python",
   "nbconvert_exporter": "python",
   "pygments_lexer": "ipython3",
   "version": "3.8.10"
  }
 },
 "nbformat": 4,
 "nbformat_minor": 5
}
